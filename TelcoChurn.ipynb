{
 "cells": [
  {
   "cell_type": "code",
   "execution_count": null,
   "metadata": {},
   "outputs": [],
   "source": [
    "import pandas as pd\n",
    "import numpy as np\n",
    "import plotly.express as px \n",
    "from plotly.offline import iplot\n",
    "\n",
    "from sklearn.model_selection import train_test_split, KFold, cross_val_score, RandomizedSearchCV\n",
    "from sklearn.metrics import accuracy_score, confusion_matrix, classification_report\n",
    "from sklearn.preprocessing import MinMaxScaler, OneHotEncoder\n",
    "from imblearn.combine import SMOTETomek\n",
    "\n",
    "from sklearn.pipeline import Pipeline\n",
    "from sklearn.compose import ColumnTransformer\n",
    "\n",
    "\n",
    "import tensorflow as tf\n",
    "from tensorflow.keras.models import Sequential\n",
    "from tensorflow.keras.layers import Dense\n",
    "from tensorflow.keras.callbacks import EarlyStopping\n",
    "\n",
    "import warnings\n",
    "\n",
    "\n",
    "# set Default\n",
    "pd.set_option(\"display.max_columns\", None)\n",
    "pd.options.display.float_format = '{:,.2f}'.format\n",
    "warnings.filterwarnings(\"ignore\")\n",
    "pd.options.mode.copy_on_write = \"warn\"\n",
    "\n",
    "# Used Color\n",
    "used_color = [\"#ADA2FF\", \"#C0DEFF\", \"#FCDDB0\", \"#FF9F9F\", \"#EDD2F3\"]"
   ]
  },
  {
   "cell_type": "code",
   "execution_count": 1,
   "id": "01HXZP5S04B1738JWEKBJA3MB7",
   "metadata": {},
   "outputs": [],
   "source": [
    "def update_layout(\n",
    "    title_font_size = 28,\n",
    "    hover_font_size = 16,\n",
    "    hover_bgcolor = '#111',\n",
    "    showlegend = False\n",
    "):\n",
    "    fig.update_layout(\n",
    "        showlegend = showlegend,\n",
    "        title = {\n",
    "            'font' : {\n",
    "                'size' : title_font_size,\n",
    "                'family' : '<b>poppins'\n",
    "            }\n",
    "        },\n",
    "        \n",
    "        hoverlabel = {\n",
    "            'bgcolor' : hover_bgcolor,\n",
    "            'font_size' : hover_font_size,\n",
    "            'font_family' : 'poppins'\n",
    "        }\n",
    "    )"
   ]
  },
  {
   "cell_type": "code",
   "execution_count": 2,
   "id": "01HXZQYN7GEX4A95JV9BZ6X36F",
   "metadata": {},
   "outputs": [
    {
     "ename": "SyntaxError",
     "evalue": "expected ':' (4091340544.py, line 3)",
     "output_type": "error",
     "traceback": [
      "\u001b[1;36m  Cell \u001b[1;32mIn[2], line 3\u001b[1;36m\u001b[0m\n\u001b[1;33m    )\u001b[0m\n\u001b[1;37m     ^\u001b[0m\n\u001b[1;31mSyntaxError\u001b[0m\u001b[1;31m:\u001b[0m expected ':'\n"
     ]
    }
   ],
   "source": [
    "def count_viz_finc(\n",
    "    data_frame,\n",
    "    column_name,\n",
    "    title = 'Chart Title',\n",
    "    title_font_size = 30,\n",
    "    x_label = 'X',\n",
    "    y_label = 'Y',\n",
    "    showlegend = False,\n",
    "    hover_template = 'None'\n",
    "):\n",
    "    value_counts = df[colum_name].value_counts(normalize=1)*100"
   ]
  },
  {
   "cell_type": "code",
   "execution_count": null,
   "id": "01HXZQZGGZ1P3M9R5B2QA8GVYR",
   "metadata": {},
   "outputs": [],
   "source": []
  }
 ],
 "metadata": {
  "kernelspec": {
   "display_name": "Python 3",
   "language": "python",
   "name": "python3"
  },
  "language_info": {
   "codemirror_mode": {
    "name": "ipython",
    "version": 3
   },
   "file_extension": ".py",
   "mimetype": "text/x-python",
   "name": "python",
   "nbconvert_exporter": "python",
   "pygments_lexer": "ipython3",
   "version": "3.11.7"
  }
 },
 "nbformat": 4,
 "nbformat_minor": 2
}
