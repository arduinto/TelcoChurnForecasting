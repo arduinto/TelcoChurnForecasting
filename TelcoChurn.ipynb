{
 "cells": [
  {
   "cell_type": "code",
   "execution_count": null,
   "metadata": {},
   "outputs": [],
   "source": [
    "import pandas as pd\n",
    "import numpy as np\n",
    "import plotly.express as px \n",
    "from plotly.offline import iplot\n",
    "\n",
    "from sklearn.model_selection import train_test_split, KFold, cross_val_score, RandomizedSearchCV\n",
    "from sklearn.metrics import accuracy_score, confusion_matrix, classification_report\n",
    "from sklearn.preprocessing import MinMaxScaler, OneHotEncoder\n",
    "from imblearn.combine import SMOTETomek\n",
    "\n",
    "from sklearn.pipeline import Pipeline\n",
    "from sklearn.compose import ColumnTransformer\n",
    "\n",
    "\n",
    "import tensorflow as tf\n",
    "from tensorflow.keras.models import Sequential\n",
    "from tensorflow.keras.layers import Dense\n",
    "from tensorflow.keras.callbacks import EarlyStopping\n",
    "\n",
    "import warnings\n",
    "\n",
    "\n",
    "# set Default\n",
    "pd.set_option(\"display.max_columns\", None)\n",
    "pd.options.display.float_format = '{:,.2f}'.format\n",
    "warnings.filterwarnings(\"ignore\")\n",
    "pd.options.mode.copy_on_write = \"warn\"\n",
    "\n",
    "# Used Color\n",
    "used_color = [\"#ED1C24\", \"#FAF7F1\", \"#C0C0C0\", \"#F1ECDF\", \"#330072\"]"
   ]
  },
  {
   "cell_type": "code",
   "execution_count": null,
   "id": "01HXZP5S04B1738JWEKBJA3MB7",
   "metadata": {},
   "outputs": [],
   "source": [
    "def update_layout(\n",
    "    title_font_size = 28,\n",
    "    hover_font_size = 16,\n",
    "    hover_bgcolor = '#111',\n",
    "    showlegend = False\n",
    "):\n",
    "    fig.update_layout(\n",
    "        showlegend = showlegend,\n",
    "        title = {\n",
    "            'font' : {\n",
    "                'size' : title_font_size,\n",
    "                'family' : '<b>poppins'\n",
    "            }\n",
    "        },\n",
    "        \n",
    "        hoverlabel = {\n",
    "            'bgcolor' : hover_bgcolor,\n",
    "            'font_size' : hover_font_size,\n",
    "            'font_family' : 'poppins'\n",
    "        }\n",
    "    )"
   ]
  },
  {
   "cell_type": "code",
   "execution_count": null,
   "id": "01HXZQYN7GEX4A95JV9BZ6X36F",
   "metadata": {},
   "outputs": [],
   "source": [
    "def count_viz_func(\n",
    "    data_frame,\n",
    "    column_name,\n",
    "    title = 'Chart Title',\n",
    "    title_font_size = 30,\n",
    "    x_label = 'X',\n",
    "    y_label = 'Y',\n",
    "    showlegend = False,\n",
    "    hover_template = 'None'\n",
    "):\n",
    "    value_counts = df[column_name].value_counts(normalize=1)*100\n",
    "    \n",
    "    fig = px.bar(\n",
    "        data_frame = value_counts,\n",
    "        x = value_counts.index,\n",
    "        y = value_counts,\n",
    "        color = value_counts.index,\n",
    "        color_discrete_sequence = used_color,\n",
    "        title = title,\n",
    "        labels = {column_name:x_label, 'y': y_label},\n",
    "        template = 'plotly_dark',\n",
    "        text = value_counts.apply(lambda x: f'{x:.1f}%')\n",
    "    )\n",
    "    \n",
    "    fig.update_layout(\n",
    "        showlegend = showlegend,\n",
    "        title = {\n",
    "            'font' : {\n",
    "                'size' : title_font_size,\n",
    "                'family' : '<b>poppins'\n",
    "            }\n",
    "        },\n",
    "        \n",
    "        hoverlabel = {\n",
    "            'bgcolor' : '#222',\n",
    "            'font_size' : 16,\n",
    "            'font_family' : 'poppins'\n",
    "        }\n",
    "    )\n",
    "    \n",
    "    fig.update_traces(\n",
    "        textfont = {\n",
    "            'size' : 18,\n",
    "            'family' : 'consolas',\n",
    "            'color' : '#222'\n",
    "        },\n",
    "        \n",
    "        marker = dict(line=dict(color = '#222', width=1)),\n",
    "        \n",
    "        hovertemplate = hover_template\n",
    "    )\n",
    "    \n",
    "    return fig"
   ]
  },
  {
   "cell_type": "markdown",
   "metadata": {},
   "source": [
    "### __About Dataset__\n",
    "* `Senior Citizen`: Indicates if the customer is 65 or older: Yes, No\n",
    "* `Dependents`: Indicates if the customer lives with any dependents: Yes, No. Dependents could be children, parents, grandparents, etc\n",
    "* `Tenure in Months`: Indicates the total amount of months that the customer has been with the company\n",
    "* `Internet Service`: Indicates if the customer subscribes to Internet service with the company: No, DSL, Fiber Optic, Cable.\n",
    "* `Contract`: Indicates the customer’s current contract type: Month-to-Month, One Year, Two Year.\n",
    "* `Payment Method`: Indicates how the customer pays their bill: Bank Withdrawal, Credit Card, Mailed Check.\n",
    "* `Monthly Charge`: Indicates the customer’s current total monthly charge for all their services from the company.\n",
    "* `Total Charges`: Indicates the customer’s total charges, calculated to the end of the quarter specified above.\n",
    "* `Churn: 1` = the customer left the company this quarter. 0 = the customer remained with the company"
   ]
  },
  {
   "cell_type": "code",
   "execution_count": null,
   "id": "01HXZQZGGZ1P3M9R5B2QA8GVYR",
   "metadata": {},
   "outputs": [],
   "source": [
    "df = pd.read_csv('./WA_Fn-UseC_-Telco-Customer-Churn.csv')"
   ]
  },
  {
   "cell_type": "code",
   "execution_count": null,
   "id": "01HXZVK8KE1T2QV7ED52JAG4YP",
   "metadata": {},
   "outputs": [],
   "source": [
    "print(f'Number of Records: {df.shape[0]:.0f}')\n",
    "print(f'Number of Features: {df.shape[1]}')"
   ]
  },
  {
   "cell_type": "code",
   "execution_count": null,
   "id": "01HXZVMXE7P8VSJGP7R51H92NP",
   "metadata": {},
   "outputs": [],
   "source": [
    "df.head()"
   ]
  },
  {
   "cell_type": "markdown",
   "metadata": {},
   "source": [
    "### __Data Cleaning & Wrangling__"
   ]
  },
  {
   "cell_type": "code",
   "execution_count": null,
   "id": "01HXZVPBT7KM5Q7XVDRBKWQK4C",
   "metadata": {},
   "outputs": [],
   "source": [
    "# Check For Null Values\n",
    "df.isna().sum()"
   ]
  },
  {
   "cell_type": "code",
   "execution_count": null,
   "id": "01HXZVS9T90B89N48RJBHQ6JPV",
   "metadata": {},
   "outputs": [],
   "source": [
    "# Duplicated Records\n",
    "df.duplicated().sum()"
   ]
  },
  {
   "cell_type": "code",
   "execution_count": null,
   "id": "01HXZVTATYHBREFK9H6R5665N1",
   "metadata": {},
   "outputs": [],
   "source": [
    "# Check for Duplicated Customer ID\n",
    "df['customerID'].duplicated().sum()"
   ]
  },
  {
   "cell_type": "markdown",
   "metadata": {},
   "source": [
    "__Data almost clean and it's important that the `customerID` is unique for each customer because of it we need to remove the `customerID`__"
   ]
  },
  {
   "cell_type": "code",
   "execution_count": null,
   "id": "01HXZVVF8HB4W6VY2Z5E120R3B",
   "metadata": {},
   "outputs": [],
   "source": [
    "df.drop(columns='customerID', inplace=True)"
   ]
  },
  {
   "cell_type": "code",
   "execution_count": null,
   "id": "01HXZVZH6J8R1N5JC4S8JT6G92",
   "metadata": {},
   "outputs": [],
   "source": [
    "df.describe().T"
   ]
  },
  {
   "cell_type": "markdown",
   "metadata": {},
   "source": [
    "### __Dig Deeper Into Each Column__"
   ]
  },
  {
   "cell_type": "markdown",
   "metadata": {},
   "source": [
    "##### __Gender Column__"
   ]
  },
  {
   "cell_type": "code",
   "execution_count": null,
   "id": "01HXZVZKGGE3PCQAP7Z77KR1AT",
   "metadata": {},
   "outputs": [],
   "source": [
    "gender = df[\"gender\"].value_counts(normalize=1)*100\n",
    "gender"
   ]
  },
  {
   "cell_type": "code",
   "execution_count": null,
   "id": "01HXZWJ41Y2MHWX12XFTM62A2A",
   "metadata": {},
   "outputs": [],
   "source": [
    "fig = count_viz_func(\n",
    "    df, 'gender', title= '<b>Gender Distributions', x_label='<b>Gender', y_label='<b>Frequency in PCT (%)', hover_template='Gender: %{x}<br>Frequency PCT (%): %{y:.0f}'\n",
    ")\n",
    "\n",
    "fig.update_traces(\n",
    "    marker = dict(line= dict(color= '#FEFEFE', width=2))\n",
    ")\n",
    "iplot(fig)"
   ]
  },
  {
   "cell_type": "code",
   "execution_count": null,
   "id": "01HY04RP1RR8ZBSHF9G6ENAQ39",
   "metadata": {},
   "outputs": [],
   "source": [
    "len(df[df['Churn'] == 'Yes']) / len(df) * 100"
   ]
  },
  {
   "cell_type": "markdown",
   "metadata": {},
   "source": [
    "##### __Senior Citizen Column__"
   ]
  },
  {
   "cell_type": "code",
   "execution_count": null,
   "id": "01HY0523YF6YA1P72CG02EX34A",
   "metadata": {},
   "outputs": [],
   "source": [
    "f = df['Contract'] == 'Month-to-month'\n",
    "df.loc[f, 'PaymentMethod']"
   ]
  },
  {
   "cell_type": "code",
   "execution_count": null,
   "id": "01HY05ZF23BEPCD9JAG91FHHZ3",
   "metadata": {},
   "outputs": [],
   "source": [
    "senior_citizen = df['SeniorCitizen'].value_counts(normalize=1)*100\n",
    "senior_citizen.apply(lambda x: f'{x:.2f}%')"
   ]
  },
  {
   "cell_type": "code",
   "execution_count": null,
   "id": "01HY06ASDAQP9RTWNZS5YW7NFS",
   "metadata": {},
   "outputs": [],
   "source": [
    "fig = px.bar(\n",
    "    data_frame= senior_citizen,\n",
    "    x= ['Greater Than 65' if i == 1 else 'Less Than 65' for i in senior_citizen.index],\n",
    "    y= senior_citizen,\n",
    "    color= ['Greater Than 65' if i == 1 else 'Less Than 65' for i in senior_citizen.index],\n",
    "    color_discrete_sequence=used_color,\n",
    "    title = '<b>Senior Citizen Distributions',\n",
    "    labels = {'x': '<b>Is Senior Citizen', 'y': '<b>Frequency in PCT (%)'},\n",
    "    template = 'plotly_dark',\n",
    "    text = senior_citizen.apply(lambda x: f'{x:.1f}%')\n",
    ")\n",
    "\n",
    "update_layout()\n",
    "\n",
    "fig.update_traces(\n",
    "    textfont = {\n",
    "        'size': 18,\n",
    "        'family' : 'consolas',\n",
    "        'color' : '#222'\n",
    "    },\n",
    "    \n",
    "    marker = dict(line = dict(color = '#C0C0C0', width=2)),\n",
    "    hovertemplate = 'Category: %{x}<br>Frequency in PCT (%): %{y:.0f}'\n",
    ")\n",
    "iplot(fig)"
   ]
  },
  {
   "cell_type": "markdown",
   "metadata": {},
   "source": [
    "##### __Dependents Column__"
   ]
  },
  {
   "cell_type": "code",
   "execution_count": null,
   "id": "01HY06FB6CT2RK4079S3JBRB4V",
   "metadata": {},
   "outputs": [],
   "source": [
    "dependents = (df['Dependents'].value_counts(normalize=1)*100).apply(lambda x: f'{x:.2f}%')\n",
    "dependents"
   ]
  },
  {
   "cell_type": "code",
   "execution_count": null,
   "id": "01HY08A4S8AHSJQWVR68XF1Z37",
   "metadata": {},
   "outputs": [],
   "source": [
    "fig = count_viz_func(\n",
    "    df, 'Dependents',\n",
    "    title='<b>Dependents Distributions',\n",
    "    x_label = '<b>Dependents',\n",
    "    y_label = '<b>Frequency in PCT (%)',\n",
    "    hover_template = 'Dependents: %{x}<br>Frequency in PCT (%): %{y:.0f}'\n",
    ")\n",
    "\n",
    "fig.update_traces(\n",
    "    marker = dict(line=dict(color='#C0C0C0', width=2))\n",
    ")\n",
    "iplot(fig)"
   ]
  },
  {
   "cell_type": "markdown",
   "metadata": {},
   "source": [
    "##### __Tenure Column__"
   ]
  },
  {
   "cell_type": "code",
   "execution_count": null,
   "id": "01HY080CVPNZX3MG3124YXVB3M",
   "metadata": {},
   "outputs": [],
   "source": [
    "fig = px.box(\n",
    "    x=df['tenure'],\n",
    "    template='plotly_dark',\n",
    "    labels={'x': 'Tenure in Months'},\n",
    "    title='<b>Tenure in Months',\n",
    "    notched=True\n",
    ")\n",
    "\n",
    "fig.update_traces(\n",
    "    marker = dict(color='red'),\n",
    "    line = dict(width=3)\n",
    ")\n",
    "\n",
    "update_layout()\n",
    "iplot(fig)"
   ]
  },
  {
   "cell_type": "code",
   "execution_count": null,
   "id": "01HY09AFAPCEY58ZHV4XXS4WGE",
   "metadata": {},
   "outputs": [],
   "source": [
    "print(f'Tenure Skewness: {df[\"tenure\"].skew():.4f}')"
   ]
  },
  {
   "cell_type": "markdown",
   "metadata": {},
   "source": [
    "### Insights based on Boxplot Statistic Tenure\n",
    "\n",
    "**Insight Boxplot:**\n",
    "\n",
    "1. **Variasi dalam Tenure:**\n",
    "   - Tenure pelanggan bervariasi dari 0 hingga 72 bulan. Ini menunjukkan bahwa ada pelanggan yang baru saja bergabung (0 bulan) dan ada yang sudah lama (hingga 72 bulan).\n",
    "\n",
    "2. **Distribusi Pelanggan:**\n",
    "   - **Median (29 bulan):** Separuh dari pelanggan memiliki masa berlangganan kurang dari 29 bulan dan separuh lainnya lebih dari 29 bulan.\n",
    "   - **Kuartil Pertama (Q1 - 9 bulan):** 25% dari pelanggan memiliki masa berlangganan 9 bulan atau kurang, menunjukkan bahwa sebagian besar pelanggan baru memiliki masa berlangganan pendek.\n",
    "   - **Kuartil Ketiga (Q3 - 55 bulan):** 75% dari pelanggan memiliki masa berlangganan hingga 55 bulan atau kurang. Hanya 25% pelanggan yang memiliki masa berlangganan lebih dari itu.\n",
    "\n",
    "3. **Pelanggan Baru vs. Pelanggan Lama:**\n",
    "   - Adanya nilai minimum dan lower fence pada 0 bulan menunjukkan bahwa ada beberapa pelanggan yang sangat baru.\n",
    "   - Nilai maksimum dan upper fence di 72 bulan menunjukkan bahwa beberapa pelanggan sangat setia dan telah bersama perusahaan untuk waktu yang lama.\n",
    "\n",
    "4. **Keberagaman Pelanggan:**\n",
    "   - Distribusi ini menunjukkan adanya keberagaman yang signifikan dalam masa berlangganan pelanggan, yang dapat mengindikasikan berbagai tingkat kepuasan dan loyalitas pelanggan.\n",
    "\n",
    "### Insights dari Skewness Tenure\n",
    "\n",
    "**Output Skewness:**\n",
    "- **Tenure Skewness:** 0.2395\n",
    "\n",
    "**Insight:**\n",
    "\n",
    "1. **Distribusi Tenure yang Mendekati Simetris:**\n",
    "   - Skewness (kemiringan) sebesar 0.2395 menunjukkan bahwa distribusi masa berlangganan (tenure) pelanggan hampir simetris, tetapi sedikit condong ke kanan.\n",
    "\n",
    "2. **Impilikasi untuk Strategi Retensi:**\n",
    "   - Skewness yang rendah menunjukkan bahwa sebagian besar pelanggan memiliki masa berlangganan yang tersebar cukup merata di sekitar median (29 bulan). Hal ini berarti tidak ada dominasi pelanggan baru atau pelanggan lama dalam data.\n",
    "   - Sedikit condong ke kanan menunjukkan bahwa ada sedikit lebih banyak pelanggan dengan masa berlangganan yang lebih lama daripada yang baru, tetapi perbedaannya tidak signifikan.\n",
    "\n",
    "3. **Kesempatan untuk Meningkatkan Loyalitas:**\n",
    "   - Dengan distribusi yang mendekati simetris ini, perusahaan dapat mengembangkan strategi retensi yang lebih seimbang, berfokus pada menjaga pelanggan yang ada dan meningkatkan masa berlangganan pelanggan baru.\n",
    "\n",
    "4. **Evaluasi Program Loyalitas:**\n",
    "   - Melihat distribusi yang hampir simetris ini, program loyalitas bisa dievaluasi untuk melihat bagaimana program ini mempengaruhi pelanggan dengan berbagai lama berlangganan. Upaya bisa difokuskan untuk meningkatkan masa berlangganan pelanggan yang berada di bawah median."
   ]
  },
  {
   "cell_type": "markdown",
   "metadata": {},
   "source": [
    "##### __Phone Services Column__"
   ]
  },
  {
   "cell_type": "code",
   "execution_count": null,
   "id": "01HY0CJTZJAV247PKP581Z1G1P",
   "metadata": {},
   "outputs": [],
   "source": [
    "phone_services = df['PhoneService'].value_counts()\n",
    "phone_services.apply(lambda x: f'{x/sum(phone_services)*100:.2f}%')"
   ]
  },
  {
   "cell_type": "code",
   "execution_count": null,
   "id": "01HY2963K8S3TSVEFCT2BMEEWH",
   "metadata": {},
   "outputs": [],
   "source": [
    "fig = px.pie(\n",
    "    names= phone_services.index,\n",
    "    values= phone_services,\n",
    "    title= '<b>Phone Services Status Distribution',\n",
    "    color_discrete_sequence=  used_color[0:3],\n",
    "    hole= .6,\n",
    "    template= 'plotly_dark'\n",
    ")\n",
    "\n",
    "# Func that give the Chart a custom format\n",
    "update_layout(showlegend=True)\n",
    "\n",
    "fig.update_traces(\n",
    "    textinfo = 'label+percent',\n",
    "    textfont = {\n",
    "        'family' : 'consolas',\n",
    "        'size' : 16\n",
    "    },\n",
    "    \n",
    "    hovertemplate = 'Phone Services Status: %{label}<br>Frequency: %{value}',\n",
    "    marker = dict(line=dict(color='#FFFFFF', width=2)),\n",
    "    pull = [.090, .070]\n",
    ")\n",
    "iplot(fig)"
   ]
  },
  {
   "cell_type": "markdown",
   "metadata": {},
   "source": [
    "##### __Internet Service Column__"
   ]
  },
  {
   "cell_type": "code",
   "execution_count": null,
   "id": "01HY29HN9TDDA51D3FZZVGR698",
   "metadata": {},
   "outputs": [],
   "source": [
    "inet_services = df['OnlineBackup'].value_counts()\n",
    "inet_services.apply(lambda x: f'{x/sum(inet_services)*100:.2f}%')"
   ]
  },
  {
   "cell_type": "code",
   "execution_count": null,
   "id": "01HY2C11JC8SEKX55G9AXCZSZ3",
   "metadata": {},
   "outputs": [],
   "source": [
    "fig = px.pie(\n",
    "    data_frame=inet_services,\n",
    "    names=inet_services.index,\n",
    "    values= inet_services,\n",
    "    title= '<b>Internet Services Status Distribution',\n",
    "    color_discrete_sequence= used_color[0:3],\n",
    "    hole=.4\n",
    ")\n",
    "\n",
    "# Func that give the Chart a custom format\n",
    "update_layout(showlegend=True)\n",
    "\n",
    "fig.update_traces(\n",
    "    textinfo = 'label+percent',\n",
    "    textfont = {\n",
    "        'size' : 16,\n",
    "        'family' : 'consolas'\n",
    "    },\n",
    "    \n",
    "    hovertemplate = 'Status: %{label}<br>Frequency: %{value:,.0f}',\n",
    "    marker = dict(line = dict(color = '#222', width=2)),\n",
    "    pull = [.0, .0, .09]\n",
    ")\n",
    "iplot(fig)"
   ]
  },
  {
   "cell_type": "markdown",
   "metadata": {},
   "source": [
    "##### __Other Services__"
   ]
  },
  {
   "cell_type": "code",
   "execution_count": null,
   "id": "01HY2D2T98HKQR5DYA1RX66ESK",
   "metadata": {},
   "outputs": [],
   "source": [
    "from plotly.subplots import make_subplots\n",
    "import plotly.graph_objects as go\n",
    "\n",
    "# Choose Columns using `np.r_` method\n",
    "target_cols = df.columns[np.r_[5:7, 8:14]]\n",
    "\n",
    "fig = make_subplots(rows=4, cols=2, subplot_titles=target_cols)\n",
    "\n",
    "r, c = 1, 0\n",
    "\n",
    "for i in range(0, len(target_cols)):\n",
    "    c += 1\n",
    "    temp = df[target_cols[i]].value_counts()\n",
    "    fig.add_trace(\n",
    "        go.Bar(\n",
    "            x= temp.index,\n",
    "            y= temp/sum(temp)*100,\n",
    "            text= temp.apply(lambda x: f'{x / sum(temp)*100:,.1f}%'),\n",
    "            marker= dict(color=used_color)\n",
    "        ),\n",
    "        row=r,\n",
    "        col=c\n",
    "    )\n",
    "    \n",
    "    if c == 2:\n",
    "        r += 1\n",
    "        c = 0\n",
    "\n",
    "fig.update_layout(height= 1700, title_text= '<b>Services Customer Distributions', template= 'plotly_dark')\n",
    "\n",
    "update_layout(showlegend= False, hover_bgcolor='#F8F9FA', hover_font_size=14)\n",
    "\n",
    "fig.update_traces(\n",
    "    textfont= {\n",
    "        'size': 14,\n",
    "        'family': 'consolas',\n",
    "        'color': '#111111'\n",
    "    },\n",
    "    \n",
    "    marker= dict(line= dict(color= '#F8F9FA', width= 2.0)),\n",
    "    hovertemplate= 'Services Status: %{x}<br>Customer Frequency: %{y:,.2f}%'\n",
    ")\n",
    "    \n",
    "iplot(fig)"
   ]
  },
  {
   "cell_type": "markdown",
   "metadata": {},
   "source": [
    "##### __Contract Column__"
   ]
  },
  {
   "cell_type": "code",
   "execution_count": null,
   "id": "01HY2DH3VA2EXZ33C2V77XS1C1",
   "metadata": {},
   "outputs": [],
   "source": [
    "fig = count_viz_func(\n",
    "    df,\n",
    "    column_name= 'Contract',\n",
    "    title= '<b>Contract Status Distributions',\n",
    "    x_label= '<b>Contract',\n",
    "    y_label= '<b>Frequency in PCT (%)',\n",
    "    hover_template= 'Contract: %{x}<br>Frequency in PCT(%): y{y:,.0f}')\n",
    "\n",
    "fig.update_traces(\n",
    "    marker = dict(line= dict(color='#FEFEFE', width=2))\n",
    ")\n",
    "iplot(fig)"
   ]
  },
  {
   "cell_type": "markdown",
   "metadata": {},
   "source": [
    "##### __Payment Method Column__"
   ]
  },
  {
   "cell_type": "code",
   "execution_count": null,
   "id": "01HYA4PNVQ1Y2XNXHZQNVRSAHY",
   "metadata": {},
   "outputs": [],
   "source": [
    "payment_method = df['PaymentMethod'].value_counts(normalize=1)*100\n",
    "payment_method.apply(lambda x: f'{x: .2f}%')"
   ]
  },
  {
   "cell_type": "code",
   "execution_count": null,
   "id": "01HYA4R6A6F0YTR11WMKE4R240",
   "metadata": {},
   "outputs": [],
   "source": [
    "fig = count_viz_func(\n",
    "    df,\n",
    "    column_name= 'PaymentMethod',\n",
    "    title= '<b>Payment Method Distributions',\n",
    "    x_label= '<b>Payment Method',\n",
    "    y_label= '<b>Frequency in PCT(%)',\n",
    "    hover_template= 'Payment Method: %{x}<br>Frequency in PCT(%): %{y:.2f}'\n",
    ")\n",
    "\n",
    "fig.update_traces(\n",
    "    marker= dict(line= dict(color= '#FEFEFE', width= 2))\n",
    ")\n",
    "iplot(fig)"
   ]
  },
  {
   "cell_type": "markdown",
   "metadata": {},
   "source": [
    "##### __Important Column: Monthly Charges Column__"
   ]
  },
  {
   "cell_type": "code",
   "execution_count": null,
   "id": "01HYA66PBDD7RMDRB87QH23SY9",
   "metadata": {},
   "outputs": [],
   "source": [
    "df['MonthlyCharges'].describe()"
   ]
  },
  {
   "cell_type": "code",
   "execution_count": null,
   "id": "01HYA677MSXK7TGDMFX8VW5T96",
   "metadata": {},
   "outputs": [],
   "source": [
    "df['MonthlyCharges'].skew()"
   ]
  },
  {
   "cell_type": "code",
   "execution_count": null,
   "id": "01HYA67KT685NVHBHSXX4PM9C4",
   "metadata": {},
   "outputs": [],
   "source": [
    "fig = px.box(\n",
    "    x= df['MonthlyCharges'],\n",
    "    template= 'plotly_dark',\n",
    "    labels= {'x':'<b>Tenure in Months'},\n",
    "    title= '<b>Monthly Charges Summary',\n",
    "    notched= True\n",
    ")\n",
    "\n",
    "update_layout()\n",
    "\n",
    "fig.update_traces(\n",
    "    marker = dict(color='red'),\n",
    "    line= dict(width=3)\n",
    ")\n",
    "\n",
    "iplot(fig)"
   ]
  },
  {
   "cell_type": "code",
   "execution_count": null,
   "id": "01HYAFBVDPJ51JCWJNG1037PZ4",
   "metadata": {},
   "outputs": [],
   "source": [
    "import matplotlib.pyplot as plt\n",
    "import seaborn as sns\n",
    "\n",
    "sns.distplot(\n",
    "    \n",
    ")\n",
    "plt.ylabel('Density')"
   ]
  },
  {
   "cell_type": "code",
   "execution_count": null,
   "id": "01HYAGA8X8SSFMK3SSTBFPP0KW",
   "metadata": {},
   "outputs": [],
   "source": [
    "df[['MonthlyCharges', 'tenure']].value_counts()"
   ]
  }
 ],
 "metadata": {
  "kernelspec": {
   "display_name": "Python 3",
   "language": "python",
   "name": "python3"
  },
  "language_info": {
   "codemirror_mode": {
    "name": "ipython",
    "version": 3
   },
   "file_extension": ".py",
   "mimetype": "text/x-python",
   "name": "python",
   "nbconvert_exporter": "python",
   "pygments_lexer": "ipython3",
   "version": "3.11.7"
  }
 },
 "nbformat": 4,
 "nbformat_minor": 2
}
