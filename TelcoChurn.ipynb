{
 "cells": [
  {
   "cell_type": "code",
   "execution_count": 1,
   "metadata": {},
   "outputs": [],
   "source": [
    "import pandas as pd\n",
    "import numpy as np\n",
    "import plotly.express as px \n",
    "from plotly.offline import iplot\n",
    "\n",
    "from sklearn.model_selection import train_test_split, KFold, cross_val_score, RandomizedSearchCV\n",
    "from sklearn.metrics import accuracy_score, confusion_matrix, classification_report\n",
    "from sklearn.preprocessing import MinMaxScaler, OneHotEncoder\n",
    "from imblearn.combine import SMOTETomek\n",
    "\n",
    "from sklearn.pipeline import Pipeline\n",
    "from sklearn.compose import ColumnTransformer\n",
    "\n",
    "\n",
    "import tensorflow as tf\n",
    "from tensorflow.keras.models import Sequential\n",
    "from tensorflow.keras.layers import Dense\n",
    "from tensorflow.keras.callbacks import EarlyStopping\n",
    "\n",
    "import warnings\n",
    "\n",
    "\n",
    "# set Default\n",
    "pd.set_option(\"display.max_columns\", None)\n",
    "pd.options.display.float_format = '{:,.2f}'.format\n",
    "warnings.filterwarnings(\"ignore\")\n",
    "pd.options.mode.copy_on_write = \"warn\"\n",
    "\n",
    "# Used Color\n",
    "used_color = [\"#ED1C24\", \"#FAF7F1\", \"#C0C0C0\", \"#F1ECDF\", \"#330072\"]"
   ]
  },
  {
   "cell_type": "code",
   "execution_count": 2,
   "id": "01HXZP5S04B1738JWEKBJA3MB7",
   "metadata": {},
   "outputs": [],
   "source": [
    "def update_layout(\n",
    "    title_font_size = 28,\n",
    "    hover_font_size = 16,\n",
    "    hover_bgcolor = '#111',\n",
    "    showlegend = False\n",
    "):\n",
    "    fig.update_layout(\n",
    "        showlegend = showlegend,\n",
    "        title = {\n",
    "            'font' : {\n",
    "                'size' : title_font_size,\n",
    "                'family' : '<b>poppins'\n",
    "            }\n",
    "        },\n",
    "        \n",
    "        hoverlabel = {\n",
    "            'bgcolor' : hover_bgcolor,\n",
    "            'font_size' : hover_font_size,\n",
    "            'font_family' : 'poppins'\n",
    "        }\n",
    "    )"
   ]
  },
  {
   "cell_type": "code",
   "execution_count": 3,
   "id": "01HXZQYN7GEX4A95JV9BZ6X36F",
   "metadata": {},
   "outputs": [],
   "source": [
    "def count_viz_func(\n",
    "    data_frame,\n",
    "    column_name,\n",
    "    title = 'Chart Title',\n",
    "    title_font_size = 30,\n",
    "    x_label = 'X',\n",
    "    y_label = 'Y',\n",
    "    showlegend = False,\n",
    "    hover_template = 'None'\n",
    "):\n",
    "    value_counts = df[column_name].value_counts(normalize=1)*100\n",
    "    \n",
    "    fig = px.bar(\n",
    "        data_frame = value_counts,\n",
    "        x = value_counts.index,\n",
    "        y = value_counts,\n",
    "        color = value_counts.index,\n",
    "        color_discrete_sequence = used_color,\n",
    "        title = title,\n",
    "        labels = {column_name:x_label, 'y': y_label},\n",
    "        template = 'plotly_dark',\n",
    "        text = value_counts.apply(lambda x: f'{x:.1f}%')\n",
    "    )\n",
    "    \n",
    "    fig.update_layout(\n",
    "        showlegend = showlegend,\n",
    "        title = {\n",
    "            'font' : {\n",
    "                'size' : title_font_size,\n",
    "                'family' : '<b>poppins'\n",
    "            }\n",
    "        },\n",
    "        \n",
    "        hoverlabel = {\n",
    "            'bgcolor' : '#222',\n",
    "            'font_size' : 16,\n",
    "            'font_family' : 'poppins'\n",
    "        }\n",
    "    )\n",
    "    \n",
    "    fig.update_traces(\n",
    "        textfont = {\n",
    "            'size' : 18,\n",
    "            'family' : 'consolas',\n",
    "            'color' : '#222'\n",
    "        },\n",
    "        \n",
    "        marker = dict(line=dict(color = '#222', width=1)),\n",
    "        \n",
    "        hovertemplate = hover_template\n",
    "    )\n",
    "    \n",
    "    return fig"
   ]
  },
  {
   "cell_type": "markdown",
   "metadata": {},
   "source": [
    "### __About Dataset__\n",
    "* `Senior Citizen`: Indicates if the customer is 65 or older: Yes, No\n",
    "* `Dependents`: Indicates if the customer lives with any dependents: Yes, No. Dependents could be children, parents, grandparents, etc\n",
    "* `Tenure in Months`: Indicates the total amount of months that the customer has been with the company\n",
    "* `Internet Service`: Indicates if the customer subscribes to Internet service with the company: No, DSL, Fiber Optic, Cable.\n",
    "* `Contract`: Indicates the customer’s current contract type: Month-to-Month, One Year, Two Year.\n",
    "* `Payment Method`: Indicates how the customer pays their bill: Bank Withdrawal, Credit Card, Mailed Check.\n",
    "* `Monthly Charge`: Indicates the customer’s current total monthly charge for all their services from the company.\n",
    "* `Total Charges`: Indicates the customer’s total charges, calculated to the end of the quarter specified above.\n",
    "* `Churn: 1` = the customer left the company this quarter. 0 = the customer remained with the company"
   ]
  },
  {
   "cell_type": "code",
   "execution_count": 4,
   "id": "01HXZQZGGZ1P3M9R5B2QA8GVYR",
   "metadata": {},
   "outputs": [],
   "source": [
    "df = pd.read_csv('./WA_Fn-UseC_-Telco-Customer-Churn.csv')"
   ]
  },
  {
   "cell_type": "code",
   "execution_count": 5,
   "id": "01HXZVK8KE1T2QV7ED52JAG4YP",
   "metadata": {},
   "outputs": [
    {
     "name": "stdout",
     "output_type": "stream",
     "text": [
      "Number of Records: 7043\n",
      "Number of Features: 21\n"
     ]
    }
   ],
   "source": [
    "print(f'Number of Records: {df.shape[0]:.0f}')\n",
    "print(f'Number of Features: {df.shape[1]}')"
   ]
  },
  {
   "cell_type": "code",
   "execution_count": 6,
   "id": "01HXZVMXE7P8VSJGP7R51H92NP",
   "metadata": {},
   "outputs": [
    {
     "data": {
      "text/html": [
       "<div>\n",
       "<style scoped>\n",
       "    .dataframe tbody tr th:only-of-type {\n",
       "        vertical-align: middle;\n",
       "    }\n",
       "\n",
       "    .dataframe tbody tr th {\n",
       "        vertical-align: top;\n",
       "    }\n",
       "\n",
       "    .dataframe thead th {\n",
       "        text-align: right;\n",
       "    }\n",
       "</style>\n",
       "<table border=\"1\" class=\"dataframe\">\n",
       "  <thead>\n",
       "    <tr style=\"text-align: right;\">\n",
       "      <th></th>\n",
       "      <th>customerID</th>\n",
       "      <th>gender</th>\n",
       "      <th>SeniorCitizen</th>\n",
       "      <th>Partner</th>\n",
       "      <th>Dependents</th>\n",
       "      <th>tenure</th>\n",
       "      <th>PhoneService</th>\n",
       "      <th>MultipleLines</th>\n",
       "      <th>InternetService</th>\n",
       "      <th>OnlineSecurity</th>\n",
       "      <th>OnlineBackup</th>\n",
       "      <th>DeviceProtection</th>\n",
       "      <th>TechSupport</th>\n",
       "      <th>StreamingTV</th>\n",
       "      <th>StreamingMovies</th>\n",
       "      <th>Contract</th>\n",
       "      <th>PaperlessBilling</th>\n",
       "      <th>PaymentMethod</th>\n",
       "      <th>MonthlyCharges</th>\n",
       "      <th>TotalCharges</th>\n",
       "      <th>Churn</th>\n",
       "    </tr>\n",
       "  </thead>\n",
       "  <tbody>\n",
       "    <tr>\n",
       "      <th>0</th>\n",
       "      <td>7590-VHVEG</td>\n",
       "      <td>Female</td>\n",
       "      <td>0</td>\n",
       "      <td>Yes</td>\n",
       "      <td>No</td>\n",
       "      <td>1</td>\n",
       "      <td>No</td>\n",
       "      <td>No phone service</td>\n",
       "      <td>DSL</td>\n",
       "      <td>No</td>\n",
       "      <td>Yes</td>\n",
       "      <td>No</td>\n",
       "      <td>No</td>\n",
       "      <td>No</td>\n",
       "      <td>No</td>\n",
       "      <td>Month-to-month</td>\n",
       "      <td>Yes</td>\n",
       "      <td>Electronic check</td>\n",
       "      <td>29.85</td>\n",
       "      <td>29.85</td>\n",
       "      <td>No</td>\n",
       "    </tr>\n",
       "    <tr>\n",
       "      <th>1</th>\n",
       "      <td>5575-GNVDE</td>\n",
       "      <td>Male</td>\n",
       "      <td>0</td>\n",
       "      <td>No</td>\n",
       "      <td>No</td>\n",
       "      <td>34</td>\n",
       "      <td>Yes</td>\n",
       "      <td>No</td>\n",
       "      <td>DSL</td>\n",
       "      <td>Yes</td>\n",
       "      <td>No</td>\n",
       "      <td>Yes</td>\n",
       "      <td>No</td>\n",
       "      <td>No</td>\n",
       "      <td>No</td>\n",
       "      <td>One year</td>\n",
       "      <td>No</td>\n",
       "      <td>Mailed check</td>\n",
       "      <td>56.95</td>\n",
       "      <td>1889.5</td>\n",
       "      <td>No</td>\n",
       "    </tr>\n",
       "    <tr>\n",
       "      <th>2</th>\n",
       "      <td>3668-QPYBK</td>\n",
       "      <td>Male</td>\n",
       "      <td>0</td>\n",
       "      <td>No</td>\n",
       "      <td>No</td>\n",
       "      <td>2</td>\n",
       "      <td>Yes</td>\n",
       "      <td>No</td>\n",
       "      <td>DSL</td>\n",
       "      <td>Yes</td>\n",
       "      <td>Yes</td>\n",
       "      <td>No</td>\n",
       "      <td>No</td>\n",
       "      <td>No</td>\n",
       "      <td>No</td>\n",
       "      <td>Month-to-month</td>\n",
       "      <td>Yes</td>\n",
       "      <td>Mailed check</td>\n",
       "      <td>53.85</td>\n",
       "      <td>108.15</td>\n",
       "      <td>Yes</td>\n",
       "    </tr>\n",
       "    <tr>\n",
       "      <th>3</th>\n",
       "      <td>7795-CFOCW</td>\n",
       "      <td>Male</td>\n",
       "      <td>0</td>\n",
       "      <td>No</td>\n",
       "      <td>No</td>\n",
       "      <td>45</td>\n",
       "      <td>No</td>\n",
       "      <td>No phone service</td>\n",
       "      <td>DSL</td>\n",
       "      <td>Yes</td>\n",
       "      <td>No</td>\n",
       "      <td>Yes</td>\n",
       "      <td>Yes</td>\n",
       "      <td>No</td>\n",
       "      <td>No</td>\n",
       "      <td>One year</td>\n",
       "      <td>No</td>\n",
       "      <td>Bank transfer (automatic)</td>\n",
       "      <td>42.30</td>\n",
       "      <td>1840.75</td>\n",
       "      <td>No</td>\n",
       "    </tr>\n",
       "    <tr>\n",
       "      <th>4</th>\n",
       "      <td>9237-HQITU</td>\n",
       "      <td>Female</td>\n",
       "      <td>0</td>\n",
       "      <td>No</td>\n",
       "      <td>No</td>\n",
       "      <td>2</td>\n",
       "      <td>Yes</td>\n",
       "      <td>No</td>\n",
       "      <td>Fiber optic</td>\n",
       "      <td>No</td>\n",
       "      <td>No</td>\n",
       "      <td>No</td>\n",
       "      <td>No</td>\n",
       "      <td>No</td>\n",
       "      <td>No</td>\n",
       "      <td>Month-to-month</td>\n",
       "      <td>Yes</td>\n",
       "      <td>Electronic check</td>\n",
       "      <td>70.70</td>\n",
       "      <td>151.65</td>\n",
       "      <td>Yes</td>\n",
       "    </tr>\n",
       "  </tbody>\n",
       "</table>\n",
       "</div>"
      ],
      "text/plain": [
       "   customerID  gender  SeniorCitizen Partner Dependents  tenure PhoneService  \\\n",
       "0  7590-VHVEG  Female              0     Yes         No       1           No   \n",
       "1  5575-GNVDE    Male              0      No         No      34          Yes   \n",
       "2  3668-QPYBK    Male              0      No         No       2          Yes   \n",
       "3  7795-CFOCW    Male              0      No         No      45           No   \n",
       "4  9237-HQITU  Female              0      No         No       2          Yes   \n",
       "\n",
       "      MultipleLines InternetService OnlineSecurity OnlineBackup  \\\n",
       "0  No phone service             DSL             No          Yes   \n",
       "1                No             DSL            Yes           No   \n",
       "2                No             DSL            Yes          Yes   \n",
       "3  No phone service             DSL            Yes           No   \n",
       "4                No     Fiber optic             No           No   \n",
       "\n",
       "  DeviceProtection TechSupport StreamingTV StreamingMovies        Contract  \\\n",
       "0               No          No          No              No  Month-to-month   \n",
       "1              Yes          No          No              No        One year   \n",
       "2               No          No          No              No  Month-to-month   \n",
       "3              Yes         Yes          No              No        One year   \n",
       "4               No          No          No              No  Month-to-month   \n",
       "\n",
       "  PaperlessBilling              PaymentMethod  MonthlyCharges TotalCharges  \\\n",
       "0              Yes           Electronic check           29.85        29.85   \n",
       "1               No               Mailed check           56.95       1889.5   \n",
       "2              Yes               Mailed check           53.85       108.15   \n",
       "3               No  Bank transfer (automatic)           42.30      1840.75   \n",
       "4              Yes           Electronic check           70.70       151.65   \n",
       "\n",
       "  Churn  \n",
       "0    No  \n",
       "1    No  \n",
       "2   Yes  \n",
       "3    No  \n",
       "4   Yes  "
      ]
     },
     "execution_count": 6,
     "metadata": {},
     "output_type": "execute_result"
    }
   ],
   "source": [
    "df.head()"
   ]
  },
  {
   "cell_type": "markdown",
   "metadata": {},
   "source": [
    "### __Data Cleaning & Wrangling__"
   ]
  },
  {
   "cell_type": "code",
   "execution_count": 7,
   "id": "01HXZVPBT7KM5Q7XVDRBKWQK4C",
   "metadata": {},
   "outputs": [
    {
     "data": {
      "text/plain": [
       "customerID          0\n",
       "gender              0\n",
       "SeniorCitizen       0\n",
       "Partner             0\n",
       "Dependents          0\n",
       "tenure              0\n",
       "PhoneService        0\n",
       "MultipleLines       0\n",
       "InternetService     0\n",
       "OnlineSecurity      0\n",
       "OnlineBackup        0\n",
       "DeviceProtection    0\n",
       "TechSupport         0\n",
       "StreamingTV         0\n",
       "StreamingMovies     0\n",
       "Contract            0\n",
       "PaperlessBilling    0\n",
       "PaymentMethod       0\n",
       "MonthlyCharges      0\n",
       "TotalCharges        0\n",
       "Churn               0\n",
       "dtype: int64"
      ]
     },
     "execution_count": 7,
     "metadata": {},
     "output_type": "execute_result"
    }
   ],
   "source": [
    "# Check For Null Values\n",
    "df.isna().sum()"
   ]
  },
  {
   "cell_type": "code",
   "execution_count": 8,
   "id": "01HXZVS9T90B89N48RJBHQ6JPV",
   "metadata": {},
   "outputs": [
    {
     "data": {
      "text/plain": [
       "0"
      ]
     },
     "execution_count": 8,
     "metadata": {},
     "output_type": "execute_result"
    }
   ],
   "source": [
    "# Duplicated Records\n",
    "df.duplicated().sum()"
   ]
  },
  {
   "cell_type": "code",
   "execution_count": 9,
   "id": "01HXZVTATYHBREFK9H6R5665N1",
   "metadata": {},
   "outputs": [
    {
     "data": {
      "text/plain": [
       "0"
      ]
     },
     "execution_count": 9,
     "metadata": {},
     "output_type": "execute_result"
    }
   ],
   "source": [
    "# Check for Duplicated Customer ID\n",
    "df['customerID'].duplicated().sum()"
   ]
  },
  {
   "cell_type": "markdown",
   "metadata": {},
   "source": [
    "__Data almost clean and it's important that the `customerID` is unique for each customer because of it we need to remove the `customerID`__"
   ]
  },
  {
   "cell_type": "code",
   "execution_count": 10,
   "id": "01HXZVVF8HB4W6VY2Z5E120R3B",
   "metadata": {},
   "outputs": [],
   "source": [
    "df.drop(columns='customerID', inplace=True)"
   ]
  },
  {
   "cell_type": "code",
   "execution_count": 11,
   "id": "01HXZVZH6J8R1N5JC4S8JT6G92",
   "metadata": {},
   "outputs": [
    {
     "data": {
      "text/html": [
       "<div>\n",
       "<style scoped>\n",
       "    .dataframe tbody tr th:only-of-type {\n",
       "        vertical-align: middle;\n",
       "    }\n",
       "\n",
       "    .dataframe tbody tr th {\n",
       "        vertical-align: top;\n",
       "    }\n",
       "\n",
       "    .dataframe thead th {\n",
       "        text-align: right;\n",
       "    }\n",
       "</style>\n",
       "<table border=\"1\" class=\"dataframe\">\n",
       "  <thead>\n",
       "    <tr style=\"text-align: right;\">\n",
       "      <th></th>\n",
       "      <th>count</th>\n",
       "      <th>mean</th>\n",
       "      <th>std</th>\n",
       "      <th>min</th>\n",
       "      <th>25%</th>\n",
       "      <th>50%</th>\n",
       "      <th>75%</th>\n",
       "      <th>max</th>\n",
       "    </tr>\n",
       "  </thead>\n",
       "  <tbody>\n",
       "    <tr>\n",
       "      <th>SeniorCitizen</th>\n",
       "      <td>7,043.00</td>\n",
       "      <td>0.16</td>\n",
       "      <td>0.37</td>\n",
       "      <td>0.00</td>\n",
       "      <td>0.00</td>\n",
       "      <td>0.00</td>\n",
       "      <td>0.00</td>\n",
       "      <td>1.00</td>\n",
       "    </tr>\n",
       "    <tr>\n",
       "      <th>tenure</th>\n",
       "      <td>7,043.00</td>\n",
       "      <td>32.37</td>\n",
       "      <td>24.56</td>\n",
       "      <td>0.00</td>\n",
       "      <td>9.00</td>\n",
       "      <td>29.00</td>\n",
       "      <td>55.00</td>\n",
       "      <td>72.00</td>\n",
       "    </tr>\n",
       "    <tr>\n",
       "      <th>MonthlyCharges</th>\n",
       "      <td>7,043.00</td>\n",
       "      <td>64.76</td>\n",
       "      <td>30.09</td>\n",
       "      <td>18.25</td>\n",
       "      <td>35.50</td>\n",
       "      <td>70.35</td>\n",
       "      <td>89.85</td>\n",
       "      <td>118.75</td>\n",
       "    </tr>\n",
       "  </tbody>\n",
       "</table>\n",
       "</div>"
      ],
      "text/plain": [
       "                  count  mean   std   min   25%   50%   75%    max\n",
       "SeniorCitizen  7,043.00  0.16  0.37  0.00  0.00  0.00  0.00   1.00\n",
       "tenure         7,043.00 32.37 24.56  0.00  9.00 29.00 55.00  72.00\n",
       "MonthlyCharges 7,043.00 64.76 30.09 18.25 35.50 70.35 89.85 118.75"
      ]
     },
     "execution_count": 11,
     "metadata": {},
     "output_type": "execute_result"
    }
   ],
   "source": [
    "df.describe().T"
   ]
  },
  {
   "cell_type": "markdown",
   "metadata": {},
   "source": [
    "### __Dig Deeper Into Each Column__"
   ]
  },
  {
   "cell_type": "markdown",
   "metadata": {},
   "source": [
    "##### __Gender Column__"
   ]
  },
  {
   "cell_type": "code",
   "execution_count": 12,
   "id": "01HXZVZKGGE3PCQAP7Z77KR1AT",
   "metadata": {},
   "outputs": [
    {
     "data": {
      "text/plain": [
       "gender\n",
       "Male     50.48\n",
       "Female   49.52\n",
       "Name: proportion, dtype: float64"
      ]
     },
     "execution_count": 12,
     "metadata": {},
     "output_type": "execute_result"
    }
   ],
   "source": [
    "gender = df[\"gender\"].value_counts(normalize=1)*100\n",
    "gender"
   ]
  },
  {
   "cell_type": "code",
   "execution_count": 13,
   "id": "01HXZWJ41Y2MHWX12XFTM62A2A",
   "metadata": {},
   "outputs": [
    {
     "data": {
      "application/vnd.plotly.v1+json": {
       "config": {
        "linkText": "Export to plot.ly",
        "plotlyServerURL": "https://plot.ly",
        "showLink": false
       },
       "data": [
        {
         "alignmentgroup": "True",
         "hovertemplate": "Gender: %{x}<br>Frequency PCT (%): %{y:.0f}",
         "legendgroup": "Male",
         "marker": {
          "color": "#ED1C24",
          "line": {
           "color": "#FEFEFE",
           "width": 2
          },
          "pattern": {
           "shape": ""
          }
         },
         "name": "Male",
         "offsetgroup": "Male",
         "orientation": "v",
         "showlegend": true,
         "text": [
          "50.5%"
         ],
         "textfont": {
          "color": "#222",
          "family": "consolas",
          "size": 18
         },
         "textposition": "auto",
         "type": "bar",
         "x": [
          "Male"
         ],
         "xaxis": "x",
         "y": [
          50.4756495811444
         ],
         "yaxis": "y"
        },
        {
         "alignmentgroup": "True",
         "hovertemplate": "Gender: %{x}<br>Frequency PCT (%): %{y:.0f}",
         "legendgroup": "Female",
         "marker": {
          "color": "#FAF7F1",
          "line": {
           "color": "#FEFEFE",
           "width": 2
          },
          "pattern": {
           "shape": ""
          }
         },
         "name": "Female",
         "offsetgroup": "Female",
         "orientation": "v",
         "showlegend": true,
         "text": [
          "49.5%"
         ],
         "textfont": {
          "color": "#222",
          "family": "consolas",
          "size": 18
         },
         "textposition": "auto",
         "type": "bar",
         "x": [
          "Female"
         ],
         "xaxis": "x",
         "y": [
          49.5243504188556
         ],
         "yaxis": "y"
        }
       ],
       "layout": {
        "barmode": "relative",
        "hoverlabel": {
         "bgcolor": "#222",
         "font": {
          "family": "poppins",
          "size": 16
         }
        },
        "legend": {
         "title": {
          "text": "<b>Gender"
         },
         "tracegroupgap": 0
        },
        "showlegend": false,
        "template": {
         "data": {
          "bar": [
           {
            "error_x": {
             "color": "#f2f5fa"
            },
            "error_y": {
             "color": "#f2f5fa"
            },
            "marker": {
             "line": {
              "color": "rgb(17,17,17)",
              "width": 0.5
             },
             "pattern": {
              "fillmode": "overlay",
              "size": 10,
              "solidity": 0.2
             }
            },
            "type": "bar"
           }
          ],
          "barpolar": [
           {
            "marker": {
             "line": {
              "color": "rgb(17,17,17)",
              "width": 0.5
             },
             "pattern": {
              "fillmode": "overlay",
              "size": 10,
              "solidity": 0.2
             }
            },
            "type": "barpolar"
           }
          ],
          "carpet": [
           {
            "aaxis": {
             "endlinecolor": "#A2B1C6",
             "gridcolor": "#506784",
             "linecolor": "#506784",
             "minorgridcolor": "#506784",
             "startlinecolor": "#A2B1C6"
            },
            "baxis": {
             "endlinecolor": "#A2B1C6",
             "gridcolor": "#506784",
             "linecolor": "#506784",
             "minorgridcolor": "#506784",
             "startlinecolor": "#A2B1C6"
            },
            "type": "carpet"
           }
          ],
          "choropleth": [
           {
            "colorbar": {
             "outlinewidth": 0,
             "ticks": ""
            },
            "type": "choropleth"
           }
          ],
          "contour": [
           {
            "colorbar": {
             "outlinewidth": 0,
             "ticks": ""
            },
            "colorscale": [
             [
              0,
              "#0d0887"
             ],
             [
              0.1111111111111111,
              "#46039f"
             ],
             [
              0.2222222222222222,
              "#7201a8"
             ],
             [
              0.3333333333333333,
              "#9c179e"
             ],
             [
              0.4444444444444444,
              "#bd3786"
             ],
             [
              0.5555555555555556,
              "#d8576b"
             ],
             [
              0.6666666666666666,
              "#ed7953"
             ],
             [
              0.7777777777777778,
              "#fb9f3a"
             ],
             [
              0.8888888888888888,
              "#fdca26"
             ],
             [
              1,
              "#f0f921"
             ]
            ],
            "type": "contour"
           }
          ],
          "contourcarpet": [
           {
            "colorbar": {
             "outlinewidth": 0,
             "ticks": ""
            },
            "type": "contourcarpet"
           }
          ],
          "heatmap": [
           {
            "colorbar": {
             "outlinewidth": 0,
             "ticks": ""
            },
            "colorscale": [
             [
              0,
              "#0d0887"
             ],
             [
              0.1111111111111111,
              "#46039f"
             ],
             [
              0.2222222222222222,
              "#7201a8"
             ],
             [
              0.3333333333333333,
              "#9c179e"
             ],
             [
              0.4444444444444444,
              "#bd3786"
             ],
             [
              0.5555555555555556,
              "#d8576b"
             ],
             [
              0.6666666666666666,
              "#ed7953"
             ],
             [
              0.7777777777777778,
              "#fb9f3a"
             ],
             [
              0.8888888888888888,
              "#fdca26"
             ],
             [
              1,
              "#f0f921"
             ]
            ],
            "type": "heatmap"
           }
          ],
          "heatmapgl": [
           {
            "colorbar": {
             "outlinewidth": 0,
             "ticks": ""
            },
            "colorscale": [
             [
              0,
              "#0d0887"
             ],
             [
              0.1111111111111111,
              "#46039f"
             ],
             [
              0.2222222222222222,
              "#7201a8"
             ],
             [
              0.3333333333333333,
              "#9c179e"
             ],
             [
              0.4444444444444444,
              "#bd3786"
             ],
             [
              0.5555555555555556,
              "#d8576b"
             ],
             [
              0.6666666666666666,
              "#ed7953"
             ],
             [
              0.7777777777777778,
              "#fb9f3a"
             ],
             [
              0.8888888888888888,
              "#fdca26"
             ],
             [
              1,
              "#f0f921"
             ]
            ],
            "type": "heatmapgl"
           }
          ],
          "histogram": [
           {
            "marker": {
             "pattern": {
              "fillmode": "overlay",
              "size": 10,
              "solidity": 0.2
             }
            },
            "type": "histogram"
           }
          ],
          "histogram2d": [
           {
            "colorbar": {
             "outlinewidth": 0,
             "ticks": ""
            },
            "colorscale": [
             [
              0,
              "#0d0887"
             ],
             [
              0.1111111111111111,
              "#46039f"
             ],
             [
              0.2222222222222222,
              "#7201a8"
             ],
             [
              0.3333333333333333,
              "#9c179e"
             ],
             [
              0.4444444444444444,
              "#bd3786"
             ],
             [
              0.5555555555555556,
              "#d8576b"
             ],
             [
              0.6666666666666666,
              "#ed7953"
             ],
             [
              0.7777777777777778,
              "#fb9f3a"
             ],
             [
              0.8888888888888888,
              "#fdca26"
             ],
             [
              1,
              "#f0f921"
             ]
            ],
            "type": "histogram2d"
           }
          ],
          "histogram2dcontour": [
           {
            "colorbar": {
             "outlinewidth": 0,
             "ticks": ""
            },
            "colorscale": [
             [
              0,
              "#0d0887"
             ],
             [
              0.1111111111111111,
              "#46039f"
             ],
             [
              0.2222222222222222,
              "#7201a8"
             ],
             [
              0.3333333333333333,
              "#9c179e"
             ],
             [
              0.4444444444444444,
              "#bd3786"
             ],
             [
              0.5555555555555556,
              "#d8576b"
             ],
             [
              0.6666666666666666,
              "#ed7953"
             ],
             [
              0.7777777777777778,
              "#fb9f3a"
             ],
             [
              0.8888888888888888,
              "#fdca26"
             ],
             [
              1,
              "#f0f921"
             ]
            ],
            "type": "histogram2dcontour"
           }
          ],
          "mesh3d": [
           {
            "colorbar": {
             "outlinewidth": 0,
             "ticks": ""
            },
            "type": "mesh3d"
           }
          ],
          "parcoords": [
           {
            "line": {
             "colorbar": {
              "outlinewidth": 0,
              "ticks": ""
             }
            },
            "type": "parcoords"
           }
          ],
          "pie": [
           {
            "automargin": true,
            "type": "pie"
           }
          ],
          "scatter": [
           {
            "marker": {
             "line": {
              "color": "#283442"
             }
            },
            "type": "scatter"
           }
          ],
          "scatter3d": [
           {
            "line": {
             "colorbar": {
              "outlinewidth": 0,
              "ticks": ""
             }
            },
            "marker": {
             "colorbar": {
              "outlinewidth": 0,
              "ticks": ""
             }
            },
            "type": "scatter3d"
           }
          ],
          "scattercarpet": [
           {
            "marker": {
             "colorbar": {
              "outlinewidth": 0,
              "ticks": ""
             }
            },
            "type": "scattercarpet"
           }
          ],
          "scattergeo": [
           {
            "marker": {
             "colorbar": {
              "outlinewidth": 0,
              "ticks": ""
             }
            },
            "type": "scattergeo"
           }
          ],
          "scattergl": [
           {
            "marker": {
             "line": {
              "color": "#283442"
             }
            },
            "type": "scattergl"
           }
          ],
          "scattermapbox": [
           {
            "marker": {
             "colorbar": {
              "outlinewidth": 0,
              "ticks": ""
             }
            },
            "type": "scattermapbox"
           }
          ],
          "scatterpolar": [
           {
            "marker": {
             "colorbar": {
              "outlinewidth": 0,
              "ticks": ""
             }
            },
            "type": "scatterpolar"
           }
          ],
          "scatterpolargl": [
           {
            "marker": {
             "colorbar": {
              "outlinewidth": 0,
              "ticks": ""
             }
            },
            "type": "scatterpolargl"
           }
          ],
          "scatterternary": [
           {
            "marker": {
             "colorbar": {
              "outlinewidth": 0,
              "ticks": ""
             }
            },
            "type": "scatterternary"
           }
          ],
          "surface": [
           {
            "colorbar": {
             "outlinewidth": 0,
             "ticks": ""
            },
            "colorscale": [
             [
              0,
              "#0d0887"
             ],
             [
              0.1111111111111111,
              "#46039f"
             ],
             [
              0.2222222222222222,
              "#7201a8"
             ],
             [
              0.3333333333333333,
              "#9c179e"
             ],
             [
              0.4444444444444444,
              "#bd3786"
             ],
             [
              0.5555555555555556,
              "#d8576b"
             ],
             [
              0.6666666666666666,
              "#ed7953"
             ],
             [
              0.7777777777777778,
              "#fb9f3a"
             ],
             [
              0.8888888888888888,
              "#fdca26"
             ],
             [
              1,
              "#f0f921"
             ]
            ],
            "type": "surface"
           }
          ],
          "table": [
           {
            "cells": {
             "fill": {
              "color": "#506784"
             },
             "line": {
              "color": "rgb(17,17,17)"
             }
            },
            "header": {
             "fill": {
              "color": "#2a3f5f"
             },
             "line": {
              "color": "rgb(17,17,17)"
             }
            },
            "type": "table"
           }
          ]
         },
         "layout": {
          "annotationdefaults": {
           "arrowcolor": "#f2f5fa",
           "arrowhead": 0,
           "arrowwidth": 1
          },
          "autotypenumbers": "strict",
          "coloraxis": {
           "colorbar": {
            "outlinewidth": 0,
            "ticks": ""
           }
          },
          "colorscale": {
           "diverging": [
            [
             0,
             "#8e0152"
            ],
            [
             0.1,
             "#c51b7d"
            ],
            [
             0.2,
             "#de77ae"
            ],
            [
             0.3,
             "#f1b6da"
            ],
            [
             0.4,
             "#fde0ef"
            ],
            [
             0.5,
             "#f7f7f7"
            ],
            [
             0.6,
             "#e6f5d0"
            ],
            [
             0.7,
             "#b8e186"
            ],
            [
             0.8,
             "#7fbc41"
            ],
            [
             0.9,
             "#4d9221"
            ],
            [
             1,
             "#276419"
            ]
           ],
           "sequential": [
            [
             0,
             "#0d0887"
            ],
            [
             0.1111111111111111,
             "#46039f"
            ],
            [
             0.2222222222222222,
             "#7201a8"
            ],
            [
             0.3333333333333333,
             "#9c179e"
            ],
            [
             0.4444444444444444,
             "#bd3786"
            ],
            [
             0.5555555555555556,
             "#d8576b"
            ],
            [
             0.6666666666666666,
             "#ed7953"
            ],
            [
             0.7777777777777778,
             "#fb9f3a"
            ],
            [
             0.8888888888888888,
             "#fdca26"
            ],
            [
             1,
             "#f0f921"
            ]
           ],
           "sequentialminus": [
            [
             0,
             "#0d0887"
            ],
            [
             0.1111111111111111,
             "#46039f"
            ],
            [
             0.2222222222222222,
             "#7201a8"
            ],
            [
             0.3333333333333333,
             "#9c179e"
            ],
            [
             0.4444444444444444,
             "#bd3786"
            ],
            [
             0.5555555555555556,
             "#d8576b"
            ],
            [
             0.6666666666666666,
             "#ed7953"
            ],
            [
             0.7777777777777778,
             "#fb9f3a"
            ],
            [
             0.8888888888888888,
             "#fdca26"
            ],
            [
             1,
             "#f0f921"
            ]
           ]
          },
          "colorway": [
           "#636efa",
           "#EF553B",
           "#00cc96",
           "#ab63fa",
           "#FFA15A",
           "#19d3f3",
           "#FF6692",
           "#B6E880",
           "#FF97FF",
           "#FECB52"
          ],
          "font": {
           "color": "#f2f5fa"
          },
          "geo": {
           "bgcolor": "rgb(17,17,17)",
           "lakecolor": "rgb(17,17,17)",
           "landcolor": "rgb(17,17,17)",
           "showlakes": true,
           "showland": true,
           "subunitcolor": "#506784"
          },
          "hoverlabel": {
           "align": "left"
          },
          "hovermode": "closest",
          "mapbox": {
           "style": "dark"
          },
          "paper_bgcolor": "rgb(17,17,17)",
          "plot_bgcolor": "rgb(17,17,17)",
          "polar": {
           "angularaxis": {
            "gridcolor": "#506784",
            "linecolor": "#506784",
            "ticks": ""
           },
           "bgcolor": "rgb(17,17,17)",
           "radialaxis": {
            "gridcolor": "#506784",
            "linecolor": "#506784",
            "ticks": ""
           }
          },
          "scene": {
           "xaxis": {
            "backgroundcolor": "rgb(17,17,17)",
            "gridcolor": "#506784",
            "gridwidth": 2,
            "linecolor": "#506784",
            "showbackground": true,
            "ticks": "",
            "zerolinecolor": "#C8D4E3"
           },
           "yaxis": {
            "backgroundcolor": "rgb(17,17,17)",
            "gridcolor": "#506784",
            "gridwidth": 2,
            "linecolor": "#506784",
            "showbackground": true,
            "ticks": "",
            "zerolinecolor": "#C8D4E3"
           },
           "zaxis": {
            "backgroundcolor": "rgb(17,17,17)",
            "gridcolor": "#506784",
            "gridwidth": 2,
            "linecolor": "#506784",
            "showbackground": true,
            "ticks": "",
            "zerolinecolor": "#C8D4E3"
           }
          },
          "shapedefaults": {
           "line": {
            "color": "#f2f5fa"
           }
          },
          "sliderdefaults": {
           "bgcolor": "#C8D4E3",
           "bordercolor": "rgb(17,17,17)",
           "borderwidth": 1,
           "tickwidth": 0
          },
          "ternary": {
           "aaxis": {
            "gridcolor": "#506784",
            "linecolor": "#506784",
            "ticks": ""
           },
           "baxis": {
            "gridcolor": "#506784",
            "linecolor": "#506784",
            "ticks": ""
           },
           "bgcolor": "rgb(17,17,17)",
           "caxis": {
            "gridcolor": "#506784",
            "linecolor": "#506784",
            "ticks": ""
           }
          },
          "title": {
           "x": 0.05
          },
          "updatemenudefaults": {
           "bgcolor": "#506784",
           "borderwidth": 0
          },
          "xaxis": {
           "automargin": true,
           "gridcolor": "#283442",
           "linecolor": "#506784",
           "ticks": "",
           "title": {
            "standoff": 15
           },
           "zerolinecolor": "#283442",
           "zerolinewidth": 2
          },
          "yaxis": {
           "automargin": true,
           "gridcolor": "#283442",
           "linecolor": "#506784",
           "ticks": "",
           "title": {
            "standoff": 15
           },
           "zerolinecolor": "#283442",
           "zerolinewidth": 2
          }
         }
        },
        "title": {
         "font": {
          "family": "<b>poppins",
          "size": 30
         },
         "text": "<b>Gender Distributions"
        },
        "xaxis": {
         "anchor": "y",
         "categoryarray": [
          "Male",
          "Female"
         ],
         "categoryorder": "array",
         "domain": [
          0,
          1
         ],
         "title": {
          "text": "<b>Gender"
         }
        },
        "yaxis": {
         "anchor": "x",
         "domain": [
          0,
          1
         ],
         "title": {
          "text": "<b>Frequency in PCT (%)"
         }
        }
       }
      }
     },
     "metadata": {},
     "output_type": "display_data"
    }
   ],
   "source": [
    "fig = count_viz_func(\n",
    "    df, 'gender', title= '<b>Gender Distributions', x_label='<b>Gender', y_label='<b>Frequency in PCT (%)', hover_template='Gender: %{x}<br>Frequency PCT (%): %{y:.0f}'\n",
    ")\n",
    "\n",
    "fig.update_traces(\n",
    "    marker = dict(line= dict(color= '#FEFEFE', width=2))\n",
    ")\n",
    "iplot(fig)"
   ]
  },
  {
   "cell_type": "code",
   "execution_count": 14,
   "id": "01HY04RP1RR8ZBSHF9G6ENAQ39",
   "metadata": {},
   "outputs": [
    {
     "data": {
      "text/plain": [
       "26.536987079369588"
      ]
     },
     "execution_count": 14,
     "metadata": {},
     "output_type": "execute_result"
    }
   ],
   "source": [
    "len(df[df['Churn'] == 'Yes']) / len(df) * 100"
   ]
  },
  {
   "cell_type": "markdown",
   "metadata": {},
   "source": [
    "##### __Senior Citizen Column__"
   ]
  },
  {
   "cell_type": "code",
   "execution_count": 15,
   "id": "01HY0523YF6YA1P72CG02EX34A",
   "metadata": {},
   "outputs": [
    {
     "data": {
      "text/plain": [
       "0                Electronic check\n",
       "2                    Mailed check\n",
       "4                Electronic check\n",
       "5                Electronic check\n",
       "6         Credit card (automatic)\n",
       "                  ...            \n",
       "7033      Credit card (automatic)\n",
       "7034      Credit card (automatic)\n",
       "7035    Bank transfer (automatic)\n",
       "7040             Electronic check\n",
       "7041                 Mailed check\n",
       "Name: PaymentMethod, Length: 3875, dtype: object"
      ]
     },
     "execution_count": 15,
     "metadata": {},
     "output_type": "execute_result"
    }
   ],
   "source": [
    "f = df['Contract'] == 'Month-to-month'\n",
    "df.loc[f, 'PaymentMethod']"
   ]
  },
  {
   "cell_type": "code",
   "execution_count": 16,
   "id": "01HY05ZF23BEPCD9JAG91FHHZ3",
   "metadata": {},
   "outputs": [
    {
     "data": {
      "text/plain": [
       "SeniorCitizen\n",
       "0    83.79%\n",
       "1    16.21%\n",
       "Name: proportion, dtype: object"
      ]
     },
     "execution_count": 16,
     "metadata": {},
     "output_type": "execute_result"
    }
   ],
   "source": [
    "senior_citizen = df['SeniorCitizen'].value_counts(normalize=1)*100\n",
    "senior_citizen.apply(lambda x: f'{x:.2f}%')"
   ]
  },
  {
   "cell_type": "code",
   "execution_count": 17,
   "id": "01HY06ASDAQP9RTWNZS5YW7NFS",
   "metadata": {},
   "outputs": [
    {
     "data": {
      "application/vnd.plotly.v1+json": {
       "config": {
        "linkText": "Export to plot.ly",
        "plotlyServerURL": "https://plot.ly",
        "showLink": false
       },
       "data": [
        {
         "alignmentgroup": "True",
         "hovertemplate": "Category: %{x}<br>Frequency in PCT (%): %{y:.0f}",
         "legendgroup": "Less Than 65",
         "marker": {
          "color": "#ED1C24",
          "line": {
           "color": "#C0C0C0",
           "width": 2
          },
          "pattern": {
           "shape": ""
          }
         },
         "name": "Less Than 65",
         "offsetgroup": "Less Than 65",
         "orientation": "v",
         "showlegend": true,
         "text": [
          "83.8%"
         ],
         "textfont": {
          "color": "#222",
          "family": "consolas",
          "size": 18
         },
         "textposition": "auto",
         "type": "bar",
         "x": [
          "Less Than 65"
         ],
         "xaxis": "x",
         "y": [
          83.78531875621185
         ],
         "yaxis": "y"
        },
        {
         "alignmentgroup": "True",
         "hovertemplate": "Category: %{x}<br>Frequency in PCT (%): %{y:.0f}",
         "legendgroup": "Greater Than 65",
         "marker": {
          "color": "#FAF7F1",
          "line": {
           "color": "#C0C0C0",
           "width": 2
          },
          "pattern": {
           "shape": ""
          }
         },
         "name": "Greater Than 65",
         "offsetgroup": "Greater Than 65",
         "orientation": "v",
         "showlegend": true,
         "text": [
          "16.2%"
         ],
         "textfont": {
          "color": "#222",
          "family": "consolas",
          "size": 18
         },
         "textposition": "auto",
         "type": "bar",
         "x": [
          "Greater Than 65"
         ],
         "xaxis": "x",
         "y": [
          16.21468124378816
         ],
         "yaxis": "y"
        }
       ],
       "layout": {
        "barmode": "relative",
        "hoverlabel": {
         "bgcolor": "#111",
         "font": {
          "family": "poppins",
          "size": 16
         }
        },
        "legend": {
         "title": {
          "text": "color"
         },
         "tracegroupgap": 0
        },
        "showlegend": false,
        "template": {
         "data": {
          "bar": [
           {
            "error_x": {
             "color": "#f2f5fa"
            },
            "error_y": {
             "color": "#f2f5fa"
            },
            "marker": {
             "line": {
              "color": "rgb(17,17,17)",
              "width": 0.5
             },
             "pattern": {
              "fillmode": "overlay",
              "size": 10,
              "solidity": 0.2
             }
            },
            "type": "bar"
           }
          ],
          "barpolar": [
           {
            "marker": {
             "line": {
              "color": "rgb(17,17,17)",
              "width": 0.5
             },
             "pattern": {
              "fillmode": "overlay",
              "size": 10,
              "solidity": 0.2
             }
            },
            "type": "barpolar"
           }
          ],
          "carpet": [
           {
            "aaxis": {
             "endlinecolor": "#A2B1C6",
             "gridcolor": "#506784",
             "linecolor": "#506784",
             "minorgridcolor": "#506784",
             "startlinecolor": "#A2B1C6"
            },
            "baxis": {
             "endlinecolor": "#A2B1C6",
             "gridcolor": "#506784",
             "linecolor": "#506784",
             "minorgridcolor": "#506784",
             "startlinecolor": "#A2B1C6"
            },
            "type": "carpet"
           }
          ],
          "choropleth": [
           {
            "colorbar": {
             "outlinewidth": 0,
             "ticks": ""
            },
            "type": "choropleth"
           }
          ],
          "contour": [
           {
            "colorbar": {
             "outlinewidth": 0,
             "ticks": ""
            },
            "colorscale": [
             [
              0,
              "#0d0887"
             ],
             [
              0.1111111111111111,
              "#46039f"
             ],
             [
              0.2222222222222222,
              "#7201a8"
             ],
             [
              0.3333333333333333,
              "#9c179e"
             ],
             [
              0.4444444444444444,
              "#bd3786"
             ],
             [
              0.5555555555555556,
              "#d8576b"
             ],
             [
              0.6666666666666666,
              "#ed7953"
             ],
             [
              0.7777777777777778,
              "#fb9f3a"
             ],
             [
              0.8888888888888888,
              "#fdca26"
             ],
             [
              1,
              "#f0f921"
             ]
            ],
            "type": "contour"
           }
          ],
          "contourcarpet": [
           {
            "colorbar": {
             "outlinewidth": 0,
             "ticks": ""
            },
            "type": "contourcarpet"
           }
          ],
          "heatmap": [
           {
            "colorbar": {
             "outlinewidth": 0,
             "ticks": ""
            },
            "colorscale": [
             [
              0,
              "#0d0887"
             ],
             [
              0.1111111111111111,
              "#46039f"
             ],
             [
              0.2222222222222222,
              "#7201a8"
             ],
             [
              0.3333333333333333,
              "#9c179e"
             ],
             [
              0.4444444444444444,
              "#bd3786"
             ],
             [
              0.5555555555555556,
              "#d8576b"
             ],
             [
              0.6666666666666666,
              "#ed7953"
             ],
             [
              0.7777777777777778,
              "#fb9f3a"
             ],
             [
              0.8888888888888888,
              "#fdca26"
             ],
             [
              1,
              "#f0f921"
             ]
            ],
            "type": "heatmap"
           }
          ],
          "heatmapgl": [
           {
            "colorbar": {
             "outlinewidth": 0,
             "ticks": ""
            },
            "colorscale": [
             [
              0,
              "#0d0887"
             ],
             [
              0.1111111111111111,
              "#46039f"
             ],
             [
              0.2222222222222222,
              "#7201a8"
             ],
             [
              0.3333333333333333,
              "#9c179e"
             ],
             [
              0.4444444444444444,
              "#bd3786"
             ],
             [
              0.5555555555555556,
              "#d8576b"
             ],
             [
              0.6666666666666666,
              "#ed7953"
             ],
             [
              0.7777777777777778,
              "#fb9f3a"
             ],
             [
              0.8888888888888888,
              "#fdca26"
             ],
             [
              1,
              "#f0f921"
             ]
            ],
            "type": "heatmapgl"
           }
          ],
          "histogram": [
           {
            "marker": {
             "pattern": {
              "fillmode": "overlay",
              "size": 10,
              "solidity": 0.2
             }
            },
            "type": "histogram"
           }
          ],
          "histogram2d": [
           {
            "colorbar": {
             "outlinewidth": 0,
             "ticks": ""
            },
            "colorscale": [
             [
              0,
              "#0d0887"
             ],
             [
              0.1111111111111111,
              "#46039f"
             ],
             [
              0.2222222222222222,
              "#7201a8"
             ],
             [
              0.3333333333333333,
              "#9c179e"
             ],
             [
              0.4444444444444444,
              "#bd3786"
             ],
             [
              0.5555555555555556,
              "#d8576b"
             ],
             [
              0.6666666666666666,
              "#ed7953"
             ],
             [
              0.7777777777777778,
              "#fb9f3a"
             ],
             [
              0.8888888888888888,
              "#fdca26"
             ],
             [
              1,
              "#f0f921"
             ]
            ],
            "type": "histogram2d"
           }
          ],
          "histogram2dcontour": [
           {
            "colorbar": {
             "outlinewidth": 0,
             "ticks": ""
            },
            "colorscale": [
             [
              0,
              "#0d0887"
             ],
             [
              0.1111111111111111,
              "#46039f"
             ],
             [
              0.2222222222222222,
              "#7201a8"
             ],
             [
              0.3333333333333333,
              "#9c179e"
             ],
             [
              0.4444444444444444,
              "#bd3786"
             ],
             [
              0.5555555555555556,
              "#d8576b"
             ],
             [
              0.6666666666666666,
              "#ed7953"
             ],
             [
              0.7777777777777778,
              "#fb9f3a"
             ],
             [
              0.8888888888888888,
              "#fdca26"
             ],
             [
              1,
              "#f0f921"
             ]
            ],
            "type": "histogram2dcontour"
           }
          ],
          "mesh3d": [
           {
            "colorbar": {
             "outlinewidth": 0,
             "ticks": ""
            },
            "type": "mesh3d"
           }
          ],
          "parcoords": [
           {
            "line": {
             "colorbar": {
              "outlinewidth": 0,
              "ticks": ""
             }
            },
            "type": "parcoords"
           }
          ],
          "pie": [
           {
            "automargin": true,
            "type": "pie"
           }
          ],
          "scatter": [
           {
            "marker": {
             "line": {
              "color": "#283442"
             }
            },
            "type": "scatter"
           }
          ],
          "scatter3d": [
           {
            "line": {
             "colorbar": {
              "outlinewidth": 0,
              "ticks": ""
             }
            },
            "marker": {
             "colorbar": {
              "outlinewidth": 0,
              "ticks": ""
             }
            },
            "type": "scatter3d"
           }
          ],
          "scattercarpet": [
           {
            "marker": {
             "colorbar": {
              "outlinewidth": 0,
              "ticks": ""
             }
            },
            "type": "scattercarpet"
           }
          ],
          "scattergeo": [
           {
            "marker": {
             "colorbar": {
              "outlinewidth": 0,
              "ticks": ""
             }
            },
            "type": "scattergeo"
           }
          ],
          "scattergl": [
           {
            "marker": {
             "line": {
              "color": "#283442"
             }
            },
            "type": "scattergl"
           }
          ],
          "scattermapbox": [
           {
            "marker": {
             "colorbar": {
              "outlinewidth": 0,
              "ticks": ""
             }
            },
            "type": "scattermapbox"
           }
          ],
          "scatterpolar": [
           {
            "marker": {
             "colorbar": {
              "outlinewidth": 0,
              "ticks": ""
             }
            },
            "type": "scatterpolar"
           }
          ],
          "scatterpolargl": [
           {
            "marker": {
             "colorbar": {
              "outlinewidth": 0,
              "ticks": ""
             }
            },
            "type": "scatterpolargl"
           }
          ],
          "scatterternary": [
           {
            "marker": {
             "colorbar": {
              "outlinewidth": 0,
              "ticks": ""
             }
            },
            "type": "scatterternary"
           }
          ],
          "surface": [
           {
            "colorbar": {
             "outlinewidth": 0,
             "ticks": ""
            },
            "colorscale": [
             [
              0,
              "#0d0887"
             ],
             [
              0.1111111111111111,
              "#46039f"
             ],
             [
              0.2222222222222222,
              "#7201a8"
             ],
             [
              0.3333333333333333,
              "#9c179e"
             ],
             [
              0.4444444444444444,
              "#bd3786"
             ],
             [
              0.5555555555555556,
              "#d8576b"
             ],
             [
              0.6666666666666666,
              "#ed7953"
             ],
             [
              0.7777777777777778,
              "#fb9f3a"
             ],
             [
              0.8888888888888888,
              "#fdca26"
             ],
             [
              1,
              "#f0f921"
             ]
            ],
            "type": "surface"
           }
          ],
          "table": [
           {
            "cells": {
             "fill": {
              "color": "#506784"
             },
             "line": {
              "color": "rgb(17,17,17)"
             }
            },
            "header": {
             "fill": {
              "color": "#2a3f5f"
             },
             "line": {
              "color": "rgb(17,17,17)"
             }
            },
            "type": "table"
           }
          ]
         },
         "layout": {
          "annotationdefaults": {
           "arrowcolor": "#f2f5fa",
           "arrowhead": 0,
           "arrowwidth": 1
          },
          "autotypenumbers": "strict",
          "coloraxis": {
           "colorbar": {
            "outlinewidth": 0,
            "ticks": ""
           }
          },
          "colorscale": {
           "diverging": [
            [
             0,
             "#8e0152"
            ],
            [
             0.1,
             "#c51b7d"
            ],
            [
             0.2,
             "#de77ae"
            ],
            [
             0.3,
             "#f1b6da"
            ],
            [
             0.4,
             "#fde0ef"
            ],
            [
             0.5,
             "#f7f7f7"
            ],
            [
             0.6,
             "#e6f5d0"
            ],
            [
             0.7,
             "#b8e186"
            ],
            [
             0.8,
             "#7fbc41"
            ],
            [
             0.9,
             "#4d9221"
            ],
            [
             1,
             "#276419"
            ]
           ],
           "sequential": [
            [
             0,
             "#0d0887"
            ],
            [
             0.1111111111111111,
             "#46039f"
            ],
            [
             0.2222222222222222,
             "#7201a8"
            ],
            [
             0.3333333333333333,
             "#9c179e"
            ],
            [
             0.4444444444444444,
             "#bd3786"
            ],
            [
             0.5555555555555556,
             "#d8576b"
            ],
            [
             0.6666666666666666,
             "#ed7953"
            ],
            [
             0.7777777777777778,
             "#fb9f3a"
            ],
            [
             0.8888888888888888,
             "#fdca26"
            ],
            [
             1,
             "#f0f921"
            ]
           ],
           "sequentialminus": [
            [
             0,
             "#0d0887"
            ],
            [
             0.1111111111111111,
             "#46039f"
            ],
            [
             0.2222222222222222,
             "#7201a8"
            ],
            [
             0.3333333333333333,
             "#9c179e"
            ],
            [
             0.4444444444444444,
             "#bd3786"
            ],
            [
             0.5555555555555556,
             "#d8576b"
            ],
            [
             0.6666666666666666,
             "#ed7953"
            ],
            [
             0.7777777777777778,
             "#fb9f3a"
            ],
            [
             0.8888888888888888,
             "#fdca26"
            ],
            [
             1,
             "#f0f921"
            ]
           ]
          },
          "colorway": [
           "#636efa",
           "#EF553B",
           "#00cc96",
           "#ab63fa",
           "#FFA15A",
           "#19d3f3",
           "#FF6692",
           "#B6E880",
           "#FF97FF",
           "#FECB52"
          ],
          "font": {
           "color": "#f2f5fa"
          },
          "geo": {
           "bgcolor": "rgb(17,17,17)",
           "lakecolor": "rgb(17,17,17)",
           "landcolor": "rgb(17,17,17)",
           "showlakes": true,
           "showland": true,
           "subunitcolor": "#506784"
          },
          "hoverlabel": {
           "align": "left"
          },
          "hovermode": "closest",
          "mapbox": {
           "style": "dark"
          },
          "paper_bgcolor": "rgb(17,17,17)",
          "plot_bgcolor": "rgb(17,17,17)",
          "polar": {
           "angularaxis": {
            "gridcolor": "#506784",
            "linecolor": "#506784",
            "ticks": ""
           },
           "bgcolor": "rgb(17,17,17)",
           "radialaxis": {
            "gridcolor": "#506784",
            "linecolor": "#506784",
            "ticks": ""
           }
          },
          "scene": {
           "xaxis": {
            "backgroundcolor": "rgb(17,17,17)",
            "gridcolor": "#506784",
            "gridwidth": 2,
            "linecolor": "#506784",
            "showbackground": true,
            "ticks": "",
            "zerolinecolor": "#C8D4E3"
           },
           "yaxis": {
            "backgroundcolor": "rgb(17,17,17)",
            "gridcolor": "#506784",
            "gridwidth": 2,
            "linecolor": "#506784",
            "showbackground": true,
            "ticks": "",
            "zerolinecolor": "#C8D4E3"
           },
           "zaxis": {
            "backgroundcolor": "rgb(17,17,17)",
            "gridcolor": "#506784",
            "gridwidth": 2,
            "linecolor": "#506784",
            "showbackground": true,
            "ticks": "",
            "zerolinecolor": "#C8D4E3"
           }
          },
          "shapedefaults": {
           "line": {
            "color": "#f2f5fa"
           }
          },
          "sliderdefaults": {
           "bgcolor": "#C8D4E3",
           "bordercolor": "rgb(17,17,17)",
           "borderwidth": 1,
           "tickwidth": 0
          },
          "ternary": {
           "aaxis": {
            "gridcolor": "#506784",
            "linecolor": "#506784",
            "ticks": ""
           },
           "baxis": {
            "gridcolor": "#506784",
            "linecolor": "#506784",
            "ticks": ""
           },
           "bgcolor": "rgb(17,17,17)",
           "caxis": {
            "gridcolor": "#506784",
            "linecolor": "#506784",
            "ticks": ""
           }
          },
          "title": {
           "x": 0.05
          },
          "updatemenudefaults": {
           "bgcolor": "#506784",
           "borderwidth": 0
          },
          "xaxis": {
           "automargin": true,
           "gridcolor": "#283442",
           "linecolor": "#506784",
           "ticks": "",
           "title": {
            "standoff": 15
           },
           "zerolinecolor": "#283442",
           "zerolinewidth": 2
          },
          "yaxis": {
           "automargin": true,
           "gridcolor": "#283442",
           "linecolor": "#506784",
           "ticks": "",
           "title": {
            "standoff": 15
           },
           "zerolinecolor": "#283442",
           "zerolinewidth": 2
          }
         }
        },
        "title": {
         "font": {
          "family": "<b>poppins",
          "size": 28
         },
         "text": "<b>Senior Citizen Distributions"
        },
        "xaxis": {
         "anchor": "y",
         "domain": [
          0,
          1
         ],
         "title": {
          "text": "<b>Is Senior Citizen"
         }
        },
        "yaxis": {
         "anchor": "x",
         "domain": [
          0,
          1
         ],
         "title": {
          "text": "<b>Frequency in PCT (%)"
         }
        }
       }
      }
     },
     "metadata": {},
     "output_type": "display_data"
    }
   ],
   "source": [
    "fig = px.bar(\n",
    "    data_frame= senior_citizen,\n",
    "    x= ['Greater Than 65' if i == 1 else 'Less Than 65' for i in senior_citizen.index],\n",
    "    y= senior_citizen,\n",
    "    color= ['Greater Than 65' if i == 1 else 'Less Than 65' for i in senior_citizen.index],\n",
    "    color_discrete_sequence=used_color,\n",
    "    title = '<b>Senior Citizen Distributions',\n",
    "    labels = {'x': '<b>Is Senior Citizen', 'y': '<b>Frequency in PCT (%)'},\n",
    "    template = 'plotly_dark',\n",
    "    text = senior_citizen.apply(lambda x: f'{x:.1f}%')\n",
    ")\n",
    "\n",
    "update_layout()\n",
    "\n",
    "fig.update_traces(\n",
    "    textfont = {\n",
    "        'size': 18,\n",
    "        'family' : 'consolas',\n",
    "        'color' : '#222'\n",
    "    },\n",
    "    \n",
    "    marker = dict(line = dict(color = '#C0C0C0', width=2)),\n",
    "    hovertemplate = 'Category: %{x}<br>Frequency in PCT (%): %{y:.0f}'\n",
    ")\n",
    "iplot(fig)"
   ]
  },
  {
   "cell_type": "markdown",
   "metadata": {},
   "source": [
    "##### __Dependents Column__"
   ]
  },
  {
   "cell_type": "code",
   "execution_count": 18,
   "id": "01HY06FB6CT2RK4079S3JBRB4V",
   "metadata": {},
   "outputs": [
    {
     "data": {
      "text/plain": [
       "Dependents\n",
       "No     70.04%\n",
       "Yes    29.96%\n",
       "Name: proportion, dtype: object"
      ]
     },
     "execution_count": 18,
     "metadata": {},
     "output_type": "execute_result"
    }
   ],
   "source": [
    "dependents = (df['Dependents'].value_counts(normalize=1)*100).apply(lambda x: f'{x:.2f}%')\n",
    "dependents"
   ]
  },
  {
   "cell_type": "code",
   "execution_count": 19,
   "id": "01HY08A4S8AHSJQWVR68XF1Z37",
   "metadata": {},
   "outputs": [
    {
     "data": {
      "application/vnd.plotly.v1+json": {
       "config": {
        "linkText": "Export to plot.ly",
        "plotlyServerURL": "https://plot.ly",
        "showLink": false
       },
       "data": [
        {
         "alignmentgroup": "True",
         "hovertemplate": "Dependents: %{x}<br>Frequency in PCT (%): %{y:.0f}",
         "legendgroup": "No",
         "marker": {
          "color": "#ED1C24",
          "line": {
           "color": "#C0C0C0",
           "width": 2
          },
          "pattern": {
           "shape": ""
          }
         },
         "name": "No",
         "offsetgroup": "No",
         "orientation": "v",
         "showlegend": true,
         "text": [
          "70.0%"
         ],
         "textfont": {
          "color": "#222",
          "family": "consolas",
          "size": 18
         },
         "textposition": "auto",
         "type": "bar",
         "x": [
          "No"
         ],
         "xaxis": "x",
         "y": [
          70.04117563538264
         ],
         "yaxis": "y"
        },
        {
         "alignmentgroup": "True",
         "hovertemplate": "Dependents: %{x}<br>Frequency in PCT (%): %{y:.0f}",
         "legendgroup": "Yes",
         "marker": {
          "color": "#FAF7F1",
          "line": {
           "color": "#C0C0C0",
           "width": 2
          },
          "pattern": {
           "shape": ""
          }
         },
         "name": "Yes",
         "offsetgroup": "Yes",
         "orientation": "v",
         "showlegend": true,
         "text": [
          "30.0%"
         ],
         "textfont": {
          "color": "#222",
          "family": "consolas",
          "size": 18
         },
         "textposition": "auto",
         "type": "bar",
         "x": [
          "Yes"
         ],
         "xaxis": "x",
         "y": [
          29.95882436461735
         ],
         "yaxis": "y"
        }
       ],
       "layout": {
        "barmode": "relative",
        "hoverlabel": {
         "bgcolor": "#222",
         "font": {
          "family": "poppins",
          "size": 16
         }
        },
        "legend": {
         "title": {
          "text": "<b>Dependents"
         },
         "tracegroupgap": 0
        },
        "showlegend": false,
        "template": {
         "data": {
          "bar": [
           {
            "error_x": {
             "color": "#f2f5fa"
            },
            "error_y": {
             "color": "#f2f5fa"
            },
            "marker": {
             "line": {
              "color": "rgb(17,17,17)",
              "width": 0.5
             },
             "pattern": {
              "fillmode": "overlay",
              "size": 10,
              "solidity": 0.2
             }
            },
            "type": "bar"
           }
          ],
          "barpolar": [
           {
            "marker": {
             "line": {
              "color": "rgb(17,17,17)",
              "width": 0.5
             },
             "pattern": {
              "fillmode": "overlay",
              "size": 10,
              "solidity": 0.2
             }
            },
            "type": "barpolar"
           }
          ],
          "carpet": [
           {
            "aaxis": {
             "endlinecolor": "#A2B1C6",
             "gridcolor": "#506784",
             "linecolor": "#506784",
             "minorgridcolor": "#506784",
             "startlinecolor": "#A2B1C6"
            },
            "baxis": {
             "endlinecolor": "#A2B1C6",
             "gridcolor": "#506784",
             "linecolor": "#506784",
             "minorgridcolor": "#506784",
             "startlinecolor": "#A2B1C6"
            },
            "type": "carpet"
           }
          ],
          "choropleth": [
           {
            "colorbar": {
             "outlinewidth": 0,
             "ticks": ""
            },
            "type": "choropleth"
           }
          ],
          "contour": [
           {
            "colorbar": {
             "outlinewidth": 0,
             "ticks": ""
            },
            "colorscale": [
             [
              0,
              "#0d0887"
             ],
             [
              0.1111111111111111,
              "#46039f"
             ],
             [
              0.2222222222222222,
              "#7201a8"
             ],
             [
              0.3333333333333333,
              "#9c179e"
             ],
             [
              0.4444444444444444,
              "#bd3786"
             ],
             [
              0.5555555555555556,
              "#d8576b"
             ],
             [
              0.6666666666666666,
              "#ed7953"
             ],
             [
              0.7777777777777778,
              "#fb9f3a"
             ],
             [
              0.8888888888888888,
              "#fdca26"
             ],
             [
              1,
              "#f0f921"
             ]
            ],
            "type": "contour"
           }
          ],
          "contourcarpet": [
           {
            "colorbar": {
             "outlinewidth": 0,
             "ticks": ""
            },
            "type": "contourcarpet"
           }
          ],
          "heatmap": [
           {
            "colorbar": {
             "outlinewidth": 0,
             "ticks": ""
            },
            "colorscale": [
             [
              0,
              "#0d0887"
             ],
             [
              0.1111111111111111,
              "#46039f"
             ],
             [
              0.2222222222222222,
              "#7201a8"
             ],
             [
              0.3333333333333333,
              "#9c179e"
             ],
             [
              0.4444444444444444,
              "#bd3786"
             ],
             [
              0.5555555555555556,
              "#d8576b"
             ],
             [
              0.6666666666666666,
              "#ed7953"
             ],
             [
              0.7777777777777778,
              "#fb9f3a"
             ],
             [
              0.8888888888888888,
              "#fdca26"
             ],
             [
              1,
              "#f0f921"
             ]
            ],
            "type": "heatmap"
           }
          ],
          "heatmapgl": [
           {
            "colorbar": {
             "outlinewidth": 0,
             "ticks": ""
            },
            "colorscale": [
             [
              0,
              "#0d0887"
             ],
             [
              0.1111111111111111,
              "#46039f"
             ],
             [
              0.2222222222222222,
              "#7201a8"
             ],
             [
              0.3333333333333333,
              "#9c179e"
             ],
             [
              0.4444444444444444,
              "#bd3786"
             ],
             [
              0.5555555555555556,
              "#d8576b"
             ],
             [
              0.6666666666666666,
              "#ed7953"
             ],
             [
              0.7777777777777778,
              "#fb9f3a"
             ],
             [
              0.8888888888888888,
              "#fdca26"
             ],
             [
              1,
              "#f0f921"
             ]
            ],
            "type": "heatmapgl"
           }
          ],
          "histogram": [
           {
            "marker": {
             "pattern": {
              "fillmode": "overlay",
              "size": 10,
              "solidity": 0.2
             }
            },
            "type": "histogram"
           }
          ],
          "histogram2d": [
           {
            "colorbar": {
             "outlinewidth": 0,
             "ticks": ""
            },
            "colorscale": [
             [
              0,
              "#0d0887"
             ],
             [
              0.1111111111111111,
              "#46039f"
             ],
             [
              0.2222222222222222,
              "#7201a8"
             ],
             [
              0.3333333333333333,
              "#9c179e"
             ],
             [
              0.4444444444444444,
              "#bd3786"
             ],
             [
              0.5555555555555556,
              "#d8576b"
             ],
             [
              0.6666666666666666,
              "#ed7953"
             ],
             [
              0.7777777777777778,
              "#fb9f3a"
             ],
             [
              0.8888888888888888,
              "#fdca26"
             ],
             [
              1,
              "#f0f921"
             ]
            ],
            "type": "histogram2d"
           }
          ],
          "histogram2dcontour": [
           {
            "colorbar": {
             "outlinewidth": 0,
             "ticks": ""
            },
            "colorscale": [
             [
              0,
              "#0d0887"
             ],
             [
              0.1111111111111111,
              "#46039f"
             ],
             [
              0.2222222222222222,
              "#7201a8"
             ],
             [
              0.3333333333333333,
              "#9c179e"
             ],
             [
              0.4444444444444444,
              "#bd3786"
             ],
             [
              0.5555555555555556,
              "#d8576b"
             ],
             [
              0.6666666666666666,
              "#ed7953"
             ],
             [
              0.7777777777777778,
              "#fb9f3a"
             ],
             [
              0.8888888888888888,
              "#fdca26"
             ],
             [
              1,
              "#f0f921"
             ]
            ],
            "type": "histogram2dcontour"
           }
          ],
          "mesh3d": [
           {
            "colorbar": {
             "outlinewidth": 0,
             "ticks": ""
            },
            "type": "mesh3d"
           }
          ],
          "parcoords": [
           {
            "line": {
             "colorbar": {
              "outlinewidth": 0,
              "ticks": ""
             }
            },
            "type": "parcoords"
           }
          ],
          "pie": [
           {
            "automargin": true,
            "type": "pie"
           }
          ],
          "scatter": [
           {
            "marker": {
             "line": {
              "color": "#283442"
             }
            },
            "type": "scatter"
           }
          ],
          "scatter3d": [
           {
            "line": {
             "colorbar": {
              "outlinewidth": 0,
              "ticks": ""
             }
            },
            "marker": {
             "colorbar": {
              "outlinewidth": 0,
              "ticks": ""
             }
            },
            "type": "scatter3d"
           }
          ],
          "scattercarpet": [
           {
            "marker": {
             "colorbar": {
              "outlinewidth": 0,
              "ticks": ""
             }
            },
            "type": "scattercarpet"
           }
          ],
          "scattergeo": [
           {
            "marker": {
             "colorbar": {
              "outlinewidth": 0,
              "ticks": ""
             }
            },
            "type": "scattergeo"
           }
          ],
          "scattergl": [
           {
            "marker": {
             "line": {
              "color": "#283442"
             }
            },
            "type": "scattergl"
           }
          ],
          "scattermapbox": [
           {
            "marker": {
             "colorbar": {
              "outlinewidth": 0,
              "ticks": ""
             }
            },
            "type": "scattermapbox"
           }
          ],
          "scatterpolar": [
           {
            "marker": {
             "colorbar": {
              "outlinewidth": 0,
              "ticks": ""
             }
            },
            "type": "scatterpolar"
           }
          ],
          "scatterpolargl": [
           {
            "marker": {
             "colorbar": {
              "outlinewidth": 0,
              "ticks": ""
             }
            },
            "type": "scatterpolargl"
           }
          ],
          "scatterternary": [
           {
            "marker": {
             "colorbar": {
              "outlinewidth": 0,
              "ticks": ""
             }
            },
            "type": "scatterternary"
           }
          ],
          "surface": [
           {
            "colorbar": {
             "outlinewidth": 0,
             "ticks": ""
            },
            "colorscale": [
             [
              0,
              "#0d0887"
             ],
             [
              0.1111111111111111,
              "#46039f"
             ],
             [
              0.2222222222222222,
              "#7201a8"
             ],
             [
              0.3333333333333333,
              "#9c179e"
             ],
             [
              0.4444444444444444,
              "#bd3786"
             ],
             [
              0.5555555555555556,
              "#d8576b"
             ],
             [
              0.6666666666666666,
              "#ed7953"
             ],
             [
              0.7777777777777778,
              "#fb9f3a"
             ],
             [
              0.8888888888888888,
              "#fdca26"
             ],
             [
              1,
              "#f0f921"
             ]
            ],
            "type": "surface"
           }
          ],
          "table": [
           {
            "cells": {
             "fill": {
              "color": "#506784"
             },
             "line": {
              "color": "rgb(17,17,17)"
             }
            },
            "header": {
             "fill": {
              "color": "#2a3f5f"
             },
             "line": {
              "color": "rgb(17,17,17)"
             }
            },
            "type": "table"
           }
          ]
         },
         "layout": {
          "annotationdefaults": {
           "arrowcolor": "#f2f5fa",
           "arrowhead": 0,
           "arrowwidth": 1
          },
          "autotypenumbers": "strict",
          "coloraxis": {
           "colorbar": {
            "outlinewidth": 0,
            "ticks": ""
           }
          },
          "colorscale": {
           "diverging": [
            [
             0,
             "#8e0152"
            ],
            [
             0.1,
             "#c51b7d"
            ],
            [
             0.2,
             "#de77ae"
            ],
            [
             0.3,
             "#f1b6da"
            ],
            [
             0.4,
             "#fde0ef"
            ],
            [
             0.5,
             "#f7f7f7"
            ],
            [
             0.6,
             "#e6f5d0"
            ],
            [
             0.7,
             "#b8e186"
            ],
            [
             0.8,
             "#7fbc41"
            ],
            [
             0.9,
             "#4d9221"
            ],
            [
             1,
             "#276419"
            ]
           ],
           "sequential": [
            [
             0,
             "#0d0887"
            ],
            [
             0.1111111111111111,
             "#46039f"
            ],
            [
             0.2222222222222222,
             "#7201a8"
            ],
            [
             0.3333333333333333,
             "#9c179e"
            ],
            [
             0.4444444444444444,
             "#bd3786"
            ],
            [
             0.5555555555555556,
             "#d8576b"
            ],
            [
             0.6666666666666666,
             "#ed7953"
            ],
            [
             0.7777777777777778,
             "#fb9f3a"
            ],
            [
             0.8888888888888888,
             "#fdca26"
            ],
            [
             1,
             "#f0f921"
            ]
           ],
           "sequentialminus": [
            [
             0,
             "#0d0887"
            ],
            [
             0.1111111111111111,
             "#46039f"
            ],
            [
             0.2222222222222222,
             "#7201a8"
            ],
            [
             0.3333333333333333,
             "#9c179e"
            ],
            [
             0.4444444444444444,
             "#bd3786"
            ],
            [
             0.5555555555555556,
             "#d8576b"
            ],
            [
             0.6666666666666666,
             "#ed7953"
            ],
            [
             0.7777777777777778,
             "#fb9f3a"
            ],
            [
             0.8888888888888888,
             "#fdca26"
            ],
            [
             1,
             "#f0f921"
            ]
           ]
          },
          "colorway": [
           "#636efa",
           "#EF553B",
           "#00cc96",
           "#ab63fa",
           "#FFA15A",
           "#19d3f3",
           "#FF6692",
           "#B6E880",
           "#FF97FF",
           "#FECB52"
          ],
          "font": {
           "color": "#f2f5fa"
          },
          "geo": {
           "bgcolor": "rgb(17,17,17)",
           "lakecolor": "rgb(17,17,17)",
           "landcolor": "rgb(17,17,17)",
           "showlakes": true,
           "showland": true,
           "subunitcolor": "#506784"
          },
          "hoverlabel": {
           "align": "left"
          },
          "hovermode": "closest",
          "mapbox": {
           "style": "dark"
          },
          "paper_bgcolor": "rgb(17,17,17)",
          "plot_bgcolor": "rgb(17,17,17)",
          "polar": {
           "angularaxis": {
            "gridcolor": "#506784",
            "linecolor": "#506784",
            "ticks": ""
           },
           "bgcolor": "rgb(17,17,17)",
           "radialaxis": {
            "gridcolor": "#506784",
            "linecolor": "#506784",
            "ticks": ""
           }
          },
          "scene": {
           "xaxis": {
            "backgroundcolor": "rgb(17,17,17)",
            "gridcolor": "#506784",
            "gridwidth": 2,
            "linecolor": "#506784",
            "showbackground": true,
            "ticks": "",
            "zerolinecolor": "#C8D4E3"
           },
           "yaxis": {
            "backgroundcolor": "rgb(17,17,17)",
            "gridcolor": "#506784",
            "gridwidth": 2,
            "linecolor": "#506784",
            "showbackground": true,
            "ticks": "",
            "zerolinecolor": "#C8D4E3"
           },
           "zaxis": {
            "backgroundcolor": "rgb(17,17,17)",
            "gridcolor": "#506784",
            "gridwidth": 2,
            "linecolor": "#506784",
            "showbackground": true,
            "ticks": "",
            "zerolinecolor": "#C8D4E3"
           }
          },
          "shapedefaults": {
           "line": {
            "color": "#f2f5fa"
           }
          },
          "sliderdefaults": {
           "bgcolor": "#C8D4E3",
           "bordercolor": "rgb(17,17,17)",
           "borderwidth": 1,
           "tickwidth": 0
          },
          "ternary": {
           "aaxis": {
            "gridcolor": "#506784",
            "linecolor": "#506784",
            "ticks": ""
           },
           "baxis": {
            "gridcolor": "#506784",
            "linecolor": "#506784",
            "ticks": ""
           },
           "bgcolor": "rgb(17,17,17)",
           "caxis": {
            "gridcolor": "#506784",
            "linecolor": "#506784",
            "ticks": ""
           }
          },
          "title": {
           "x": 0.05
          },
          "updatemenudefaults": {
           "bgcolor": "#506784",
           "borderwidth": 0
          },
          "xaxis": {
           "automargin": true,
           "gridcolor": "#283442",
           "linecolor": "#506784",
           "ticks": "",
           "title": {
            "standoff": 15
           },
           "zerolinecolor": "#283442",
           "zerolinewidth": 2
          },
          "yaxis": {
           "automargin": true,
           "gridcolor": "#283442",
           "linecolor": "#506784",
           "ticks": "",
           "title": {
            "standoff": 15
           },
           "zerolinecolor": "#283442",
           "zerolinewidth": 2
          }
         }
        },
        "title": {
         "font": {
          "family": "<b>poppins",
          "size": 30
         },
         "text": "<b>Dependents Distributions"
        },
        "xaxis": {
         "anchor": "y",
         "categoryarray": [
          "No",
          "Yes"
         ],
         "categoryorder": "array",
         "domain": [
          0,
          1
         ],
         "title": {
          "text": "<b>Dependents"
         }
        },
        "yaxis": {
         "anchor": "x",
         "domain": [
          0,
          1
         ],
         "title": {
          "text": "<b>Frequency in PCT (%)"
         }
        }
       }
      }
     },
     "metadata": {},
     "output_type": "display_data"
    }
   ],
   "source": [
    "fig = count_viz_func(\n",
    "    df, 'Dependents',\n",
    "    title='<b>Dependents Distributions',\n",
    "    x_label = '<b>Dependents',\n",
    "    y_label = '<b>Frequency in PCT (%)',\n",
    "    hover_template = 'Dependents: %{x}<br>Frequency in PCT (%): %{y:.0f}'\n",
    ")\n",
    "\n",
    "fig.update_traces(\n",
    "    marker = dict(line=dict(color='#C0C0C0', width=2))\n",
    ")\n",
    "iplot(fig)"
   ]
  },
  {
   "cell_type": "markdown",
   "metadata": {},
   "source": [
    "##### __Tenure Column__"
   ]
  },
  {
   "cell_type": "code",
   "execution_count": 20,
   "id": "01HY080CVPNZX3MG3124YXVB3M",
   "metadata": {},
   "outputs": [
    {
     "data": {
      "application/vnd.plotly.v1+json": {
       "config": {
        "linkText": "Export to plot.ly",
        "plotlyServerURL": "https://plot.ly",
        "showLink": false
       },
       "data": [
        {
         "alignmentgroup": "True",
         "hovertemplate": "Tenure in Months=%{x}<extra></extra>",
         "legendgroup": "",
         "line": {
          "width": 3
         },
         "marker": {
          "color": "red"
         },
         "name": "",
         "notched": true,
         "offsetgroup": "",
         "orientation": "h",
         "showlegend": false,
         "type": "box",
         "x": [
          1,
          34,
          2,
          45,
          2,
          8,
          22,
          10,
          28,
          62,
          13,
          16,
          58,
          49,
          25,
          69,
          52,
          71,
          10,
          21,
          1,
          12,
          1,
          58,
          49,
          30,
          47,
          1,
          72,
          17,
          71,
          2,
          27,
          1,
          1,
          72,
          5,
          46,
          34,
          11,
          10,
          70,
          17,
          63,
          13,
          49,
          2,
          2,
          52,
          69,
          43,
          15,
          25,
          8,
          60,
          18,
          63,
          66,
          34,
          72,
          47,
          60,
          72,
          18,
          9,
          3,
          47,
          31,
          50,
          10,
          1,
          52,
          64,
          62,
          3,
          56,
          46,
          8,
          30,
          45,
          1,
          11,
          7,
          42,
          49,
          9,
          35,
          48,
          46,
          29,
          30,
          1,
          66,
          65,
          72,
          12,
          71,
          5,
          52,
          25,
          1,
          1,
          38,
          66,
          68,
          5,
          72,
          32,
          43,
          72,
          55,
          52,
          43,
          37,
          64,
          3,
          36,
          10,
          41,
          27,
          56,
          6,
          3,
          7,
          4,
          33,
          27,
          72,
          1,
          71,
          13,
          25,
          67,
          1,
          2,
          43,
          23,
          64,
          57,
          1,
          72,
          8,
          61,
          64,
          71,
          65,
          3,
          1,
          30,
          15,
          8,
          7,
          70,
          62,
          6,
          14,
          22,
          22,
          16,
          10,
          13,
          20,
          2,
          53,
          11,
          69,
          4,
          72,
          58,
          16,
          43,
          2,
          14,
          53,
          32,
          34,
          15,
          7,
          15,
          61,
          1,
          1,
          8,
          33,
          13,
          1,
          20,
          3,
          13,
          40,
          43,
          6,
          69,
          72,
          59,
          20,
          24,
          59,
          72,
          1,
          27,
          14,
          71,
          13,
          44,
          33,
          72,
          1,
          19,
          64,
          2,
          1,
          61,
          29,
          23,
          57,
          72,
          66,
          65,
          8,
          4,
          71,
          1,
          4,
          12,
          24,
          31,
          1,
          30,
          47,
          54,
          50,
          1,
          72,
          29,
          2,
          10,
          18,
          11,
          16,
          72,
          72,
          41,
          65,
          13,
          4,
          41,
          15,
          1,
          42,
          51,
          2,
          1,
          32,
          10,
          67,
          61,
          50,
          2,
          29,
          3,
          13,
          57,
          31,
          45,
          61,
          50,
          19,
          59,
          71,
          16,
          57,
          1,
          20,
          1,
          5,
          52,
          21,
          14,
          5,
          6,
          10,
          1,
          68,
          18,
          22,
          20,
          1,
          8,
          10,
          24,
          35,
          23,
          6,
          12,
          1,
          71,
          35,
          40,
          1,
          23,
          4,
          4,
          68,
          38,
          52,
          32,
          29,
          38,
          48,
          1,
          22,
          43,
          5,
          5,
          51,
          71,
          38,
          24,
          35,
          54,
          72,
          1,
          9,
          69,
          52,
          11,
          2,
          28,
          17,
          35,
          8,
          46,
          7,
          2,
          68,
          43,
          68,
          36,
          63,
          32,
          71,
          66,
          63,
          41,
          1,
          2,
          70,
          23,
          64,
          37,
          17,
          7,
          4,
          21,
          10,
          16,
          64,
          27,
          42,
          5,
          41,
          58,
          47,
          18,
          5,
          23,
          1,
          71,
          72,
          33,
          2,
          24,
          56,
          37,
          43,
          1,
          25,
          61,
          17,
          41,
          1,
          72,
          1,
          48,
          11,
          55,
          42,
          44,
          1,
          27,
          27,
          2,
          19,
          42,
          66,
          33,
          34,
          33,
          23,
          32,
          11,
          69,
          68,
          20,
          72,
          60,
          32,
          1,
          1,
          3,
          46,
          29,
          51,
          48,
          16,
          70,
          40,
          22,
          1,
          5,
          7,
          29,
          44,
          10,
          55,
          52,
          10,
          18,
          68,
          61,
          72,
          2,
          12,
          41,
          26,
          36,
          72,
          35,
          1,
          16,
          49,
          54,
          18,
          36,
          60,
          1,
          52,
          8,
          72,
          64,
          22,
          60,
          28,
          61,
          24,
          28,
          30,
          2,
          1,
          6,
          24,
          4,
          7,
          72,
          70,
          64,
          72,
          44,
          13,
          17,
          1,
          9,
          24,
          1,
          24,
          35,
          7,
          5,
          15,
          11,
          48,
          20,
          72,
          8,
          72,
          15,
          72,
          0,
          1,
          63,
          2,
          2,
          61,
          1,
          22,
          28,
          70,
          5,
          12,
          34,
          71,
          70,
          52,
          69,
          20,
          11,
          2,
          6,
          1,
          20,
          61,
          5,
          56,
          30,
          40,
          28,
          5,
          27,
          12,
          67,
          29,
          55,
          23,
          34,
          52,
          72,
          58,
          35,
          56,
          24,
          70,
          2,
          68,
          1,
          12,
          63,
          33,
          69,
          60,
          72,
          11,
          1,
          10,
          13,
          34,
          39,
          65,
          50,
          15,
          72,
          72,
          55,
          23,
          32,
          56,
          1,
          38,
          11,
          1,
          56,
          3,
          7,
          59,
          7,
          71,
          15,
          71,
          35,
          11,
          60,
          47,
          11,
          56,
          28,
          61,
          31,
          9,
          35,
          2,
          12,
          1,
          4,
          1,
          3,
          1,
          52,
          5,
          72,
          71,
          72,
          46,
          63,
          30,
          1,
          12,
          16,
          4,
          51,
          65,
          16,
          2,
          66,
          46,
          32,
          72,
          38,
          51,
          72,
          65,
          9,
          9,
          66,
          44,
          50,
          15,
          8,
          66,
          57,
          7,
          10,
          62,
          40,
          20,
          7,
          25,
          23,
          66,
          72,
          49,
          43,
          46,
          72,
          10,
          40,
          65,
          31,
          68,
          56,
          10,
          68,
          43,
          1,
          49,
          15,
          20,
          1,
          50,
          2,
          24,
          3,
          1,
          35,
          17,
          8,
          10,
          68,
          45,
          2,
          37,
          4,
          10,
          1,
          65,
          57,
          3,
          2,
          49,
          4,
          70,
          53,
          53,
          1,
          22,
          52,
          65,
          48,
          2,
          3,
          45,
          1,
          61,
          3,
          40,
          1,
          1,
          51,
          2,
          52,
          51,
          1,
          31,
          47,
          3,
          22,
          1,
          72,
          3,
          47,
          72,
          66,
          35,
          29,
          2,
          4,
          25,
          65,
          27,
          29,
          29,
          1,
          20,
          58,
          14,
          72,
          46,
          71,
          32,
          26,
          68,
          2,
          61,
          4,
          3,
          33,
          9,
          22,
          5,
          30,
          65,
          45,
          5,
          25,
          72,
          27,
          32,
          30,
          70,
          42,
          72,
          47,
          2,
          10,
          61,
          5,
          72,
          72,
          3,
          48,
          63,
          27,
          70,
          7,
          0,
          2,
          20,
          66,
          3,
          15,
          72,
          1,
          22,
          3,
          72,
          65,
          11,
          22,
          14,
          41,
          17,
          11,
          15,
          1,
          5,
          33,
          72,
          3,
          2,
          59,
          2,
          71,
          5,
          27,
          1,
          63,
          46,
          72,
          34,
          24,
          72,
          60,
          68,
          8,
          34,
          6,
          2,
          31,
          20,
          1,
          62,
          70,
          10,
          39,
          46,
          6,
          72,
          18,
          71,
          40,
          1,
          58,
          70,
          42,
          34,
          5,
          25,
          2,
          55,
          21,
          70,
          61,
          43,
          47,
          5,
          62,
          16,
          7,
          14,
          60,
          34,
          50,
          38,
          70,
          37,
          4,
          60,
          62,
          1,
          36,
          44,
          55,
          72,
          12,
          13,
          1,
          15,
          65,
          12,
          72,
          72,
          72,
          52,
          2,
          5,
          68,
          62,
          72,
          1,
          66,
          72,
          26,
          64,
          20,
          3,
          22,
          4,
          62,
          5,
          59,
          3,
          72,
          57,
          66,
          60,
          45,
          3,
          15,
          51,
          60,
          33,
          10,
          26,
          6,
          67,
          49,
          1,
          7,
          27,
          37,
          63,
          31,
          50,
          32,
          1,
          63,
          30,
          71,
          53,
          12,
          50,
          2,
          9,
          17,
          56,
          67,
          9,
          4,
          19,
          8,
          71,
          10,
          15,
          72,
          12,
          72,
          1,
          23,
          72,
          26,
          21,
          60,
          12,
          16,
          63,
          22,
          32,
          3,
          13,
          68,
          30,
          16,
          33,
          72,
          4,
          12,
          4,
          0,
          6,
          65,
          15,
          24,
          13,
          24,
          72,
          54,
          3,
          4,
          32,
          35,
          35,
          2,
          8,
          22,
          15,
          22,
          1,
          71,
          4,
          25,
          32,
          7,
          17,
          8,
          56,
          1,
          8,
          7,
          3,
          71,
          2,
          1,
          49,
          58,
          44,
          59,
          71,
          1,
          11,
          62,
          35,
          20,
          40,
          39,
          1,
          72,
          33,
          12,
          1,
          27,
          34,
          56,
          58,
          22,
          10,
          13,
          35,
          34,
          4,
          72,
          2,
          7,
          27,
          4,
          37,
          21,
          53,
          18,
          2,
          32,
          23,
          3,
          71,
          9,
          1,
          18,
          12,
          71,
          64,
          4,
          23,
          39,
          28,
          5,
          45,
          37,
          60,
          8,
          47,
          26,
          3,
          50,
          27,
          8,
          62,
          71,
          66,
          68,
          13,
          56,
          38,
          14,
          16,
          14,
          32,
          8,
          43,
          52,
          3,
          29,
          1,
          12,
          16,
          40,
          5,
          40,
          36,
          5,
          10,
          2,
          23,
          26,
          72,
          34,
          10,
          14,
          23,
          47,
          24,
          49,
          20,
          2,
          2,
          22,
          7,
          1,
          59,
          58,
          41,
          59,
          3,
          32,
          46,
          0,
          2,
          52,
          13,
          11,
          32,
          17,
          16,
          51,
          29,
          70,
          71,
          41,
          1,
          7,
          25,
          67,
          5,
          15,
          20,
          3,
          54,
          42,
          9,
          63,
          69,
          69,
          40,
          60,
          4,
          71,
          37,
          32,
          39,
          38,
          52,
          48,
          70,
          20,
          50,
          19,
          25,
          12,
          39,
          7,
          23,
          27,
          47,
          26,
          14,
          11,
          2,
          26,
          72,
          63,
          71,
          11,
          14,
          13,
          6,
          11,
          18,
          1,
          32,
          29,
          3,
          2,
          13,
          41,
          1,
          7,
          52,
          45,
          70,
          53,
          62,
          60,
          3,
          23,
          1,
          67,
          12,
          71,
          25,
          5,
          26,
          1,
          70,
          72,
          60,
          32,
          1,
          14,
          13,
          6,
          46,
          15,
          43,
          39,
          21,
          57,
          53,
          18,
          1,
          58,
          71,
          35,
          3,
          38,
          35,
          7,
          47,
          14,
          20,
          66,
          15,
          42,
          17,
          37,
          12,
          53,
          60,
          18,
          1,
          3,
          9,
          1,
          56,
          17,
          11,
          7,
          69,
          19,
          3,
          54,
          62,
          24,
          62,
          17,
          9,
          64,
          2,
          1,
          16,
          72,
          30,
          49,
          61,
          47,
          20,
          34,
          70,
          54,
          61,
          3,
          13,
          16,
          3,
          25,
          30,
          21,
          1,
          15,
          23,
          45,
          24,
          11,
          1,
          56,
          1,
          1,
          7,
          55,
          2,
          72,
          45,
          47,
          46,
          2,
          2,
          12,
          68,
          69,
          56,
          4,
          64,
          59,
          62,
          63,
          53,
          5,
          49,
          62,
          55,
          71,
          72,
          36,
          25,
          72,
          36,
          1,
          72,
          59,
          7,
          1,
          30,
          64,
          63,
          72,
          8,
          62,
          67,
          6,
          70,
          20,
          5,
          24,
          11,
          72,
          66,
          45,
          69,
          15,
          28,
          70,
          36,
          16,
          18,
          34,
          42,
          48,
          47,
          39,
          11,
          7,
          3,
          8,
          1,
          32,
          60,
          10,
          71,
          4,
          1,
          43,
          59,
          23,
          72,
          22,
          1,
          69,
          50,
          1,
          2,
          15,
          31,
          1,
          66,
          0,
          3,
          8,
          64,
          28,
          57,
          14,
          19,
          10,
          51,
          67,
          11,
          72,
          66,
          18,
          9,
          9,
          48,
          10,
          9,
          13,
          4,
          4,
          72,
          51,
          59,
          10,
          61,
          54,
          33,
          27,
          1,
          23,
          1,
          45,
          39,
          5,
          72,
          58,
          70,
          61,
          2,
          46,
          1,
          22,
          48,
          64,
          72,
          12,
          34,
          72,
          29,
          33,
          1,
          62,
          41,
          64,
          4,
          24,
          14,
          3,
          4,
          18,
          8,
          35,
          1,
          66,
          8,
          71,
          43,
          2,
          29,
          15,
          65,
          35,
          64,
          58,
          18,
          67,
          63,
          60,
          9,
          70,
          15,
          48,
          12,
          71,
          44,
          1,
          45,
          23,
          43,
          35,
          9,
          12,
          65,
          2,
          27,
          40,
          5,
          8,
          58,
          52,
          3,
          41,
          20,
          1,
          4,
          23,
          6,
          8,
          18,
          52,
          31,
          29,
          36,
          16,
          42,
          1,
          60,
          5,
          22,
          36,
          4,
          9,
          1,
          12,
          23,
          62,
          37,
          8,
          31,
          13,
          24,
          45,
          69,
          2,
          61,
          41,
          44,
          39,
          72,
          13,
          51,
          71,
          22,
          2,
          56,
          1,
          23,
          66,
          1,
          19,
          11,
          8,
          52,
          3,
          51,
          15,
          64,
          37,
          13,
          49,
          45,
          18,
          1,
          68,
          54,
          23,
          17,
          71,
          67,
          14,
          1,
          63,
          41,
          17,
          56,
          5,
          2,
          3,
          37,
          29,
          8,
          63,
          7,
          3,
          72,
          19,
          59,
          2,
          35,
          14,
          14,
          69,
          7,
          69,
          72,
          8,
          4,
          63,
          72,
          46,
          5,
          30,
          63,
          60,
          63,
          25,
          1,
          6,
          22,
          31,
          39,
          26,
          53,
          1,
          12,
          16,
          2,
          39,
          1,
          7,
          4,
          10,
          55,
          72,
          10,
          11,
          15,
          23,
          1,
          3,
          47,
          15,
          66,
          68,
          17,
          7,
          12,
          21,
          21,
          56,
          6,
          65,
          42,
          68,
          48,
          50,
          7,
          63,
          17,
          42,
          4,
          62,
          2,
          2,
          48,
          27,
          70,
          1,
          46,
          30,
          15,
          69,
          65,
          72,
          13,
          17,
          51,
          51,
          72,
          67,
          34,
          67,
          49,
          53,
          27,
          23,
          69,
          2,
          35,
          46,
          54,
          56,
          9,
          20,
          11,
          30,
          68,
          38,
          17,
          48,
          1,
          63,
          3,
          48,
          66,
          68,
          17,
          7,
          72,
          29,
          37,
          34,
          42,
          59,
          11,
          60,
          27,
          1,
          1,
          17,
          58,
          1,
          3,
          53,
          35,
          50,
          68,
          47,
          65,
          5,
          51,
          46,
          9,
          8,
          14,
          45,
          8,
          1,
          66,
          72,
          41,
          23,
          29,
          4,
          6,
          67,
          7,
          56,
          72,
          72,
          23,
          35,
          27,
          26,
          12,
          40,
          7,
          70,
          60,
          39,
          72,
          1,
          54,
          3,
          63,
          71,
          42,
          47,
          66,
          21,
          11,
          1,
          55,
          69,
          3,
          4,
          30,
          5,
          71,
          29,
          52,
          68,
          46,
          8,
          72,
          17,
          3,
          2,
          9,
          51,
          6,
          3,
          17,
          30,
          31,
          45,
          64,
          1,
          1,
          61,
          1,
          9,
          72,
          1,
          7,
          66,
          1,
          40,
          16,
          2,
          67,
          41,
          56,
          72,
          3,
          54,
          52,
          50,
          14,
          27,
          72,
          62,
          12,
          44,
          54,
          68,
          20,
          50,
          58,
          35,
          2,
          63,
          58,
          27,
          71,
          63,
          71,
          41,
          13,
          2,
          68,
          1,
          65,
          72,
          28,
          72,
          2,
          18,
          60,
          26,
          1,
          4,
          68,
          38,
          42,
          57,
          54,
          12,
          44,
          42,
          72,
          71,
          19,
          23,
          30,
          35,
          10,
          1,
          22,
          7,
          36,
          34,
          72,
          36,
          1,
          23,
          32,
          71,
          23,
          17,
          1,
          12,
          72,
          1,
          72,
          60,
          61,
          6,
          32,
          31,
          19,
          72,
          32,
          65,
          45,
          42,
          8,
          32,
          22,
          57,
          1,
          1,
          1,
          24,
          1,
          54,
          4,
          65,
          56,
          45,
          71,
          59,
          69,
          19,
          55,
          38,
          10,
          47,
          2,
          1,
          1,
          1,
          46,
          38,
          65,
          19,
          52,
          71,
          1,
          52,
          6,
          26,
          48,
          64,
          3,
          1,
          72,
          1,
          51,
          41,
          72,
          43,
          72,
          47,
          72,
          3,
          1,
          2,
          26,
          29,
          35,
          27,
          24,
          67,
          16,
          23,
          14,
          1,
          1,
          4,
          16,
          46,
          68,
          38,
          30,
          5,
          17,
          4,
          12,
          72,
          3,
          56,
          41,
          40,
          7,
          69,
          7,
          5,
          72,
          44,
          65,
          3,
          24,
          44,
          72,
          24,
          1,
          22,
          70,
          25,
          37,
          22,
          59,
          49,
          47,
          31,
          1,
          3,
          53,
          1,
          20,
          3,
          51,
          51,
          13,
          1,
          1,
          63,
          3,
          46,
          1,
          8,
          71,
          55,
          70,
          2,
          67,
          65,
          14,
          20,
          1,
          1,
          49,
          72,
          46,
          24,
          5,
          33,
          42,
          23,
          8,
          66,
          24,
          24,
          69,
          53,
          60,
          7,
          20,
          23,
          72,
          11,
          21,
          1,
          31,
          57,
          45,
          10,
          58,
          14,
          27,
          14,
          12,
          69,
          25,
          58,
          35,
          16,
          45,
          17,
          1,
          22,
          1,
          67,
          67,
          2,
          23,
          9,
          5,
          54,
          57,
          24,
          49,
          5,
          2,
          4,
          70,
          5,
          53,
          47,
          31,
          13,
          28,
          10,
          38,
          1,
          67,
          52,
          62,
          16,
          5,
          12,
          72,
          71,
          24,
          15,
          67,
          2,
          5,
          15,
          1,
          41,
          43,
          1,
          1,
          26,
          22,
          71,
          7,
          28,
          16,
          7,
          69,
          1,
          3,
          21,
          69,
          71,
          69,
          48,
          47,
          2,
          45,
          51,
          22,
          72,
          37,
          71,
          7,
          66,
          51,
          30,
          34,
          64,
          65,
          47,
          1,
          49,
          67,
          39,
          14,
          43,
          56,
          14,
          1,
          16,
          70,
          72,
          23,
          21,
          1,
          1,
          32,
          17,
          4,
          36,
          50,
          48,
          50,
          72,
          10,
          18,
          1,
          1,
          9,
          2,
          40,
          69,
          37,
          18,
          11,
          8,
          3,
          55,
          33,
          46,
          34,
          3,
          30,
          33,
          45,
          40,
          71,
          1,
          72,
          22,
          46,
          55,
          1,
          12,
          31,
          5,
          67,
          1,
          40,
          41,
          1,
          51,
          42,
          23,
          1,
          1,
          56,
          15,
          12,
          54,
          7,
          33,
          16,
          21,
          30,
          3,
          11,
          62,
          18,
          6,
          46,
          21,
          68,
          1,
          25,
          24,
          30,
          2,
          51,
          57,
          15,
          72,
          2,
          28,
          29,
          70,
          13,
          59,
          13,
          7,
          62,
          21,
          2,
          1,
          4,
          19,
          30,
          67,
          72,
          53,
          5,
          71,
          50,
          56,
          2,
          2,
          24,
          46,
          71,
          29,
          69,
          71,
          1,
          56,
          56,
          1,
          28,
          19,
          66,
          17,
          52,
          19,
          36,
          7,
          72,
          67,
          34,
          57,
          7,
          1,
          8,
          69,
          50,
          10,
          12,
          14,
          70,
          64,
          66,
          71,
          20,
          72,
          71,
          38,
          28,
          17,
          33,
          23,
          58,
          70,
          4,
          45,
          10,
          36,
          54,
          23,
          41,
          5,
          27,
          1,
          67,
          72,
          56,
          44,
          66,
          34,
          69,
          1,
          40,
          30,
          11,
          15,
          11,
          64,
          72,
          72,
          1,
          15,
          60,
          56,
          8,
          3,
          49,
          2,
          6,
          70,
          12,
          52,
          72,
          40,
          1,
          3,
          40,
          1,
          30,
          23,
          1,
          44,
          65,
          7,
          72,
          8,
          16,
          66,
          1,
          3,
          53,
          8,
          69,
          5,
          72,
          13,
          4,
          54,
          72,
          12,
          1,
          1,
          54,
          69,
          48,
          48,
          8,
          71,
          2,
          67,
          34,
          3,
          9,
          71,
          57,
          72,
          48,
          18,
          43,
          72,
          35,
          4,
          49,
          71,
          11,
          63,
          65,
          49,
          29,
          15,
          4,
          72,
          26,
          35,
          57,
          28,
          25,
          47,
          57,
          16,
          5,
          17,
          56,
          72,
          21,
          48,
          68,
          30,
          3,
          14,
          4,
          71,
          8,
          61,
          72,
          5,
          49,
          8,
          3,
          9,
          67,
          46,
          67,
          55,
          33,
          62,
          1,
          49,
          1,
          14,
          18,
          1,
          1,
          72,
          64,
          69,
          1,
          71,
          66,
          2,
          71,
          11,
          47,
          35,
          32,
          60,
          11,
          29,
          21,
          48,
          3,
          43,
          5,
          1,
          71,
          8,
          8,
          20,
          33,
          71,
          31,
          38,
          1,
          2,
          12,
          9,
          11,
          6,
          71,
          42,
          8,
          5,
          2,
          45,
          28,
          43,
          60,
          42,
          7,
          25,
          40,
          27,
          10,
          27,
          11,
          4,
          68,
          1,
          18,
          57,
          26,
          17,
          1,
          38,
          59,
          30,
          2,
          50,
          9,
          3,
          14,
          31,
          7,
          8,
          17,
          32,
          2,
          7,
          72,
          31,
          27,
          18,
          7,
          14,
          11,
          72,
          28,
          15,
          4,
          71,
          5,
          47,
          57,
          50,
          8,
          48,
          70,
          1,
          8,
          1,
          1,
          60,
          49,
          4,
          29,
          67,
          53,
          67,
          6,
          47,
          53,
          69,
          3,
          4,
          56,
          59,
          61,
          2,
          46,
          12,
          14,
          28,
          24,
          31,
          68,
          39,
          42,
          13,
          6,
          35,
          38,
          18,
          4,
          27,
          41,
          50,
          72,
          70,
          44,
          2,
          34,
          72,
          71,
          64,
          72,
          1,
          29,
          23,
          52,
          25,
          64,
          16,
          1,
          24,
          2,
          34,
          36,
          53,
          47,
          72,
          72,
          1,
          9,
          8,
          45,
          7,
          71,
          41,
          67,
          69,
          70,
          25,
          72,
          34,
          65,
          70,
          72,
          35,
          13,
          12,
          62,
          25,
          52,
          8,
          2,
          56,
          12,
          47,
          2,
          18,
          8,
          45,
          3,
          38,
          72,
          46,
          71,
          66,
          25,
          18,
          13,
          65,
          60,
          15,
          72,
          30,
          42,
          71,
          1,
          39,
          35,
          53,
          1,
          31,
          48,
          30,
          10,
          12,
          57,
          58,
          37,
          44,
          27,
          8,
          3,
          25,
          57,
          12,
          62,
          65,
          71,
          21,
          71,
          7,
          72,
          1,
          72,
          64,
          72,
          29,
          13,
          31,
          1,
          7,
          61,
          39,
          10,
          14,
          1,
          67,
          72,
          6,
          1,
          25,
          33,
          18,
          71,
          28,
          2,
          17,
          56,
          60,
          33,
          1,
          2,
          63,
          7,
          55,
          65,
          1,
          63,
          70,
          36,
          52,
          22,
          22,
          5,
          47,
          33,
          18,
          1,
          56,
          2,
          35,
          64,
          15,
          24,
          1,
          70,
          1,
          4,
          39,
          29,
          14,
          61,
          13,
          66,
          2,
          59,
          62,
          33,
          66,
          72,
          1,
          19,
          51,
          63,
          27,
          22,
          4,
          42,
          29,
          4,
          30,
          4,
          71,
          46,
          4,
          7,
          69,
          72,
          19,
          28,
          5,
          72,
          8,
          7,
          22,
          72,
          8,
          52,
          68,
          71,
          2,
          34,
          35,
          61,
          1,
          1,
          53,
          72,
          2,
          3,
          13,
          41,
          24,
          28,
          8,
          1,
          54,
          41,
          19,
          72,
          62,
          56,
          15,
          10,
          32,
          21,
          62,
          2,
          27,
          5,
          25,
          2,
          49,
          63,
          4,
          1,
          11,
          52,
          60,
          64,
          43,
          61,
          1,
          5,
          66,
          67,
          42,
          1,
          31,
          7,
          4,
          34,
          3,
          19,
          31,
          1,
          3,
          46,
          1,
          69,
          5,
          1,
          26,
          10,
          25,
          64,
          30,
          13,
          64,
          46,
          12,
          15,
          17,
          13,
          67,
          24,
          6,
          53,
          16,
          10,
          13,
          9,
          25,
          7,
          38,
          43,
          4,
          25,
          27,
          72,
          71,
          24,
          50,
          57,
          15,
          4,
          28,
          9,
          55,
          3,
          10,
          55,
          20,
          62,
          32,
          43,
          9,
          60,
          58,
          7,
          2,
          37,
          65,
          39,
          66,
          68,
          62,
          3,
          72,
          41,
          29,
          4,
          53,
          1,
          41,
          39,
          63,
          15,
          13,
          1,
          1,
          8,
          60,
          12,
          40,
          66,
          42,
          66,
          49,
          1,
          41,
          41,
          23,
          3,
          4,
          52,
          4,
          11,
          2,
          26,
          24,
          12,
          60,
          64,
          66,
          60,
          17,
          42,
          1,
          47,
          10,
          70,
          67,
          1,
          7,
          1,
          4,
          66,
          12,
          24,
          26,
          6,
          57,
          14,
          42,
          25,
          64,
          22,
          19,
          61,
          22,
          70,
          12,
          31,
          11,
          68,
          72,
          67,
          60,
          1,
          1,
          58,
          47,
          1,
          1,
          22,
          48,
          37,
          13,
          43,
          6,
          71,
          1,
          72,
          6,
          12,
          25,
          21,
          6,
          20,
          18,
          43,
          35,
          1,
          32,
          52,
          32,
          72,
          51,
          68,
          8,
          49,
          72,
          9,
          28,
          54,
          11,
          50,
          69,
          1,
          68,
          40,
          31,
          33,
          55,
          68,
          12,
          71,
          40,
          64,
          53,
          12,
          53,
          72,
          46,
          40,
          12,
          9,
          51,
          49,
          41,
          56,
          4,
          20,
          26,
          20,
          7,
          7,
          51,
          4,
          1,
          27,
          22,
          12,
          3,
          34,
          24,
          51,
          14,
          59,
          3,
          65,
          5,
          59,
          72,
          62,
          28,
          3,
          19,
          1,
          24,
          57,
          72,
          67,
          52,
          71,
          26,
          35,
          55,
          33,
          72,
          1,
          10,
          37,
          12,
          1,
          62,
          1,
          18,
          69,
          2,
          19,
          12,
          9,
          27,
          27,
          1,
          24,
          14,
          32,
          11,
          1,
          38,
          9,
          54,
          29,
          44,
          59,
          3,
          18,
          67,
          22,
          33,
          5,
          2,
          72,
          9,
          67,
          16,
          8,
          5,
          23,
          1,
          50,
          17,
          68,
          1,
          25,
          67,
          32,
          67,
          72,
          71,
          1,
          46,
          2,
          1,
          48,
          61,
          32,
          2,
          3,
          5,
          71,
          37,
          65,
          67,
          49,
          50,
          25,
          17,
          64,
          25,
          23,
          24,
          37,
          21,
          1,
          10,
          6,
          51,
          10,
          6,
          47,
          61,
          52,
          35,
          71,
          6,
          45,
          2,
          4,
          2,
          4,
          51,
          60,
          9,
          3,
          17,
          8,
          46,
          68,
          1,
          4,
          1,
          28,
          39,
          11,
          71,
          2,
          30,
          17,
          55,
          58,
          5,
          1,
          9,
          26,
          50,
          72,
          43,
          56,
          1,
          72,
          72,
          36,
          5,
          13,
          44,
          70,
          44,
          32,
          69,
          16,
          68,
          16,
          68,
          4,
          26,
          29,
          5,
          70,
          24,
          72,
          1,
          70,
          36,
          38,
          17,
          41,
          1,
          2,
          14,
          2,
          1,
          13,
          6,
          4,
          5,
          15,
          47,
          8,
          17,
          15,
          26,
          23,
          4,
          29,
          25,
          9,
          18,
          3,
          69,
          14,
          19,
          39,
          31,
          24,
          14,
          64,
          50,
          52,
          28,
          21,
          25,
          17,
          58,
          17,
          51,
          72,
          52,
          27,
          3,
          64,
          45,
          3,
          71,
          1,
          58,
          34,
          8,
          15,
          66,
          12,
          58,
          3,
          43,
          9,
          3,
          22,
          40,
          68,
          54,
          50,
          1,
          72,
          40,
          72,
          6,
          5,
          48,
          1,
          64,
          17,
          40,
          41,
          51,
          41,
          1,
          2,
          68,
          24,
          70,
          3,
          2,
          3,
          7,
          13,
          7,
          12,
          53,
          12,
          63,
          15,
          36,
          4,
          24,
          61,
          16,
          65,
          26,
          16,
          54,
          1,
          5,
          19,
          10,
          23,
          3,
          72,
          10,
          10,
          11,
          37,
          17,
          36,
          17,
          66,
          61,
          22,
          1,
          6,
          31,
          68,
          34,
          52,
          10,
          29,
          72,
          47,
          24,
          65,
          4,
          12,
          1,
          33,
          34,
          14,
          4,
          13,
          65,
          23,
          55,
          49,
          60,
          69,
          40,
          67,
          35,
          19,
          13,
          41,
          4,
          24,
          5,
          5,
          1,
          72,
          24,
          42,
          4,
          68,
          33,
          1,
          31,
          4,
          69,
          38,
          3,
          48,
          15,
          25,
          1,
          48,
          1,
          1,
          37,
          66,
          26,
          63,
          10,
          2,
          18,
          64,
          9,
          28,
          1,
          4,
          38,
          66,
          1,
          18,
          51,
          0,
          1,
          12,
          41,
          12,
          55,
          7,
          12,
          68,
          5,
          49,
          40,
          16,
          10,
          72,
          2,
          23,
          71,
          11,
          1,
          16,
          1,
          12,
          54,
          68,
          4,
          1,
          27,
          21,
          13,
          64,
          1,
          57,
          21,
          19,
          31,
          52,
          46,
          11,
          53,
          11,
          57,
          2,
          2,
          71,
          1,
          68,
          72,
          2,
          1,
          41,
          72,
          6,
          4,
          12,
          58,
          7,
          65,
          1,
          56,
          4,
          58,
          62,
          26,
          62,
          58,
          68,
          61,
          42,
          18,
          56,
          4,
          4,
          35,
          64,
          31,
          67,
          4,
          70,
          3,
          53,
          2,
          29,
          47,
          68,
          12,
          8,
          54,
          69,
          26,
          72,
          70,
          1,
          10,
          28,
          1,
          21,
          51,
          53,
          53,
          24,
          70,
          61,
          11,
          2,
          25,
          41,
          18,
          72,
          71,
          34,
          29,
          40,
          36,
          46,
          58,
          39,
          4,
          52,
          70,
          65,
          1,
          70,
          29,
          1,
          67,
          1,
          26,
          30,
          48,
          55,
          7,
          37,
          31,
          4,
          72,
          5,
          1,
          15,
          8,
          35,
          56,
          42,
          65,
          2,
          65,
          18,
          23,
          4,
          70,
          4,
          19,
          18,
          38,
          2,
          47,
          52,
          9,
          26,
          8,
          44,
          3,
          2,
          9,
          1,
          25,
          2,
          43,
          1,
          58,
          59,
          44,
          66,
          68,
          9,
          19,
          4,
          70,
          1,
          8,
          53,
          51,
          11,
          60,
          17,
          3,
          70,
          1,
          43,
          16,
          57,
          37,
          72,
          11,
          50,
          5,
          1,
          16,
          2,
          17,
          16,
          15,
          10,
          46,
          64,
          1,
          25,
          71,
          8,
          72,
          49,
          29,
          72,
          31,
          50,
          71,
          70,
          71,
          61,
          32,
          1,
          68,
          62,
          7,
          20,
          6,
          33,
          28,
          27,
          7,
          26,
          5,
          30,
          63,
          1,
          53,
          14,
          21,
          17,
          16,
          35,
          32,
          28,
          1,
          59,
          72,
          36,
          40,
          40,
          9,
          63,
          3,
          40,
          8,
          34,
          5,
          9,
          9,
          31,
          50,
          2,
          1,
          8,
          9,
          2,
          3,
          25,
          1,
          45,
          51,
          55,
          38,
          2,
          38,
          34,
          70,
          13,
          39,
          61,
          12,
          41,
          21,
          55,
          69,
          26,
          69,
          18,
          47,
          72,
          33,
          2,
          72,
          37,
          62,
          71,
          23,
          16,
          9,
          17,
          4,
          1,
          24,
          1,
          72,
          72,
          11,
          9,
          2,
          60,
          29,
          49,
          30,
          53,
          39,
          9,
          39,
          8,
          51,
          71,
          71,
          70,
          1,
          38,
          28,
          32,
          49,
          37,
          10,
          67,
          7,
          51,
          9,
          9,
          4,
          71,
          50,
          24,
          22,
          44,
          33,
          1,
          54,
          42,
          1,
          1,
          30,
          1,
          16,
          1,
          9,
          46,
          1,
          71,
          43,
          50,
          13,
          19,
          41,
          1,
          24,
          40,
          3,
          37,
          67,
          32,
          6,
          32,
          59,
          30,
          20,
          27,
          20,
          9,
          68,
          69,
          26,
          69,
          11,
          1,
          10,
          55,
          44,
          46,
          69,
          11,
          11,
          29,
          57,
          28,
          42,
          2,
          23,
          18,
          62,
          1,
          16,
          3,
          67,
          62,
          57,
          2,
          23,
          25,
          72,
          2,
          8,
          5,
          35,
          24,
          2,
          72,
          41,
          4,
          26,
          7,
          1,
          4,
          48,
          2,
          12,
          60,
          55,
          1,
          1,
          4,
          1,
          42,
          1,
          7,
          3,
          72,
          15,
          4,
          11,
          5,
          1,
          72,
          55,
          40,
          57,
          1,
          1,
          1,
          52,
          41,
          43,
          47,
          3,
          66,
          55,
          29,
          12,
          66,
          35,
          10,
          27,
          58,
          54,
          9,
          2,
          6,
          26,
          9,
          8,
          12,
          15,
          43,
          42,
          31,
          66,
          18,
          1,
          61,
          10,
          1,
          18,
          24,
          3,
          50,
          1,
          2,
          17,
          69,
          72,
          3,
          50,
          53,
          58,
          46,
          72,
          1,
          6,
          72,
          4,
          52,
          0,
          2,
          65,
          43,
          4,
          25,
          51,
          12,
          57,
          24,
          64,
          4,
          26,
          15,
          64,
          36,
          27,
          1,
          35,
          4,
          8,
          10,
          2,
          58,
          51,
          46,
          1,
          46,
          50,
          53,
          61,
          5,
          47,
          54,
          19,
          26,
          70,
          17,
          30,
          1,
          19,
          26,
          21,
          50,
          68,
          3,
          9,
          51,
          9,
          41,
          22,
          21,
          71,
          1,
          26,
          71,
          4,
          12,
          18,
          3,
          72,
          11,
          1,
          13,
          72,
          42,
          17,
          7,
          68,
          56,
          38,
          72,
          48,
          52,
          35,
          67,
          1,
          53,
          34,
          3,
          1,
          19,
          60,
          11,
          47,
          18,
          60,
          72,
          39,
          59,
          2,
          1,
          20,
          6,
          71,
          24,
          67,
          1,
          48,
          37,
          11,
          3,
          18,
          50,
          67,
          25,
          2,
          9,
          10,
          70,
          9,
          4,
          2,
          1,
          19,
          7,
          1,
          1,
          9,
          3,
          9,
          5,
          56,
          18,
          49,
          70,
          72,
          6,
          17,
          29,
          6,
          63,
          16,
          59,
          3,
          8,
          7,
          68,
          68,
          52,
          72,
          32,
          72,
          1,
          42,
          25,
          45,
          43,
          37,
          20,
          4,
          63,
          3,
          66,
          28,
          8,
          71,
          1,
          72,
          16,
          66,
          11,
          51,
          8,
          14,
          4,
          70,
          70,
          54,
          28,
          24,
          69,
          42,
          2,
          39,
          45,
          72,
          38,
          72,
          1,
          72,
          55,
          51,
          63,
          1,
          23,
          1,
          2,
          52,
          36,
          1,
          28,
          7,
          14,
          72,
          1,
          10,
          42,
          7,
          4,
          72,
          20,
          63,
          56,
          5,
          72,
          68,
          67,
          8,
          52,
          18,
          59,
          60,
          7,
          59,
          46,
          5,
          59,
          70,
          14,
          44,
          64,
          58,
          46,
          58,
          72,
          30,
          11,
          34,
          54,
          3,
          72,
          40,
          2,
          54,
          14,
          1,
          10,
          1,
          1,
          56,
          68,
          14,
          68,
          55,
          16,
          9,
          14,
          58,
          53,
          70,
          14,
          22,
          10,
          29,
          1,
          49,
          68,
          1,
          30,
          72,
          10,
          7,
          9,
          1,
          20,
          1,
          29,
          1,
          3,
          20,
          64,
          1,
          6,
          50,
          6,
          7,
          72,
          8,
          67,
          24,
          72,
          33,
          2,
          70,
          22,
          59,
          36,
          51,
          53,
          20,
          63,
          40,
          35,
          26,
          27,
          53,
          34,
          19,
          43,
          6,
          56,
          57,
          34,
          10,
          1,
          13,
          56,
          55,
          36,
          47,
          12,
          1,
          24,
          63,
          35,
          67,
          25,
          21,
          13,
          35,
          71,
          29,
          71,
          7,
          57,
          65,
          27,
          6,
          72,
          1,
          11,
          39,
          59,
          26,
          2,
          72,
          65,
          72,
          6,
          32,
          50,
          61,
          15,
          72,
          9,
          1,
          12,
          37,
          61,
          18,
          21,
          68,
          12,
          2,
          62,
          29,
          1,
          5,
          1,
          62,
          36,
          28,
          69,
          11,
          63,
          23,
          10,
          71,
          45,
          70,
          22,
          52,
          55,
          65,
          72,
          10,
          7,
          5,
          24,
          72,
          21,
          69,
          44,
          61,
          24,
          1,
          6,
          4,
          72,
          72,
          14,
          7,
          48,
          55,
          1,
          45,
          3,
          71,
          8,
          3,
          69,
          1,
          72,
          11,
          71,
          1,
          33,
          16,
          56,
          1,
          5,
          57,
          56,
          8,
          22,
          1,
          40,
          46,
          63,
          68,
          69,
          56,
          10,
          63,
          24,
          19,
          22,
          29,
          13,
          70,
          49,
          43,
          3,
          42,
          57,
          2,
          72,
          46,
          66,
          62,
          72,
          35,
          17,
          72,
          28,
          56,
          31,
          45,
          1,
          2,
          6,
          48,
          25,
          64,
          50,
          52,
          4,
          32,
          45,
          9,
          66,
          3,
          54,
          1,
          64,
          31,
          14,
          12,
          67,
          35,
          45,
          10,
          29,
          24,
          66,
          51,
          45,
          49,
          29,
          40,
          37,
          25,
          22,
          72,
          7,
          33,
          23,
          24,
          1,
          69,
          3,
          56,
          65,
          71,
          14,
          2,
          32,
          40,
          1,
          1,
          7,
          15,
          17,
          19,
          71,
          54,
          31,
          11,
          18,
          72,
          71,
          5,
          38,
          5,
          2,
          52,
          8,
          68,
          69,
          42,
          50,
          1,
          1,
          33,
          7,
          64,
          1,
          59,
          6,
          3,
          15,
          13,
          23,
          31,
          29,
          49,
          56,
          63,
          63,
          24,
          36,
          9,
          3,
          21,
          13,
          1,
          25,
          71,
          66,
          45,
          22,
          67,
          68,
          0,
          49,
          4,
          63,
          2,
          21,
          55,
          1,
          17,
          30,
          22,
          9,
          1,
          21,
          19,
          69,
          1,
          72,
          70,
          66,
          7,
          46,
          39,
          32,
          24,
          6,
          37,
          8,
          72,
          71,
          16,
          57,
          66,
          17,
          21,
          66,
          17,
          1,
          58,
          8,
          27,
          34,
          30,
          33,
          1,
          14,
          16,
          49,
          19,
          70,
          32,
          18,
          37,
          4,
          16,
          17,
          19,
          60,
          51,
          28,
          43,
          42,
          3,
          1,
          3,
          63,
          3,
          68,
          30,
          60,
          15,
          45,
          70,
          10,
          4,
          1,
          68,
          22,
          38,
          1,
          18,
          29,
          16,
          1,
          12,
          31,
          4,
          48,
          15,
          50,
          7,
          41,
          68,
          26,
          57,
          3,
          1,
          19,
          3,
          59,
          1,
          42,
          7,
          67,
          1,
          66,
          61,
          4,
          42,
          64,
          54,
          1,
          54,
          18,
          3,
          1,
          72,
          60,
          11,
          12,
          61,
          39,
          55,
          17,
          37,
          72,
          72,
          8,
          22,
          1,
          38,
          17,
          70,
          72,
          28,
          15,
          72,
          11,
          8,
          57,
          1,
          46,
          30,
          10,
          23,
          32,
          13,
          39,
          44,
          9,
          67,
          9,
          15,
          71,
          1,
          30,
          1,
          17,
          3,
          67,
          1,
          1,
          32,
          41,
          1,
          1,
          12,
          62,
          22,
          17,
          72,
          56,
          9,
          72,
          20,
          19,
          2,
          53,
          27,
          6,
          9,
          8,
          71,
          10,
          1,
          71,
          68,
          34,
          26,
          22,
          7,
          20,
          60,
          72,
          72,
          4,
          16,
          62,
          10,
          31,
          71,
          58,
          70,
          71,
          69,
          1,
          72,
          26,
          33,
          10,
          57,
          10,
          39,
          11,
          21,
          68,
          18,
          6,
          18,
          52,
          56,
          45,
          67,
          3,
          65,
          63,
          11,
          1,
          55,
          25,
          72,
          72,
          65,
          54,
          7,
          72,
          21,
          2,
          4,
          3,
          72,
          6,
          52,
          69,
          8,
          8,
          63,
          60,
          12,
          13,
          22,
          5,
          1,
          72,
          2,
          40,
          44,
          71,
          2,
          26,
          1,
          1,
          65,
          3,
          13,
          33,
          1,
          4,
          2,
          72,
          37,
          15,
          23,
          30,
          42,
          32,
          22,
          42,
          8,
          65,
          2,
          70,
          22,
          4,
          2,
          67,
          25,
          20,
          2,
          51,
          46,
          25,
          13,
          25,
          26,
          43,
          19,
          10,
          2,
          72,
          18,
          9,
          27,
          24,
          69,
          46,
          72,
          22,
          70,
          2,
          31,
          56,
          16,
          52,
          13,
          35,
          59,
          72,
          66,
          49,
          2,
          21,
          54,
          24,
          1,
          6,
          1,
          49,
          56,
          56,
          6,
          32,
          50,
          58,
          65,
          64,
          66,
          38,
          20,
          36,
          64,
          1,
          60,
          1,
          50,
          1,
          72,
          60,
          46,
          69,
          31,
          19,
          71,
          12,
          39,
          44,
          56,
          72,
          5,
          11,
          24,
          15,
          72,
          56,
          64,
          34,
          2,
          35,
          22,
          5,
          9,
          11,
          23,
          4,
          68,
          33,
          31,
          1,
          56,
          1,
          66,
          72,
          34,
          58,
          2,
          37,
          71,
          1,
          71,
          35,
          6,
          3,
          69,
          44,
          53,
          24,
          5,
          2,
          62,
          19,
          9,
          53,
          5,
          71,
          1,
          18,
          72,
          4,
          59,
          1,
          31,
          3,
          65,
          49,
          2,
          53,
          55,
          72,
          36,
          10,
          1,
          72,
          28,
          38,
          61,
          52,
          67,
          34,
          54,
          1,
          15,
          4,
          9,
          46,
          22,
          38,
          55,
          1,
          64,
          53,
          58,
          56,
          72,
          1,
          72,
          22,
          8,
          16,
          39,
          12,
          54,
          18,
          32,
          41,
          67,
          65,
          25,
          1,
          67,
          7,
          43,
          24,
          9,
          69,
          37,
          20,
          7,
          37,
          5,
          41,
          54,
          3,
          69,
          53,
          18,
          64,
          31,
          20,
          57,
          63,
          13,
          48,
          2,
          57,
          71,
          7,
          16,
          34,
          37,
          16,
          48,
          58,
          72,
          7,
          38,
          48,
          10,
          30,
          31,
          46,
          50,
          28,
          66,
          8,
          41,
          72,
          7,
          38,
          44,
          47,
          53,
          4,
          20,
          2,
          57,
          44,
          24,
          15,
          3,
          4,
          37,
          1,
          24,
          5,
          33,
          58,
          72,
          71,
          28,
          51,
          30,
          72,
          36,
          14,
          72,
          22,
          2,
          15,
          51,
          70,
          71,
          39,
          61,
          52,
          1,
          64,
          62,
          30,
          4,
          63,
          1,
          15,
          27,
          4,
          72,
          45,
          45,
          36,
          17,
          1,
          16,
          3,
          4,
          71,
          10,
          20,
          4,
          26,
          4,
          5,
          4,
          29,
          2,
          29,
          1,
          1,
          8,
          13,
          59,
          1,
          50,
          18,
          17,
          47,
          26,
          6,
          19,
          3,
          68,
          2,
          7,
          18,
          71,
          13,
          3,
          72,
          66,
          24,
          1,
          56,
          22,
          14,
          61,
          40,
          42,
          72,
          12,
          71,
          26,
          7,
          6,
          58,
          51,
          72,
          18,
          7,
          47,
          2,
          62,
          16,
          6,
          19,
          69,
          11,
          64,
          39,
          15,
          25,
          6,
          66,
          61,
          43,
          12,
          23,
          71,
          34,
          5,
          41,
          72,
          14,
          41,
          23,
          71,
          1,
          72,
          6,
          23,
          10,
          72,
          7,
          6,
          9,
          12,
          1,
          48,
          20,
          16,
          2,
          10,
          2,
          20,
          20,
          19,
          19,
          22,
          35,
          1,
          39,
          54,
          1,
          66,
          56,
          18,
          16,
          68,
          53,
          72,
          9,
          30,
          36,
          18,
          55,
          39,
          21,
          2,
          33,
          44,
          30,
          71,
          4,
          35,
          1,
          23,
          22,
          49,
          42,
          33,
          7,
          67,
          15,
          67,
          53,
          21,
          40,
          22,
          39,
          45,
          2,
          57,
          8,
          7,
          6,
          7,
          49,
          65,
          55,
          71,
          35,
          3,
          11,
          1,
          17,
          72,
          28,
          18,
          40,
          52,
          47,
          23,
          66,
          8,
          47,
          7,
          71,
          50,
          46,
          1,
          66,
          42,
          5,
          7,
          29,
          27,
          15,
          25,
          11,
          57,
          67,
          47,
          13,
          8,
          44,
          71,
          24,
          15,
          1,
          2,
          55,
          71,
          50,
          1,
          5,
          66,
          49,
          3,
          66,
          11,
          28,
          65,
          62,
          2,
          2,
          55,
          41,
          17,
          30,
          17,
          16,
          72,
          9,
          1,
          23,
          8,
          19,
          7,
          1,
          61,
          57,
          9,
          15,
          1,
          12,
          54,
          4,
          7,
          20,
          26,
          36,
          53,
          3,
          68,
          72,
          12,
          34,
          68,
          50,
          1,
          41,
          30,
          1,
          29,
          23,
          60,
          72,
          22,
          72,
          66,
          72,
          47,
          51,
          70,
          9,
          59,
          3,
          38,
          37,
          37,
          24,
          14,
          72,
          53,
          8,
          72,
          17,
          2,
          8,
          48,
          10,
          0,
          1,
          29,
          65,
          8,
          61,
          45,
          72,
          12,
          7,
          9,
          43,
          58,
          16,
          2,
          8,
          40,
          9,
          41,
          26,
          33,
          68,
          65,
          55,
          20,
          19,
          45,
          70,
          2,
          27,
          12,
          72,
          12,
          5,
          71,
          35,
          70,
          31,
          52,
          37,
          69,
          30,
          33,
          54,
          59,
          55,
          69,
          66,
          37,
          9,
          69,
          10,
          40,
          13,
          6,
          69,
          66,
          11,
          46,
          6,
          56,
          70,
          33,
          72,
          3,
          19,
          5,
          71,
          8,
          1,
          1,
          61,
          71,
          68,
          46,
          33,
          53,
          50,
          57,
          54,
          60,
          28,
          1,
          29,
          10,
          43,
          13,
          43,
          19,
          1,
          69,
          61,
          43,
          6,
          1,
          56,
          70,
          1,
          49,
          6,
          32,
          72,
          37,
          69,
          26,
          58,
          24,
          5,
          15,
          30,
          55,
          25,
          10,
          44,
          47,
          13,
          49,
          64,
          1,
          20,
          37,
          30,
          38,
          1,
          37,
          52,
          71,
          26,
          66,
          72,
          25,
          69,
          53,
          12,
          26,
          21,
          1,
          48,
          26,
          60,
          18,
          10,
          5,
          4,
          65,
          70,
          18,
          62,
          66,
          65,
          3,
          34,
          16,
          54,
          50,
          71,
          10,
          1,
          18,
          4,
          58,
          56,
          2,
          32,
          56,
          36,
          4,
          53,
          10,
          4,
          1,
          51,
          12,
          6,
          63,
          1,
          48,
          5,
          35,
          6,
          2,
          50,
          33,
          31,
          9,
          54,
          46,
          34,
          71,
          63,
          51,
          26,
          64,
          1,
          61,
          15,
          64,
          18,
          57,
          14,
          18,
          72,
          70,
          38,
          68,
          13,
          65,
          30,
          51,
          31,
          9,
          72,
          10,
          37,
          2,
          55,
          33,
          46,
          1,
          20,
          9,
          32,
          19,
          70,
          61,
          26,
          45,
          62,
          1,
          3,
          41,
          67,
          1,
          71,
          37,
          60,
          1,
          6,
          13,
          11,
          7,
          10,
          34,
          62,
          64,
          1,
          25,
          26,
          10,
          53,
          7,
          33,
          71,
          29,
          24,
          20,
          1,
          54,
          5,
          72,
          52,
          9,
          1,
          1,
          33,
          55,
          69,
          1,
          54,
          33,
          45,
          11,
          6,
          21,
          65,
          6,
          8,
          11,
          43,
          49,
          1,
          15,
          60,
          17,
          16,
          35,
          44,
          12,
          1,
          28,
          70,
          5,
          18,
          70,
          9,
          67,
          1,
          18,
          4,
          71,
          30,
          1,
          55,
          59,
          1,
          7,
          45,
          54,
          51,
          72,
          44,
          2,
          66,
          68,
          31,
          21,
          21,
          55,
          9,
          71,
          1,
          22,
          1,
          61,
          67,
          14,
          59,
          21,
          4,
          3,
          70,
          3,
          21,
          20,
          22,
          1,
          63,
          70,
          13,
          5,
          72,
          13,
          61,
          1,
          56,
          4,
          35,
          18,
          72,
          49,
          44,
          3,
          37,
          61,
          70,
          1,
          41,
          70,
          1,
          51,
          42,
          70,
          48,
          68,
          48,
          26,
          11,
          1,
          27,
          46,
          1,
          46,
          25,
          4,
          13,
          31,
          23,
          2,
          65,
          22,
          55,
          9,
          7,
          35,
          6,
          1,
          17,
          10,
          15,
          40,
          13,
          29,
          3,
          58,
          45,
          72,
          68,
          1,
          38,
          2,
          11,
          20,
          72,
          3,
          23,
          40,
          62,
          22,
          11,
          7,
          13,
          1,
          39,
          3,
          58,
          6,
          1,
          22,
          14,
          64,
          1,
          6,
          1,
          39,
          20,
          1,
          1,
          64,
          1,
          46,
          28,
          33,
          39,
          42,
          1,
          7,
          70,
          65,
          1,
          18,
          24,
          63,
          44,
          4,
          1,
          37,
          10,
          34,
          35,
          4,
          39,
          43,
          17,
          61,
          49,
          4,
          64,
          3,
          1,
          40,
          1,
          8,
          1,
          34,
          1,
          39,
          58,
          45,
          6,
          43,
          41,
          5,
          72,
          4,
          9,
          72,
          33,
          72,
          22,
          70,
          21,
          15,
          29,
          15,
          71,
          72,
          19,
          1,
          1,
          2,
          11,
          12,
          70,
          20,
          23,
          49,
          4,
          32,
          2,
          69,
          6,
          24,
          32,
          27,
          27,
          58,
          1,
          18,
          47,
          70,
          13,
          36,
          67,
          10,
          19,
          71,
          72,
          48,
          1,
          18,
          1,
          67,
          69,
          19,
          72,
          38,
          40,
          61,
          10,
          32,
          21,
          59,
          13,
          47,
          69,
          2,
          22,
          15,
          53,
          28,
          22,
          1,
          16,
          48,
          30,
          3,
          57,
          68,
          23,
          65,
          44,
          71,
          37,
          12,
          69,
          35,
          5,
          58,
          72,
          72,
          1,
          39,
          53,
          27,
          1,
          1,
          18,
          46,
          72,
          36,
          4,
          25,
          40,
          63,
          15,
          14,
          72,
          39,
          47,
          19,
          5,
          13,
          17,
          34,
          42,
          5,
          71,
          19,
          2,
          57,
          72,
          6,
          17,
          61,
          1,
          48,
          16,
          9,
          3,
          1,
          65,
          70,
          60,
          69,
          35,
          22,
          66,
          1,
          1,
          34,
          72,
          31,
          30,
          9,
          20,
          19,
          65,
          30,
          6,
          2,
          53,
          7,
          61,
          70,
          13,
          35,
          2,
          3,
          3,
          62,
          72,
          63,
          20,
          35,
          21,
          62,
          15,
          55,
          11,
          17,
          61,
          71,
          2,
          35,
          17,
          21,
          47,
          3,
          3,
          44,
          1,
          44,
          5,
          24,
          1,
          18,
          10,
          65,
          1,
          53,
          3,
          33,
          3,
          34,
          14,
          13,
          46,
          23,
          47,
          17,
          49,
          59,
          69,
          11,
          10,
          12,
          45,
          39,
          71,
          71,
          33,
          67,
          37,
          49,
          9,
          52,
          70,
          1,
          14,
          1,
          1,
          52,
          6,
          7,
          47,
          26,
          25,
          69,
          72,
          4,
          59,
          67,
          26,
          27,
          72,
          6,
          62,
          20,
          6,
          51,
          61,
          62,
          72,
          13,
          5,
          3,
          26,
          13,
          38,
          8,
          34,
          18,
          56,
          36,
          9,
          1,
          12,
          57,
          42,
          33,
          70,
          68,
          1,
          37,
          4,
          1,
          20,
          72,
          31,
          18,
          11,
          33,
          62,
          1,
          16,
          22,
          49,
          36,
          42,
          4,
          12,
          31,
          5,
          66,
          15,
          64,
          10,
          7,
          29,
          57,
          46,
          53,
          17,
          38,
          15,
          22,
          14,
          57,
          11,
          1,
          12,
          3,
          36,
          16,
          65,
          2,
          42,
          72,
          62,
          6,
          48,
          35,
          52,
          1,
          6,
          71,
          67,
          60,
          23,
          39,
          15,
          53,
          24,
          37,
          5,
          50,
          54,
          3,
          68,
          5,
          33,
          41,
          34,
          13,
          20,
          51,
          3,
          41,
          13,
          35,
          12,
          4,
          43,
          12,
          68,
          25,
          7,
          66,
          53,
          63,
          70,
          27,
          1,
          5,
          37,
          3,
          12,
          38,
          9,
          13,
          29,
          47,
          61,
          16,
          41,
          43,
          36,
          6,
          58,
          19,
          11,
          39,
          8,
          26,
          53,
          70,
          1,
          59,
          2,
          7,
          12,
          59,
          61,
          72,
          13,
          64,
          1,
          10,
          65,
          62,
          55,
          25,
          1,
          1,
          59,
          64,
          36,
          3,
          61,
          26,
          1,
          1,
          68,
          2,
          72,
          71,
          57,
          4,
          1,
          72,
          21,
          71,
          29,
          69,
          64,
          16,
          4,
          52,
          2,
          1,
          18,
          2,
          19,
          40,
          66,
          21,
          8,
          72,
          48,
          69,
          72,
          14,
          6,
          8,
          17,
          65,
          57,
          13,
          19,
          56,
          14,
          52,
          58,
          47,
          67,
          2,
          6,
          71,
          46,
          5,
          67,
          3,
          3,
          52,
          42,
          50,
          23,
          67,
          25,
          39,
          69,
          1,
          32,
          9,
          16,
          60,
          72,
          5,
          26,
          3,
          2,
          2,
          36,
          7,
          60,
          19,
          45,
          4,
          31,
          47,
          1,
          1,
          1,
          59,
          10,
          35,
          4,
          32,
          43,
          4,
          54,
          11,
          66,
          61,
          72,
          44,
          41,
          50,
          47,
          8,
          18,
          72,
          1,
          42,
          18,
          13,
          68,
          4,
          69,
          17,
          25,
          43,
          59,
          5,
          21,
          69,
          13,
          42,
          52,
          46,
          61,
          29,
          25,
          5,
          15,
          19,
          44,
          6,
          58,
          62,
          70,
          1,
          10,
          26,
          66,
          7,
          51,
          72,
          65,
          2,
          70,
          72,
          1,
          1,
          5,
          3,
          58,
          22,
          33,
          1,
          54,
          72,
          1,
          3,
          72,
          72,
          54,
          59,
          54,
          60,
          60,
          3,
          69,
          1,
          50,
          56,
          60,
          69,
          1,
          1,
          3,
          60,
          13,
          62,
          45,
          25,
          44,
          2,
          33,
          1,
          22,
          35,
          29,
          27,
          54,
          2,
          57,
          62,
          15,
          2,
          70,
          21,
          23,
          6,
          4,
          3,
          23,
          26,
          8,
          26,
          2,
          67,
          71,
          59,
          39,
          21,
          1,
          48,
          31,
          64,
          46,
          52,
          67,
          67,
          5,
          71,
          9,
          26,
          71,
          32,
          2,
          71,
          60,
          55,
          54,
          2,
          6,
          48,
          63,
          1,
          12,
          54,
          30,
          30,
          4,
          40,
          9,
          17,
          62,
          28,
          70,
          46,
          23,
          47,
          68,
          60,
          67,
          14,
          57,
          55,
          1,
          1,
          23,
          13,
          47,
          38,
          38,
          2,
          1,
          15,
          26,
          35,
          3,
          50,
          42,
          10,
          61,
          68,
          10,
          65,
          72,
          55,
          1,
          7,
          2,
          9,
          27,
          7,
          64,
          70,
          2,
          67,
          45,
          24,
          4,
          44,
          72,
          1,
          66,
          1,
          13,
          10,
          65,
          1,
          38,
          23,
          10,
          4,
          72,
          35,
          1,
          58,
          70,
          38,
          60,
          26,
          8,
          41,
          36,
          54,
          71,
          55,
          72,
          3,
          54,
          72,
          52,
          60,
          39,
          15,
          69,
          43,
          63,
          2,
          72,
          32,
          40,
          58,
          67,
          51,
          31,
          69,
          32,
          21,
          52,
          72,
          72,
          52,
          41,
          41,
          6,
          67,
          16,
          17,
          35,
          58,
          1,
          52,
          70,
          19,
          1,
          35,
          32,
          17,
          67,
          9,
          31,
          4,
          58,
          60,
          58,
          1,
          27,
          66,
          15,
          47,
          41,
          59,
          50,
          17,
          6,
          51,
          44,
          49,
          2,
          59,
          50,
          59,
          18,
          10,
          14,
          35,
          8,
          18,
          60,
          1,
          6,
          19,
          53,
          72,
          60,
          1,
          13,
          5,
          1,
          13,
          37,
          64,
          5,
          61,
          1,
          1,
          26,
          1,
          24,
          17,
          26,
          1,
          40,
          52,
          1,
          1,
          21,
          67,
          44,
          70,
          3,
          56,
          13,
          58,
          42,
          1,
          46,
          63,
          11,
          15,
          72,
          29,
          1,
          6,
          1,
          63,
          2,
          18,
          43,
          15,
          10,
          55,
          49,
          6,
          70,
          2,
          63,
          25,
          18,
          28,
          53,
          35,
          1,
          70,
          2,
          26,
          34,
          19,
          15,
          62,
          42,
          9,
          24,
          68,
          31,
          1,
          21,
          63,
          2,
          61,
          1,
          18,
          6,
          33,
          16,
          56,
          23,
          9,
          14,
          15,
          5,
          61,
          70,
          15,
          8,
          8,
          4,
          34,
          68,
          45,
          9,
          22,
          2,
          70,
          10,
          72,
          49,
          54,
          71,
          22,
          50,
          43,
          45,
          64,
          23,
          68,
          1,
          2,
          26,
          55,
          14,
          71,
          64,
          7,
          57,
          13,
          3,
          72,
          40,
          14,
          2,
          66,
          38,
          1,
          22,
          1,
          5,
          29,
          1,
          3,
          71,
          9,
          43,
          48,
          26,
          9,
          1,
          46,
          2,
          1,
          64,
          12,
          6,
          59,
          7,
          72,
          16,
          25,
          34,
          1,
          10,
          24,
          10,
          69,
          57,
          50,
          28,
          16,
          25,
          3,
          61,
          2,
          51,
          71,
          20,
          6,
          6,
          29,
          36,
          28,
          7,
          63,
          48,
          49,
          27,
          72,
          1,
          72,
          47,
          1,
          36,
          43,
          27,
          9,
          38,
          35,
          0,
          59,
          27,
          2,
          7,
          36,
          41,
          13,
          19,
          60,
          48,
          3,
          69,
          43,
          11,
          45,
          72,
          2,
          12,
          67,
          37,
          39,
          41,
          25,
          8,
          71,
          5,
          30,
          40,
          54,
          72,
          28,
          18,
          2,
          59,
          22,
          1,
          72,
          14,
          50,
          48,
          49,
          28,
          68,
          13,
          11,
          3,
          57,
          3,
          72,
          70,
          49,
          67,
          46,
          64,
          37,
          2,
          13,
          72,
          68,
          15,
          24,
          24,
          27,
          12,
          71,
          67,
          63,
          1,
          4,
          40,
          12,
          52,
          10,
          68,
          54,
          4,
          52,
          1,
          70,
          43,
          52,
          12,
          56,
          0,
          42,
          22,
          51,
          27,
          51,
          4,
          1,
          35,
          71,
          1,
          69,
          14,
          57,
          72,
          48,
          4,
          31,
          38,
          37,
          1,
          57,
          62,
          3,
          72,
          29,
          13,
          3,
          11,
          21,
          19,
          61,
          11,
          35,
          25,
          1,
          67,
          19,
          56,
          72,
          43,
          55,
          2,
          27,
          13,
          70,
          14,
          19,
          20,
          43,
          5,
          70,
          40,
          6,
          39,
          4,
          15,
          1,
          45,
          64,
          57,
          72,
          1,
          72,
          3,
          55,
          59,
          18,
          32,
          4,
          66,
          27,
          4,
          60,
          8,
          8,
          35,
          7,
          53,
          18,
          15,
          67,
          6,
          6,
          13,
          11,
          1,
          5,
          13,
          9,
          29,
          1,
          1,
          18,
          2,
          30,
          66,
          38,
          44,
          54,
          2,
          42,
          58,
          58,
          25,
          71,
          37,
          14,
          4,
          48,
          3,
          8,
          1,
          67,
          13,
          45,
          49,
          52,
          63,
          68,
          31,
          64,
          62,
          1,
          6,
          21,
          72,
          32,
          71,
          34,
          3,
          12,
          8,
          35,
          3,
          3,
          53,
          4,
          48,
          6,
          3,
          54,
          1,
          62,
          22,
          1,
          51,
          30,
          56,
          35,
          64,
          30,
          25,
          41,
          9,
          1,
          70,
          57,
          9,
          69,
          43,
          72,
          44,
          72,
          33,
          54,
          27,
          54,
          3,
          53,
          1,
          15,
          56,
          5,
          48,
          25,
          3,
          58,
          10,
          1,
          71,
          65,
          5,
          28,
          67,
          35,
          72,
          61,
          68,
          1,
          3,
          70,
          48,
          68,
          47,
          32,
          5,
          49,
          48,
          13,
          15,
          12,
          67,
          9,
          13,
          38,
          42,
          24,
          27,
          9,
          49,
          61,
          50,
          25,
          22,
          1,
          4,
          18,
          56,
          53,
          51,
          24,
          62,
          24,
          70,
          1,
          16,
          8,
          72,
          23,
          31,
          37,
          30,
          35,
          23,
          20,
          36,
          8,
          71,
          50,
          43,
          57,
          41,
          27,
          13,
          3,
          67,
          3,
          64,
          26,
          38,
          23,
          40,
          72,
          3,
          23,
          1,
          4,
          62,
          40,
          41,
          34,
          1,
          51,
          1,
          39,
          12,
          12,
          72,
          63,
          44,
          18,
          9,
          13,
          68,
          6,
          2,
          55,
          1,
          38,
          67,
          19,
          12,
          72,
          24,
          72,
          11,
          4,
          66
         ],
         "x0": " ",
         "xaxis": "x",
         "y0": " ",
         "yaxis": "y"
        }
       ],
       "layout": {
        "boxmode": "group",
        "hoverlabel": {
         "bgcolor": "#111",
         "font": {
          "family": "poppins",
          "size": 16
         }
        },
        "legend": {
         "tracegroupgap": 0
        },
        "showlegend": false,
        "template": {
         "data": {
          "bar": [
           {
            "error_x": {
             "color": "#f2f5fa"
            },
            "error_y": {
             "color": "#f2f5fa"
            },
            "marker": {
             "line": {
              "color": "rgb(17,17,17)",
              "width": 0.5
             },
             "pattern": {
              "fillmode": "overlay",
              "size": 10,
              "solidity": 0.2
             }
            },
            "type": "bar"
           }
          ],
          "barpolar": [
           {
            "marker": {
             "line": {
              "color": "rgb(17,17,17)",
              "width": 0.5
             },
             "pattern": {
              "fillmode": "overlay",
              "size": 10,
              "solidity": 0.2
             }
            },
            "type": "barpolar"
           }
          ],
          "carpet": [
           {
            "aaxis": {
             "endlinecolor": "#A2B1C6",
             "gridcolor": "#506784",
             "linecolor": "#506784",
             "minorgridcolor": "#506784",
             "startlinecolor": "#A2B1C6"
            },
            "baxis": {
             "endlinecolor": "#A2B1C6",
             "gridcolor": "#506784",
             "linecolor": "#506784",
             "minorgridcolor": "#506784",
             "startlinecolor": "#A2B1C6"
            },
            "type": "carpet"
           }
          ],
          "choropleth": [
           {
            "colorbar": {
             "outlinewidth": 0,
             "ticks": ""
            },
            "type": "choropleth"
           }
          ],
          "contour": [
           {
            "colorbar": {
             "outlinewidth": 0,
             "ticks": ""
            },
            "colorscale": [
             [
              0,
              "#0d0887"
             ],
             [
              0.1111111111111111,
              "#46039f"
             ],
             [
              0.2222222222222222,
              "#7201a8"
             ],
             [
              0.3333333333333333,
              "#9c179e"
             ],
             [
              0.4444444444444444,
              "#bd3786"
             ],
             [
              0.5555555555555556,
              "#d8576b"
             ],
             [
              0.6666666666666666,
              "#ed7953"
             ],
             [
              0.7777777777777778,
              "#fb9f3a"
             ],
             [
              0.8888888888888888,
              "#fdca26"
             ],
             [
              1,
              "#f0f921"
             ]
            ],
            "type": "contour"
           }
          ],
          "contourcarpet": [
           {
            "colorbar": {
             "outlinewidth": 0,
             "ticks": ""
            },
            "type": "contourcarpet"
           }
          ],
          "heatmap": [
           {
            "colorbar": {
             "outlinewidth": 0,
             "ticks": ""
            },
            "colorscale": [
             [
              0,
              "#0d0887"
             ],
             [
              0.1111111111111111,
              "#46039f"
             ],
             [
              0.2222222222222222,
              "#7201a8"
             ],
             [
              0.3333333333333333,
              "#9c179e"
             ],
             [
              0.4444444444444444,
              "#bd3786"
             ],
             [
              0.5555555555555556,
              "#d8576b"
             ],
             [
              0.6666666666666666,
              "#ed7953"
             ],
             [
              0.7777777777777778,
              "#fb9f3a"
             ],
             [
              0.8888888888888888,
              "#fdca26"
             ],
             [
              1,
              "#f0f921"
             ]
            ],
            "type": "heatmap"
           }
          ],
          "heatmapgl": [
           {
            "colorbar": {
             "outlinewidth": 0,
             "ticks": ""
            },
            "colorscale": [
             [
              0,
              "#0d0887"
             ],
             [
              0.1111111111111111,
              "#46039f"
             ],
             [
              0.2222222222222222,
              "#7201a8"
             ],
             [
              0.3333333333333333,
              "#9c179e"
             ],
             [
              0.4444444444444444,
              "#bd3786"
             ],
             [
              0.5555555555555556,
              "#d8576b"
             ],
             [
              0.6666666666666666,
              "#ed7953"
             ],
             [
              0.7777777777777778,
              "#fb9f3a"
             ],
             [
              0.8888888888888888,
              "#fdca26"
             ],
             [
              1,
              "#f0f921"
             ]
            ],
            "type": "heatmapgl"
           }
          ],
          "histogram": [
           {
            "marker": {
             "pattern": {
              "fillmode": "overlay",
              "size": 10,
              "solidity": 0.2
             }
            },
            "type": "histogram"
           }
          ],
          "histogram2d": [
           {
            "colorbar": {
             "outlinewidth": 0,
             "ticks": ""
            },
            "colorscale": [
             [
              0,
              "#0d0887"
             ],
             [
              0.1111111111111111,
              "#46039f"
             ],
             [
              0.2222222222222222,
              "#7201a8"
             ],
             [
              0.3333333333333333,
              "#9c179e"
             ],
             [
              0.4444444444444444,
              "#bd3786"
             ],
             [
              0.5555555555555556,
              "#d8576b"
             ],
             [
              0.6666666666666666,
              "#ed7953"
             ],
             [
              0.7777777777777778,
              "#fb9f3a"
             ],
             [
              0.8888888888888888,
              "#fdca26"
             ],
             [
              1,
              "#f0f921"
             ]
            ],
            "type": "histogram2d"
           }
          ],
          "histogram2dcontour": [
           {
            "colorbar": {
             "outlinewidth": 0,
             "ticks": ""
            },
            "colorscale": [
             [
              0,
              "#0d0887"
             ],
             [
              0.1111111111111111,
              "#46039f"
             ],
             [
              0.2222222222222222,
              "#7201a8"
             ],
             [
              0.3333333333333333,
              "#9c179e"
             ],
             [
              0.4444444444444444,
              "#bd3786"
             ],
             [
              0.5555555555555556,
              "#d8576b"
             ],
             [
              0.6666666666666666,
              "#ed7953"
             ],
             [
              0.7777777777777778,
              "#fb9f3a"
             ],
             [
              0.8888888888888888,
              "#fdca26"
             ],
             [
              1,
              "#f0f921"
             ]
            ],
            "type": "histogram2dcontour"
           }
          ],
          "mesh3d": [
           {
            "colorbar": {
             "outlinewidth": 0,
             "ticks": ""
            },
            "type": "mesh3d"
           }
          ],
          "parcoords": [
           {
            "line": {
             "colorbar": {
              "outlinewidth": 0,
              "ticks": ""
             }
            },
            "type": "parcoords"
           }
          ],
          "pie": [
           {
            "automargin": true,
            "type": "pie"
           }
          ],
          "scatter": [
           {
            "marker": {
             "line": {
              "color": "#283442"
             }
            },
            "type": "scatter"
           }
          ],
          "scatter3d": [
           {
            "line": {
             "colorbar": {
              "outlinewidth": 0,
              "ticks": ""
             }
            },
            "marker": {
             "colorbar": {
              "outlinewidth": 0,
              "ticks": ""
             }
            },
            "type": "scatter3d"
           }
          ],
          "scattercarpet": [
           {
            "marker": {
             "colorbar": {
              "outlinewidth": 0,
              "ticks": ""
             }
            },
            "type": "scattercarpet"
           }
          ],
          "scattergeo": [
           {
            "marker": {
             "colorbar": {
              "outlinewidth": 0,
              "ticks": ""
             }
            },
            "type": "scattergeo"
           }
          ],
          "scattergl": [
           {
            "marker": {
             "line": {
              "color": "#283442"
             }
            },
            "type": "scattergl"
           }
          ],
          "scattermapbox": [
           {
            "marker": {
             "colorbar": {
              "outlinewidth": 0,
              "ticks": ""
             }
            },
            "type": "scattermapbox"
           }
          ],
          "scatterpolar": [
           {
            "marker": {
             "colorbar": {
              "outlinewidth": 0,
              "ticks": ""
             }
            },
            "type": "scatterpolar"
           }
          ],
          "scatterpolargl": [
           {
            "marker": {
             "colorbar": {
              "outlinewidth": 0,
              "ticks": ""
             }
            },
            "type": "scatterpolargl"
           }
          ],
          "scatterternary": [
           {
            "marker": {
             "colorbar": {
              "outlinewidth": 0,
              "ticks": ""
             }
            },
            "type": "scatterternary"
           }
          ],
          "surface": [
           {
            "colorbar": {
             "outlinewidth": 0,
             "ticks": ""
            },
            "colorscale": [
             [
              0,
              "#0d0887"
             ],
             [
              0.1111111111111111,
              "#46039f"
             ],
             [
              0.2222222222222222,
              "#7201a8"
             ],
             [
              0.3333333333333333,
              "#9c179e"
             ],
             [
              0.4444444444444444,
              "#bd3786"
             ],
             [
              0.5555555555555556,
              "#d8576b"
             ],
             [
              0.6666666666666666,
              "#ed7953"
             ],
             [
              0.7777777777777778,
              "#fb9f3a"
             ],
             [
              0.8888888888888888,
              "#fdca26"
             ],
             [
              1,
              "#f0f921"
             ]
            ],
            "type": "surface"
           }
          ],
          "table": [
           {
            "cells": {
             "fill": {
              "color": "#506784"
             },
             "line": {
              "color": "rgb(17,17,17)"
             }
            },
            "header": {
             "fill": {
              "color": "#2a3f5f"
             },
             "line": {
              "color": "rgb(17,17,17)"
             }
            },
            "type": "table"
           }
          ]
         },
         "layout": {
          "annotationdefaults": {
           "arrowcolor": "#f2f5fa",
           "arrowhead": 0,
           "arrowwidth": 1
          },
          "autotypenumbers": "strict",
          "coloraxis": {
           "colorbar": {
            "outlinewidth": 0,
            "ticks": ""
           }
          },
          "colorscale": {
           "diverging": [
            [
             0,
             "#8e0152"
            ],
            [
             0.1,
             "#c51b7d"
            ],
            [
             0.2,
             "#de77ae"
            ],
            [
             0.3,
             "#f1b6da"
            ],
            [
             0.4,
             "#fde0ef"
            ],
            [
             0.5,
             "#f7f7f7"
            ],
            [
             0.6,
             "#e6f5d0"
            ],
            [
             0.7,
             "#b8e186"
            ],
            [
             0.8,
             "#7fbc41"
            ],
            [
             0.9,
             "#4d9221"
            ],
            [
             1,
             "#276419"
            ]
           ],
           "sequential": [
            [
             0,
             "#0d0887"
            ],
            [
             0.1111111111111111,
             "#46039f"
            ],
            [
             0.2222222222222222,
             "#7201a8"
            ],
            [
             0.3333333333333333,
             "#9c179e"
            ],
            [
             0.4444444444444444,
             "#bd3786"
            ],
            [
             0.5555555555555556,
             "#d8576b"
            ],
            [
             0.6666666666666666,
             "#ed7953"
            ],
            [
             0.7777777777777778,
             "#fb9f3a"
            ],
            [
             0.8888888888888888,
             "#fdca26"
            ],
            [
             1,
             "#f0f921"
            ]
           ],
           "sequentialminus": [
            [
             0,
             "#0d0887"
            ],
            [
             0.1111111111111111,
             "#46039f"
            ],
            [
             0.2222222222222222,
             "#7201a8"
            ],
            [
             0.3333333333333333,
             "#9c179e"
            ],
            [
             0.4444444444444444,
             "#bd3786"
            ],
            [
             0.5555555555555556,
             "#d8576b"
            ],
            [
             0.6666666666666666,
             "#ed7953"
            ],
            [
             0.7777777777777778,
             "#fb9f3a"
            ],
            [
             0.8888888888888888,
             "#fdca26"
            ],
            [
             1,
             "#f0f921"
            ]
           ]
          },
          "colorway": [
           "#636efa",
           "#EF553B",
           "#00cc96",
           "#ab63fa",
           "#FFA15A",
           "#19d3f3",
           "#FF6692",
           "#B6E880",
           "#FF97FF",
           "#FECB52"
          ],
          "font": {
           "color": "#f2f5fa"
          },
          "geo": {
           "bgcolor": "rgb(17,17,17)",
           "lakecolor": "rgb(17,17,17)",
           "landcolor": "rgb(17,17,17)",
           "showlakes": true,
           "showland": true,
           "subunitcolor": "#506784"
          },
          "hoverlabel": {
           "align": "left"
          },
          "hovermode": "closest",
          "mapbox": {
           "style": "dark"
          },
          "paper_bgcolor": "rgb(17,17,17)",
          "plot_bgcolor": "rgb(17,17,17)",
          "polar": {
           "angularaxis": {
            "gridcolor": "#506784",
            "linecolor": "#506784",
            "ticks": ""
           },
           "bgcolor": "rgb(17,17,17)",
           "radialaxis": {
            "gridcolor": "#506784",
            "linecolor": "#506784",
            "ticks": ""
           }
          },
          "scene": {
           "xaxis": {
            "backgroundcolor": "rgb(17,17,17)",
            "gridcolor": "#506784",
            "gridwidth": 2,
            "linecolor": "#506784",
            "showbackground": true,
            "ticks": "",
            "zerolinecolor": "#C8D4E3"
           },
           "yaxis": {
            "backgroundcolor": "rgb(17,17,17)",
            "gridcolor": "#506784",
            "gridwidth": 2,
            "linecolor": "#506784",
            "showbackground": true,
            "ticks": "",
            "zerolinecolor": "#C8D4E3"
           },
           "zaxis": {
            "backgroundcolor": "rgb(17,17,17)",
            "gridcolor": "#506784",
            "gridwidth": 2,
            "linecolor": "#506784",
            "showbackground": true,
            "ticks": "",
            "zerolinecolor": "#C8D4E3"
           }
          },
          "shapedefaults": {
           "line": {
            "color": "#f2f5fa"
           }
          },
          "sliderdefaults": {
           "bgcolor": "#C8D4E3",
           "bordercolor": "rgb(17,17,17)",
           "borderwidth": 1,
           "tickwidth": 0
          },
          "ternary": {
           "aaxis": {
            "gridcolor": "#506784",
            "linecolor": "#506784",
            "ticks": ""
           },
           "baxis": {
            "gridcolor": "#506784",
            "linecolor": "#506784",
            "ticks": ""
           },
           "bgcolor": "rgb(17,17,17)",
           "caxis": {
            "gridcolor": "#506784",
            "linecolor": "#506784",
            "ticks": ""
           }
          },
          "title": {
           "x": 0.05
          },
          "updatemenudefaults": {
           "bgcolor": "#506784",
           "borderwidth": 0
          },
          "xaxis": {
           "automargin": true,
           "gridcolor": "#283442",
           "linecolor": "#506784",
           "ticks": "",
           "title": {
            "standoff": 15
           },
           "zerolinecolor": "#283442",
           "zerolinewidth": 2
          },
          "yaxis": {
           "automargin": true,
           "gridcolor": "#283442",
           "linecolor": "#506784",
           "ticks": "",
           "title": {
            "standoff": 15
           },
           "zerolinecolor": "#283442",
           "zerolinewidth": 2
          }
         }
        },
        "title": {
         "font": {
          "family": "<b>poppins",
          "size": 28
         },
         "text": "<b>Tenure in Months"
        },
        "xaxis": {
         "anchor": "y",
         "domain": [
          0,
          1
         ],
         "title": {
          "text": "Tenure in Months"
         }
        },
        "yaxis": {
         "anchor": "x",
         "domain": [
          0,
          1
         ]
        }
       }
      }
     },
     "metadata": {},
     "output_type": "display_data"
    }
   ],
   "source": [
    "fig = px.box(\n",
    "    x=df['tenure'],\n",
    "    template='plotly_dark',\n",
    "    labels={'x': 'Tenure in Months'},\n",
    "    title='<b>Tenure in Months',\n",
    "    notched=True\n",
    ")\n",
    "\n",
    "fig.update_traces(\n",
    "    marker = dict(color='red'),\n",
    "    line = dict(width=3)\n",
    ")\n",
    "\n",
    "update_layout()\n",
    "iplot(fig)"
   ]
  },
  {
   "cell_type": "code",
   "execution_count": 21,
   "id": "01HY09AFAPCEY58ZHV4XXS4WGE",
   "metadata": {},
   "outputs": [
    {
     "name": "stdout",
     "output_type": "stream",
     "text": [
      "Tenure Skewness: 0.2395\n"
     ]
    }
   ],
   "source": [
    "print(f'Tenure Skewness: {df[\"tenure\"].skew():.4f}')"
   ]
  },
  {
   "cell_type": "markdown",
   "metadata": {},
   "source": [
    "### Insights based on Boxplot Statistic Tenure\n",
    "\n",
    "**Insight Boxplot:**\n",
    "\n",
    "1. **Variasi dalam Tenure:**\n",
    "   - Tenure pelanggan bervariasi dari 0 hingga 72 bulan. Ini menunjukkan bahwa ada pelanggan yang baru saja bergabung (0 bulan) dan ada yang sudah lama (hingga 72 bulan).\n",
    "\n",
    "2. **Distribusi Pelanggan:**\n",
    "   - **Median (29 bulan):** Separuh dari pelanggan memiliki masa berlangganan kurang dari 29 bulan dan separuh lainnya lebih dari 29 bulan.\n",
    "   - **Kuartil Pertama (Q1 - 9 bulan):** 25% dari pelanggan memiliki masa berlangganan 9 bulan atau kurang, menunjukkan bahwa sebagian besar pelanggan baru memiliki masa berlangganan pendek.\n",
    "   - **Kuartil Ketiga (Q3 - 55 bulan):** 75% dari pelanggan memiliki masa berlangganan hingga 55 bulan atau kurang. Hanya 25% pelanggan yang memiliki masa berlangganan lebih dari itu.\n",
    "\n",
    "3. **Pelanggan Baru vs. Pelanggan Lama:**\n",
    "   - Adanya nilai minimum dan lower fence pada 0 bulan menunjukkan bahwa ada beberapa pelanggan yang sangat baru.\n",
    "   - Nilai maksimum dan upper fence di 72 bulan menunjukkan bahwa beberapa pelanggan sangat setia dan telah bersama perusahaan untuk waktu yang lama.\n",
    "\n",
    "4. **Keberagaman Pelanggan:**\n",
    "   - Distribusi ini menunjukkan adanya keberagaman yang signifikan dalam masa berlangganan pelanggan, yang dapat mengindikasikan berbagai tingkat kepuasan dan loyalitas pelanggan.\n",
    "\n",
    "### Insights dari Skewness Tenure\n",
    "\n",
    "**Output Skewness:**\n",
    "- **Tenure Skewness:** 0.2395\n",
    "\n",
    "**Insight:**\n",
    "\n",
    "1. **Distribusi Tenure yang Mendekati Simetris:**\n",
    "   - Skewness (kemiringan) sebesar 0.2395 menunjukkan bahwa distribusi masa berlangganan (tenure) pelanggan hampir simetris, tetapi sedikit condong ke kanan.\n",
    "\n",
    "2. **Impilikasi untuk Strategi Retensi:**\n",
    "   - Skewness yang rendah menunjukkan bahwa sebagian besar pelanggan memiliki masa berlangganan yang tersebar cukup merata di sekitar median (29 bulan). Hal ini berarti tidak ada dominasi pelanggan baru atau pelanggan lama dalam data.\n",
    "   - Sedikit condong ke kanan menunjukkan bahwa ada sedikit lebih banyak pelanggan dengan masa berlangganan yang lebih lama daripada yang baru, tetapi perbedaannya tidak signifikan.\n",
    "\n",
    "3. **Kesempatan untuk Meningkatkan Loyalitas:**\n",
    "   - Dengan distribusi yang mendekati simetris ini, perusahaan dapat mengembangkan strategi retensi yang lebih seimbang, berfokus pada menjaga pelanggan yang ada dan meningkatkan masa berlangganan pelanggan baru.\n",
    "\n",
    "4. **Evaluasi Program Loyalitas:**\n",
    "   - Melihat distribusi yang hampir simetris ini, program loyalitas bisa dievaluasi untuk melihat bagaimana program ini mempengaruhi pelanggan dengan berbagai lama berlangganan. Upaya bisa difokuskan untuk meningkatkan masa berlangganan pelanggan yang berada di bawah median."
   ]
  },
  {
   "cell_type": "markdown",
   "metadata": {},
   "source": [
    "##### __Phone Services Column__"
   ]
  },
  {
   "cell_type": "code",
   "execution_count": 22,
   "id": "01HY0CJTZJAV247PKP581Z1G1P",
   "metadata": {},
   "outputs": [
    {
     "data": {
      "text/plain": [
       "PhoneService\n",
       "Yes    90.32%\n",
       "No      9.68%\n",
       "Name: count, dtype: object"
      ]
     },
     "execution_count": 22,
     "metadata": {},
     "output_type": "execute_result"
    }
   ],
   "source": [
    "phone_services = df['PhoneService'].value_counts()\n",
    "phone_services.apply(lambda x: f'{x/sum(phone_services)*100:.2f}%')"
   ]
  },
  {
   "cell_type": "code",
   "execution_count": 23,
   "id": "01HY2963K8S3TSVEFCT2BMEEWH",
   "metadata": {},
   "outputs": [
    {
     "data": {
      "application/vnd.plotly.v1+json": {
       "config": {
        "linkText": "Export to plot.ly",
        "plotlyServerURL": "https://plot.ly",
        "showLink": false
       },
       "data": [
        {
         "domain": {
          "x": [
           0,
           1
          ],
          "y": [
           0,
           1
          ]
         },
         "hole": 0.6,
         "hovertemplate": "Phone Services Status: %{label}<br>Frequency: %{value}",
         "labels": [
          "Yes",
          "No"
         ],
         "legendgroup": "",
         "marker": {
          "line": {
           "color": "#FFFFFF",
           "width": 2
          }
         },
         "name": "",
         "pull": [
          0.09,
          0.07
         ],
         "showlegend": true,
         "textfont": {
          "family": "consolas",
          "size": 16
         },
         "textinfo": "label+percent",
         "type": "pie",
         "values": [
          6361,
          682
         ]
        }
       ],
       "layout": {
        "hoverlabel": {
         "bgcolor": "#111",
         "font": {
          "family": "poppins",
          "size": 16
         }
        },
        "legend": {
         "tracegroupgap": 0
        },
        "piecolorway": [
         "#ED1C24",
         "#FAF7F1",
         "#C0C0C0"
        ],
        "showlegend": true,
        "template": {
         "data": {
          "bar": [
           {
            "error_x": {
             "color": "#f2f5fa"
            },
            "error_y": {
             "color": "#f2f5fa"
            },
            "marker": {
             "line": {
              "color": "rgb(17,17,17)",
              "width": 0.5
             },
             "pattern": {
              "fillmode": "overlay",
              "size": 10,
              "solidity": 0.2
             }
            },
            "type": "bar"
           }
          ],
          "barpolar": [
           {
            "marker": {
             "line": {
              "color": "rgb(17,17,17)",
              "width": 0.5
             },
             "pattern": {
              "fillmode": "overlay",
              "size": 10,
              "solidity": 0.2
             }
            },
            "type": "barpolar"
           }
          ],
          "carpet": [
           {
            "aaxis": {
             "endlinecolor": "#A2B1C6",
             "gridcolor": "#506784",
             "linecolor": "#506784",
             "minorgridcolor": "#506784",
             "startlinecolor": "#A2B1C6"
            },
            "baxis": {
             "endlinecolor": "#A2B1C6",
             "gridcolor": "#506784",
             "linecolor": "#506784",
             "minorgridcolor": "#506784",
             "startlinecolor": "#A2B1C6"
            },
            "type": "carpet"
           }
          ],
          "choropleth": [
           {
            "colorbar": {
             "outlinewidth": 0,
             "ticks": ""
            },
            "type": "choropleth"
           }
          ],
          "contour": [
           {
            "colorbar": {
             "outlinewidth": 0,
             "ticks": ""
            },
            "colorscale": [
             [
              0,
              "#0d0887"
             ],
             [
              0.1111111111111111,
              "#46039f"
             ],
             [
              0.2222222222222222,
              "#7201a8"
             ],
             [
              0.3333333333333333,
              "#9c179e"
             ],
             [
              0.4444444444444444,
              "#bd3786"
             ],
             [
              0.5555555555555556,
              "#d8576b"
             ],
             [
              0.6666666666666666,
              "#ed7953"
             ],
             [
              0.7777777777777778,
              "#fb9f3a"
             ],
             [
              0.8888888888888888,
              "#fdca26"
             ],
             [
              1,
              "#f0f921"
             ]
            ],
            "type": "contour"
           }
          ],
          "contourcarpet": [
           {
            "colorbar": {
             "outlinewidth": 0,
             "ticks": ""
            },
            "type": "contourcarpet"
           }
          ],
          "heatmap": [
           {
            "colorbar": {
             "outlinewidth": 0,
             "ticks": ""
            },
            "colorscale": [
             [
              0,
              "#0d0887"
             ],
             [
              0.1111111111111111,
              "#46039f"
             ],
             [
              0.2222222222222222,
              "#7201a8"
             ],
             [
              0.3333333333333333,
              "#9c179e"
             ],
             [
              0.4444444444444444,
              "#bd3786"
             ],
             [
              0.5555555555555556,
              "#d8576b"
             ],
             [
              0.6666666666666666,
              "#ed7953"
             ],
             [
              0.7777777777777778,
              "#fb9f3a"
             ],
             [
              0.8888888888888888,
              "#fdca26"
             ],
             [
              1,
              "#f0f921"
             ]
            ],
            "type": "heatmap"
           }
          ],
          "heatmapgl": [
           {
            "colorbar": {
             "outlinewidth": 0,
             "ticks": ""
            },
            "colorscale": [
             [
              0,
              "#0d0887"
             ],
             [
              0.1111111111111111,
              "#46039f"
             ],
             [
              0.2222222222222222,
              "#7201a8"
             ],
             [
              0.3333333333333333,
              "#9c179e"
             ],
             [
              0.4444444444444444,
              "#bd3786"
             ],
             [
              0.5555555555555556,
              "#d8576b"
             ],
             [
              0.6666666666666666,
              "#ed7953"
             ],
             [
              0.7777777777777778,
              "#fb9f3a"
             ],
             [
              0.8888888888888888,
              "#fdca26"
             ],
             [
              1,
              "#f0f921"
             ]
            ],
            "type": "heatmapgl"
           }
          ],
          "histogram": [
           {
            "marker": {
             "pattern": {
              "fillmode": "overlay",
              "size": 10,
              "solidity": 0.2
             }
            },
            "type": "histogram"
           }
          ],
          "histogram2d": [
           {
            "colorbar": {
             "outlinewidth": 0,
             "ticks": ""
            },
            "colorscale": [
             [
              0,
              "#0d0887"
             ],
             [
              0.1111111111111111,
              "#46039f"
             ],
             [
              0.2222222222222222,
              "#7201a8"
             ],
             [
              0.3333333333333333,
              "#9c179e"
             ],
             [
              0.4444444444444444,
              "#bd3786"
             ],
             [
              0.5555555555555556,
              "#d8576b"
             ],
             [
              0.6666666666666666,
              "#ed7953"
             ],
             [
              0.7777777777777778,
              "#fb9f3a"
             ],
             [
              0.8888888888888888,
              "#fdca26"
             ],
             [
              1,
              "#f0f921"
             ]
            ],
            "type": "histogram2d"
           }
          ],
          "histogram2dcontour": [
           {
            "colorbar": {
             "outlinewidth": 0,
             "ticks": ""
            },
            "colorscale": [
             [
              0,
              "#0d0887"
             ],
             [
              0.1111111111111111,
              "#46039f"
             ],
             [
              0.2222222222222222,
              "#7201a8"
             ],
             [
              0.3333333333333333,
              "#9c179e"
             ],
             [
              0.4444444444444444,
              "#bd3786"
             ],
             [
              0.5555555555555556,
              "#d8576b"
             ],
             [
              0.6666666666666666,
              "#ed7953"
             ],
             [
              0.7777777777777778,
              "#fb9f3a"
             ],
             [
              0.8888888888888888,
              "#fdca26"
             ],
             [
              1,
              "#f0f921"
             ]
            ],
            "type": "histogram2dcontour"
           }
          ],
          "mesh3d": [
           {
            "colorbar": {
             "outlinewidth": 0,
             "ticks": ""
            },
            "type": "mesh3d"
           }
          ],
          "parcoords": [
           {
            "line": {
             "colorbar": {
              "outlinewidth": 0,
              "ticks": ""
             }
            },
            "type": "parcoords"
           }
          ],
          "pie": [
           {
            "automargin": true,
            "type": "pie"
           }
          ],
          "scatter": [
           {
            "marker": {
             "line": {
              "color": "#283442"
             }
            },
            "type": "scatter"
           }
          ],
          "scatter3d": [
           {
            "line": {
             "colorbar": {
              "outlinewidth": 0,
              "ticks": ""
             }
            },
            "marker": {
             "colorbar": {
              "outlinewidth": 0,
              "ticks": ""
             }
            },
            "type": "scatter3d"
           }
          ],
          "scattercarpet": [
           {
            "marker": {
             "colorbar": {
              "outlinewidth": 0,
              "ticks": ""
             }
            },
            "type": "scattercarpet"
           }
          ],
          "scattergeo": [
           {
            "marker": {
             "colorbar": {
              "outlinewidth": 0,
              "ticks": ""
             }
            },
            "type": "scattergeo"
           }
          ],
          "scattergl": [
           {
            "marker": {
             "line": {
              "color": "#283442"
             }
            },
            "type": "scattergl"
           }
          ],
          "scattermapbox": [
           {
            "marker": {
             "colorbar": {
              "outlinewidth": 0,
              "ticks": ""
             }
            },
            "type": "scattermapbox"
           }
          ],
          "scatterpolar": [
           {
            "marker": {
             "colorbar": {
              "outlinewidth": 0,
              "ticks": ""
             }
            },
            "type": "scatterpolar"
           }
          ],
          "scatterpolargl": [
           {
            "marker": {
             "colorbar": {
              "outlinewidth": 0,
              "ticks": ""
             }
            },
            "type": "scatterpolargl"
           }
          ],
          "scatterternary": [
           {
            "marker": {
             "colorbar": {
              "outlinewidth": 0,
              "ticks": ""
             }
            },
            "type": "scatterternary"
           }
          ],
          "surface": [
           {
            "colorbar": {
             "outlinewidth": 0,
             "ticks": ""
            },
            "colorscale": [
             [
              0,
              "#0d0887"
             ],
             [
              0.1111111111111111,
              "#46039f"
             ],
             [
              0.2222222222222222,
              "#7201a8"
             ],
             [
              0.3333333333333333,
              "#9c179e"
             ],
             [
              0.4444444444444444,
              "#bd3786"
             ],
             [
              0.5555555555555556,
              "#d8576b"
             ],
             [
              0.6666666666666666,
              "#ed7953"
             ],
             [
              0.7777777777777778,
              "#fb9f3a"
             ],
             [
              0.8888888888888888,
              "#fdca26"
             ],
             [
              1,
              "#f0f921"
             ]
            ],
            "type": "surface"
           }
          ],
          "table": [
           {
            "cells": {
             "fill": {
              "color": "#506784"
             },
             "line": {
              "color": "rgb(17,17,17)"
             }
            },
            "header": {
             "fill": {
              "color": "#2a3f5f"
             },
             "line": {
              "color": "rgb(17,17,17)"
             }
            },
            "type": "table"
           }
          ]
         },
         "layout": {
          "annotationdefaults": {
           "arrowcolor": "#f2f5fa",
           "arrowhead": 0,
           "arrowwidth": 1
          },
          "autotypenumbers": "strict",
          "coloraxis": {
           "colorbar": {
            "outlinewidth": 0,
            "ticks": ""
           }
          },
          "colorscale": {
           "diverging": [
            [
             0,
             "#8e0152"
            ],
            [
             0.1,
             "#c51b7d"
            ],
            [
             0.2,
             "#de77ae"
            ],
            [
             0.3,
             "#f1b6da"
            ],
            [
             0.4,
             "#fde0ef"
            ],
            [
             0.5,
             "#f7f7f7"
            ],
            [
             0.6,
             "#e6f5d0"
            ],
            [
             0.7,
             "#b8e186"
            ],
            [
             0.8,
             "#7fbc41"
            ],
            [
             0.9,
             "#4d9221"
            ],
            [
             1,
             "#276419"
            ]
           ],
           "sequential": [
            [
             0,
             "#0d0887"
            ],
            [
             0.1111111111111111,
             "#46039f"
            ],
            [
             0.2222222222222222,
             "#7201a8"
            ],
            [
             0.3333333333333333,
             "#9c179e"
            ],
            [
             0.4444444444444444,
             "#bd3786"
            ],
            [
             0.5555555555555556,
             "#d8576b"
            ],
            [
             0.6666666666666666,
             "#ed7953"
            ],
            [
             0.7777777777777778,
             "#fb9f3a"
            ],
            [
             0.8888888888888888,
             "#fdca26"
            ],
            [
             1,
             "#f0f921"
            ]
           ],
           "sequentialminus": [
            [
             0,
             "#0d0887"
            ],
            [
             0.1111111111111111,
             "#46039f"
            ],
            [
             0.2222222222222222,
             "#7201a8"
            ],
            [
             0.3333333333333333,
             "#9c179e"
            ],
            [
             0.4444444444444444,
             "#bd3786"
            ],
            [
             0.5555555555555556,
             "#d8576b"
            ],
            [
             0.6666666666666666,
             "#ed7953"
            ],
            [
             0.7777777777777778,
             "#fb9f3a"
            ],
            [
             0.8888888888888888,
             "#fdca26"
            ],
            [
             1,
             "#f0f921"
            ]
           ]
          },
          "colorway": [
           "#636efa",
           "#EF553B",
           "#00cc96",
           "#ab63fa",
           "#FFA15A",
           "#19d3f3",
           "#FF6692",
           "#B6E880",
           "#FF97FF",
           "#FECB52"
          ],
          "font": {
           "color": "#f2f5fa"
          },
          "geo": {
           "bgcolor": "rgb(17,17,17)",
           "lakecolor": "rgb(17,17,17)",
           "landcolor": "rgb(17,17,17)",
           "showlakes": true,
           "showland": true,
           "subunitcolor": "#506784"
          },
          "hoverlabel": {
           "align": "left"
          },
          "hovermode": "closest",
          "mapbox": {
           "style": "dark"
          },
          "paper_bgcolor": "rgb(17,17,17)",
          "plot_bgcolor": "rgb(17,17,17)",
          "polar": {
           "angularaxis": {
            "gridcolor": "#506784",
            "linecolor": "#506784",
            "ticks": ""
           },
           "bgcolor": "rgb(17,17,17)",
           "radialaxis": {
            "gridcolor": "#506784",
            "linecolor": "#506784",
            "ticks": ""
           }
          },
          "scene": {
           "xaxis": {
            "backgroundcolor": "rgb(17,17,17)",
            "gridcolor": "#506784",
            "gridwidth": 2,
            "linecolor": "#506784",
            "showbackground": true,
            "ticks": "",
            "zerolinecolor": "#C8D4E3"
           },
           "yaxis": {
            "backgroundcolor": "rgb(17,17,17)",
            "gridcolor": "#506784",
            "gridwidth": 2,
            "linecolor": "#506784",
            "showbackground": true,
            "ticks": "",
            "zerolinecolor": "#C8D4E3"
           },
           "zaxis": {
            "backgroundcolor": "rgb(17,17,17)",
            "gridcolor": "#506784",
            "gridwidth": 2,
            "linecolor": "#506784",
            "showbackground": true,
            "ticks": "",
            "zerolinecolor": "#C8D4E3"
           }
          },
          "shapedefaults": {
           "line": {
            "color": "#f2f5fa"
           }
          },
          "sliderdefaults": {
           "bgcolor": "#C8D4E3",
           "bordercolor": "rgb(17,17,17)",
           "borderwidth": 1,
           "tickwidth": 0
          },
          "ternary": {
           "aaxis": {
            "gridcolor": "#506784",
            "linecolor": "#506784",
            "ticks": ""
           },
           "baxis": {
            "gridcolor": "#506784",
            "linecolor": "#506784",
            "ticks": ""
           },
           "bgcolor": "rgb(17,17,17)",
           "caxis": {
            "gridcolor": "#506784",
            "linecolor": "#506784",
            "ticks": ""
           }
          },
          "title": {
           "x": 0.05
          },
          "updatemenudefaults": {
           "bgcolor": "#506784",
           "borderwidth": 0
          },
          "xaxis": {
           "automargin": true,
           "gridcolor": "#283442",
           "linecolor": "#506784",
           "ticks": "",
           "title": {
            "standoff": 15
           },
           "zerolinecolor": "#283442",
           "zerolinewidth": 2
          },
          "yaxis": {
           "automargin": true,
           "gridcolor": "#283442",
           "linecolor": "#506784",
           "ticks": "",
           "title": {
            "standoff": 15
           },
           "zerolinecolor": "#283442",
           "zerolinewidth": 2
          }
         }
        },
        "title": {
         "font": {
          "family": "<b>poppins",
          "size": 28
         },
         "text": "<b>Phone Services Status Distribution"
        }
       }
      }
     },
     "metadata": {},
     "output_type": "display_data"
    }
   ],
   "source": [
    "fig = px.pie(\n",
    "    names= phone_services.index,\n",
    "    values= phone_services,\n",
    "    title= '<b>Phone Services Status Distribution',\n",
    "    color_discrete_sequence=  used_color[0:3],\n",
    "    hole= .6,\n",
    "    template= 'plotly_dark'\n",
    ")\n",
    "\n",
    "# Func that give the Chart a custom format\n",
    "update_layout(showlegend=True)\n",
    "\n",
    "fig.update_traces(\n",
    "    textinfo = 'label+percent',\n",
    "    textfont = {\n",
    "        'family' : 'consolas',\n",
    "        'size' : 16\n",
    "    },\n",
    "    \n",
    "    hovertemplate = 'Phone Services Status: %{label}<br>Frequency: %{value}',\n",
    "    marker = dict(line=dict(color='#FFFFFF', width=2)),\n",
    "    pull = [.090, .070]\n",
    ")\n",
    "iplot(fig)"
   ]
  },
  {
   "cell_type": "markdown",
   "metadata": {},
   "source": [
    "##### __Internet Service Column__"
   ]
  },
  {
   "cell_type": "code",
   "execution_count": 24,
   "id": "01HY29HN9TDDA51D3FZZVGR698",
   "metadata": {},
   "outputs": [
    {
     "data": {
      "text/plain": [
       "OnlineBackup\n",
       "No                     43.84%\n",
       "Yes                    34.49%\n",
       "No internet service    21.67%\n",
       "Name: count, dtype: object"
      ]
     },
     "execution_count": 24,
     "metadata": {},
     "output_type": "execute_result"
    }
   ],
   "source": [
    "inet_services = df['OnlineBackup'].value_counts()\n",
    "inet_services.apply(lambda x: f'{x/sum(inet_services)*100:.2f}%')"
   ]
  },
  {
   "cell_type": "code",
   "execution_count": 25,
   "id": "01HY2C11JC8SEKX55G9AXCZSZ3",
   "metadata": {},
   "outputs": [
    {
     "data": {
      "application/vnd.plotly.v1+json": {
       "config": {
        "linkText": "Export to plot.ly",
        "plotlyServerURL": "https://plot.ly",
        "showLink": false
       },
       "data": [
        {
         "domain": {
          "x": [
           0,
           1
          ],
          "y": [
           0,
           1
          ]
         },
         "hole": 0.4,
         "hovertemplate": "Status: %{label}<br>Frequency: %{value:,.0f}",
         "labels": [
          "No",
          "Yes",
          "No internet service"
         ],
         "legendgroup": "",
         "marker": {
          "line": {
           "color": "#222",
           "width": 2
          }
         },
         "name": "",
         "pull": [
          0,
          0,
          0.09
         ],
         "showlegend": true,
         "textfont": {
          "family": "consolas",
          "size": 16
         },
         "textinfo": "label+percent",
         "type": "pie",
         "values": [
          3088,
          2429,
          1526
         ]
        }
       ],
       "layout": {
        "hoverlabel": {
         "bgcolor": "#111",
         "font": {
          "family": "poppins",
          "size": 16
         }
        },
        "legend": {
         "tracegroupgap": 0
        },
        "piecolorway": [
         "#ED1C24",
         "#FAF7F1",
         "#C0C0C0"
        ],
        "showlegend": true,
        "template": {
         "data": {
          "bar": [
           {
            "error_x": {
             "color": "#2a3f5f"
            },
            "error_y": {
             "color": "#2a3f5f"
            },
            "marker": {
             "line": {
              "color": "#E5ECF6",
              "width": 0.5
             },
             "pattern": {
              "fillmode": "overlay",
              "size": 10,
              "solidity": 0.2
             }
            },
            "type": "bar"
           }
          ],
          "barpolar": [
           {
            "marker": {
             "line": {
              "color": "#E5ECF6",
              "width": 0.5
             },
             "pattern": {
              "fillmode": "overlay",
              "size": 10,
              "solidity": 0.2
             }
            },
            "type": "barpolar"
           }
          ],
          "carpet": [
           {
            "aaxis": {
             "endlinecolor": "#2a3f5f",
             "gridcolor": "white",
             "linecolor": "white",
             "minorgridcolor": "white",
             "startlinecolor": "#2a3f5f"
            },
            "baxis": {
             "endlinecolor": "#2a3f5f",
             "gridcolor": "white",
             "linecolor": "white",
             "minorgridcolor": "white",
             "startlinecolor": "#2a3f5f"
            },
            "type": "carpet"
           }
          ],
          "choropleth": [
           {
            "colorbar": {
             "outlinewidth": 0,
             "ticks": ""
            },
            "type": "choropleth"
           }
          ],
          "contour": [
           {
            "colorbar": {
             "outlinewidth": 0,
             "ticks": ""
            },
            "colorscale": [
             [
              0,
              "#0d0887"
             ],
             [
              0.1111111111111111,
              "#46039f"
             ],
             [
              0.2222222222222222,
              "#7201a8"
             ],
             [
              0.3333333333333333,
              "#9c179e"
             ],
             [
              0.4444444444444444,
              "#bd3786"
             ],
             [
              0.5555555555555556,
              "#d8576b"
             ],
             [
              0.6666666666666666,
              "#ed7953"
             ],
             [
              0.7777777777777778,
              "#fb9f3a"
             ],
             [
              0.8888888888888888,
              "#fdca26"
             ],
             [
              1,
              "#f0f921"
             ]
            ],
            "type": "contour"
           }
          ],
          "contourcarpet": [
           {
            "colorbar": {
             "outlinewidth": 0,
             "ticks": ""
            },
            "type": "contourcarpet"
           }
          ],
          "heatmap": [
           {
            "colorbar": {
             "outlinewidth": 0,
             "ticks": ""
            },
            "colorscale": [
             [
              0,
              "#0d0887"
             ],
             [
              0.1111111111111111,
              "#46039f"
             ],
             [
              0.2222222222222222,
              "#7201a8"
             ],
             [
              0.3333333333333333,
              "#9c179e"
             ],
             [
              0.4444444444444444,
              "#bd3786"
             ],
             [
              0.5555555555555556,
              "#d8576b"
             ],
             [
              0.6666666666666666,
              "#ed7953"
             ],
             [
              0.7777777777777778,
              "#fb9f3a"
             ],
             [
              0.8888888888888888,
              "#fdca26"
             ],
             [
              1,
              "#f0f921"
             ]
            ],
            "type": "heatmap"
           }
          ],
          "heatmapgl": [
           {
            "colorbar": {
             "outlinewidth": 0,
             "ticks": ""
            },
            "colorscale": [
             [
              0,
              "#0d0887"
             ],
             [
              0.1111111111111111,
              "#46039f"
             ],
             [
              0.2222222222222222,
              "#7201a8"
             ],
             [
              0.3333333333333333,
              "#9c179e"
             ],
             [
              0.4444444444444444,
              "#bd3786"
             ],
             [
              0.5555555555555556,
              "#d8576b"
             ],
             [
              0.6666666666666666,
              "#ed7953"
             ],
             [
              0.7777777777777778,
              "#fb9f3a"
             ],
             [
              0.8888888888888888,
              "#fdca26"
             ],
             [
              1,
              "#f0f921"
             ]
            ],
            "type": "heatmapgl"
           }
          ],
          "histogram": [
           {
            "marker": {
             "pattern": {
              "fillmode": "overlay",
              "size": 10,
              "solidity": 0.2
             }
            },
            "type": "histogram"
           }
          ],
          "histogram2d": [
           {
            "colorbar": {
             "outlinewidth": 0,
             "ticks": ""
            },
            "colorscale": [
             [
              0,
              "#0d0887"
             ],
             [
              0.1111111111111111,
              "#46039f"
             ],
             [
              0.2222222222222222,
              "#7201a8"
             ],
             [
              0.3333333333333333,
              "#9c179e"
             ],
             [
              0.4444444444444444,
              "#bd3786"
             ],
             [
              0.5555555555555556,
              "#d8576b"
             ],
             [
              0.6666666666666666,
              "#ed7953"
             ],
             [
              0.7777777777777778,
              "#fb9f3a"
             ],
             [
              0.8888888888888888,
              "#fdca26"
             ],
             [
              1,
              "#f0f921"
             ]
            ],
            "type": "histogram2d"
           }
          ],
          "histogram2dcontour": [
           {
            "colorbar": {
             "outlinewidth": 0,
             "ticks": ""
            },
            "colorscale": [
             [
              0,
              "#0d0887"
             ],
             [
              0.1111111111111111,
              "#46039f"
             ],
             [
              0.2222222222222222,
              "#7201a8"
             ],
             [
              0.3333333333333333,
              "#9c179e"
             ],
             [
              0.4444444444444444,
              "#bd3786"
             ],
             [
              0.5555555555555556,
              "#d8576b"
             ],
             [
              0.6666666666666666,
              "#ed7953"
             ],
             [
              0.7777777777777778,
              "#fb9f3a"
             ],
             [
              0.8888888888888888,
              "#fdca26"
             ],
             [
              1,
              "#f0f921"
             ]
            ],
            "type": "histogram2dcontour"
           }
          ],
          "mesh3d": [
           {
            "colorbar": {
             "outlinewidth": 0,
             "ticks": ""
            },
            "type": "mesh3d"
           }
          ],
          "parcoords": [
           {
            "line": {
             "colorbar": {
              "outlinewidth": 0,
              "ticks": ""
             }
            },
            "type": "parcoords"
           }
          ],
          "pie": [
           {
            "automargin": true,
            "type": "pie"
           }
          ],
          "scatter": [
           {
            "fillpattern": {
             "fillmode": "overlay",
             "size": 10,
             "solidity": 0.2
            },
            "type": "scatter"
           }
          ],
          "scatter3d": [
           {
            "line": {
             "colorbar": {
              "outlinewidth": 0,
              "ticks": ""
             }
            },
            "marker": {
             "colorbar": {
              "outlinewidth": 0,
              "ticks": ""
             }
            },
            "type": "scatter3d"
           }
          ],
          "scattercarpet": [
           {
            "marker": {
             "colorbar": {
              "outlinewidth": 0,
              "ticks": ""
             }
            },
            "type": "scattercarpet"
           }
          ],
          "scattergeo": [
           {
            "marker": {
             "colorbar": {
              "outlinewidth": 0,
              "ticks": ""
             }
            },
            "type": "scattergeo"
           }
          ],
          "scattergl": [
           {
            "marker": {
             "colorbar": {
              "outlinewidth": 0,
              "ticks": ""
             }
            },
            "type": "scattergl"
           }
          ],
          "scattermapbox": [
           {
            "marker": {
             "colorbar": {
              "outlinewidth": 0,
              "ticks": ""
             }
            },
            "type": "scattermapbox"
           }
          ],
          "scatterpolar": [
           {
            "marker": {
             "colorbar": {
              "outlinewidth": 0,
              "ticks": ""
             }
            },
            "type": "scatterpolar"
           }
          ],
          "scatterpolargl": [
           {
            "marker": {
             "colorbar": {
              "outlinewidth": 0,
              "ticks": ""
             }
            },
            "type": "scatterpolargl"
           }
          ],
          "scatterternary": [
           {
            "marker": {
             "colorbar": {
              "outlinewidth": 0,
              "ticks": ""
             }
            },
            "type": "scatterternary"
           }
          ],
          "surface": [
           {
            "colorbar": {
             "outlinewidth": 0,
             "ticks": ""
            },
            "colorscale": [
             [
              0,
              "#0d0887"
             ],
             [
              0.1111111111111111,
              "#46039f"
             ],
             [
              0.2222222222222222,
              "#7201a8"
             ],
             [
              0.3333333333333333,
              "#9c179e"
             ],
             [
              0.4444444444444444,
              "#bd3786"
             ],
             [
              0.5555555555555556,
              "#d8576b"
             ],
             [
              0.6666666666666666,
              "#ed7953"
             ],
             [
              0.7777777777777778,
              "#fb9f3a"
             ],
             [
              0.8888888888888888,
              "#fdca26"
             ],
             [
              1,
              "#f0f921"
             ]
            ],
            "type": "surface"
           }
          ],
          "table": [
           {
            "cells": {
             "fill": {
              "color": "#EBF0F8"
             },
             "line": {
              "color": "white"
             }
            },
            "header": {
             "fill": {
              "color": "#C8D4E3"
             },
             "line": {
              "color": "white"
             }
            },
            "type": "table"
           }
          ]
         },
         "layout": {
          "annotationdefaults": {
           "arrowcolor": "#2a3f5f",
           "arrowhead": 0,
           "arrowwidth": 1
          },
          "autotypenumbers": "strict",
          "coloraxis": {
           "colorbar": {
            "outlinewidth": 0,
            "ticks": ""
           }
          },
          "colorscale": {
           "diverging": [
            [
             0,
             "#8e0152"
            ],
            [
             0.1,
             "#c51b7d"
            ],
            [
             0.2,
             "#de77ae"
            ],
            [
             0.3,
             "#f1b6da"
            ],
            [
             0.4,
             "#fde0ef"
            ],
            [
             0.5,
             "#f7f7f7"
            ],
            [
             0.6,
             "#e6f5d0"
            ],
            [
             0.7,
             "#b8e186"
            ],
            [
             0.8,
             "#7fbc41"
            ],
            [
             0.9,
             "#4d9221"
            ],
            [
             1,
             "#276419"
            ]
           ],
           "sequential": [
            [
             0,
             "#0d0887"
            ],
            [
             0.1111111111111111,
             "#46039f"
            ],
            [
             0.2222222222222222,
             "#7201a8"
            ],
            [
             0.3333333333333333,
             "#9c179e"
            ],
            [
             0.4444444444444444,
             "#bd3786"
            ],
            [
             0.5555555555555556,
             "#d8576b"
            ],
            [
             0.6666666666666666,
             "#ed7953"
            ],
            [
             0.7777777777777778,
             "#fb9f3a"
            ],
            [
             0.8888888888888888,
             "#fdca26"
            ],
            [
             1,
             "#f0f921"
            ]
           ],
           "sequentialminus": [
            [
             0,
             "#0d0887"
            ],
            [
             0.1111111111111111,
             "#46039f"
            ],
            [
             0.2222222222222222,
             "#7201a8"
            ],
            [
             0.3333333333333333,
             "#9c179e"
            ],
            [
             0.4444444444444444,
             "#bd3786"
            ],
            [
             0.5555555555555556,
             "#d8576b"
            ],
            [
             0.6666666666666666,
             "#ed7953"
            ],
            [
             0.7777777777777778,
             "#fb9f3a"
            ],
            [
             0.8888888888888888,
             "#fdca26"
            ],
            [
             1,
             "#f0f921"
            ]
           ]
          },
          "colorway": [
           "#636efa",
           "#EF553B",
           "#00cc96",
           "#ab63fa",
           "#FFA15A",
           "#19d3f3",
           "#FF6692",
           "#B6E880",
           "#FF97FF",
           "#FECB52"
          ],
          "font": {
           "color": "#2a3f5f"
          },
          "geo": {
           "bgcolor": "white",
           "lakecolor": "white",
           "landcolor": "#E5ECF6",
           "showlakes": true,
           "showland": true,
           "subunitcolor": "white"
          },
          "hoverlabel": {
           "align": "left"
          },
          "hovermode": "closest",
          "mapbox": {
           "style": "light"
          },
          "paper_bgcolor": "white",
          "plot_bgcolor": "#E5ECF6",
          "polar": {
           "angularaxis": {
            "gridcolor": "white",
            "linecolor": "white",
            "ticks": ""
           },
           "bgcolor": "#E5ECF6",
           "radialaxis": {
            "gridcolor": "white",
            "linecolor": "white",
            "ticks": ""
           }
          },
          "scene": {
           "xaxis": {
            "backgroundcolor": "#E5ECF6",
            "gridcolor": "white",
            "gridwidth": 2,
            "linecolor": "white",
            "showbackground": true,
            "ticks": "",
            "zerolinecolor": "white"
           },
           "yaxis": {
            "backgroundcolor": "#E5ECF6",
            "gridcolor": "white",
            "gridwidth": 2,
            "linecolor": "white",
            "showbackground": true,
            "ticks": "",
            "zerolinecolor": "white"
           },
           "zaxis": {
            "backgroundcolor": "#E5ECF6",
            "gridcolor": "white",
            "gridwidth": 2,
            "linecolor": "white",
            "showbackground": true,
            "ticks": "",
            "zerolinecolor": "white"
           }
          },
          "shapedefaults": {
           "line": {
            "color": "#2a3f5f"
           }
          },
          "ternary": {
           "aaxis": {
            "gridcolor": "white",
            "linecolor": "white",
            "ticks": ""
           },
           "baxis": {
            "gridcolor": "white",
            "linecolor": "white",
            "ticks": ""
           },
           "bgcolor": "#E5ECF6",
           "caxis": {
            "gridcolor": "white",
            "linecolor": "white",
            "ticks": ""
           }
          },
          "title": {
           "x": 0.05
          },
          "xaxis": {
           "automargin": true,
           "gridcolor": "white",
           "linecolor": "white",
           "ticks": "",
           "title": {
            "standoff": 15
           },
           "zerolinecolor": "white",
           "zerolinewidth": 2
          },
          "yaxis": {
           "automargin": true,
           "gridcolor": "white",
           "linecolor": "white",
           "ticks": "",
           "title": {
            "standoff": 15
           },
           "zerolinecolor": "white",
           "zerolinewidth": 2
          }
         }
        },
        "title": {
         "font": {
          "family": "<b>poppins",
          "size": 28
         },
         "text": "<b>Internet Services Status Distribution"
        }
       }
      }
     },
     "metadata": {},
     "output_type": "display_data"
    }
   ],
   "source": [
    "fig = px.pie(\n",
    "    data_frame=inet_services,\n",
    "    names=inet_services.index,\n",
    "    values= inet_services,\n",
    "    title= '<b>Internet Services Status Distribution',\n",
    "    color_discrete_sequence= used_color[0:3],\n",
    "    hole=.4\n",
    ")\n",
    "\n",
    "# Func that give the Chart a custom format\n",
    "update_layout(showlegend=True)\n",
    "\n",
    "fig.update_traces(\n",
    "    textinfo = 'label+percent',\n",
    "    textfont = {\n",
    "        'size' : 16,\n",
    "        'family' : 'consolas'\n",
    "    },\n",
    "    \n",
    "    hovertemplate = 'Status: %{label}<br>Frequency: %{value:,.0f}',\n",
    "    marker = dict(line = dict(color = '#222', width=2)),\n",
    "    pull = [.0, .0, .09]\n",
    ")\n",
    "iplot(fig)"
   ]
  },
  {
   "cell_type": "markdown",
   "metadata": {},
   "source": [
    "##### __Other Services__"
   ]
  },
  {
   "cell_type": "code",
   "execution_count": 26,
   "id": "01HY2D2T98HKQR5DYA1RX66ESK",
   "metadata": {},
   "outputs": [
    {
     "data": {
      "application/vnd.plotly.v1+json": {
       "config": {
        "linkText": "Export to plot.ly",
        "plotlyServerURL": "https://plot.ly",
        "showLink": false
       },
       "data": [
        {
         "hovertemplate": "Services Status: %{x}<br>Customer Frequency: %{y:,.2f}%",
         "marker": {
          "color": [
           "#ED1C24",
           "#FAF7F1",
           "#C0C0C0",
           "#F1ECDF",
           "#330072"
          ],
          "line": {
           "color": "#F8F9FA",
           "width": 2
          }
         },
         "text": [
          "90.3%",
          "9.7%"
         ],
         "textfont": {
          "color": "#111111",
          "family": "consolas",
          "size": 14
         },
         "type": "bar",
         "x": [
          "Yes",
          "No"
         ],
         "xaxis": "x",
         "y": [
          90.31662643759762,
          9.683373562402386
         ],
         "yaxis": "y"
        },
        {
         "hovertemplate": "Services Status: %{x}<br>Customer Frequency: %{y:,.2f}%",
         "marker": {
          "color": [
           "#ED1C24",
           "#FAF7F1",
           "#C0C0C0",
           "#F1ECDF",
           "#330072"
          ],
          "line": {
           "color": "#F8F9FA",
           "width": 2
          }
         },
         "text": [
          "48.1%",
          "42.2%",
          "9.7%"
         ],
         "textfont": {
          "color": "#111111",
          "family": "consolas",
          "size": 14
         },
         "type": "bar",
         "x": [
          "No",
          "Yes",
          "No phone service"
         ],
         "xaxis": "x2",
         "y": [
          48.13289791282124,
          42.18372852477638,
          9.683373562402386
         ],
         "yaxis": "y2"
        },
        {
         "hovertemplate": "Services Status: %{x}<br>Customer Frequency: %{y:,.2f}%",
         "marker": {
          "color": [
           "#ED1C24",
           "#FAF7F1",
           "#C0C0C0",
           "#F1ECDF",
           "#330072"
          ],
          "line": {
           "color": "#F8F9FA",
           "width": 2
          }
         },
         "text": [
          "49.7%",
          "28.7%",
          "21.7%"
         ],
         "textfont": {
          "color": "#111111",
          "family": "consolas",
          "size": 14
         },
         "type": "bar",
         "x": [
          "No",
          "Yes",
          "No internet service"
         ],
         "xaxis": "x3",
         "y": [
          49.666335368450945,
          28.666761323299728,
          21.666903308249324
         ],
         "yaxis": "y3"
        },
        {
         "hovertemplate": "Services Status: %{x}<br>Customer Frequency: %{y:,.2f}%",
         "marker": {
          "color": [
           "#ED1C24",
           "#FAF7F1",
           "#C0C0C0",
           "#F1ECDF",
           "#330072"
          ],
          "line": {
           "color": "#F8F9FA",
           "width": 2
          }
         },
         "text": [
          "43.8%",
          "34.5%",
          "21.7%"
         ],
         "textfont": {
          "color": "#111111",
          "family": "consolas",
          "size": 14
         },
         "type": "bar",
         "x": [
          "No",
          "Yes",
          "No internet service"
         ],
         "xaxis": "x4",
         "y": [
          43.84495243504188,
          34.48814425670879,
          21.666903308249324
         ],
         "yaxis": "y4"
        },
        {
         "hovertemplate": "Services Status: %{x}<br>Customer Frequency: %{y:,.2f}%",
         "marker": {
          "color": [
           "#ED1C24",
           "#FAF7F1",
           "#C0C0C0",
           "#F1ECDF",
           "#330072"
          ],
          "line": {
           "color": "#F8F9FA",
           "width": 2
          }
         },
         "text": [
          "43.9%",
          "34.4%",
          "21.7%"
         ],
         "textfont": {
          "color": "#111111",
          "family": "consolas",
          "size": 14
         },
         "type": "bar",
         "x": [
          "No",
          "Yes",
          "No internet service"
         ],
         "xaxis": "x5",
         "y": [
          43.944341899758626,
          34.38875479199205,
          21.666903308249324
         ],
         "yaxis": "y5"
        },
        {
         "hovertemplate": "Services Status: %{x}<br>Customer Frequency: %{y:,.2f}%",
         "marker": {
          "color": [
           "#ED1C24",
           "#FAF7F1",
           "#C0C0C0",
           "#F1ECDF",
           "#330072"
          ],
          "line": {
           "color": "#F8F9FA",
           "width": 2
          }
         },
         "text": [
          "49.3%",
          "29.0%",
          "21.7%"
         ],
         "textfont": {
          "color": "#111111",
          "family": "consolas",
          "size": 14
         },
         "type": "bar",
         "x": [
          "No",
          "Yes",
          "No internet service"
         ],
         "xaxis": "x6",
         "y": [
          49.31137299446259,
          29.02172369728809,
          21.666903308249324
         ],
         "yaxis": "y6"
        },
        {
         "hovertemplate": "Services Status: %{x}<br>Customer Frequency: %{y:,.2f}%",
         "marker": {
          "color": [
           "#ED1C24",
           "#FAF7F1",
           "#C0C0C0",
           "#F1ECDF",
           "#330072"
          ],
          "line": {
           "color": "#F8F9FA",
           "width": 2
          }
         },
         "text": [
          "39.9%",
          "38.4%",
          "21.7%"
         ],
         "textfont": {
          "color": "#111111",
          "family": "consolas",
          "size": 14
         },
         "type": "bar",
         "x": [
          "No",
          "Yes",
          "No internet service"
         ],
         "xaxis": "x7",
         "y": [
          39.89777083629135,
          38.435325855459325,
          21.666903308249324
         ],
         "yaxis": "y7"
        },
        {
         "hovertemplate": "Services Status: %{x}<br>Customer Frequency: %{y:,.2f}%",
         "marker": {
          "color": [
           "#ED1C24",
           "#FAF7F1",
           "#C0C0C0",
           "#F1ECDF",
           "#330072"
          ],
          "line": {
           "color": "#F8F9FA",
           "width": 2
          }
         },
         "text": [
          "39.5%",
          "38.8%",
          "21.7%"
         ],
         "textfont": {
          "color": "#111111",
          "family": "consolas",
          "size": 14
         },
         "type": "bar",
         "x": [
          "No",
          "Yes",
          "No internet service"
         ],
         "xaxis": "x8",
         "y": [
          39.542808462303,
          38.790288229447675,
          21.666903308249324
         ],
         "yaxis": "y8"
        }
       ],
       "layout": {
        "annotations": [
         {
          "font": {
           "size": 16
          },
          "showarrow": false,
          "text": "PhoneService",
          "x": 0.225,
          "xanchor": "center",
          "xref": "paper",
          "y": 1,
          "yanchor": "bottom",
          "yref": "paper"
         },
         {
          "font": {
           "size": 16
          },
          "showarrow": false,
          "text": "MultipleLines",
          "x": 0.775,
          "xanchor": "center",
          "xref": "paper",
          "y": 1,
          "yanchor": "bottom",
          "yref": "paper"
         },
         {
          "font": {
           "size": 16
          },
          "showarrow": false,
          "text": "OnlineSecurity",
          "x": 0.225,
          "xanchor": "center",
          "xref": "paper",
          "y": 0.71875,
          "yanchor": "bottom",
          "yref": "paper"
         },
         {
          "font": {
           "size": 16
          },
          "showarrow": false,
          "text": "OnlineBackup",
          "x": 0.775,
          "xanchor": "center",
          "xref": "paper",
          "y": 0.71875,
          "yanchor": "bottom",
          "yref": "paper"
         },
         {
          "font": {
           "size": 16
          },
          "showarrow": false,
          "text": "DeviceProtection",
          "x": 0.225,
          "xanchor": "center",
          "xref": "paper",
          "y": 0.4375,
          "yanchor": "bottom",
          "yref": "paper"
         },
         {
          "font": {
           "size": 16
          },
          "showarrow": false,
          "text": "TechSupport",
          "x": 0.775,
          "xanchor": "center",
          "xref": "paper",
          "y": 0.4375,
          "yanchor": "bottom",
          "yref": "paper"
         },
         {
          "font": {
           "size": 16
          },
          "showarrow": false,
          "text": "StreamingTV",
          "x": 0.225,
          "xanchor": "center",
          "xref": "paper",
          "y": 0.15625,
          "yanchor": "bottom",
          "yref": "paper"
         },
         {
          "font": {
           "size": 16
          },
          "showarrow": false,
          "text": "StreamingMovies",
          "x": 0.775,
          "xanchor": "center",
          "xref": "paper",
          "y": 0.15625,
          "yanchor": "bottom",
          "yref": "paper"
         }
        ],
        "height": 1700,
        "hoverlabel": {
         "bgcolor": "#F8F9FA",
         "font": {
          "family": "poppins",
          "size": 14
         }
        },
        "showlegend": false,
        "template": {
         "data": {
          "bar": [
           {
            "error_x": {
             "color": "#f2f5fa"
            },
            "error_y": {
             "color": "#f2f5fa"
            },
            "marker": {
             "line": {
              "color": "rgb(17,17,17)",
              "width": 0.5
             },
             "pattern": {
              "fillmode": "overlay",
              "size": 10,
              "solidity": 0.2
             }
            },
            "type": "bar"
           }
          ],
          "barpolar": [
           {
            "marker": {
             "line": {
              "color": "rgb(17,17,17)",
              "width": 0.5
             },
             "pattern": {
              "fillmode": "overlay",
              "size": 10,
              "solidity": 0.2
             }
            },
            "type": "barpolar"
           }
          ],
          "carpet": [
           {
            "aaxis": {
             "endlinecolor": "#A2B1C6",
             "gridcolor": "#506784",
             "linecolor": "#506784",
             "minorgridcolor": "#506784",
             "startlinecolor": "#A2B1C6"
            },
            "baxis": {
             "endlinecolor": "#A2B1C6",
             "gridcolor": "#506784",
             "linecolor": "#506784",
             "minorgridcolor": "#506784",
             "startlinecolor": "#A2B1C6"
            },
            "type": "carpet"
           }
          ],
          "choropleth": [
           {
            "colorbar": {
             "outlinewidth": 0,
             "ticks": ""
            },
            "type": "choropleth"
           }
          ],
          "contour": [
           {
            "colorbar": {
             "outlinewidth": 0,
             "ticks": ""
            },
            "colorscale": [
             [
              0,
              "#0d0887"
             ],
             [
              0.1111111111111111,
              "#46039f"
             ],
             [
              0.2222222222222222,
              "#7201a8"
             ],
             [
              0.3333333333333333,
              "#9c179e"
             ],
             [
              0.4444444444444444,
              "#bd3786"
             ],
             [
              0.5555555555555556,
              "#d8576b"
             ],
             [
              0.6666666666666666,
              "#ed7953"
             ],
             [
              0.7777777777777778,
              "#fb9f3a"
             ],
             [
              0.8888888888888888,
              "#fdca26"
             ],
             [
              1,
              "#f0f921"
             ]
            ],
            "type": "contour"
           }
          ],
          "contourcarpet": [
           {
            "colorbar": {
             "outlinewidth": 0,
             "ticks": ""
            },
            "type": "contourcarpet"
           }
          ],
          "heatmap": [
           {
            "colorbar": {
             "outlinewidth": 0,
             "ticks": ""
            },
            "colorscale": [
             [
              0,
              "#0d0887"
             ],
             [
              0.1111111111111111,
              "#46039f"
             ],
             [
              0.2222222222222222,
              "#7201a8"
             ],
             [
              0.3333333333333333,
              "#9c179e"
             ],
             [
              0.4444444444444444,
              "#bd3786"
             ],
             [
              0.5555555555555556,
              "#d8576b"
             ],
             [
              0.6666666666666666,
              "#ed7953"
             ],
             [
              0.7777777777777778,
              "#fb9f3a"
             ],
             [
              0.8888888888888888,
              "#fdca26"
             ],
             [
              1,
              "#f0f921"
             ]
            ],
            "type": "heatmap"
           }
          ],
          "heatmapgl": [
           {
            "colorbar": {
             "outlinewidth": 0,
             "ticks": ""
            },
            "colorscale": [
             [
              0,
              "#0d0887"
             ],
             [
              0.1111111111111111,
              "#46039f"
             ],
             [
              0.2222222222222222,
              "#7201a8"
             ],
             [
              0.3333333333333333,
              "#9c179e"
             ],
             [
              0.4444444444444444,
              "#bd3786"
             ],
             [
              0.5555555555555556,
              "#d8576b"
             ],
             [
              0.6666666666666666,
              "#ed7953"
             ],
             [
              0.7777777777777778,
              "#fb9f3a"
             ],
             [
              0.8888888888888888,
              "#fdca26"
             ],
             [
              1,
              "#f0f921"
             ]
            ],
            "type": "heatmapgl"
           }
          ],
          "histogram": [
           {
            "marker": {
             "pattern": {
              "fillmode": "overlay",
              "size": 10,
              "solidity": 0.2
             }
            },
            "type": "histogram"
           }
          ],
          "histogram2d": [
           {
            "colorbar": {
             "outlinewidth": 0,
             "ticks": ""
            },
            "colorscale": [
             [
              0,
              "#0d0887"
             ],
             [
              0.1111111111111111,
              "#46039f"
             ],
             [
              0.2222222222222222,
              "#7201a8"
             ],
             [
              0.3333333333333333,
              "#9c179e"
             ],
             [
              0.4444444444444444,
              "#bd3786"
             ],
             [
              0.5555555555555556,
              "#d8576b"
             ],
             [
              0.6666666666666666,
              "#ed7953"
             ],
             [
              0.7777777777777778,
              "#fb9f3a"
             ],
             [
              0.8888888888888888,
              "#fdca26"
             ],
             [
              1,
              "#f0f921"
             ]
            ],
            "type": "histogram2d"
           }
          ],
          "histogram2dcontour": [
           {
            "colorbar": {
             "outlinewidth": 0,
             "ticks": ""
            },
            "colorscale": [
             [
              0,
              "#0d0887"
             ],
             [
              0.1111111111111111,
              "#46039f"
             ],
             [
              0.2222222222222222,
              "#7201a8"
             ],
             [
              0.3333333333333333,
              "#9c179e"
             ],
             [
              0.4444444444444444,
              "#bd3786"
             ],
             [
              0.5555555555555556,
              "#d8576b"
             ],
             [
              0.6666666666666666,
              "#ed7953"
             ],
             [
              0.7777777777777778,
              "#fb9f3a"
             ],
             [
              0.8888888888888888,
              "#fdca26"
             ],
             [
              1,
              "#f0f921"
             ]
            ],
            "type": "histogram2dcontour"
           }
          ],
          "mesh3d": [
           {
            "colorbar": {
             "outlinewidth": 0,
             "ticks": ""
            },
            "type": "mesh3d"
           }
          ],
          "parcoords": [
           {
            "line": {
             "colorbar": {
              "outlinewidth": 0,
              "ticks": ""
             }
            },
            "type": "parcoords"
           }
          ],
          "pie": [
           {
            "automargin": true,
            "type": "pie"
           }
          ],
          "scatter": [
           {
            "marker": {
             "line": {
              "color": "#283442"
             }
            },
            "type": "scatter"
           }
          ],
          "scatter3d": [
           {
            "line": {
             "colorbar": {
              "outlinewidth": 0,
              "ticks": ""
             }
            },
            "marker": {
             "colorbar": {
              "outlinewidth": 0,
              "ticks": ""
             }
            },
            "type": "scatter3d"
           }
          ],
          "scattercarpet": [
           {
            "marker": {
             "colorbar": {
              "outlinewidth": 0,
              "ticks": ""
             }
            },
            "type": "scattercarpet"
           }
          ],
          "scattergeo": [
           {
            "marker": {
             "colorbar": {
              "outlinewidth": 0,
              "ticks": ""
             }
            },
            "type": "scattergeo"
           }
          ],
          "scattergl": [
           {
            "marker": {
             "line": {
              "color": "#283442"
             }
            },
            "type": "scattergl"
           }
          ],
          "scattermapbox": [
           {
            "marker": {
             "colorbar": {
              "outlinewidth": 0,
              "ticks": ""
             }
            },
            "type": "scattermapbox"
           }
          ],
          "scatterpolar": [
           {
            "marker": {
             "colorbar": {
              "outlinewidth": 0,
              "ticks": ""
             }
            },
            "type": "scatterpolar"
           }
          ],
          "scatterpolargl": [
           {
            "marker": {
             "colorbar": {
              "outlinewidth": 0,
              "ticks": ""
             }
            },
            "type": "scatterpolargl"
           }
          ],
          "scatterternary": [
           {
            "marker": {
             "colorbar": {
              "outlinewidth": 0,
              "ticks": ""
             }
            },
            "type": "scatterternary"
           }
          ],
          "surface": [
           {
            "colorbar": {
             "outlinewidth": 0,
             "ticks": ""
            },
            "colorscale": [
             [
              0,
              "#0d0887"
             ],
             [
              0.1111111111111111,
              "#46039f"
             ],
             [
              0.2222222222222222,
              "#7201a8"
             ],
             [
              0.3333333333333333,
              "#9c179e"
             ],
             [
              0.4444444444444444,
              "#bd3786"
             ],
             [
              0.5555555555555556,
              "#d8576b"
             ],
             [
              0.6666666666666666,
              "#ed7953"
             ],
             [
              0.7777777777777778,
              "#fb9f3a"
             ],
             [
              0.8888888888888888,
              "#fdca26"
             ],
             [
              1,
              "#f0f921"
             ]
            ],
            "type": "surface"
           }
          ],
          "table": [
           {
            "cells": {
             "fill": {
              "color": "#506784"
             },
             "line": {
              "color": "rgb(17,17,17)"
             }
            },
            "header": {
             "fill": {
              "color": "#2a3f5f"
             },
             "line": {
              "color": "rgb(17,17,17)"
             }
            },
            "type": "table"
           }
          ]
         },
         "layout": {
          "annotationdefaults": {
           "arrowcolor": "#f2f5fa",
           "arrowhead": 0,
           "arrowwidth": 1
          },
          "autotypenumbers": "strict",
          "coloraxis": {
           "colorbar": {
            "outlinewidth": 0,
            "ticks": ""
           }
          },
          "colorscale": {
           "diverging": [
            [
             0,
             "#8e0152"
            ],
            [
             0.1,
             "#c51b7d"
            ],
            [
             0.2,
             "#de77ae"
            ],
            [
             0.3,
             "#f1b6da"
            ],
            [
             0.4,
             "#fde0ef"
            ],
            [
             0.5,
             "#f7f7f7"
            ],
            [
             0.6,
             "#e6f5d0"
            ],
            [
             0.7,
             "#b8e186"
            ],
            [
             0.8,
             "#7fbc41"
            ],
            [
             0.9,
             "#4d9221"
            ],
            [
             1,
             "#276419"
            ]
           ],
           "sequential": [
            [
             0,
             "#0d0887"
            ],
            [
             0.1111111111111111,
             "#46039f"
            ],
            [
             0.2222222222222222,
             "#7201a8"
            ],
            [
             0.3333333333333333,
             "#9c179e"
            ],
            [
             0.4444444444444444,
             "#bd3786"
            ],
            [
             0.5555555555555556,
             "#d8576b"
            ],
            [
             0.6666666666666666,
             "#ed7953"
            ],
            [
             0.7777777777777778,
             "#fb9f3a"
            ],
            [
             0.8888888888888888,
             "#fdca26"
            ],
            [
             1,
             "#f0f921"
            ]
           ],
           "sequentialminus": [
            [
             0,
             "#0d0887"
            ],
            [
             0.1111111111111111,
             "#46039f"
            ],
            [
             0.2222222222222222,
             "#7201a8"
            ],
            [
             0.3333333333333333,
             "#9c179e"
            ],
            [
             0.4444444444444444,
             "#bd3786"
            ],
            [
             0.5555555555555556,
             "#d8576b"
            ],
            [
             0.6666666666666666,
             "#ed7953"
            ],
            [
             0.7777777777777778,
             "#fb9f3a"
            ],
            [
             0.8888888888888888,
             "#fdca26"
            ],
            [
             1,
             "#f0f921"
            ]
           ]
          },
          "colorway": [
           "#636efa",
           "#EF553B",
           "#00cc96",
           "#ab63fa",
           "#FFA15A",
           "#19d3f3",
           "#FF6692",
           "#B6E880",
           "#FF97FF",
           "#FECB52"
          ],
          "font": {
           "color": "#f2f5fa"
          },
          "geo": {
           "bgcolor": "rgb(17,17,17)",
           "lakecolor": "rgb(17,17,17)",
           "landcolor": "rgb(17,17,17)",
           "showlakes": true,
           "showland": true,
           "subunitcolor": "#506784"
          },
          "hoverlabel": {
           "align": "left"
          },
          "hovermode": "closest",
          "mapbox": {
           "style": "dark"
          },
          "paper_bgcolor": "rgb(17,17,17)",
          "plot_bgcolor": "rgb(17,17,17)",
          "polar": {
           "angularaxis": {
            "gridcolor": "#506784",
            "linecolor": "#506784",
            "ticks": ""
           },
           "bgcolor": "rgb(17,17,17)",
           "radialaxis": {
            "gridcolor": "#506784",
            "linecolor": "#506784",
            "ticks": ""
           }
          },
          "scene": {
           "xaxis": {
            "backgroundcolor": "rgb(17,17,17)",
            "gridcolor": "#506784",
            "gridwidth": 2,
            "linecolor": "#506784",
            "showbackground": true,
            "ticks": "",
            "zerolinecolor": "#C8D4E3"
           },
           "yaxis": {
            "backgroundcolor": "rgb(17,17,17)",
            "gridcolor": "#506784",
            "gridwidth": 2,
            "linecolor": "#506784",
            "showbackground": true,
            "ticks": "",
            "zerolinecolor": "#C8D4E3"
           },
           "zaxis": {
            "backgroundcolor": "rgb(17,17,17)",
            "gridcolor": "#506784",
            "gridwidth": 2,
            "linecolor": "#506784",
            "showbackground": true,
            "ticks": "",
            "zerolinecolor": "#C8D4E3"
           }
          },
          "shapedefaults": {
           "line": {
            "color": "#f2f5fa"
           }
          },
          "sliderdefaults": {
           "bgcolor": "#C8D4E3",
           "bordercolor": "rgb(17,17,17)",
           "borderwidth": 1,
           "tickwidth": 0
          },
          "ternary": {
           "aaxis": {
            "gridcolor": "#506784",
            "linecolor": "#506784",
            "ticks": ""
           },
           "baxis": {
            "gridcolor": "#506784",
            "linecolor": "#506784",
            "ticks": ""
           },
           "bgcolor": "rgb(17,17,17)",
           "caxis": {
            "gridcolor": "#506784",
            "linecolor": "#506784",
            "ticks": ""
           }
          },
          "title": {
           "x": 0.05
          },
          "updatemenudefaults": {
           "bgcolor": "#506784",
           "borderwidth": 0
          },
          "xaxis": {
           "automargin": true,
           "gridcolor": "#283442",
           "linecolor": "#506784",
           "ticks": "",
           "title": {
            "standoff": 15
           },
           "zerolinecolor": "#283442",
           "zerolinewidth": 2
          },
          "yaxis": {
           "automargin": true,
           "gridcolor": "#283442",
           "linecolor": "#506784",
           "ticks": "",
           "title": {
            "standoff": 15
           },
           "zerolinecolor": "#283442",
           "zerolinewidth": 2
          }
         }
        },
        "title": {
         "font": {
          "family": "<b>poppins",
          "size": 28
         },
         "text": "<b>Services Customer Distributions"
        },
        "xaxis": {
         "anchor": "y",
         "domain": [
          0,
          0.45
         ]
        },
        "xaxis2": {
         "anchor": "y2",
         "domain": [
          0.55,
          1
         ]
        },
        "xaxis3": {
         "anchor": "y3",
         "domain": [
          0,
          0.45
         ]
        },
        "xaxis4": {
         "anchor": "y4",
         "domain": [
          0.55,
          1
         ]
        },
        "xaxis5": {
         "anchor": "y5",
         "domain": [
          0,
          0.45
         ]
        },
        "xaxis6": {
         "anchor": "y6",
         "domain": [
          0.55,
          1
         ]
        },
        "xaxis7": {
         "anchor": "y7",
         "domain": [
          0,
          0.45
         ]
        },
        "xaxis8": {
         "anchor": "y8",
         "domain": [
          0.55,
          1
         ]
        },
        "yaxis": {
         "anchor": "x",
         "domain": [
          0.84375,
          1
         ]
        },
        "yaxis2": {
         "anchor": "x2",
         "domain": [
          0.84375,
          1
         ]
        },
        "yaxis3": {
         "anchor": "x3",
         "domain": [
          0.5625,
          0.71875
         ]
        },
        "yaxis4": {
         "anchor": "x4",
         "domain": [
          0.5625,
          0.71875
         ]
        },
        "yaxis5": {
         "anchor": "x5",
         "domain": [
          0.28125,
          0.4375
         ]
        },
        "yaxis6": {
         "anchor": "x6",
         "domain": [
          0.28125,
          0.4375
         ]
        },
        "yaxis7": {
         "anchor": "x7",
         "domain": [
          0,
          0.15625
         ]
        },
        "yaxis8": {
         "anchor": "x8",
         "domain": [
          0,
          0.15625
         ]
        }
       }
      }
     },
     "metadata": {},
     "output_type": "display_data"
    }
   ],
   "source": [
    "from plotly.subplots import make_subplots\n",
    "import plotly.graph_objects as go\n",
    "\n",
    "# Choose Columns using `np.r_` method\n",
    "target_cols = df.columns[np.r_[5:7, 8:14]]\n",
    "\n",
    "fig = make_subplots(rows=4, cols=2, subplot_titles=target_cols)\n",
    "\n",
    "r, c = 1, 0\n",
    "\n",
    "for i in range(0, len(target_cols)):\n",
    "    c += 1\n",
    "    temp = df[target_cols[i]].value_counts()\n",
    "    fig.add_trace(\n",
    "        go.Bar(\n",
    "            x= temp.index,\n",
    "            y= temp/sum(temp)*100,\n",
    "            text= temp.apply(lambda x: f'{x / sum(temp)*100:,.1f}%'),\n",
    "            marker= dict(color=used_color)\n",
    "        ),\n",
    "        row=r,\n",
    "        col=c\n",
    "    )\n",
    "    \n",
    "    if c == 2:\n",
    "        r += 1\n",
    "        c = 0\n",
    "\n",
    "fig.update_layout(height= 1700, title_text= '<b>Services Customer Distributions', template= 'plotly_dark')\n",
    "\n",
    "update_layout(showlegend= False, hover_bgcolor='#F8F9FA', hover_font_size=14)\n",
    "\n",
    "fig.update_traces(\n",
    "    textfont= {\n",
    "        'size': 14,\n",
    "        'family': 'consolas',\n",
    "        'color': '#111111'\n",
    "    },\n",
    "    \n",
    "    marker= dict(line= dict(color= '#F8F9FA', width= 2.0)),\n",
    "    hovertemplate= 'Services Status: %{x}<br>Customer Frequency: %{y:,.2f}%'\n",
    ")\n",
    "    \n",
    "iplot(fig)"
   ]
  },
  {
   "cell_type": "markdown",
   "metadata": {},
   "source": [
    "##### __Contract Column__"
   ]
  },
  {
   "cell_type": "code",
   "execution_count": 27,
   "id": "01HY2DH3VA2EXZ33C2V77XS1C1",
   "metadata": {},
   "outputs": [
    {
     "data": {
      "application/vnd.plotly.v1+json": {
       "config": {
        "linkText": "Export to plot.ly",
        "plotlyServerURL": "https://plot.ly",
        "showLink": false
       },
       "data": [
        {
         "alignmentgroup": "True",
         "hovertemplate": "Contract: %{x}<br>Frequency in PCT(%): y{y:,.0f}",
         "legendgroup": "Month-to-month",
         "marker": {
          "color": "#ED1C24",
          "line": {
           "color": "#FEFEFE",
           "width": 2
          },
          "pattern": {
           "shape": ""
          }
         },
         "name": "Month-to-month",
         "offsetgroup": "Month-to-month",
         "orientation": "v",
         "showlegend": true,
         "text": [
          "55.0%"
         ],
         "textfont": {
          "color": "#222",
          "family": "consolas",
          "size": 18
         },
         "textposition": "auto",
         "type": "bar",
         "x": [
          "Month-to-month"
         ],
         "xaxis": "x",
         "y": [
          55.01916796819537
         ],
         "yaxis": "y"
        },
        {
         "alignmentgroup": "True",
         "hovertemplate": "Contract: %{x}<br>Frequency in PCT(%): y{y:,.0f}",
         "legendgroup": "Two year",
         "marker": {
          "color": "#FAF7F1",
          "line": {
           "color": "#FEFEFE",
           "width": 2
          },
          "pattern": {
           "shape": ""
          }
         },
         "name": "Two year",
         "offsetgroup": "Two year",
         "orientation": "v",
         "showlegend": true,
         "text": [
          "24.1%"
         ],
         "textfont": {
          "color": "#222",
          "family": "consolas",
          "size": 18
         },
         "textposition": "auto",
         "type": "bar",
         "x": [
          "Two year"
         ],
         "xaxis": "x",
         "y": [
          24.06644895641062
         ],
         "yaxis": "y"
        },
        {
         "alignmentgroup": "True",
         "hovertemplate": "Contract: %{x}<br>Frequency in PCT(%): y{y:,.0f}",
         "legendgroup": "One year",
         "marker": {
          "color": "#C0C0C0",
          "line": {
           "color": "#FEFEFE",
           "width": 2
          },
          "pattern": {
           "shape": ""
          }
         },
         "name": "One year",
         "offsetgroup": "One year",
         "orientation": "v",
         "showlegend": true,
         "text": [
          "20.9%"
         ],
         "textfont": {
          "color": "#222",
          "family": "consolas",
          "size": 18
         },
         "textposition": "auto",
         "type": "bar",
         "x": [
          "One year"
         ],
         "xaxis": "x",
         "y": [
          20.914383075394007
         ],
         "yaxis": "y"
        }
       ],
       "layout": {
        "barmode": "relative",
        "hoverlabel": {
         "bgcolor": "#222",
         "font": {
          "family": "poppins",
          "size": 16
         }
        },
        "legend": {
         "title": {
          "text": "<b>Contract"
         },
         "tracegroupgap": 0
        },
        "showlegend": false,
        "template": {
         "data": {
          "bar": [
           {
            "error_x": {
             "color": "#f2f5fa"
            },
            "error_y": {
             "color": "#f2f5fa"
            },
            "marker": {
             "line": {
              "color": "rgb(17,17,17)",
              "width": 0.5
             },
             "pattern": {
              "fillmode": "overlay",
              "size": 10,
              "solidity": 0.2
             }
            },
            "type": "bar"
           }
          ],
          "barpolar": [
           {
            "marker": {
             "line": {
              "color": "rgb(17,17,17)",
              "width": 0.5
             },
             "pattern": {
              "fillmode": "overlay",
              "size": 10,
              "solidity": 0.2
             }
            },
            "type": "barpolar"
           }
          ],
          "carpet": [
           {
            "aaxis": {
             "endlinecolor": "#A2B1C6",
             "gridcolor": "#506784",
             "linecolor": "#506784",
             "minorgridcolor": "#506784",
             "startlinecolor": "#A2B1C6"
            },
            "baxis": {
             "endlinecolor": "#A2B1C6",
             "gridcolor": "#506784",
             "linecolor": "#506784",
             "minorgridcolor": "#506784",
             "startlinecolor": "#A2B1C6"
            },
            "type": "carpet"
           }
          ],
          "choropleth": [
           {
            "colorbar": {
             "outlinewidth": 0,
             "ticks": ""
            },
            "type": "choropleth"
           }
          ],
          "contour": [
           {
            "colorbar": {
             "outlinewidth": 0,
             "ticks": ""
            },
            "colorscale": [
             [
              0,
              "#0d0887"
             ],
             [
              0.1111111111111111,
              "#46039f"
             ],
             [
              0.2222222222222222,
              "#7201a8"
             ],
             [
              0.3333333333333333,
              "#9c179e"
             ],
             [
              0.4444444444444444,
              "#bd3786"
             ],
             [
              0.5555555555555556,
              "#d8576b"
             ],
             [
              0.6666666666666666,
              "#ed7953"
             ],
             [
              0.7777777777777778,
              "#fb9f3a"
             ],
             [
              0.8888888888888888,
              "#fdca26"
             ],
             [
              1,
              "#f0f921"
             ]
            ],
            "type": "contour"
           }
          ],
          "contourcarpet": [
           {
            "colorbar": {
             "outlinewidth": 0,
             "ticks": ""
            },
            "type": "contourcarpet"
           }
          ],
          "heatmap": [
           {
            "colorbar": {
             "outlinewidth": 0,
             "ticks": ""
            },
            "colorscale": [
             [
              0,
              "#0d0887"
             ],
             [
              0.1111111111111111,
              "#46039f"
             ],
             [
              0.2222222222222222,
              "#7201a8"
             ],
             [
              0.3333333333333333,
              "#9c179e"
             ],
             [
              0.4444444444444444,
              "#bd3786"
             ],
             [
              0.5555555555555556,
              "#d8576b"
             ],
             [
              0.6666666666666666,
              "#ed7953"
             ],
             [
              0.7777777777777778,
              "#fb9f3a"
             ],
             [
              0.8888888888888888,
              "#fdca26"
             ],
             [
              1,
              "#f0f921"
             ]
            ],
            "type": "heatmap"
           }
          ],
          "heatmapgl": [
           {
            "colorbar": {
             "outlinewidth": 0,
             "ticks": ""
            },
            "colorscale": [
             [
              0,
              "#0d0887"
             ],
             [
              0.1111111111111111,
              "#46039f"
             ],
             [
              0.2222222222222222,
              "#7201a8"
             ],
             [
              0.3333333333333333,
              "#9c179e"
             ],
             [
              0.4444444444444444,
              "#bd3786"
             ],
             [
              0.5555555555555556,
              "#d8576b"
             ],
             [
              0.6666666666666666,
              "#ed7953"
             ],
             [
              0.7777777777777778,
              "#fb9f3a"
             ],
             [
              0.8888888888888888,
              "#fdca26"
             ],
             [
              1,
              "#f0f921"
             ]
            ],
            "type": "heatmapgl"
           }
          ],
          "histogram": [
           {
            "marker": {
             "pattern": {
              "fillmode": "overlay",
              "size": 10,
              "solidity": 0.2
             }
            },
            "type": "histogram"
           }
          ],
          "histogram2d": [
           {
            "colorbar": {
             "outlinewidth": 0,
             "ticks": ""
            },
            "colorscale": [
             [
              0,
              "#0d0887"
             ],
             [
              0.1111111111111111,
              "#46039f"
             ],
             [
              0.2222222222222222,
              "#7201a8"
             ],
             [
              0.3333333333333333,
              "#9c179e"
             ],
             [
              0.4444444444444444,
              "#bd3786"
             ],
             [
              0.5555555555555556,
              "#d8576b"
             ],
             [
              0.6666666666666666,
              "#ed7953"
             ],
             [
              0.7777777777777778,
              "#fb9f3a"
             ],
             [
              0.8888888888888888,
              "#fdca26"
             ],
             [
              1,
              "#f0f921"
             ]
            ],
            "type": "histogram2d"
           }
          ],
          "histogram2dcontour": [
           {
            "colorbar": {
             "outlinewidth": 0,
             "ticks": ""
            },
            "colorscale": [
             [
              0,
              "#0d0887"
             ],
             [
              0.1111111111111111,
              "#46039f"
             ],
             [
              0.2222222222222222,
              "#7201a8"
             ],
             [
              0.3333333333333333,
              "#9c179e"
             ],
             [
              0.4444444444444444,
              "#bd3786"
             ],
             [
              0.5555555555555556,
              "#d8576b"
             ],
             [
              0.6666666666666666,
              "#ed7953"
             ],
             [
              0.7777777777777778,
              "#fb9f3a"
             ],
             [
              0.8888888888888888,
              "#fdca26"
             ],
             [
              1,
              "#f0f921"
             ]
            ],
            "type": "histogram2dcontour"
           }
          ],
          "mesh3d": [
           {
            "colorbar": {
             "outlinewidth": 0,
             "ticks": ""
            },
            "type": "mesh3d"
           }
          ],
          "parcoords": [
           {
            "line": {
             "colorbar": {
              "outlinewidth": 0,
              "ticks": ""
             }
            },
            "type": "parcoords"
           }
          ],
          "pie": [
           {
            "automargin": true,
            "type": "pie"
           }
          ],
          "scatter": [
           {
            "marker": {
             "line": {
              "color": "#283442"
             }
            },
            "type": "scatter"
           }
          ],
          "scatter3d": [
           {
            "line": {
             "colorbar": {
              "outlinewidth": 0,
              "ticks": ""
             }
            },
            "marker": {
             "colorbar": {
              "outlinewidth": 0,
              "ticks": ""
             }
            },
            "type": "scatter3d"
           }
          ],
          "scattercarpet": [
           {
            "marker": {
             "colorbar": {
              "outlinewidth": 0,
              "ticks": ""
             }
            },
            "type": "scattercarpet"
           }
          ],
          "scattergeo": [
           {
            "marker": {
             "colorbar": {
              "outlinewidth": 0,
              "ticks": ""
             }
            },
            "type": "scattergeo"
           }
          ],
          "scattergl": [
           {
            "marker": {
             "line": {
              "color": "#283442"
             }
            },
            "type": "scattergl"
           }
          ],
          "scattermapbox": [
           {
            "marker": {
             "colorbar": {
              "outlinewidth": 0,
              "ticks": ""
             }
            },
            "type": "scattermapbox"
           }
          ],
          "scatterpolar": [
           {
            "marker": {
             "colorbar": {
              "outlinewidth": 0,
              "ticks": ""
             }
            },
            "type": "scatterpolar"
           }
          ],
          "scatterpolargl": [
           {
            "marker": {
             "colorbar": {
              "outlinewidth": 0,
              "ticks": ""
             }
            },
            "type": "scatterpolargl"
           }
          ],
          "scatterternary": [
           {
            "marker": {
             "colorbar": {
              "outlinewidth": 0,
              "ticks": ""
             }
            },
            "type": "scatterternary"
           }
          ],
          "surface": [
           {
            "colorbar": {
             "outlinewidth": 0,
             "ticks": ""
            },
            "colorscale": [
             [
              0,
              "#0d0887"
             ],
             [
              0.1111111111111111,
              "#46039f"
             ],
             [
              0.2222222222222222,
              "#7201a8"
             ],
             [
              0.3333333333333333,
              "#9c179e"
             ],
             [
              0.4444444444444444,
              "#bd3786"
             ],
             [
              0.5555555555555556,
              "#d8576b"
             ],
             [
              0.6666666666666666,
              "#ed7953"
             ],
             [
              0.7777777777777778,
              "#fb9f3a"
             ],
             [
              0.8888888888888888,
              "#fdca26"
             ],
             [
              1,
              "#f0f921"
             ]
            ],
            "type": "surface"
           }
          ],
          "table": [
           {
            "cells": {
             "fill": {
              "color": "#506784"
             },
             "line": {
              "color": "rgb(17,17,17)"
             }
            },
            "header": {
             "fill": {
              "color": "#2a3f5f"
             },
             "line": {
              "color": "rgb(17,17,17)"
             }
            },
            "type": "table"
           }
          ]
         },
         "layout": {
          "annotationdefaults": {
           "arrowcolor": "#f2f5fa",
           "arrowhead": 0,
           "arrowwidth": 1
          },
          "autotypenumbers": "strict",
          "coloraxis": {
           "colorbar": {
            "outlinewidth": 0,
            "ticks": ""
           }
          },
          "colorscale": {
           "diverging": [
            [
             0,
             "#8e0152"
            ],
            [
             0.1,
             "#c51b7d"
            ],
            [
             0.2,
             "#de77ae"
            ],
            [
             0.3,
             "#f1b6da"
            ],
            [
             0.4,
             "#fde0ef"
            ],
            [
             0.5,
             "#f7f7f7"
            ],
            [
             0.6,
             "#e6f5d0"
            ],
            [
             0.7,
             "#b8e186"
            ],
            [
             0.8,
             "#7fbc41"
            ],
            [
             0.9,
             "#4d9221"
            ],
            [
             1,
             "#276419"
            ]
           ],
           "sequential": [
            [
             0,
             "#0d0887"
            ],
            [
             0.1111111111111111,
             "#46039f"
            ],
            [
             0.2222222222222222,
             "#7201a8"
            ],
            [
             0.3333333333333333,
             "#9c179e"
            ],
            [
             0.4444444444444444,
             "#bd3786"
            ],
            [
             0.5555555555555556,
             "#d8576b"
            ],
            [
             0.6666666666666666,
             "#ed7953"
            ],
            [
             0.7777777777777778,
             "#fb9f3a"
            ],
            [
             0.8888888888888888,
             "#fdca26"
            ],
            [
             1,
             "#f0f921"
            ]
           ],
           "sequentialminus": [
            [
             0,
             "#0d0887"
            ],
            [
             0.1111111111111111,
             "#46039f"
            ],
            [
             0.2222222222222222,
             "#7201a8"
            ],
            [
             0.3333333333333333,
             "#9c179e"
            ],
            [
             0.4444444444444444,
             "#bd3786"
            ],
            [
             0.5555555555555556,
             "#d8576b"
            ],
            [
             0.6666666666666666,
             "#ed7953"
            ],
            [
             0.7777777777777778,
             "#fb9f3a"
            ],
            [
             0.8888888888888888,
             "#fdca26"
            ],
            [
             1,
             "#f0f921"
            ]
           ]
          },
          "colorway": [
           "#636efa",
           "#EF553B",
           "#00cc96",
           "#ab63fa",
           "#FFA15A",
           "#19d3f3",
           "#FF6692",
           "#B6E880",
           "#FF97FF",
           "#FECB52"
          ],
          "font": {
           "color": "#f2f5fa"
          },
          "geo": {
           "bgcolor": "rgb(17,17,17)",
           "lakecolor": "rgb(17,17,17)",
           "landcolor": "rgb(17,17,17)",
           "showlakes": true,
           "showland": true,
           "subunitcolor": "#506784"
          },
          "hoverlabel": {
           "align": "left"
          },
          "hovermode": "closest",
          "mapbox": {
           "style": "dark"
          },
          "paper_bgcolor": "rgb(17,17,17)",
          "plot_bgcolor": "rgb(17,17,17)",
          "polar": {
           "angularaxis": {
            "gridcolor": "#506784",
            "linecolor": "#506784",
            "ticks": ""
           },
           "bgcolor": "rgb(17,17,17)",
           "radialaxis": {
            "gridcolor": "#506784",
            "linecolor": "#506784",
            "ticks": ""
           }
          },
          "scene": {
           "xaxis": {
            "backgroundcolor": "rgb(17,17,17)",
            "gridcolor": "#506784",
            "gridwidth": 2,
            "linecolor": "#506784",
            "showbackground": true,
            "ticks": "",
            "zerolinecolor": "#C8D4E3"
           },
           "yaxis": {
            "backgroundcolor": "rgb(17,17,17)",
            "gridcolor": "#506784",
            "gridwidth": 2,
            "linecolor": "#506784",
            "showbackground": true,
            "ticks": "",
            "zerolinecolor": "#C8D4E3"
           },
           "zaxis": {
            "backgroundcolor": "rgb(17,17,17)",
            "gridcolor": "#506784",
            "gridwidth": 2,
            "linecolor": "#506784",
            "showbackground": true,
            "ticks": "",
            "zerolinecolor": "#C8D4E3"
           }
          },
          "shapedefaults": {
           "line": {
            "color": "#f2f5fa"
           }
          },
          "sliderdefaults": {
           "bgcolor": "#C8D4E3",
           "bordercolor": "rgb(17,17,17)",
           "borderwidth": 1,
           "tickwidth": 0
          },
          "ternary": {
           "aaxis": {
            "gridcolor": "#506784",
            "linecolor": "#506784",
            "ticks": ""
           },
           "baxis": {
            "gridcolor": "#506784",
            "linecolor": "#506784",
            "ticks": ""
           },
           "bgcolor": "rgb(17,17,17)",
           "caxis": {
            "gridcolor": "#506784",
            "linecolor": "#506784",
            "ticks": ""
           }
          },
          "title": {
           "x": 0.05
          },
          "updatemenudefaults": {
           "bgcolor": "#506784",
           "borderwidth": 0
          },
          "xaxis": {
           "automargin": true,
           "gridcolor": "#283442",
           "linecolor": "#506784",
           "ticks": "",
           "title": {
            "standoff": 15
           },
           "zerolinecolor": "#283442",
           "zerolinewidth": 2
          },
          "yaxis": {
           "automargin": true,
           "gridcolor": "#283442",
           "linecolor": "#506784",
           "ticks": "",
           "title": {
            "standoff": 15
           },
           "zerolinecolor": "#283442",
           "zerolinewidth": 2
          }
         }
        },
        "title": {
         "font": {
          "family": "<b>poppins",
          "size": 30
         },
         "text": "<b>Contract Status Distributions"
        },
        "xaxis": {
         "anchor": "y",
         "categoryarray": [
          "Month-to-month",
          "Two year",
          "One year"
         ],
         "categoryorder": "array",
         "domain": [
          0,
          1
         ],
         "title": {
          "text": "<b>Contract"
         }
        },
        "yaxis": {
         "anchor": "x",
         "domain": [
          0,
          1
         ],
         "title": {
          "text": "<b>Frequency in PCT (%)"
         }
        }
       }
      }
     },
     "metadata": {},
     "output_type": "display_data"
    }
   ],
   "source": [
    "fig = count_viz_func(\n",
    "    df,\n",
    "    column_name= 'Contract',\n",
    "    title= '<b>Contract Status Distributions',\n",
    "    x_label= '<b>Contract',\n",
    "    y_label= '<b>Frequency in PCT (%)',\n",
    "    hover_template= 'Contract: %{x}<br>Frequency in PCT(%): y{y:,.0f}')\n",
    "\n",
    "fig.update_traces(\n",
    "    marker = dict(line= dict(color='#FEFEFE', width=2))\n",
    ")\n",
    "iplot(fig)"
   ]
  },
  {
   "cell_type": "markdown",
   "metadata": {},
   "source": [
    "##### __Payment Method Column__"
   ]
  },
  {
   "cell_type": "code",
   "execution_count": 28,
   "id": "01HYA4PNVQ1Y2XNXHZQNVRSAHY",
   "metadata": {},
   "outputs": [
    {
     "data": {
      "text/plain": [
       "PaymentMethod\n",
       "Electronic check              33.58%\n",
       "Mailed check                  22.89%\n",
       "Bank transfer (automatic)     21.92%\n",
       "Credit card (automatic)       21.61%\n",
       "Name: proportion, dtype: object"
      ]
     },
     "execution_count": 28,
     "metadata": {},
     "output_type": "execute_result"
    }
   ],
   "source": [
    "payment_method = df['PaymentMethod'].value_counts(normalize=1)*100\n",
    "payment_method.apply(lambda x: f'{x: .2f}%')"
   ]
  },
  {
   "cell_type": "code",
   "execution_count": 29,
   "id": "01HYA4R6A6F0YTR11WMKE4R240",
   "metadata": {},
   "outputs": [
    {
     "data": {
      "application/vnd.plotly.v1+json": {
       "config": {
        "linkText": "Export to plot.ly",
        "plotlyServerURL": "https://plot.ly",
        "showLink": false
       },
       "data": [
        {
         "alignmentgroup": "True",
         "hovertemplate": "Payment Method: %{x}<br>Frequency in PCT(%): %{y:.2f}",
         "legendgroup": "Electronic check",
         "marker": {
          "color": "#ED1C24",
          "line": {
           "color": "#FEFEFE",
           "width": 2
          },
          "pattern": {
           "shape": ""
          }
         },
         "name": "Electronic check",
         "offsetgroup": "Electronic check",
         "orientation": "v",
         "showlegend": true,
         "text": [
          "33.6%"
         ],
         "textfont": {
          "color": "#222",
          "family": "consolas",
          "size": 18
         },
         "textposition": "auto",
         "type": "bar",
         "x": [
          "Electronic check"
         ],
         "xaxis": "x",
         "y": [
          33.57944057929859
         ],
         "yaxis": "y"
        },
        {
         "alignmentgroup": "True",
         "hovertemplate": "Payment Method: %{x}<br>Frequency in PCT(%): %{y:.2f}",
         "legendgroup": "Mailed check",
         "marker": {
          "color": "#FAF7F1",
          "line": {
           "color": "#FEFEFE",
           "width": 2
          },
          "pattern": {
           "shape": ""
          }
         },
         "name": "Mailed check",
         "offsetgroup": "Mailed check",
         "orientation": "v",
         "showlegend": true,
         "text": [
          "22.9%"
         ],
         "textfont": {
          "color": "#222",
          "family": "consolas",
          "size": 18
         },
         "textposition": "auto",
         "type": "bar",
         "x": [
          "Mailed check"
         ],
         "xaxis": "x",
         "y": [
          22.887973874769273
         ],
         "yaxis": "y"
        },
        {
         "alignmentgroup": "True",
         "hovertemplate": "Payment Method: %{x}<br>Frequency in PCT(%): %{y:.2f}",
         "legendgroup": "Bank transfer (automatic)",
         "marker": {
          "color": "#C0C0C0",
          "line": {
           "color": "#FEFEFE",
           "width": 2
          },
          "pattern": {
           "shape": ""
          }
         },
         "name": "Bank transfer (automatic)",
         "offsetgroup": "Bank transfer (automatic)",
         "orientation": "v",
         "showlegend": true,
         "text": [
          "21.9%"
         ],
         "textfont": {
          "color": "#222",
          "family": "consolas",
          "size": 18
         },
         "textposition": "auto",
         "type": "bar",
         "x": [
          "Bank transfer (automatic)"
         ],
         "xaxis": "x",
         "y": [
          21.92247621752094
         ],
         "yaxis": "y"
        },
        {
         "alignmentgroup": "True",
         "hovertemplate": "Payment Method: %{x}<br>Frequency in PCT(%): %{y:.2f}",
         "legendgroup": "Credit card (automatic)",
         "marker": {
          "color": "#F1ECDF",
          "line": {
           "color": "#FEFEFE",
           "width": 2
          },
          "pattern": {
           "shape": ""
          }
         },
         "name": "Credit card (automatic)",
         "offsetgroup": "Credit card (automatic)",
         "orientation": "v",
         "showlegend": true,
         "text": [
          "21.6%"
         ],
         "textfont": {
          "color": "#222",
          "family": "consolas",
          "size": 18
         },
         "textposition": "auto",
         "type": "bar",
         "x": [
          "Credit card (automatic)"
         ],
         "xaxis": "x",
         "y": [
          21.61010932841119
         ],
         "yaxis": "y"
        }
       ],
       "layout": {
        "barmode": "relative",
        "hoverlabel": {
         "bgcolor": "#222",
         "font": {
          "family": "poppins",
          "size": 16
         }
        },
        "legend": {
         "title": {
          "text": "<b>Payment Method"
         },
         "tracegroupgap": 0
        },
        "showlegend": false,
        "template": {
         "data": {
          "bar": [
           {
            "error_x": {
             "color": "#f2f5fa"
            },
            "error_y": {
             "color": "#f2f5fa"
            },
            "marker": {
             "line": {
              "color": "rgb(17,17,17)",
              "width": 0.5
             },
             "pattern": {
              "fillmode": "overlay",
              "size": 10,
              "solidity": 0.2
             }
            },
            "type": "bar"
           }
          ],
          "barpolar": [
           {
            "marker": {
             "line": {
              "color": "rgb(17,17,17)",
              "width": 0.5
             },
             "pattern": {
              "fillmode": "overlay",
              "size": 10,
              "solidity": 0.2
             }
            },
            "type": "barpolar"
           }
          ],
          "carpet": [
           {
            "aaxis": {
             "endlinecolor": "#A2B1C6",
             "gridcolor": "#506784",
             "linecolor": "#506784",
             "minorgridcolor": "#506784",
             "startlinecolor": "#A2B1C6"
            },
            "baxis": {
             "endlinecolor": "#A2B1C6",
             "gridcolor": "#506784",
             "linecolor": "#506784",
             "minorgridcolor": "#506784",
             "startlinecolor": "#A2B1C6"
            },
            "type": "carpet"
           }
          ],
          "choropleth": [
           {
            "colorbar": {
             "outlinewidth": 0,
             "ticks": ""
            },
            "type": "choropleth"
           }
          ],
          "contour": [
           {
            "colorbar": {
             "outlinewidth": 0,
             "ticks": ""
            },
            "colorscale": [
             [
              0,
              "#0d0887"
             ],
             [
              0.1111111111111111,
              "#46039f"
             ],
             [
              0.2222222222222222,
              "#7201a8"
             ],
             [
              0.3333333333333333,
              "#9c179e"
             ],
             [
              0.4444444444444444,
              "#bd3786"
             ],
             [
              0.5555555555555556,
              "#d8576b"
             ],
             [
              0.6666666666666666,
              "#ed7953"
             ],
             [
              0.7777777777777778,
              "#fb9f3a"
             ],
             [
              0.8888888888888888,
              "#fdca26"
             ],
             [
              1,
              "#f0f921"
             ]
            ],
            "type": "contour"
           }
          ],
          "contourcarpet": [
           {
            "colorbar": {
             "outlinewidth": 0,
             "ticks": ""
            },
            "type": "contourcarpet"
           }
          ],
          "heatmap": [
           {
            "colorbar": {
             "outlinewidth": 0,
             "ticks": ""
            },
            "colorscale": [
             [
              0,
              "#0d0887"
             ],
             [
              0.1111111111111111,
              "#46039f"
             ],
             [
              0.2222222222222222,
              "#7201a8"
             ],
             [
              0.3333333333333333,
              "#9c179e"
             ],
             [
              0.4444444444444444,
              "#bd3786"
             ],
             [
              0.5555555555555556,
              "#d8576b"
             ],
             [
              0.6666666666666666,
              "#ed7953"
             ],
             [
              0.7777777777777778,
              "#fb9f3a"
             ],
             [
              0.8888888888888888,
              "#fdca26"
             ],
             [
              1,
              "#f0f921"
             ]
            ],
            "type": "heatmap"
           }
          ],
          "heatmapgl": [
           {
            "colorbar": {
             "outlinewidth": 0,
             "ticks": ""
            },
            "colorscale": [
             [
              0,
              "#0d0887"
             ],
             [
              0.1111111111111111,
              "#46039f"
             ],
             [
              0.2222222222222222,
              "#7201a8"
             ],
             [
              0.3333333333333333,
              "#9c179e"
             ],
             [
              0.4444444444444444,
              "#bd3786"
             ],
             [
              0.5555555555555556,
              "#d8576b"
             ],
             [
              0.6666666666666666,
              "#ed7953"
             ],
             [
              0.7777777777777778,
              "#fb9f3a"
             ],
             [
              0.8888888888888888,
              "#fdca26"
             ],
             [
              1,
              "#f0f921"
             ]
            ],
            "type": "heatmapgl"
           }
          ],
          "histogram": [
           {
            "marker": {
             "pattern": {
              "fillmode": "overlay",
              "size": 10,
              "solidity": 0.2
             }
            },
            "type": "histogram"
           }
          ],
          "histogram2d": [
           {
            "colorbar": {
             "outlinewidth": 0,
             "ticks": ""
            },
            "colorscale": [
             [
              0,
              "#0d0887"
             ],
             [
              0.1111111111111111,
              "#46039f"
             ],
             [
              0.2222222222222222,
              "#7201a8"
             ],
             [
              0.3333333333333333,
              "#9c179e"
             ],
             [
              0.4444444444444444,
              "#bd3786"
             ],
             [
              0.5555555555555556,
              "#d8576b"
             ],
             [
              0.6666666666666666,
              "#ed7953"
             ],
             [
              0.7777777777777778,
              "#fb9f3a"
             ],
             [
              0.8888888888888888,
              "#fdca26"
             ],
             [
              1,
              "#f0f921"
             ]
            ],
            "type": "histogram2d"
           }
          ],
          "histogram2dcontour": [
           {
            "colorbar": {
             "outlinewidth": 0,
             "ticks": ""
            },
            "colorscale": [
             [
              0,
              "#0d0887"
             ],
             [
              0.1111111111111111,
              "#46039f"
             ],
             [
              0.2222222222222222,
              "#7201a8"
             ],
             [
              0.3333333333333333,
              "#9c179e"
             ],
             [
              0.4444444444444444,
              "#bd3786"
             ],
             [
              0.5555555555555556,
              "#d8576b"
             ],
             [
              0.6666666666666666,
              "#ed7953"
             ],
             [
              0.7777777777777778,
              "#fb9f3a"
             ],
             [
              0.8888888888888888,
              "#fdca26"
             ],
             [
              1,
              "#f0f921"
             ]
            ],
            "type": "histogram2dcontour"
           }
          ],
          "mesh3d": [
           {
            "colorbar": {
             "outlinewidth": 0,
             "ticks": ""
            },
            "type": "mesh3d"
           }
          ],
          "parcoords": [
           {
            "line": {
             "colorbar": {
              "outlinewidth": 0,
              "ticks": ""
             }
            },
            "type": "parcoords"
           }
          ],
          "pie": [
           {
            "automargin": true,
            "type": "pie"
           }
          ],
          "scatter": [
           {
            "marker": {
             "line": {
              "color": "#283442"
             }
            },
            "type": "scatter"
           }
          ],
          "scatter3d": [
           {
            "line": {
             "colorbar": {
              "outlinewidth": 0,
              "ticks": ""
             }
            },
            "marker": {
             "colorbar": {
              "outlinewidth": 0,
              "ticks": ""
             }
            },
            "type": "scatter3d"
           }
          ],
          "scattercarpet": [
           {
            "marker": {
             "colorbar": {
              "outlinewidth": 0,
              "ticks": ""
             }
            },
            "type": "scattercarpet"
           }
          ],
          "scattergeo": [
           {
            "marker": {
             "colorbar": {
              "outlinewidth": 0,
              "ticks": ""
             }
            },
            "type": "scattergeo"
           }
          ],
          "scattergl": [
           {
            "marker": {
             "line": {
              "color": "#283442"
             }
            },
            "type": "scattergl"
           }
          ],
          "scattermapbox": [
           {
            "marker": {
             "colorbar": {
              "outlinewidth": 0,
              "ticks": ""
             }
            },
            "type": "scattermapbox"
           }
          ],
          "scatterpolar": [
           {
            "marker": {
             "colorbar": {
              "outlinewidth": 0,
              "ticks": ""
             }
            },
            "type": "scatterpolar"
           }
          ],
          "scatterpolargl": [
           {
            "marker": {
             "colorbar": {
              "outlinewidth": 0,
              "ticks": ""
             }
            },
            "type": "scatterpolargl"
           }
          ],
          "scatterternary": [
           {
            "marker": {
             "colorbar": {
              "outlinewidth": 0,
              "ticks": ""
             }
            },
            "type": "scatterternary"
           }
          ],
          "surface": [
           {
            "colorbar": {
             "outlinewidth": 0,
             "ticks": ""
            },
            "colorscale": [
             [
              0,
              "#0d0887"
             ],
             [
              0.1111111111111111,
              "#46039f"
             ],
             [
              0.2222222222222222,
              "#7201a8"
             ],
             [
              0.3333333333333333,
              "#9c179e"
             ],
             [
              0.4444444444444444,
              "#bd3786"
             ],
             [
              0.5555555555555556,
              "#d8576b"
             ],
             [
              0.6666666666666666,
              "#ed7953"
             ],
             [
              0.7777777777777778,
              "#fb9f3a"
             ],
             [
              0.8888888888888888,
              "#fdca26"
             ],
             [
              1,
              "#f0f921"
             ]
            ],
            "type": "surface"
           }
          ],
          "table": [
           {
            "cells": {
             "fill": {
              "color": "#506784"
             },
             "line": {
              "color": "rgb(17,17,17)"
             }
            },
            "header": {
             "fill": {
              "color": "#2a3f5f"
             },
             "line": {
              "color": "rgb(17,17,17)"
             }
            },
            "type": "table"
           }
          ]
         },
         "layout": {
          "annotationdefaults": {
           "arrowcolor": "#f2f5fa",
           "arrowhead": 0,
           "arrowwidth": 1
          },
          "autotypenumbers": "strict",
          "coloraxis": {
           "colorbar": {
            "outlinewidth": 0,
            "ticks": ""
           }
          },
          "colorscale": {
           "diverging": [
            [
             0,
             "#8e0152"
            ],
            [
             0.1,
             "#c51b7d"
            ],
            [
             0.2,
             "#de77ae"
            ],
            [
             0.3,
             "#f1b6da"
            ],
            [
             0.4,
             "#fde0ef"
            ],
            [
             0.5,
             "#f7f7f7"
            ],
            [
             0.6,
             "#e6f5d0"
            ],
            [
             0.7,
             "#b8e186"
            ],
            [
             0.8,
             "#7fbc41"
            ],
            [
             0.9,
             "#4d9221"
            ],
            [
             1,
             "#276419"
            ]
           ],
           "sequential": [
            [
             0,
             "#0d0887"
            ],
            [
             0.1111111111111111,
             "#46039f"
            ],
            [
             0.2222222222222222,
             "#7201a8"
            ],
            [
             0.3333333333333333,
             "#9c179e"
            ],
            [
             0.4444444444444444,
             "#bd3786"
            ],
            [
             0.5555555555555556,
             "#d8576b"
            ],
            [
             0.6666666666666666,
             "#ed7953"
            ],
            [
             0.7777777777777778,
             "#fb9f3a"
            ],
            [
             0.8888888888888888,
             "#fdca26"
            ],
            [
             1,
             "#f0f921"
            ]
           ],
           "sequentialminus": [
            [
             0,
             "#0d0887"
            ],
            [
             0.1111111111111111,
             "#46039f"
            ],
            [
             0.2222222222222222,
             "#7201a8"
            ],
            [
             0.3333333333333333,
             "#9c179e"
            ],
            [
             0.4444444444444444,
             "#bd3786"
            ],
            [
             0.5555555555555556,
             "#d8576b"
            ],
            [
             0.6666666666666666,
             "#ed7953"
            ],
            [
             0.7777777777777778,
             "#fb9f3a"
            ],
            [
             0.8888888888888888,
             "#fdca26"
            ],
            [
             1,
             "#f0f921"
            ]
           ]
          },
          "colorway": [
           "#636efa",
           "#EF553B",
           "#00cc96",
           "#ab63fa",
           "#FFA15A",
           "#19d3f3",
           "#FF6692",
           "#B6E880",
           "#FF97FF",
           "#FECB52"
          ],
          "font": {
           "color": "#f2f5fa"
          },
          "geo": {
           "bgcolor": "rgb(17,17,17)",
           "lakecolor": "rgb(17,17,17)",
           "landcolor": "rgb(17,17,17)",
           "showlakes": true,
           "showland": true,
           "subunitcolor": "#506784"
          },
          "hoverlabel": {
           "align": "left"
          },
          "hovermode": "closest",
          "mapbox": {
           "style": "dark"
          },
          "paper_bgcolor": "rgb(17,17,17)",
          "plot_bgcolor": "rgb(17,17,17)",
          "polar": {
           "angularaxis": {
            "gridcolor": "#506784",
            "linecolor": "#506784",
            "ticks": ""
           },
           "bgcolor": "rgb(17,17,17)",
           "radialaxis": {
            "gridcolor": "#506784",
            "linecolor": "#506784",
            "ticks": ""
           }
          },
          "scene": {
           "xaxis": {
            "backgroundcolor": "rgb(17,17,17)",
            "gridcolor": "#506784",
            "gridwidth": 2,
            "linecolor": "#506784",
            "showbackground": true,
            "ticks": "",
            "zerolinecolor": "#C8D4E3"
           },
           "yaxis": {
            "backgroundcolor": "rgb(17,17,17)",
            "gridcolor": "#506784",
            "gridwidth": 2,
            "linecolor": "#506784",
            "showbackground": true,
            "ticks": "",
            "zerolinecolor": "#C8D4E3"
           },
           "zaxis": {
            "backgroundcolor": "rgb(17,17,17)",
            "gridcolor": "#506784",
            "gridwidth": 2,
            "linecolor": "#506784",
            "showbackground": true,
            "ticks": "",
            "zerolinecolor": "#C8D4E3"
           }
          },
          "shapedefaults": {
           "line": {
            "color": "#f2f5fa"
           }
          },
          "sliderdefaults": {
           "bgcolor": "#C8D4E3",
           "bordercolor": "rgb(17,17,17)",
           "borderwidth": 1,
           "tickwidth": 0
          },
          "ternary": {
           "aaxis": {
            "gridcolor": "#506784",
            "linecolor": "#506784",
            "ticks": ""
           },
           "baxis": {
            "gridcolor": "#506784",
            "linecolor": "#506784",
            "ticks": ""
           },
           "bgcolor": "rgb(17,17,17)",
           "caxis": {
            "gridcolor": "#506784",
            "linecolor": "#506784",
            "ticks": ""
           }
          },
          "title": {
           "x": 0.05
          },
          "updatemenudefaults": {
           "bgcolor": "#506784",
           "borderwidth": 0
          },
          "xaxis": {
           "automargin": true,
           "gridcolor": "#283442",
           "linecolor": "#506784",
           "ticks": "",
           "title": {
            "standoff": 15
           },
           "zerolinecolor": "#283442",
           "zerolinewidth": 2
          },
          "yaxis": {
           "automargin": true,
           "gridcolor": "#283442",
           "linecolor": "#506784",
           "ticks": "",
           "title": {
            "standoff": 15
           },
           "zerolinecolor": "#283442",
           "zerolinewidth": 2
          }
         }
        },
        "title": {
         "font": {
          "family": "<b>poppins",
          "size": 30
         },
         "text": "<b>Payment Method Distributions"
        },
        "xaxis": {
         "anchor": "y",
         "categoryarray": [
          "Electronic check",
          "Mailed check",
          "Bank transfer (automatic)",
          "Credit card (automatic)"
         ],
         "categoryorder": "array",
         "domain": [
          0,
          1
         ],
         "title": {
          "text": "<b>Payment Method"
         }
        },
        "yaxis": {
         "anchor": "x",
         "domain": [
          0,
          1
         ],
         "title": {
          "text": "<b>Frequency in PCT(%)"
         }
        }
       }
      }
     },
     "metadata": {},
     "output_type": "display_data"
    }
   ],
   "source": [
    "fig = count_viz_func(\n",
    "    df,\n",
    "    column_name= 'PaymentMethod',\n",
    "    title= '<b>Payment Method Distributions',\n",
    "    x_label= '<b>Payment Method',\n",
    "    y_label= '<b>Frequency in PCT(%)',\n",
    "    hover_template= 'Payment Method: %{x}<br>Frequency in PCT(%): %{y:.2f}'\n",
    ")\n",
    "\n",
    "fig.update_traces(\n",
    "    marker= dict(line= dict(color= '#FEFEFE', width= 2))\n",
    ")\n",
    "iplot(fig)"
   ]
  },
  {
   "cell_type": "markdown",
   "metadata": {},
   "source": [
    "##### __Important Column: Monthly Charges Column__"
   ]
  },
  {
   "cell_type": "code",
   "execution_count": 30,
   "id": "01HYA66PBDD7RMDRB87QH23SY9",
   "metadata": {},
   "outputs": [
    {
     "data": {
      "text/plain": [
       "count   7,043.00\n",
       "mean       64.76\n",
       "std        30.09\n",
       "min        18.25\n",
       "25%        35.50\n",
       "50%        70.35\n",
       "75%        89.85\n",
       "max       118.75\n",
       "Name: MonthlyCharges, dtype: float64"
      ]
     },
     "execution_count": 30,
     "metadata": {},
     "output_type": "execute_result"
    }
   ],
   "source": [
    "df['MonthlyCharges'].describe()"
   ]
  },
  {
   "cell_type": "code",
   "execution_count": 71,
   "id": "01HYA677MSXK7TGDMFX8VW5T96",
   "metadata": {},
   "outputs": [
    {
     "data": {
      "text/plain": [
       "-0.22052443394398033"
      ]
     },
     "execution_count": 71,
     "metadata": {},
     "output_type": "execute_result"
    }
   ],
   "source": [
    "df[\"MonthlyCharges\"].skew()"
   ]
  },
  {
   "cell_type": "code",
   "execution_count": 32,
   "id": "01HYA67KT685NVHBHSXX4PM9C4",
   "metadata": {},
   "outputs": [
    {
     "data": {
      "application/vnd.plotly.v1+json": {
       "config": {
        "linkText": "Export to plot.ly",
        "plotlyServerURL": "https://plot.ly",
        "showLink": false
       },
       "data": [
        {
         "alignmentgroup": "True",
         "hovertemplate": "<b>Tenure in Months=%{x}<extra></extra>",
         "legendgroup": "",
         "line": {
          "width": 3
         },
         "marker": {
          "color": "red"
         },
         "name": "",
         "notched": true,
         "offsetgroup": "",
         "orientation": "h",
         "showlegend": false,
         "type": "box",
         "x": [
          29.85,
          56.95,
          53.85,
          42.3,
          70.7,
          99.65,
          89.1,
          29.75,
          104.8,
          56.15,
          49.95,
          18.95,
          100.35,
          103.7,
          105.5,
          113.25,
          20.65,
          106.7,
          55.2,
          90.05,
          39.65,
          19.8,
          20.15,
          59.9,
          59.6,
          55.3,
          99.35,
          30.2,
          90.25,
          64.7,
          96.35,
          95.5,
          66.15,
          20.2,
          45.25,
          99.9,
          69.7,
          74.8,
          106.35,
          97.85,
          49.55,
          69.2,
          20.75,
          79.85,
          76.2,
          84.5,
          49.25,
          80.65,
          79.75,
          64.15,
          90.25,
          99.1,
          69.5,
          80.65,
          74.85,
          95.45,
          99.65,
          108.45,
          24.95,
          107.5,
          100.5,
          89.9,
          42.1,
          54.4,
          94.4,
          75.3,
          78.9,
          79.2,
          20.15,
          79.85,
          49.05,
          20.4,
          111.6,
          24.25,
          64.5,
          110.5,
          55.65,
          54.65,
          74.75,
          25.9,
          79.35,
          50.55,
          75.15,
          103.8,
          20.15,
          99.3,
          62.15,
          20.65,
          19.95,
          33.75,
          82.05,
          74.7,
          84,
          111.05,
          100.9,
          78.95,
          66.85,
          21.05,
          21,
          98.5,
          20.2,
          19.45,
          95,
          45.55,
          110,
          24.3,
          104.15,
          30.15,
          94.35,
          19.4,
          96.75,
          57.95,
          91.65,
          76.5,
          54.6,
          89.85,
          31.05,
          100.25,
          20.65,
          85.2,
          99.8,
          20.7,
          74.4,
          50.7,
          20.85,
          88.95,
          78.05,
          23.55,
          19.75,
          56.45,
          85.95,
          58.6,
          50.55,
          35.45,
          44.35,
          25.7,
          75,
          20.2,
          19.6,
          70.45,
          88.05,
          71.15,
          101.05,
          84.3,
          23.95,
          99.05,
          19.6,
          45.65,
          64.5,
          69.5,
          68.55,
          95,
          108.15,
          86.1,
          19.7,
          80.9,
          84.15,
          20.15,
          64.25,
          25.7,
          56,
          82.4,
          69.7,
          73.9,
          20.6,
          19.9,
          70.9,
          89.05,
          45.3,
          20.4,
          84.25,
          104.4,
          81.95,
          94.85,
          20.55,
          24.7,
          74.45,
          76.45,
          105.35,
          20.55,
          29.95,
          45.3,
          84.5,
          74.75,
          79.25,
          24.8,
          51.8,
          30.4,
          19.65,
          56.6,
          71.9,
          91,
          19.75,
          109.7,
          19.3,
          96.55,
          24.1,
          111.35,
          112.25,
          20.75,
          101.9,
          80.05,
          105.55,
          78.3,
          68.85,
          79.95,
          55.45,
          79.9,
          106.6,
          102.45,
          46,
          25.25,
          19.75,
          20,
          86.8,
          58.75,
          45.25,
          56.6,
          84.2,
          80,
          70.15,
          24.75,
          20.2,
          50.05,
          19.35,
          50.6,
          81.15,
          55.2,
          89.9,
          85.3,
          108,
          93.5,
          84.6,
          20.25,
          25.15,
          54.4,
          29.6,
          73.15,
          95,
          19.75,
          86.6,
          109.2,
          74.7,
          94.4,
          54.8,
          75.35,
          65,
          74.4,
          48.55,
          99,
          93.5,
          70.4,
          40.2,
          83.7,
          19.85,
          59.55,
          115.1,
          114.35,
          44.6,
          45,
          41.15,
          106.9,
          89.85,
          49.85,
          113.3,
          88.1,
          24.9,
          105,
          19.35,
          24.25,
          94.45,
          59.75,
          24.8,
          107.05,
          70.6,
          85.4,
          105.05,
          64.95,
          55,
          50.55,
          55.15,
          51.2,
          25.4,
          54.45,
          95.15,
          76,
          44.35,
          70,
          74.5,
          44.85,
          76.1,
          61.2,
          86.8,
          89.35,
          19.7,
          20.25,
          76.05,
          100.8,
          74.55,
          73.6,
          64.9,
          95.45,
          90.4,
          60.3,
          81.85,
          24.8,
          74.9,
          75.55,
          101.15,
          78.75,
          19.25,
          89.05,
          115.05,
          69.35,
          80.6,
          110.05,
          19.9,
          80.3,
          93.15,
          91.5,
          82.45,
          60,
          44.8,
          48.6,
          60.05,
          102.7,
          82.9,
          70.35,
          35.9,
          82.65,
          19.85,
          19.2,
          94.9,
          73.85,
          80.6,
          75.8,
          104.6,
          88.15,
          94.8,
          103.4,
          54.65,
          85.75,
          67.45,
          20.5,
          20.25,
          72.1,
          90.4,
          19.45,
          44.95,
          97,
          62.8,
          44.6,
          89.15,
          84.8,
          41.9,
          80.25,
          54.1,
          105.25,
          30.75,
          97.1,
          20.2,
          98.8,
          50.3,
          20.55,
          75.9,
          96.5,
          59.95,
          19.15,
          98.65,
          112.6,
          20.6,
          85.65,
          35.75,
          99.75,
          96.1,
          85.1,
          25.35,
          104.95,
          89.65,
          86.75,
          86.2,
          50.65,
          64.8,
          90.85,
          108.1,
          19.95,
          85.45,
          54.75,
          90.4,
          44,
          95.6,
          84.8,
          44.3,
          19.9,
          95.05,
          90.05,
          109.9,
          73.95,
          54.6,
          20.05,
          19.75,
          20.05,
          99.45,
          55.9,
          19.7,
          19.8,
          95.4,
          93.95,
          19.9,
          19.6,
          81.35,
          24.45,
          74.95,
          87.35,
          70.65,
          73.25,
          98.7,
          24.8,
          83.3,
          75.3,
          24.3,
          69.85,
          100.55,
          25.7,
          40.7,
          51.65,
          105.1,
          85.95,
          75.6,
          58.25,
          19.4,
          65.2,
          53.45,
          45.4,
          19.75,
          44.45,
          20.85,
          114.05,
          89.85,
          55.05,
          112.95,
          101.55,
          114.65,
          64.8,
          80.4,
          105.9,
          69.55,
          25.05,
          94.75,
          105.5,
          24.7,
          69.75,
          60.2,
          81.05,
          24.4,
          104.15,
          92.9,
          80.8,
          20,
          75.1,
          19.65,
          69.45,
          101.15,
          99.8,
          116.05,
          40.05,
          102.1,
          89.7,
          19.9,
          55.95,
          20.65,
          55,
          70.05,
          53.6,
          74.7,
          80.25,
          76.05,
          75.7,
          96.1,
          69,
          19.65,
          45.3,
          81.45,
          108.5,
          83.55,
          84.5,
          100.15,
          88.6,
          52.55,
          74.35,
          104.8,
          59,
          74.4,
          64.05,
          20.4,
          43.75,
          60.9,
          19.8,
          28.45,
          99.7,
          116.25,
          80.7,
          65.2,
          84.05,
          79.45,
          94.1,
          78,
          94.2,
          80.5,
          19.85,
          94.3,
          106.45,
          74.35,
          105.45,
          95,
          104.8,
          54.3,
          70.05,
          75.2,
          20.05,
          105.4,
          51.6,
          85.5,
          75.6,
          100.05,
          91.25,
          115.75,
          94.7,
          19.6,
          99.9,
          21.1,
          20.05,
          79.95,
          107.15,
          85,
          89.55,
          81.55,
          58.45,
          95.65,
          80.6,
          113.1,
          58.95,
          19.55,
          86.05,
          45.55,
          78.95,
          86.3,
          105.05,
          101.9,
          19.75,
          110.3,
          115.6,
          19.35,
          25.6,
          80.35,
          68.75,
          19.9,
          70.6,
          70.2,
          49.3,
          107.25,
          23.6,
          69.7,
          99.5,
          64.3,
          70.85,
          101.9,
          73.5,
          100.25,
          40.4,
          19.25,
          59.6,
          64.9,
          100.3,
          110.85,
          81.05,
          98.05,
          70.5,
          94.55,
          19.65,
          19,
          75.3,
          89.2,
          19,
          20,
          85.7,
          63.25,
          20.1,
          99.15,
          90.4,
          111.9,
          24.9,
          83.5,
          84.3,
          45.6,
          61.65,
          54.85,
          65.55,
          90.35,
          20.4,
          74.55,
          19.95,
          74.25,
          108.65,
          109.55,
          86.65,
          81,
          47.85,
          114.55,
          105.25,
          29.95,
          65,
          20.55,
          109.8,
          69.5,
          48.85,
          25.25,
          102.85,
          87.55,
          78.55,
          34.55,
          92.05,
          85.05,
          19.7,
          20,
          95.15,
          84.25,
          104.6,
          111.65,
          90.05,
          110.75,
          55,
          89.85,
          20.35,
          54.55,
          105.5,
          99.45,
          70.9,
          104.55,
          85.25,
          25.4,
          56.15,
          89.55,
          89.85,
          25.25,
          94.55,
          45.7,
          69.65,
          89.5,
          70,
          69.55,
          74.6,
          20.1,
          24.8,
          19.65,
          95.1,
          88.85,
          78.8,
          19.85,
          20.35,
          24.25,
          45.25,
          20.05,
          69.55,
          19.5,
          74.75,
          69.65,
          30.2,
          45.65,
          57.8,
          19.85,
          25.55,
          75.05,
          24.85,
          49.15,
          110.35,
          24.55,
          34.7,
          107.95,
          81.4,
          80,
          73.8,
          64.4,
          103.75,
          71.1,
          49.9,
          24.6,
          49.25,
          30.1,
          83.4,
          20.45,
          75.25,
          20.55,
          75.1,
          20.05,
          20.65,
          85.15,
          50.15,
          84.95,
          66.5,
          63.3,
          83.15,
          84.9,
          20.55,
          49.25,
          79.85,
          59.6,
          104.65,
          75.3,
          80.1,
          19.55,
          81,
          24.7,
          86,
          25.4,
          89.15,
          58.25,
          85.65,
          50.35,
          80.35,
          20.2,
          20.55,
          85.95,
          45.35,
          94.5,
          21.25,
          26.25,
          80.85,
          91.7,
          74.2,
          87.25,
          20.35,
          75.5,
          79.05,
          90.15,
          50.6,
          110.45,
          101,
          79.35,
          89.85,
          65,
          80.45,
          98.55,
          24.1,
          44.05,
          110.8,
          114.95,
          75.05,
          19.25,
          90.05,
          56.7,
          80.15,
          71.35,
          20.25,
          90.35,
          98.55,
          19.7,
          19.85,
          85.9,
          90.35,
          20.8,
          89.25,
          70.3,
          66.85,
          19.9,
          35.8,
          78.85,
          20.4,
          74.25,
          64.8,
          20.45,
          93.35,
          19.9,
          88.9,
          95.8,
          110.65,
          40.3,
          82,
          107,
          45.35,
          73.35,
          44.8,
          54.75,
          52.2,
          40.6,
          110,
          55.3,
          60.85,
          78.4,
          69.65,
          59.85,
          76.9,
          19.85,
          67.65,
          45,
          64.2,
          81.7,
          25.55,
          20,
          96.75,
          75.65,
          98.5,
          23.8,
          64.2,
          85.35,
          76.8,
          55.2,
          108.55,
          101.3,
          69.55,
          103.25,
          104,
          25.25,
          30.4,
          20.05,
          84.6,
          86.2,
          103.7,
          111.2,
          88,
          106.35,
          79.15,
          103.1,
          63.95,
          25.8,
          89.45,
          95.6,
          25.55,
          90.95,
          44.85,
          108.55,
          25.05,
          74.1,
          88.8,
          78.85,
          93.25,
          71.4,
          44.4,
          79.2,
          20.4,
          100,
          105,
          19.8,
          30.85,
          89.9,
          20.55,
          84.85,
          33.15,
          92,
          89.8,
          115.8,
          85.15,
          24.85,
          64.35,
          20.5,
          100.15,
          86.05,
          50.8,
          89,
          64.8,
          19.8,
          93.4,
          73.65,
          95.1,
          94.65,
          80.6,
          39,
          20.5,
          85.55,
          26.4,
          98.2,
          97.55,
          19.95,
          50.8,
          99.7,
          34.8,
          105.1,
          60.15,
          64.75,
          54.65,
          110.1,
          19.3,
          83.9,
          111.25,
          35.8,
          20.05,
          84.35,
          110.5,
          91.2,
          100.55,
          89.3,
          103.85,
          81.1,
          24.6,
          81.2,
          94.3,
          116.1,
          105.55,
          98.9,
          94.4,
          19.5,
          98.3,
          93.85,
          105.6,
          81.35,
          100.5,
          56.4,
          65.35,
          19.95,
          111.25,
          72.85,
          89,
          106.1,
          20.05,
          25.2,
          73.55,
          75.4,
          65.55,
          80.7,
          104.55,
          24.15,
          20.45,
          75.4,
          79.7,
          81.7,
          76.3,
          79.4,
          81.15,
          103.75,
          86.45,
          75.1,
          80.6,
          19.3,
          84.6,
          33.6,
          83.25,
          80.85,
          79.05,
          108.05,
          19.9,
          21.05,
          30.15,
          79.85,
          65.5,
          104.1,
          74.4,
          20.5,
          91.35,
          99.05,
          20.5,
          44.95,
          75.6,
          55.1,
          58.95,
          95.1,
          44.7,
          25.45,
          56.75,
          81.75,
          86.1,
          29.8,
          20.5,
          60.9,
          73.25,
          45.7,
          100.3,
          19.25,
          20.85,
          77.35,
          96,
          90.55,
          93.85,
          70.1,
          30.35,
          75.95,
          108.05,
          69.9,
          75.25,
          103.75,
          54.95,
          19.5,
          19.6,
          47.85,
          86.6,
          23.75,
          80.6,
          43.8,
          19.75,
          19.15,
          19.6,
          80.3,
          24.35,
          25.25,
          26.1,
          20,
          85.3,
          70,
          94.3,
          20.7,
          70.3,
          95.35,
          75.5,
          69.55,
          19.85,
          20,
          95.85,
          90.1,
          68.95,
          99.55,
          20.75,
          50.15,
          58.65,
          95.9,
          49.5,
          57.45,
          53.65,
          80.1,
          24.4,
          40.05,
          19.5,
          51.05,
          54.35,
          84.7,
          86.1,
          70.35,
          110,
          100.6,
          94.9,
          83.75,
          88.3,
          69.75,
          71.6,
          92.1,
          23.65,
          81.85,
          25.1,
          114.7,
          49.15,
          80.9,
          79.45,
          90.45,
          19.3,
          70.2,
          69.75,
          54.25,
          99.3,
          74,
          50.25,
          19.8,
          19.65,
          43.65,
          35.5,
          80.75,
          39.5,
          97.1,
          19.55,
          80,
          84.7,
          89.55,
          90.6,
          20.05,
          112.4,
          50.2,
          62.25,
          55.7,
          90.05,
          19.65,
          89.25,
          99.05,
          54,
          69.75,
          49.05,
          56.75,
          98.05,
          21.1,
          96.65,
          24.5,
          114.5,
          79.2,
          69.55,
          20.05,
          98.85,
          25.75,
          80.95,
          19.6,
          74.3,
          89.7,
          87.65,
          100.45,
          74.75,
          107.45,
          75.35,
          64.95,
          100.45,
          68.5,
          80.55,
          81.25,
          90.4,
          89.55,
          55.7,
          24.8,
          20,
          56.15,
          105.2,
          19.55,
          79.75,
          97.45,
          24.25,
          24.6,
          50.15,
          39.6,
          94.4,
          89.85,
          78.95,
          98.85,
          53.85,
          24.25,
          89.45,
          105.25,
          59.5,
          70.55,
          82.5,
          44.85,
          61.6,
          49.05,
          105.65,
          74.65,
          66.25,
          19.4,
          86.05,
          19.15,
          64.7,
          104.05,
          19.25,
          81.95,
          114.65,
          20,
          19.8,
          65.15,
          19.65,
          88.95,
          20.2,
          75.2,
          56.8,
          35.55,
          75.5,
          35.6,
          60.25,
          95.15,
          96.65,
          40.35,
          18.85,
          54.85,
          64.3,
          24.65,
          76.1,
          18.7,
          97.95,
          94.1,
          80.4,
          95.1,
          31.35,
          72.35,
          89.75,
          82.7,
          19.9,
          53.8,
          51.55,
          19.65,
          44.05,
          114,
          94.4,
          100.4,
          19.85,
          54.25,
          80,
          109.9,
          79.2,
          101.35,
          94.3,
          49.8,
          60.05,
          53.75,
          93.45,
          87.9,
          60.15,
          61.05,
          104.05,
          99.25,
          85.7,
          104.85,
          69.15,
          90.45,
          74.45,
          50.45,
          60,
          85.25,
          19.45,
          20.75,
          78.9,
          104.5,
          49.4,
          94.25,
          25,
          25.55,
          74.9,
          70.15,
          69.4,
          80.25,
          93.15,
          69,
          66.35,
          69.55,
          20.2,
          86,
          80.3,
          20.4,
          23.75,
          90.55,
          70.45,
          65.75,
          24.6,
          69.25,
          75.9,
          45.85,
          49.95,
          24.65,
          90.4,
          100.85,
          75.35,
          87.2,
          64.4,
          78.3,
          24.7,
          105.85,
          98.3,
          76.95,
          19.45,
          96.15,
          58.7,
          20.15,
          64.5,
          28.5,
          45.3,
          19.4,
          90.45,
          105.15,
          83.15,
          90.15,
          45.05,
          103.2,
          75.8,
          19.45,
          79.3,
          88.8,
          30.9,
          85.9,
          34.2,
          20.15,
          95.25,
          50.3,
          80.15,
          51.25,
          89.6,
          95.2,
          94.8,
          80.25,
          76.1,
          110.15,
          115.55,
          24.65,
          53.6,
          19.45,
          88.2,
          101.15,
          56.8,
          99.4,
          20.1,
          60.7,
          20.95,
          114.85,
          19.25,
          62.8,
          105.5,
          19.85,
          89.5,
          74.1,
          107.5,
          19.55,
          68.8,
          84.45,
          75,
          84.5,
          111.2,
          44.75,
          80.6,
          80.7,
          75.6,
          57.6,
          44.05,
          110.6,
          58.2,
          81,
          19.7,
          85.6,
          59.55,
          115.55,
          75.55,
          86.6,
          85.2,
          97.65,
          45.1,
          70.95,
          109.55,
          89.55,
          20.9,
          19.95,
          24.6,
          66.7,
          19.45,
          94.8,
          65.85,
          19.95,
          24.65,
          20.35,
          69.25,
          51.25,
          99.5,
          54.25,
          19.4,
          56.25,
          25.15,
          23.95,
          35.4,
          25.2,
          45,
          75.35,
          20.4,
          20.15,
          105,
          56.05,
          54.7,
          20,
          73.05,
          20.5,
          100.75,
          87.25,
          19.95,
          79.95,
          49.65,
          65.65,
          20.45,
          60.95,
          20.35,
          88.35,
          19.5,
          75.2,
          111.45,
          70.15,
          94.75,
          95.05,
          78.45,
          70.2,
          92,
          85.5,
          41.05,
          85.6,
          82.15,
          84.4,
          60.9,
          20.25,
          79.2,
          95.3,
          19.85,
          84.35,
          19.85,
          70,
          82.3,
          66.8,
          44.6,
          98.45,
          70.7,
          24.95,
          49.95,
          69.25,
          102.5,
          86.55,
          24.3,
          58.35,
          94.25,
          68.75,
          85.8,
          20.1,
          20.35,
          110.8,
          73,
          100.05,
          82.85,
          84.35,
          19.55,
          19.95,
          99.8,
          35,
          66.25,
          23.3,
          76,
          25.3,
          44.55,
          104.1,
          92.55,
          93.85,
          101.45,
          84.3,
          94.55,
          95.5,
          100.3,
          55.5,
          49.85,
          89.55,
          19.15,
          99.8,
          84.4,
          113.05,
          101.1,
          19.95,
          74.15,
          92,
          73.85,
          50.45,
          24.45,
          24.8,
          64.85,
          20.75,
          68.95,
          99.95,
          109.4,
          91.4,
          49,
          50.25,
          75.55,
          19.9,
          97.8,
          100.3,
          55.8,
          111.15,
          98.55,
          50.05,
          80.8,
          20.85,
          19.5,
          19.35,
          69.5,
          48.8,
          94.5,
          20.65,
          106.05,
          100,
          108.3,
          20.55,
          99.65,
          85.3,
          95.9,
          20,
          70.4,
          64.95,
          74.6,
          49.2,
          73.75,
          92.3,
          98.8,
          19.2,
          88.65,
          74.4,
          98.75,
          95.95,
          105.4,
          20.25,
          106,
          104.7,
          49.05,
          35.55,
          65.1,
          96.85,
          69.75,
          99.2,
          96.7,
          55.05,
          106.8,
          51.25,
          57.75,
          70.85,
          19.55,
          88.2,
          79.5,
          19.75,
          98.15,
          20.25,
          79.15,
          75.65,
          94.25,
          40.2,
          19.95,
          55.35,
          102.15,
          71.1,
          74.7,
          54.1,
          19.65,
          88.45,
          76.65,
          80.4,
          19.25,
          84.8,
          25.8,
          19.5,
          68.6,
          92.6,
          100.55,
          20.55,
          42.6,
          19.6,
          67.45,
          68.85,
          43.55,
          109.85,
          20.65,
          95.4,
          21,
          56.2,
          18.4,
          90,
          25.75,
          19.6,
          75.35,
          19.8,
          64.2,
          75.75,
          78.95,
          100.85,
          50.3,
          80.3,
          19.85,
          21.1,
          69.95,
          50,
          104.75,
          19.85,
          107.5,
          85.9,
          45.85,
          80.8,
          25.25,
          80.55,
          81.5,
          20.9,
          106.1,
          91.7,
          67.25,
          95.6,
          20.35,
          45.05,
          74.95,
          34.65,
          69.35,
          95.35,
          81.55,
          75.4,
          67.8,
          111.4,
          46.3,
          20.4,
          20.05,
          45,
          96.1,
          19.65,
          99.5,
          60.65,
          98.6,
          59.5,
          80.45,
          71.7,
          36,
          65.2,
          48.95,
          53.5,
          80.45,
          109.05,
          26.3,
          106.8,
          64.95,
          19.35,
          21.1,
          77.95,
          18.85,
          26,
          74.7,
          70.35,
          96.9,
          19.55,
          80.4,
          88.8,
          94.65,
          90.25,
          64.65,
          95.75,
          19.55,
          104.1,
          89.05,
          20.1,
          111.55,
          60.5,
          90.95,
          87.4,
          19.7,
          50.95,
          20.05,
          19.4,
          59.45,
          94.75,
          81.5,
          29.05,
          86.45,
          70.6,
          97.2,
          98.25,
          75.75,
          59.2,
          75.9,
          90.05,
          70.95,
          102.6,
          85.35,
          106.1,
          43.8,
          59,
          69.95,
          24.35,
          29.45,
          84.4,
          45.05,
          20.65,
          87.1,
          19.85,
          90.35,
          109.8,
          84.65,
          65.5,
          79.5,
          80.95,
          56.15,
          85.8,
          79.1,
          34.4,
          20.75,
          18.8,
          44.3,
          90.8,
          25.6,
          105.95,
          70.8,
          25.4,
          108.8,
          69.75,
          94.65,
          96.05,
          76.85,
          20.25,
          24.8,
          115.65,
          74.6,
          50.15,
          103.15,
          72.1,
          113.6,
          25.1,
          78.9,
          80.15,
          25.4,
          105.4,
          45.75,
          24.45,
          25,
          85.25,
          19.6,
          50.15,
          70.55,
          60.05,
          26.4,
          20.15,
          58.85,
          97.55,
          19.65,
          25.25,
          114.45,
          34.7,
          70.7,
          85.3,
          75.55,
          84.8,
          20.65,
          20.45,
          102.45,
          104.4,
          35.65,
          99.75,
          90.45,
          97.65,
          73.85,
          74.4,
          69.1,
          82.75,
          24.4,
          55.25,
          61.35,
          76.75,
          19.4,
          54.75,
          19.7,
          19.9,
          107.95,
          83.8,
          74.25,
          56.4,
          20.1,
          94.9,
          94.2,
          49.9,
          71.05,
          81.65,
          89.45,
          59.85,
          69.6,
          99,
          19.05,
          45.4,
          114.45,
          19.5,
          44.25,
          90.55,
          69.9,
          20.4,
          71.4,
          87.15,
          24.85,
          104.45,
          19.8,
          116.45,
          84.75,
          20.05,
          110.75,
          89.7,
          89.95,
          48.7,
          96.6,
          74.3,
          54.3,
          74.85,
          79.95,
          20.05,
          19.4,
          54.9,
          24.45,
          89.65,
          45.4,
          75.7,
          110.65,
          20.55,
          115.15,
          58.55,
          93.25,
          113.2,
          90.5,
          79,
          19.35,
          48.75,
          109.05,
          25,
          54.9,
          24.75,
          91.15,
          20.15,
          104.35,
          66.05,
          71.65,
          20.35,
          92.2,
          84.25,
          105.2,
          19.6,
          30.4,
          78.1,
          61.5,
          69.4,
          24.75,
          91.05,
          89.65,
          73.65,
          19.4,
          26.2,
          98.7,
          43.85,
          69.7,
          38.55,
          53.1,
          20.65,
          64.45,
          25.1,
          76.35,
          79.15,
          85,
          95.15,
          79.35,
          96.65,
          75.5,
          19.7,
          20.5,
          19.2,
          98.35,
          74.35,
          51.35,
          45.65,
          85.3,
          86.55,
          73.85,
          20.3,
          54.2,
          90.65,
          50.9,
          25.05,
          74.85,
          20.5,
          63.55,
          44.85,
          47.95,
          45.1,
          45,
          96,
          20.05,
          90.05,
          25.3,
          108.65,
          24.3,
          75.95,
          19.7,
          66.4,
          35.75,
          18.8,
          19.4,
          19.3,
          45.55,
          67.45,
          35.1,
          46.2,
          45.15,
          43.3,
          20.1,
          57.15,
          58.9,
          73.2,
          85.35,
          19.45,
          45.95,
          50.5,
          25.1,
          60.7,
          99,
          104.4,
          83.75,
          44.05,
          24.1,
          45.55,
          93.8,
          19.7,
          70.65,
          86.45,
          114.1,
          95.2,
          88.55,
          20.75,
          70.05,
          86,
          44.65,
          60.2,
          100.5,
          55.45,
          70.3,
          60.4,
          72.65,
          55.8,
          31.1,
          21,
          45.1,
          50.95,
          69.1,
          43.95,
          86.5,
          69.95,
          50.4,
          78.95,
          90.95,
          19.9,
          20.15,
          90.6,
          92,
          94.45,
          24.85,
          36,
          78.5,
          19.95,
          20.65,
          30.5,
          106.1,
          20.5,
          95.5,
          64.6,
          51.1,
          84.8,
          89.1,
          54.95,
          50.9,
          20.45,
          85.95,
          60.35,
          19.8,
          85.35,
          72.1,
          99.8,
          107.35,
          19.55,
          81.05,
          20.5,
          111.8,
          20.2,
          19.7,
          79.1,
          19.85,
          60.5,
          19.55,
          20.9,
          21.05,
          71.5,
          54.65,
          19.2,
          49.8,
          25.5,
          20.5,
          90.4,
          90.25,
          80.75,
          104.6,
          91.85,
          50.2,
          95.5,
          75.35,
          75.45,
          95.4,
          101.3,
          53.1,
          84.85,
          34.25,
          88.6,
          60.15,
          99.95,
          70.7,
          54.8,
          49.55,
          54.8,
          78.6,
          100.3,
          53.6,
          81.1,
          19.35,
          85.6,
          80.8,
          74.95,
          19.6,
          93.55,
          90.7,
          69.75,
          20,
          95.25,
          102.1,
          19.95,
          80.85,
          90.9,
          29.2,
          93.3,
          89.15,
          108.85,
          46.35,
          84.75,
          78.75,
          83.55,
          45.7,
          19.6,
          69.95,
          67.85,
          105.65,
          44.6,
          74.95,
          75.5,
          20.15,
          45.2,
          95.25,
          89.85,
          100.45,
          47.15,
          80.2,
          87.1,
          79.25,
          75.9,
          85.7,
          98.75,
          20.1,
          61.8,
          49.9,
          86.45,
          20.4,
          45.3,
          104.1,
          75.4,
          108.15,
          86.25,
          81,
          95.7,
          116.85,
          105.75,
          20.15,
          19.6,
          90.6,
          60.95,
          25.05,
          88.15,
          20.2,
          60.3,
          63.95,
          74.3,
          70.6,
          90.8,
          79.35,
          90.55,
          19.45,
          64.45,
          69.65,
          19.5,
          110.5,
          24.7,
          77.4,
          96.8,
          85.4,
          47.6,
          19.4,
          103.85,
          83.35,
          49.4,
          108.45,
          81,
          79.2,
          86.65,
          92.95,
          90.35,
          48.7,
          25.15,
          76.4,
          19.55,
          85.35,
          24.8,
          103.15,
          100.75,
          95.6,
          59.75,
          94.1,
          19.35,
          19.9,
          108.15,
          101.05,
          59.1,
          71.35,
          55.85,
          106.05,
          84.1,
          75.3,
          24.7,
          20.15,
          69.75,
          93.2,
          80.85,
          33.65,
          55.8,
          39.7,
          29.5,
          20.15,
          79.55,
          24.8,
          19.65,
          79.95,
          19.3,
          94.05,
          90.75,
          78.85,
          99.5,
          99.2,
          80.55,
          70.2,
          85.2,
          75.25,
          59.45,
          93.35,
          44.95,
          26.1,
          20.2,
          21.25,
          59.4,
          95,
          61.9,
          118.65,
          54.35,
          64.45,
          80.15,
          20.2,
          21,
          20.45,
          75.85,
          80.45,
          24.95,
          75.5,
          44.45,
          42.35,
          74.55,
          75.3,
          94.8,
          48.15,
          19.65,
          70.55,
          20.15,
          106.6,
          91,
          25.4,
          69.95,
          66.85,
          86.15,
          20.15,
          64.85,
          74.85,
          50.5,
          72.9,
          115.05,
          19,
          19.55,
          101.1,
          84.1,
          24.15,
          50.1,
          74.6,
          19.75,
          85,
          80.55,
          106.8,
          84.5,
          25.05,
          83.7,
          75.8,
          96.6,
          98.5,
          101.1,
          20.2,
          94.05,
          95.25,
          74.4,
          81,
          60.25,
          60.85,
          43.95,
          86.05,
          20.25,
          85.15,
          19.4,
          102.65,
          19.9,
          19.55,
          95.5,
          84.15,
          103.2,
          50.2,
          88.55,
          54.75,
          19.95,
          116.25,
          31.2,
          24.45,
          84.2,
          91.3,
          85.65,
          21.2,
          79.5,
          25.55,
          20.2,
          63.85,
          61.95,
          25.75,
          58.2,
          85.85,
          70.1,
          104.9,
          111.3,
          99.85,
          95.25,
          86.25,
          100.8,
          19.55,
          104,
          104.4,
          19.5,
          25.25,
          86.3,
          49.85,
          108.95,
          89.9,
          82,
          89.95,
          79.35,
          64.05,
          101.15,
          89.95,
          76.45,
          39.1,
          34.6,
          19.55,
          104.45,
          70.5,
          20.35,
          70,
          19.45,
          69.9,
          59.7,
          78.35,
          71.45,
          45.85,
          95.85,
          35.7,
          89.55,
          24.95,
          24.85,
          100.8,
          64.4,
          105.35,
          102.45,
          19.65,
          54.45,
          70.5,
          20.1,
          69.35,
          19.8,
          74.4,
          93.05,
          51.2,
          65.6,
          80.55,
          52.7,
          20.85,
          80.1,
          52.15,
          80.2,
          98.15,
          114.95,
          112.95,
          104.45,
          113.65,
          20.6,
          70.9,
          86.85,
          91.55,
          49.85,
          19.8,
          99.85,
          74.5,
          104.15,
          109.15,
          48.2,
          25.1,
          100.15,
          65.2,
          99.5,
          71.55,
          55.9,
          93.9,
          64.4,
          108.4,
          85.3,
          107.45,
          48.75,
          85.65,
          91.3,
          85.95,
          106.7,
          25.15,
          45.2,
          110.35,
          79.2,
          55.5,
          103.25,
          90.25,
          91.25,
          47.8,
          100.9,
          97.7,
          69.85,
          65.6,
          104.65,
          90.45,
          63.7,
          104.5,
          20.1,
          104.3,
          93.25,
          73.45,
          20.7,
          25.25,
          100.5,
          90.6,
          89.4,
          95.45,
          20.45,
          98.6,
          83.05,
          19.95,
          109.15,
          85.7,
          102.05,
          94.7,
          64.4,
          26.8,
          66.05,
          65.2,
          85.05,
          55.8,
          70.4,
          104.75,
          19.95,
          94.25,
          45,
          114.9,
          106.4,
          46.1,
          39.7,
          20.05,
          95.75,
          24.4,
          33.6,
          90.45,
          84,
          67.4,
          19.7,
          80.35,
          19.6,
          54.2,
          45.2,
          75.1,
          19.7,
          72.75,
          20.05,
          45.95,
          39.2,
          44.75,
          82.65,
          93.9,
          70.15,
          85.55,
          117.15,
          99.25,
          112.55,
          25.7,
          90.3,
          49.4,
          19.4,
          109.7,
          61.25,
          55.3,
          70.3,
          106.35,
          103.75,
          19.5,
          39.5,
          26.05,
          91.05,
          29.65,
          50.2,
          105.3,
          55.45,
          85.45,
          19.8,
          59.25,
          90.7,
          103.7,
          79.05,
          90.7,
          95,
          88.35,
          30.25,
          49.85,
          93,
          54.55,
          19.7,
          84.8,
          94.45,
          94.2,
          96.25,
          70.7,
          20.85,
          60,
          80.45,
          84.95,
          33.55,
          49.65,
          20.2,
          94.55,
          100.5,
          35.75,
          86.45,
          53.8,
          38.55,
          39.9,
          70.05,
          20.1,
          112.95,
          20.3,
          35.65,
          35.9,
          99.25,
          82.95,
          55.65,
          24.45,
          25.2,
          50.8,
          19.65,
          59.8,
          73.55,
          61.4,
          103.35,
          19.9,
          19.45,
          81.5,
          84.8,
          109.55,
          99.95,
          74.4,
          90,
          74.9,
          104.85,
          59.65,
          110.45,
          106.1,
          74.2,
          74.45,
          24.55,
          89.35,
          24.55,
          90.65,
          105.05,
          20.45,
          19.55,
          19.7,
          70.45,
          85.65,
          77.15,
          35.25,
          20.55,
          97.95,
          48.55,
          20,
          25.25,
          98.4,
          70.9,
          19.85,
          106.35,
          99.5,
          84.7,
          86.05,
          44.55,
          75.85,
          93.85,
          25,
          45,
          100.7,
          20.5,
          80.45,
          90.45,
          60.45,
          55.25,
          78.45,
          100.55,
          20.35,
          54.45,
          90.75,
          75.35,
          20.25,
          20.05,
          19.6,
          53.8,
          70.2,
          75.5,
          20.35,
          26.05,
          20.6,
          75.7,
          20.1,
          24.3,
          24.5,
          110.5,
          25.25,
          74.25,
          90.1,
          68.75,
          19.2,
          89.7,
          115.1,
          96.4,
          69.5,
          99.65,
          91.45,
          84.75,
          85.25,
          78.75,
          20.25,
          19.9,
          97.75,
          19.4,
          83.3,
          80.1,
          62.7,
          100.4,
          24.45,
          101.1,
          50.9,
          107.2,
          92.2,
          25.3,
          113.4,
          40.55,
          26,
          111.95,
          53.8,
          72.1,
          98.15,
          78.85,
          70.75,
          76.15,
          39.1,
          69.95,
          20.05,
          20.05,
          19.45,
          26.9,
          19.2,
          50,
          60,
          84.55,
          45.45,
          20.05,
          115.55,
          93.7,
          99,
          50.55,
          105.95,
          82,
          25,
          91.55,
          95.75,
          19.35,
          24.85,
          94.05,
          100.4,
          25,
          54.75,
          95.65,
          19.25,
          108.25,
          94.6,
          98.9,
          20.15,
          101.3,
          20,
          105.3,
          69.85,
          65.25,
          19.8,
          19.6,
          20.05,
          49.4,
          76.05,
          88.4,
          100.6,
          19.45,
          20.3,
          107.65,
          80.45,
          58.85,
          109.6,
          75.15,
          73,
          70.1,
          98.65,
          111.45,
          114.9,
          100.55,
          20.4,
          104.35,
          69.75,
          34.5,
          105.55,
          30.1,
          70.3,
          80.45,
          80.2,
          94.35,
          91.35,
          44.6,
          19.6,
          19.9,
          110.45,
          68.35,
          79.1,
          51,
          80.55,
          66.7,
          86.4,
          50.05,
          25.7,
          83.4,
          70.7,
          84.65,
          99.25,
          64.75,
          100.15,
          84.8,
          25.25,
          113,
          40.65,
          105,
          54.45,
          94.95,
          59.9,
          85.3,
          83.35,
          33.5,
          19.8,
          81.8,
          20,
          59.6,
          25,
          84.35,
          90.35,
          55.55,
          75.35,
          90.75,
          89.6,
          59.3,
          66.1,
          18.8,
          86.45,
          52.1,
          47.4,
          49.25,
          109.15,
          94.95,
          93.55,
          79.5,
          115.05,
          19.75,
          95.15,
          95.15,
          105.4,
          20.1,
          101.35,
          20.05,
          20.7,
          20.35,
          70.05,
          19.7,
          74.65,
          85.45,
          40.4,
          50.4,
          79.65,
          105.2,
          100.65,
          79.85,
          91,
          78.75,
          116.75,
          80.45,
          59.1,
          49.8,
          19.3,
          19.65,
          81.4,
          38.9,
          87.95,
          19.85,
          96.35,
          24.15,
          19.1,
          44,
          50.1,
          60.6,
          25.65,
          76.4,
          98.7,
          100.8,
          53.95,
          20.4,
          90.1,
          29.35,
          20.45,
          95.1,
          25.25,
          44.9,
          92.65,
          43.7,
          72.6,
          51.55,
          79.25,
          18.95,
          20.5,
          19.95,
          24.5,
          20.6,
          94.85,
          61.05,
          85.7,
          106.65,
          108.25,
          20.4,
          55.3,
          20.25,
          72.95,
          89.45,
          104.65,
          75.2,
          101.15,
          44.4,
          89.5,
          68.75,
          111.05,
          99,
          86.05,
          21,
          19.4,
          44.55,
          77.2,
          19.45,
          24.85,
          35.4,
          95.65,
          41.35,
          19.6,
          20.95,
          84.45,
          20.25,
          19.65,
          20.65,
          34.7,
          99.3,
          81.05,
          67.6,
          70.15,
          115,
          84.8,
          19.7,
          19.75,
          92.55,
          63.15,
          74,
          29.1,
          50.05,
          60.05,
          74.3,
          20,
          74.65,
          85.35,
          74.3,
          44.4,
          85.4,
          94.1,
          98.1,
          108.9,
          56.2,
          26.1,
          85.45,
          88.95,
          109.65,
          74.35,
          48.85,
          80.1,
          56.05,
          74.55,
          89.8,
          100.95,
          94.9,
          19.1,
          20.35,
          106.05,
          104.9,
          19.65,
          24.1,
          59.85,
          86.1,
          19.45,
          97.1,
          36.65,
          103.9,
          19.75,
          104.05,
          24.55,
          48.7,
          88.35,
          109.55,
          20.65,
          94.65,
          55.2,
          24.05,
          74.4,
          79.9,
          20.45,
          19.25,
          26.35,
          43.8,
          50.15,
          20.45,
          69.7,
          61.4,
          98.1,
          70.75,
          61.15,
          20.25,
          63.85,
          98.7,
          20.5,
          20,
          19.3,
          84.4,
          25.1,
          48.25,
          19.85,
          99.6,
          94.2,
          62.15,
          79.3,
          56.25,
          20.3,
          99,
          90.6,
          85.9,
          79.2,
          70.35,
          19.35,
          50.15,
          63.8,
          20.55,
          88.55,
          101.4,
          81.95,
          69.35,
          44.6,
          63.75,
          109.25,
          84.6,
          20.45,
          85.75,
          91.1,
          107.95,
          86.1,
          22.95,
          94.7,
          19.45,
          85.1,
          19.7,
          99.15,
          87,
          102.95,
          79.95,
          64,
          64.9,
          25.75,
          90.15,
          116.1,
          104.95,
          45.05,
          71,
          50,
          70.55,
          79.7,
          20.45,
          59,
          60.35,
          19.85,
          19.95,
          26.45,
          63.4,
          53.95,
          69.25,
          95.1,
          74.1,
          35.5,
          70.95,
          79.2,
          48.8,
          89,
          99.4,
          55.45,
          25.4,
          73.5,
          93.5,
          63.9,
          64.85,
          63.8,
          44.45,
          19.95,
          43.35,
          49.65,
          85.1,
          95.5,
          92.35,
          89.8,
          74.55,
          103.05,
          116,
          69.9,
          95.1,
          40.25,
          25.75,
          105.35,
          113.6,
          24,
          19.4,
          86.1,
          102.65,
          92.85,
          97.75,
          83.8,
          54.45,
          97.95,
          19.95,
          24.6,
          50.95,
          75.6,
          80.75,
          90.4,
          99.8,
          60.25,
          20.2,
          64.15,
          20.25,
          105.85,
          75.45,
          93.85,
          99,
          80.3,
          19.55,
          100.75,
          100.75,
          53.75,
          31,
          25.6,
          58.35,
          80,
          46.35,
          113.75,
          90.4,
          109.3,
          70.25,
          90.3,
          65.25,
          100.15,
          94.5,
          60.65,
          24.1,
          19.5,
          85.95,
          53.5,
          25.45,
          20.5,
          20.85,
          89.9,
          26,
          113.2,
          69.05,
          20.1,
          109.65,
          19.2,
          33.9,
          90,
          34,
          20.4,
          38.6,
          25.25,
          60.6,
          89.95,
          74.75,
          20.6,
          84.45,
          20.4,
          81.7,
          79.5,
          89.15,
          20.3,
          74.95,
          74.4,
          20,
          25,
          80.45,
          19.75,
          65.65,
          71,
          89.2,
          86.75,
          55.3,
          61.5,
          25.1,
          55.15,
          34.05,
          19.95,
          19.95,
          89.7,
          20.4,
          26.3,
          84.95,
          20.7,
          43.25,
          48.35,
          79.55,
          71.05,
          19.45,
          110.8,
          84.5,
          69.3,
          49.35,
          20.35,
          105.6,
          64.45,
          108.6,
          49.9,
          30.3,
          30.4,
          45.4,
          65.65,
          103.3,
          84.15,
          44.45,
          19.75,
          85.4,
          89.9,
          55.05,
          104.1,
          106.6,
          75.2,
          70.5,
          19.6,
          55.85,
          24.05,
          38.1,
          106.4,
          34.25,
          100.05,
          68.65,
          45.8,
          75.75,
          84.4,
          96.4,
          20.55,
          50.95,
          90.5,
          79.4,
          58.75,
          59.45,
          105.7,
          56.25,
          53.3,
          85.55,
          68.65,
          24.3,
          77.85,
          59.9,
          23.95,
          20.15,
          105.35,
          95.65,
          87.05,
          81,
          82.45,
          53.5,
          20.5,
          25.1,
          54.4,
          58.6,
          84.8,
          61.4,
          20.4,
          79.65,
          20.15,
          94.45,
          79.8,
          54.2,
          19.45,
          74.05,
          49.15,
          19.4,
          113.65,
          106,
          25.95,
          19.1,
          103.4,
          100.55,
          95.4,
          75.15,
          84.45,
          89.15,
          107.9,
          19.5,
          85.95,
          24.95,
          59.4,
          19.5,
          69.95,
          82.85,
          19,
          38.85,
          30.6,
          20.35,
          95,
          74.4,
          78.45,
          74.3,
          51.05,
          19.2,
          99.55,
          70,
          109.1,
          45.3,
          29.85,
          76.45,
          95.1,
          19.8,
          72.8,
          18.95,
          76.65,
          99.15,
          101.75,
          75.45,
          64.1,
          25.65,
          75.1,
          95.85,
          54.4,
          72.75,
          19.85,
          19.05,
          44.95,
          49.55,
          94.85,
          46.25,
          19.35,
          69.6,
          90.7,
          101.4,
          20.25,
          48.8,
          74.35,
          19.35,
          68.75,
          100.2,
          20.85,
          95.9,
          19.35,
          45,
          81.5,
          25.5,
          48.9,
          84.1,
          19.6,
          20,
          81.3,
          95.2,
          36.45,
          83.3,
          25.05,
          20.3,
          89.85,
          49.85,
          19.8,
          54.65,
          29.35,
          19.15,
          19.1,
          55.55,
          80.55,
          20.25,
          69.5,
          106,
          25.5,
          104.3,
          79.6,
          55.25,
          88.05,
          20.4,
          117.6,
          20,
          19.65,
          70.55,
          93.85,
          65.8,
          20.05,
          80,
          35.4,
          79.6,
          80.25,
          50.45,
          20.45,
          79.6,
          24.7,
          77.3,
          29.75,
          44.9,
          29.8,
          74.65,
          71.95,
          20.75,
          56.3,
          105.25,
          94.2,
          19.55,
          84.45,
          53.65,
          29.9,
          19.7,
          43.7,
          55.3,
          19.85,
          19.65,
          49.45,
          106.55,
          20.1,
          20.45,
          39.7,
          54.5,
          83.8,
          55.15,
          111.6,
          86.65,
          55.55,
          20.55,
          106.75,
          62.1,
          104.5,
          101.8,
          110.6,
          84.9,
          93.2,
          24.4,
          70.55,
          78.45,
          85,
          87.45,
          85.8,
          91.1,
          70.75,
          20.1,
          20.05,
          74.8,
          24.8,
          100.85,
          101.35,
          81.7,
          68.25,
          105.1,
          20.4,
          79.15,
          20,
          79.4,
          57.2,
          58.6,
          94.8,
          102.5,
          20.35,
          84.9,
          69.2,
          95.45,
          100.95,
          20.85,
          88.5,
          35,
          55.15,
          50.95,
          64,
          69.1,
          80.2,
          49.3,
          84.35,
          20.05,
          117.2,
          20.1,
          69.6,
          103.45,
          77.95,
          109.95,
          94.75,
          80,
          79.65,
          25.2,
          19.9,
          78.45,
          44.8,
          20.3,
          19.2,
          80.05,
          107.35,
          47.85,
          70.8,
          29.5,
          70.75,
          59.1,
          25.55,
          84.45,
          20.25,
          75.55,
          85.65,
          70.15,
          95.3,
          70.25,
          50.3,
          97.8,
          19.85,
          46.3,
          19.35,
          106.3,
          25,
          20.3,
          75.35,
          89.4,
          88,
          83.15,
          43.8,
          62.05,
          20.1,
          74.15,
          101.35,
          84.05,
          20.9,
          105.9,
          99.5,
          44.15,
          53.9,
          85.45,
          85.05,
          44.1,
          90.2,
          50.85,
          59.2,
          53.45,
          19.95,
          83.2,
          74.65,
          54.9,
          57.5,
          103.9,
          19.65,
          93.8,
          89.25,
          94.15,
          55.6,
          48.7,
          19.25,
          104.9,
          75.45,
          54.85,
          19.9,
          19.4,
          25.05,
          84.45,
          19.3,
          95.1,
          79.85,
          25.55,
          75.5,
          73.75,
          96.05,
          68.4,
          20.65,
          55.15,
          70.6,
          19.95,
          19,
          44.1,
          107.6,
          61.55,
          90.7,
          99.25,
          91.7,
          100.7,
          78.45,
          84.3,
          19.55,
          88.95,
          20.45,
          55.6,
          86.8,
          20.95,
          20.05,
          50.7,
          113.65,
          53.4,
          101.9,
          59.5,
          87.8,
          41.9,
          83,
          69.85,
          56.3,
          109.55,
          92.15,
          69.5,
          97,
          58.35,
          50.6,
          89.5,
          70.4,
          69.8,
          94.3,
          93.8,
          19.55,
          95.95,
          101.05,
          94.8,
          107.75,
          54.6,
          71.3,
          19.5,
          56.3,
          94.7,
          104.15,
          90.55,
          60.8,
          98.8,
          98.15,
          35.35,
          103.15,
          107.75,
          81.4,
          61.45,
          95.7,
          104.8,
          70.95,
          44.95,
          97.65,
          35.65,
          90.55,
          85.25,
          19.5,
          88.8,
          25.1,
          100.05,
          55.7,
          85.2,
          91.15,
          83.85,
          45.9,
          25.1,
          91.4,
          19.7,
          91.5,
          51.3,
          21.1,
          104.75,
          106.15,
          85.75,
          20.3,
          100.75,
          74.15,
          78.55,
          45.3,
          19.85,
          50.7,
          45,
          77.8,
          83.45,
          73.25,
          94.8,
          20.1,
          59.9,
          90.1,
          51.05,
          70.95,
          29.2,
          46.6,
          85.35,
          75.35,
          74.3,
          69.3,
          75.2,
          20.9,
          94.3,
          76.45,
          54,
          104.25,
          19.95,
          24.95,
          84.75,
          19.75,
          113.65,
          44.9,
          75.25,
          24.6,
          25,
          20.95,
          110.6,
          55.5,
          43.3,
          109.5,
          19.45,
          84.85,
          19.6,
          53.45,
          19.8,
          112.1,
          84.8,
          95.05,
          50.35,
          74.6,
          19.7,
          74.2,
          69,
          19.35,
          59.45,
          19.8,
          105.2,
          109.2,
          79.15,
          53.65,
          100.2,
          45.15,
          108.65,
          40.65,
          55.35,
          105.6,
          93.8,
          95.7,
          83.2,
          90.05,
          97.65,
          68.05,
          96.2,
          79.6,
          102.1,
          23.4,
          71.05,
          85.25,
          19.45,
          59.45,
          92.2,
          19.85,
          43.9,
          80.5,
          89.8,
          90.5,
          90.45,
          50.75,
          84.6,
          89.65,
          99.15,
          19.95,
          20.5,
          62.1,
          79.5,
          19.55,
          20.35,
          51.7,
          23.3,
          65.4,
          65.1,
          81.2,
          72.9,
          74.5,
          80.5,
          60.3,
          75,
          90.15,
          40,
          99.45,
          69.05,
          59.7,
          19.85,
          86.25,
          45.65,
          70.1,
          40.75,
          70.2,
          55.35,
          95.7,
          46.3,
          81.3,
          84.2,
          20,
          66.15,
          45.85,
          19.6,
          49.8,
          101.75,
          55.15,
          75.25,
          103.95,
          100.15,
          99.65,
          73.7,
          50.05,
          60.25,
          105.75,
          87.3,
          48.35,
          54.25,
          85.3,
          50,
          24.4,
          90.95,
          72.25,
          96.1,
          19.85,
          55.3,
          20.1,
          69.5,
          25.15,
          20.95,
          49.55,
          79.65,
          71.25,
          113.8,
          24.55,
          19.7,
          20.25,
          50.15,
          100.5,
          95.9,
          74.45,
          104.1,
          19.05,
          25,
          19.05,
          81.9,
          69.7,
          90.15,
          25.35,
          24.65,
          19.55,
          25.25,
          60,
          89.9,
          19.4,
          49.8,
          24.1,
          54.25,
          109.9,
          35.5,
          87.55,
          45.15,
          88.4,
          50.8,
          99,
          84.4,
          96.55,
          59.75,
          111.5,
          24.25,
          75.1,
          70.15,
          101.75,
          45.8,
          20.5,
          70.4,
          30.55,
          84.9,
          20.1,
          40.65,
          101,
          69.1,
          54.5,
          75.35,
          44.45,
          75,
          100,
          98.05,
          71.15,
          54.15,
          63.9,
          69.15,
          64.65,
          108.75,
          98.85,
          49.15,
          89.6,
          83.25,
          70.25,
          19.4,
          24.5,
          79.15,
          20.1,
          73,
          61.4,
          84.3,
          19.9,
          20.4,
          50.75,
          20.45,
          75.75,
          65.4,
          80.4,
          59.75,
          78.5,
          102,
          48.95,
          99.65,
          18.25,
          54.55,
          20.65,
          40.65,
          20.45,
          24.8,
          70.8,
          89.05,
          96.6,
          88.8,
          20.05,
          104.5,
          69.8,
          77.15,
          35.05,
          108.1,
          84.05,
          20.2,
          50.6,
          49.2,
          24.6,
          71.65,
          104.9,
          106.5,
          49.35,
          75.5,
          94.25,
          68.95,
          58.5,
          78.9,
          93.85,
          79.2,
          109.45,
          59.2,
          29.15,
          20.05,
          76.05,
          24.45,
          66.5,
          49.55,
          89.35,
          73.6,
          82.65,
          49,
          80.35,
          25.2,
          25.45,
          55.8,
          110.9,
          77.75,
          26.2,
          19.9,
          79.05,
          95,
          25.2,
          80.85,
          98.4,
          56.35,
          19.3,
          50.4,
          79.4,
          55.25,
          19.1,
          84.05,
          105.2,
          101.4,
          89.8,
          75.75,
          95.3,
          109.75,
          19.85,
          19.3,
          69.1,
          91.25,
          20.25,
          54.75,
          81.45,
          49.1,
          80.2,
          100.3,
          65.25,
          90.95,
          85.45,
          20,
          94.1,
          79.85,
          71.65,
          73.55,
          104.65,
          19.3,
          20.15,
          44.55,
          54.45,
          19.65,
          105,
          88.7,
          74.25,
          75.15,
          20.25,
          109.1,
          30.75,
          112.9,
          74.2,
          94.05,
          78.85,
          55.3,
          19.35,
          25.35,
          20.45,
          19.35,
          101,
          100.2,
          89.05,
          78.65,
          74.75,
          70.1,
          19.9,
          58.35,
          105.65,
          100.5,
          20.05,
          25.65,
          96.5,
          95,
          70.85,
          85.95,
          73.9,
          45.45,
          20,
          49.2,
          109.45,
          83.25,
          19.25,
          19.65,
          72.8,
          109.65,
          65,
          114.1,
          20.65,
          86.95,
          94.75,
          25.35,
          105.45,
          25.4,
          102.55,
          100.2,
          24,
          25.6,
          73.5,
          74.05,
          98.25,
          54.4,
          101.55,
          103.1,
          34.2,
          43.75,
          111.95,
          100.65,
          55.95,
          116.05,
          45.75,
          82,
          65.15,
          44.8,
          79.8,
          88.85,
          74.95,
          106.85,
          74.95,
          80.15,
          19.3,
          109.25,
          56.1,
          19.7,
          51.3,
          118.6,
          24.15,
          20.3,
          115.5,
          25.05,
          109.1,
          19.65,
          111.3,
          29.9,
          80.6,
          20.8,
          35.2,
          78.8,
          89.95,
          116.05,
          19.55,
          106.4,
          49.4,
          115.25,
          24.8,
          19.9,
          81.25,
          69.95,
          69.1,
          90.2,
          93.55,
          86.4,
          66.3,
          94.65,
          80.85,
          82.05,
          72.1,
          34.7,
          20.55,
          95.95,
          44.8,
          109.4,
          71.05,
          78.55,
          19.7,
          40.25,
          19.85,
          68.25,
          20.15,
          50.95,
          78.65,
          25.15,
          20.25,
          42.9,
          44,
          20.25,
          34.25,
          58.5,
          55.8,
          88.9,
          57.65,
          96.2,
          79.15,
          108.05,
          74.4,
          94.8,
          45.9,
          105.3,
          102.6,
          73.85,
          61.35,
          57.55,
          29.25,
          84.55,
          19.6,
          111.75,
          106.5,
          107.7,
          19.3,
          20.05,
          69.95,
          63.7,
          24.75,
          50.9,
          60.4,
          79.25,
          85.8,
          24.45,
          110.1,
          90.7,
          25.3,
          105.7,
          85.2,
          24.35,
          24.25,
          25.1,
          54.55,
          96.6,
          76.5,
          81.15,
          38.5,
          92.9,
          93.5,
          84.7,
          66,
          101.5,
          74.9,
          20.75,
          61.45,
          54.5,
          69.6,
          99.75,
          109.75,
          80.85,
          20.3,
          67.8,
          24.05,
          19.8,
          25.7,
          56.15,
          86.7,
          20.4,
          19.65,
          50.55,
          54.35,
          108.1,
          54.45,
          45.35,
          59,
          69.45,
          100.55,
          64.95,
          20.5,
          18.85,
          19.8,
          25.05,
          74.8,
          114.3,
          24.45,
          109.2,
          45.05,
          51,
          110.45,
          84.65,
          60.05,
          44.65,
          93.25,
          20.25,
          25.45,
          20.6,
          94.1,
          34.8,
          60.75,
          51.35,
          64.05,
          84.8,
          71,
          50.15,
          94.6,
          59.75,
          100.25,
          98.9,
          97.7,
          40.3,
          60.25,
          56.25,
          46.2,
          50.6,
          24.9,
          84.85,
          65.7,
          63.35,
          50.1,
          70.5,
          94.85,
          50.15,
          19.75,
          64.65,
          79.6,
          19.5,
          99.55,
          74,
          38.9,
          79.55,
          65.45,
          98.7,
          46.3,
          99.35,
          95.8,
          67.5,
          78.15,
          26.1,
          69.6,
          84.35,
          100.2,
          78.05,
          40.35,
          79.2,
          20.9,
          73.6,
          74.75,
          49.9,
          68.9,
          20.25,
          76,
          74,
          82.3,
          89.4,
          99.15,
          20.2,
          29.45,
          19.8,
          59.15,
          44.75,
          90.8,
          49.55,
          106.7,
          93.55,
          94.45,
          19.45,
          25.05,
          67.95,
          65.25,
          99.45,
          20.35,
          19.95,
          77.4,
          19.7,
          99.7,
          74.8,
          19.15,
          78.95,
          95.55,
          62.85,
          71.55,
          94.95,
          86.1,
          19.55,
          24.8,
          39.3,
          84.05,
          36.25,
          20.25,
          23.9,
          98.6,
          103.65,
          92.9,
          19.9,
          20.1,
          85.45,
          80.5,
          99.9,
          39.85,
          60.5,
          84.8,
          103.85,
          67.8,
          75.2,
          24.85,
          19.35,
          49.35,
          89,
          55,
          76.15,
          20.3,
          74.9,
          117.35,
          19.75,
          45.2,
          25.2,
          89.75,
          75,
          49.95,
          65.7,
          67.05,
          110.9,
          87.95,
          19.8,
          75.7,
          62.15,
          101.25,
          115.15,
          18.95,
          19.5,
          86.55,
          28.6,
          20.4,
          19.8,
          45.65,
          56.4,
          73.3,
          24.35,
          101.35,
          98.65,
          33.6,
          79.9,
          20.7,
          104.05,
          20.25,
          103.3,
          73.7,
          96.2,
          108.75,
          20.15,
          19.75,
          25.95,
          70.05,
          24.05,
          84.75,
          23.05,
          104.15,
          59.95,
          19.55,
          19.6,
          20.05,
          85.55,
          78.6,
          116.8,
          43.55,
          60.8,
          54.9,
          65.2,
          102.95,
          90.6,
          50.8,
          90.05,
          108.2,
          92,
          75.1,
          25.05,
          75.15,
          19.5,
          19.3,
          112.2,
          70.3,
          19.6,
          20.25,
          75.85,
          80.65,
          68.5,
          115.75,
          73.5,
          80.6,
          69.95,
          59.55,
          19.05,
          95.65,
          19.95,
          70.05,
          19.4,
          36.1,
          94,
          61.15,
          19.75,
          64.1,
          19.75,
          19.7,
          110.2,
          106.35,
          90.55,
          65.9,
          104.5,
          52.5,
          56.1,
          88.75,
          84.45,
          75.3,
          26,
          99.4,
          109.55,
          19.6,
          73.15,
          54.65,
          66.4,
          115.55,
          104.45,
          100.05,
          102,
          91.15,
          89.7,
          90.2,
          92.4,
          19.9,
          25.15,
          79.85,
          18.85,
          25.75,
          49.6,
          20.95,
          97.05,
          25.4,
          19.7,
          35,
          101.25,
          70.2,
          90.95,
          73.85,
          88.05,
          105.95,
          91.85,
          20.1,
          40.1,
          110.3,
          73.9,
          89.8,
          85.15,
          60.95,
          72.25,
          73.55,
          46,
          58.55,
          24.6,
          19.75,
          86.35,
          25.5,
          19,
          19.55,
          110.1,
          96.55,
          69.75,
          50.6,
          65.6,
          40.1,
          82.1,
          79.1,
          101.25,
          79.55,
          90.65,
          20.55,
          75.75,
          110,
          20.85,
          80.35,
          70.15,
          84.05,
          67.45,
          20.75,
          89.1,
          69.9,
          51.1,
          94.4,
          78.25,
          25.55,
          60,
          90.55,
          76.4,
          84.95,
          110.1,
          99.65,
          45.4,
          69,
          48.65,
          44.15,
          59.85,
          75.75,
          80.65,
          20.55,
          66.4,
          100.2,
          19.1,
          80.3,
          44.55,
          20.35,
          91.8,
          74.9,
          20.2,
          50.35,
          18.8,
          20.45,
          64.75,
          98.7,
          89.45,
          58.75,
          20.7,
          85.6,
          80.3,
          79.8,
          79.85,
          54.1,
          80.85,
          24.75,
          80.9,
          24.5,
          20.15,
          20.05,
          19.6,
          114.3,
          100.3,
          80,
          20.85,
          89.95,
          20,
          90.85,
          48.75,
          80,
          79.7,
          20.35,
          57.55,
          20.25,
          19.4,
          100.4,
          57.95,
          59.5,
          19.2,
          86.5,
          59.55,
          103.95,
          25.1,
          103.95,
          68.95,
          103.1,
          24.7,
          110.2,
          48.95,
          62.45,
          89.55,
          83.55,
          78.9,
          20.35,
          71.45,
          46.35,
          94.65,
          49.9,
          25.45,
          89.15,
          20.75,
          66.1,
          75.4,
          70.45,
          60.3,
          21.05,
          69.35,
          88.85,
          97,
          66.4,
          24.75,
          69.2,
          79.5,
          100.65,
          103.3,
          79.7,
          61.4,
          69.8,
          40.55,
          75.65,
          90.7,
          80.5,
          60.6,
          101.15,
          24.95,
          20.3,
          60,
          20.25,
          78.5,
          44.75,
          19.85,
          98,
          79.9,
          107.7,
          99.7,
          104.7,
          58.6,
          93.9,
          86.45,
          98.5,
          19.4,
          50.45,
          24.95,
          75,
          94.65,
          100.25,
          78.2,
          94.2,
          88.45,
          69.85,
          81.7,
          50.05,
          79.9,
          69.55,
          25.4,
          90.1,
          44.65,
          83.75,
          80.35,
          98.1,
          53.35,
          19.55,
          20.9,
          48.95,
          54.2,
          24.45,
          69.4,
          40.15,
          74.9,
          25.6,
          70.35,
          91.7,
          89.2,
          24.1,
          74.15,
          53.85,
          115.6,
          19.75,
          24.05,
          25.3,
          84.3,
          70.1,
          89.75,
          97.95,
          20,
          78.3,
          103.9,
          20.7,
          96.8,
          94.4,
          20.15,
          26,
          77.35,
          66.05,
          19.9,
          84.3,
          68.15,
          80.85,
          75.5,
          92.45,
          80.6,
          83.2,
          87.55,
          99.55,
          81.25,
          109.4,
          19.95,
          45.55,
          20.7,
          75.3,
          99.25,
          93.4,
          73.75,
          80.45,
          88.15,
          49.2,
          19.65,
          79.35,
          79.75,
          105.15,
          49,
          100.05,
          69.35,
          49.8,
          85.8,
          79.7,
          20.95,
          50.55,
          79.3,
          19.5,
          80.55,
          44.15,
          84.5,
          105.5,
          84.3,
          92.7,
          26.25,
          96.95,
          20.45,
          115.8,
          108.2,
          20.2,
          67.75,
          54.9,
          85.25,
          20.15,
          90.35,
          55.75,
          114.6,
          80.05,
          20,
          66.8,
          100.3,
          105.35,
          85.2,
          48.8,
          18.95,
          69.8,
          106.15,
          20.55,
          105.75,
          25.25,
          19.75,
          104.85,
          60.95,
          81.15,
          19.1,
          20.8,
          90.15,
          90.1,
          74.1,
          85.05,
          118.75,
          85.9,
          95,
          20.15,
          101.3,
          21.2,
          24.2,
          20.3,
          102.8,
          85.3,
          89.6,
          99.95,
          56.25,
          50.95,
          115.85,
          103.65,
          26.1,
          35.1,
          99.1,
          67.25,
          25,
          59.55,
          77.8,
          55.1,
          117.8,
          24.15,
          45.25,
          79.5,
          20.25,
          64.75,
          54.6,
          20.7,
          94.75,
          79.65,
          115.8,
          49.45,
          83.8,
          95.35,
          94.7,
          74.05,
          89.6,
          116.6,
          54.2,
          19.3,
          65.05,
          92.5,
          19.45,
          24.05,
          18.75,
          20.15,
          20,
          71,
          75.55,
          93.6,
          70,
          24.4,
          74.8,
          65.25,
          50.55,
          104.4,
          70.7,
          45.25,
          70.3,
          108.95,
          26.45,
          86.2,
          19.65,
          51.2,
          19.05,
          74.75,
          75.8,
          25.1,
          44.45,
          104.3,
          19.5,
          89,
          20.15,
          74.9,
          74.9,
          36.15,
          19.2,
          19.25,
          61.2,
          20.45,
          35.05,
          100.25,
          44,
          102.8,
          50.35,
          100,
          20,
          99.85,
          94.2,
          86.4,
          58.4,
          83.85,
          88.3,
          94.1,
          104.05,
          108.9,
          107.4,
          94.7,
          90.85,
          19.9,
          66.4,
          100.65,
          100.7,
          25.6,
          19.85,
          20.75,
          95.8,
          94.65,
          80.55,
          106.65,
          45.85,
          104.35,
          55.45,
          78.85,
          61.15,
          78.95,
          44.45,
          109.2,
          61.3,
          96.85,
          40.55,
          19.8,
          108.25,
          105.05,
          90.45,
          86.4,
          66.9,
          110.7,
          20,
          84.9,
          102.1,
          20.25,
          70.15,
          74.35,
          80.05,
          62.05,
          49.2,
          20.5,
          38.25,
          54.95,
          96.6,
          19.9,
          19.9,
          84.6,
          80,
          85.25,
          81.25,
          115.5,
          104.1,
          79,
          39.1,
          94.65,
          20.8,
          59.5,
          20.05,
          100.45,
          76.5,
          20.6,
          20.3,
          49.2,
          39.55,
          23.15,
          20.45,
          80.85,
          25.25,
          91.25,
          72.45,
          60.1,
          19.7,
          78.95,
          75.1,
          25,
          69.15,
          91.55,
          45.15,
          35.8,
          113.15,
          19.85,
          19.8,
          19.9,
          19.7,
          79.4,
          59.1,
          53.95,
          91.15,
          99.3,
          68.95,
          51.55,
          24.4,
          96.8,
          70.05,
          19.5,
          78.75,
          69.2,
          19.55,
          80.65,
          103.65,
          54.7,
          54.15,
          71.1,
          84.85,
          20,
          106.25,
          99.25,
          19.35,
          20.8,
          94.75,
          114.05,
          74.9,
          19.8,
          94,
          80.85,
          54.65,
          91.7,
          118.6,
          24.55,
          19.45,
          116.15,
          80.6,
          20.3,
          89.85,
          46,
          66.25,
          99.8,
          90,
          70.45,
          75,
          19.9,
          80.3,
          19.75,
          84.3,
          54.05,
          104.9,
          53.95,
          97.25,
          83.05,
          105.5,
          81,
          41.1,
          45,
          74.55,
          40.2,
          70.5,
          19.75,
          24.65,
          104.25,
          78.35,
          69.8,
          109.7,
          73.75,
          33.45,
          94.6,
          54.55,
          20.2,
          20.3,
          39.4,
          69.15,
          76.25,
          93.9,
          51.35,
          100.05,
          70.4,
          20.3,
          94.45,
          46.4,
          104.05,
          91.15,
          24.9,
          59.6,
          108.5,
          40.55,
          58.95,
          70.95,
          20.75,
          113.15,
          48.8,
          63.05,
          100.85,
          99.5,
          80.55,
          64.4,
          75.2,
          84.9,
          19.3,
          83.9,
          117.45,
          104.4,
          74.65,
          59.05,
          69.1,
          20.55,
          76.55,
          62.5,
          29.4,
          94.9,
          111.65,
          19.9,
          20.45,
          106.05,
          113.45,
          92.55,
          65.6,
          84.35,
          44.65,
          71.1,
          85.15,
          49.7,
          30.2,
          25.25,
          84.05,
          85.7,
          74.7,
          56.35,
          90.8,
          107.55,
          19.85,
          95.9,
          23.85,
          106.15,
          83.85,
          85.35,
          84.8,
          90.85,
          76.1,
          74.55,
          39.2,
          79.55,
          19.6,
          19.55,
          39.15,
          20.1,
          99.95,
          59.8,
          49.75,
          35.75,
          108.5,
          60.15,
          19.05,
          46,
          84,
          44.55,
          103.45,
          80.65,
          57.2,
          110.75,
          24.7,
          97.05,
          76.35,
          89.4,
          18.9,
          74.45,
          19.8,
          50.9,
          84.4,
          24.4,
          20.05,
          81,
          98.35,
          55.5,
          51,
          91.65,
          84.3,
          100.2,
          19.4,
          90.85,
          69.4,
          94.45,
          20.4,
          94.75,
          20.15,
          95.7,
          44.35,
          74.55,
          73.6,
          74.95,
          47.95,
          50.1,
          63.6,
          53,
          19.85,
          24.35,
          19.55,
          25.05,
          93.8,
          36.85,
          103.75,
          56.75,
          20.8,
          44.1,
          24.45,
          25.6,
          50.75,
          104.4,
          39.3,
          59.65,
          83.3,
          79.55,
          24.45,
          19.2,
          29.8,
          45.5,
          106.45,
          30.05,
          65.65,
          96.05,
          75.1,
          74.05,
          44.7,
          110.75,
          19.7,
          49.5,
          55,
          43.95,
          74.35,
          111.15,
          104.7,
          55.7,
          20.6,
          19.65,
          115.8,
          88.65,
          94.5,
          20.1,
          34.65,
          52.3,
          65,
          19.85,
          35.45,
          19.7,
          95.6,
          19.85,
          81.85,
          109.3,
          70.3,
          25.4,
          69.8,
          20,
          85.55,
          109.9,
          50.3,
          94.5,
          101.5,
          89.15,
          19.4,
          29.9,
          78.8,
          85.35,
          79.65,
          19.3,
          79.6,
          96.8,
          20.65,
          19.8,
          90.6,
          104.6,
          80.05,
          45.15,
          73.15,
          99.1,
          20.2,
          106.05,
          105.35,
          45.65,
          79.95,
          54.45,
          25.1,
          84.7,
          75.85,
          48.8,
          99.15,
          35.2,
          76.25,
          55.9,
          82.35,
          40.4,
          24.9,
          54.3,
          66.3,
          20.9,
          75.35,
          85.15,
          75.35,
          104.45,
          49.45,
          19.45,
          92.15,
          93.8,
          19.85,
          100.25,
          95.7,
          93.15,
          69.7,
          19.8,
          71.35,
          20.75,
          40.6,
          20.4,
          20.35,
          19.75,
          54.4,
          94.7,
          30.5,
          20.45,
          66.15,
          89.85,
          45.05,
          86.85,
          96.75,
          77,
          20.1,
          75.3,
          106.65,
          110.15,
          82.85,
          20.1,
          99.2,
          59.45,
          58.6,
          49.7,
          65.85,
          73.5,
          85.5,
          20.05,
          113.65,
          83.4,
          65.65,
          70.4,
          61.35,
          85.9,
          75.65,
          49.75,
          70.9,
          49.85,
          75.3,
          20.1,
          94,
          103.05,
          118.35,
          99.7,
          81.9,
          30.45,
          96.1,
          66.2,
          104.25,
          80.2,
          19.75,
          72.6,
          116.5,
          106.8,
          24.95,
          89.25,
          19.25,
          104.55,
          87.2,
          30.75,
          25.7,
          86.2,
          30.1,
          99.35,
          19.2,
          20.1,
          20.35,
          25.65,
          94.55,
          104.2,
          94.4,
          56.1,
          68.25,
          24.75,
          76.25,
          74.35,
          54.15,
          19.45,
          34.95,
          53.65,
          69.65,
          104,
          70.35,
          80.8,
          64.85,
          19.65,
          45.9,
          20,
          44.8,
          80.3,
          20.35,
          45.8,
          84.1,
          108.95,
          69.35,
          64.35,
          90.8,
          24.95,
          79.6,
          84.7,
          70.8,
          36.45,
          104.4,
          101.5,
          54.3,
          103.95,
          91.1,
          19.95,
          26.45,
          89.4,
          75.1,
          108.1,
          110.15,
          80.35,
          111.5,
          106.5,
          19.9,
          111.1,
          70.7,
          24.85,
          91.2,
          65.6,
          40.65,
          59.45,
          109.95,
          60.45,
          84.9,
          38.5,
          92.55,
          73.55,
          20.15,
          34.7,
          24.5,
          19.7,
          20.6,
          58,
          107.45,
          65.5,
          25.45,
          100.15,
          104.45,
          21.15,
          96.2,
          44.4,
          107.55,
          94.35,
          98.75,
          20.3,
          101.15,
          105.75,
          81.15,
          89.55,
          54.75,
          53.75,
          105.75,
          105.85,
          64.2,
          88.7,
          87.7,
          89.3,
          20.15,
          79.75,
          94.55,
          20.05,
          67.2,
          94.55,
          69.05,
          107.5,
          73,
          114.75,
          76.05,
          96.25,
          101.1,
          104.7,
          77.9,
          90.65,
          110.45,
          68.7,
          44.85,
          29.8,
          88.9,
          58.75,
          19.85,
          86.9,
          59.65,
          55.25,
          66.4,
          90.1,
          20.15,
          108.1,
          53.75,
          56.9,
          89.3,
          109.6,
          25.15,
          79.15,
          66.75,
          95.2,
          48.8,
          45.7,
          80.7,
          74.5,
          20.55,
          79.65,
          115.1,
          59.7,
          86.45,
          33.7,
          80.1,
          104.05,
          108.75,
          41.1,
          20.35,
          105.9,
          101.3,
          80.05,
          89.2,
          65.5,
          40.45,
          70.45,
          78.8,
          83.65,
          90.1,
          82.45,
          20.25,
          66.25,
          19.5,
          51.25,
          89.7,
          64.55,
          45.6,
          93.65,
          49.65,
          73.6,
          109.75,
          61.45,
          106.4,
          81.9,
          105.2,
          54.6,
          20.55,
          20,
          19.7,
          66.05,
          34,
          92.5,
          54.05,
          58.9,
          88.35,
          107.95,
          96.9,
          19.1,
          50,
          45.4,
          85.45,
          84.1,
          74.45,
          64.75,
          66.25,
          76.9,
          89.8,
          74.6,
          116.95,
          40.65,
          114.35,
          69.7,
          95.5,
          98.65,
          61.65,
          89.35,
          95.4,
          35.4,
          19.95,
          19.25,
          29.65,
          84.5,
          20.4,
          24.75,
          25.35,
          90.7,
          20,
          59.75,
          82.5,
          70.3,
          20.35,
          90.8,
          103.95,
          104.95,
          105.25,
          74.75,
          50.8,
          23.75,
          61.3,
          75.8,
          98,
          80.25,
          78.9,
          52,
          84.75,
          64.4,
          85.45,
          45.8,
          30.5,
          19.9,
          69.15,
          99.45,
          49.25,
          39.35,
          70.6,
          105.1,
          81,
          20.1,
          84.85,
          19.75,
          19.75,
          70.4,
          20.45,
          20.35,
          86.2,
          95.65,
          103.8,
          97.2,
          63.55,
          24.95,
          89.15,
          99,
          24.8,
          85.55,
          94,
          105.65,
          50.3,
          95,
          61.4,
          80.55,
          78.5,
          114.3,
          20.05,
          62.65,
          80.85,
          92.7,
          100.45,
          75.2,
          84.75,
          89.45,
          79.5,
          72.15,
          19.8,
          76.4,
          100.9,
          95.3,
          90.95,
          54.5,
          61.6,
          79.9,
          96.15,
          49.6,
          65.3,
          25,
          45.45,
          107.75,
          89.1,
          19.65,
          44.75,
          101.6,
          103.15,
          84.65,
          95.65,
          75.1,
          61.35,
          69.55,
          19.7,
          31.05,
          51,
          51,
          88.85,
          20.05,
          65.1,
          70.15,
          44.35,
          20.75,
          56.05,
          19.95,
          98.6,
          79.7,
          79,
          89.45,
          74.2,
          81,
          49.6,
          84.6,
          55,
          84.85,
          84.2,
          106.3,
          69.05,
          45.4,
          73.65,
          73.9,
          77.75,
          99.35,
          50.75,
          87.1,
          20.15,
          98.7,
          25.2,
          55.7,
          65.35,
          25.3,
          84.35,
          84.95,
          73.85,
          24.25,
          51.8,
          46,
          79.4,
          60.5,
          25.1,
          71.8,
          20.05,
          88.4,
          30.25,
          20.2,
          59.9,
          25.15,
          46,
          101.3,
          76.95,
          55.3,
          92.45,
          48.45,
          19.35,
          51.75,
          86.7,
          94.4,
          55.7,
          84.25,
          64.65,
          70.15,
          69.2,
          54.65,
          24.75,
          23.95,
          105,
          59.85,
          20.05,
          92.15,
          44.8,
          20.9,
          95.4,
          80.35,
          85.1,
          34.7,
          115.05,
          81.1,
          19.95,
          20.55,
          106.6,
          86.15,
          78.85,
          106.75,
          86.55,
          42.4,
          89.45,
          24.25,
          97.9,
          20.5,
          19.6,
          20.25,
          55.7,
          20.6,
          19.8,
          79.8,
          80.2,
          116.4,
          31.65,
          94.15,
          20.65,
          76.85,
          20.15,
          55.25,
          39.05,
          82.15,
          103,
          95.1,
          83.9,
          95.15,
          79.8,
          74.8,
          69.85,
          20.45,
          78.35,
          53.55,
          19.1,
          20,
          93.9,
          19.95,
          113.15,
          24,
          84.95,
          80.5,
          19.3,
          19.15,
          91.3,
          49.65,
          54.35,
          19.15,
          88.45,
          19.75,
          75.5,
          83.75,
          19.4,
          26.5,
          90.5,
          19.15,
          94.85,
          69.95,
          40.9,
          80.25,
          48.6,
          70.8,
          60.2,
          55.2,
          55.8,
          54.15,
          80.15,
          75.5,
          100.4,
          62.55,
          70.45,
          85.5,
          20.2,
          54.5,
          20.75,
          20.35,
          91,
          104.8,
          74.75,
          104.05,
          51.1,
          89.8,
          20.55,
          64.05,
          74.85,
          96.65,
          20.05,
          103.45,
          25,
          20.3,
          26.35,
          19.9,
          54.7,
          46.35,
          90.25,
          19.95,
          20.65,
          79.6,
          25.45,
          19.5,
          75.9,
          76.2,
          66.15,
          19.25,
          69.1,
          39.1,
          20.05,
          59.8,
          84.3,
          48.6,
          79,
          105.35,
          25.1,
          49.75,
          94.75,
          93,
          71.9,
          77.55,
          19.85,
          70.25,
          95.25,
          84.6,
          25.05,
          53.15,
          20.15,
          101.25,
          100.55,
          24.1,
          25.3,
          71.8,
          19.7,
          49.85,
          69.6,
          19.75,
          80.8,
          60,
          86.55,
          20.85,
          64.2,
          35,
          50.75,
          105.5,
          19.2,
          85.15,
          90.65,
          20,
          74.65,
          61.2,
          19.95,
          54.8,
          73.45,
          51.45,
          80.45,
          54.2,
          109.5,
          104.4,
          85.3,
          79.3,
          76.5,
          105.1,
          25.4,
          86.85,
          19.65,
          75.7,
          45.55,
          78.1,
          19.3,
          110.5,
          90.8,
          20.3,
          81.35,
          97.95,
          108.15,
          55.3,
          56.55,
          80.5,
          19.7,
          104.05,
          52.85,
          104.3,
          80.65,
          71.35,
          24.65,
          21.3,
          110.2,
          89.4,
          51.05,
          19.8,
          19.9,
          87.3,
          19.85,
          89.4,
          20,
          20.05,
          83.25,
          20.6,
          102.9,
          39.1,
          99.95,
          114.5,
          20.2,
          55.8,
          24.2,
          81,
          72.8,
          99.85,
          99.5,
          70.15,
          20.25,
          26,
          19.9,
          19.05,
          96.5,
          19.85,
          25.7,
          20.3,
          70.15,
          91.55,
          39.4,
          105.7,
          70.25,
          93.75,
          96.55,
          60,
          59.8,
          90.65,
          109,
          68.1,
          20.4,
          81.95,
          60.55,
          65.6,
          82.5,
          82.3,
          68.15,
          20.3,
          95.55,
          20.2,
          89.2,
          69.65,
          89.3,
          74.8,
          20.2,
          84.4,
          87.55,
          25.15,
          19.8,
          50.85,
          102.4,
          96.3,
          55.5,
          109.75,
          106.4,
          60,
          88.8,
          85.2,
          35.1,
          80.05,
          75.55,
          49.55,
          81.3,
          23.9,
          66.4,
          19.6,
          18.8,
          108.4,
          85.95,
          85.45,
          80.9,
          71,
          111.8,
          20.6,
          85.05,
          44.6,
          44.4,
          105.1,
          115.15,
          59.8,
          26.3,
          70.55,
          20.05,
          79.85,
          70.3,
          79.35,
          90.05,
          24.45,
          59.95,
          25.35,
          90.8,
          70.45,
          34.3,
          105.05,
          19.3,
          19.15,
          51.4,
          71.85,
          75.4,
          49.7,
          45.25,
          78.75,
          81.6,
          70.4,
          75.8,
          76.1,
          94,
          103.95,
          19.95,
          71.3,
          110.8,
          69.1,
          96.1,
          48.8,
          50.55,
          44.65,
          88.25,
          19.45,
          89.3,
          70,
          19.25,
          70.5,
          97.35,
          19.65,
          20.85,
          19.65,
          19.35,
          44,
          94.4,
          25.9,
          55.65,
          69.65,
          75.4,
          100.6,
          71,
          86,
          106.95,
          21.2,
          61.05,
          29.6,
          79.95,
          19.7,
          20.3,
          59.9,
          24.35,
          19.75,
          50.3,
          95.6,
          50.25,
          85.35,
          41.6,
          51.65,
          24,
          100.85,
          59.85,
          25.45,
          23.9,
          24.15,
          75.7,
          40.2,
          84.5,
          50.85,
          91.6,
          98.9,
          85,
          78.95,
          44.3,
          20.2,
          80.2,
          60.9,
          34.2,
          85.2,
          87.15,
          54.3,
          19.1,
          112.75,
          19.95,
          19.5,
          65.55,
          78.8,
          78.2,
          105.25,
          89.25,
          20.65,
          68.7,
          78.65,
          24.75,
          19.75,
          89.1,
          84.7,
          98,
          94.45,
          105,
          93.85,
          59.9,
          19.95,
          84,
          108.9,
          33.6,
          85.85,
          34.85,
          48.75,
          84.85,
          56.65,
          95.3,
          73.9,
          24.5,
          84.6,
          44.95,
          24.7,
          100.3,
          25.45,
          50.7,
          55,
          68.4,
          89.9,
          78.55,
          55.05,
          19.8,
          84.45,
          35.9,
          80.75,
          78.65,
          61.75,
          63.7,
          99.45,
          25.2,
          74.05,
          87.6,
          89.15,
          20,
          55,
          104.4,
          20.05,
          89.75,
          34.3,
          20.65,
          84.25,
          19.65,
          79.85,
          20.2,
          19.8,
          50.35,
          85.15,
          74.6,
          79.15,
          20.35,
          21.05,
          94.6,
          94.7,
          94.25,
          72.45,
          74.95,
          105.2,
          111.95,
          19.85,
          89.75,
          20.05,
          108.95,
          19.65,
          24.9,
          82.85,
          93.2,
          84.8,
          71.75,
          30.35,
          54.85,
          19.5,
          103.85,
          24.2,
          19.35,
          83.6,
          100.65,
          94.1,
          74.55,
          108.45,
          56.15,
          20.35,
          80.55,
          61.25,
          20.45,
          18.9,
          19.6,
          91.5,
          45.2,
          19.45,
          25.45,
          80.85,
          94.9,
          49.05,
          29.3,
          105.3,
          88.95,
          20.25,
          110.85,
          110.5,
          109.4,
          114.2,
          36.5,
          70.75,
          19.95,
          19.6,
          40.15,
          76.6,
          19.6,
          85.3,
          65.85,
          94.45,
          20.05,
          99.4,
          20,
          78.45,
          25.1,
          97.35,
          55,
          71.1,
          61.55,
          45.9,
          40.3,
          87.1,
          49.5,
          73.8,
          19.2,
          45.3,
          25,
          94.95,
          35.3,
          44.55,
          76.75,
          81,
          105.55,
          18.8,
          24.9,
          23.45,
          64.9,
          61.35,
          113.95,
          90.15,
          54.1,
          29.7,
          49.8,
          101.1,
          24.4,
          95,
          50.65,
          69.9,
          39.95,
          55.4,
          90.6,
          103.25,
          86.85,
          94.25,
          47.05,
          20.55,
          19.65,
          70.2,
          81,
          75.9,
          24.7,
          99.05,
          110.25,
          85,
          19.75,
          23.9,
          111.25,
          55.1,
          19.95,
          25.15,
          54.15,
          59.8,
          83.85,
          104.9,
          75.3,
          66.65,
          109.5,
          73.85,
          19.3,
          118.2,
          51.45,
          59.45,
          19.5,
          19.55,
          93.55,
          59.3,
          102.25,
          95.9,
          109.8,
          78.1,
          39.9,
          64.9,
          95.05,
          53.4,
          24.9,
          44.7,
          114,
          20.25,
          53.85,
          83.85,
          20.2,
          19.95,
          104.2,
          50.25,
          20.35,
          90,
          54.2,
          99.5,
          99.1,
          66.9,
          25.85,
          91.05,
          71,
          93.2,
          20.95,
          109.2,
          19.35,
          85.8,
          19.85,
          19.65,
          20.5,
          89.65,
          74.35,
          49.45,
          89.1,
          75.15,
          70.65,
          104.2,
          90.05,
          79.25,
          44.9,
          19.4,
          88.75,
          70.1,
          91,
          29.65,
          90.8,
          77.85,
          54.3,
          18.95,
          95.15,
          102.4,
          99.9,
          88.7,
          54.3,
          55.7,
          103.95,
          110.85,
          20.15,
          20.05,
          91.95,
          80.5,
          55.65,
          74.7,
          104.15,
          83.65,
          72.2,
          110.05,
          51.5,
          25.5,
          89.55,
          19.5,
          80.7,
          77.5,
          105.1,
          25.15,
          95.25,
          95.65,
          85,
          80.8,
          24.85,
          54.75,
          85.75,
          50.75,
          20.15,
          20.05,
          98.25,
          71.6,
          81.45,
          58.4,
          25.7,
          53.7,
          19.6,
          89.4,
          69,
          84.2,
          106.1,
          25.75,
          46.05,
          64.95,
          85.45,
          20.05,
          76.4,
          100.5,
          20.7,
          25.3,
          40.05,
          100.6,
          69.95,
          74,
          99.4,
          93.3,
          49.15,
          107.45,
          83.6,
          99.05,
          80.1,
          65.3,
          89.55,
          60.8,
          74.5,
          99.15,
          19.25,
          39.45,
          44.85,
          97.2,
          110.55,
          35.05,
          73,
          19.9,
          76.95,
          35.4,
          20.45,
          96.75,
          54.2,
          100.1,
          45.25,
          83.85,
          70.1,
          20.85,
          33.45,
          20.2,
          85.9,
          61,
          70.65,
          86.9,
          69.4,
          20.35,
          20.35,
          104.3,
          44.95,
          49.45,
          20.6,
          19.55,
          99,
          93.5,
          54.55,
          20.05,
          83.95,
          79.45,
          116.2,
          93.7,
          79.85,
          100,
          19.6,
          19.7,
          20.2,
          50.4,
          113.35,
          80,
          80.95,
          24.9,
          54.9,
          75.55,
          109.25,
          77.65,
          95,
          116.3,
          19.9,
          70.35,
          25.6,
          44.45,
          100.15,
          105.4,
          95.85,
          73.85,
          70.1,
          25.25,
          79.15,
          21.05,
          24.95,
          64.5,
          19.65,
          79,
          105.95,
          75.85,
          91.85,
          43.6,
          91.25,
          89.75,
          104.4,
          90.15,
          40.3,
          105.25,
          106,
          104,
          69.65,
          74.3,
          100.9,
          20.25,
          49.9,
          96.9,
          100.35,
          104.1,
          20.1,
          74.95,
          56.55,
          49.25,
          68.6,
          69.05,
          19.7,
          20.05,
          103.7,
          94.4,
          54.95,
          93.7,
          110.25,
          98.9,
          89.75,
          80.45,
          79.4,
          20.3,
          62.8,
          74.9,
          74.85,
          25.85,
          101.95,
          68.3,
          48.4,
          94,
          105.05,
          89.3,
          25.15,
          19.5,
          92.95,
          20.7,
          74.3,
          19.35,
          44.65,
          84.05,
          80.7,
          104.35,
          19.55,
          74.05,
          40.1,
          20.1,
          101.7,
          83.55,
          56.85,
          20.4,
          19.55,
          106.15,
          78.95,
          49.75,
          92.4,
          58.2,
          102.6,
          91.95,
          65.25,
          106,
          73.1,
          59.75,
          55.1,
          59.8,
          116.6,
          109.3,
          101.4,
          50.65,
          56.15,
          106.5,
          19.2,
          83,
          70.1,
          108.3,
          91.05,
          25.25,
          45.35,
          43.9,
          77.5,
          79.3,
          84.9,
          79.25,
          71.05,
          53.75,
          24.25,
          54.2,
          44.25,
          50.05,
          20.15,
          69.25,
          69.35,
          19.35,
          19.15,
          61,
          20.5,
          50.5,
          50.2,
          79.6,
          24.9,
          74.4,
          106.9,
          101.35,
          55.35,
          50.55,
          19.5,
          79.45,
          90.65,
          89.85,
          79,
          104.65,
          19.55,
          19.9,
          116.25,
          87.75,
          100.05,
          81.3,
          44.3,
          70.35,
          44.45,
          49.15,
          29.45,
          100.55,
          85.3,
          95.65,
          69.1,
          70.35,
          20.6,
          74.15,
          75.05,
          44.6,
          21.45,
          43.45,
          20.05,
          94.15,
          94.4,
          19.55,
          75.9,
          64.15,
          109.55,
          110.8,
          55,
          53.45,
          69.95,
          101.45,
          97,
          90.6,
          73.55,
          67.95,
          94.35,
          69.5,
          18.85,
          19.4,
          69.2,
          19.75,
          54.6,
          29.8,
          69.65,
          101.85,
          103.05,
          82.3,
          20.3,
          35.1,
          105.7,
          56.25,
          60.35,
          79.25,
          59.8,
          84.6,
          93.4,
          94.2,
          25.05,
          99.65,
          50.65,
          60.9,
          59.65,
          64.7,
          25.1,
          48.95,
          54.85,
          45.3,
          91.35,
          85.85,
          25.1,
          34,
          45.9,
          95.2,
          20.5,
          100.6,
          55.3,
          20.35,
          74.85,
          36.1,
          65.8,
          20.35,
          105.8,
          96.75,
          102.35,
          24.4,
          115.65,
          79.85,
          73.05,
          64.35,
          20.5,
          76,
          54.75,
          104.75,
          74.65,
          51.15,
          41.95,
          54.35,
          56.25,
          106.1,
          96,
          79.75,
          61.45,
          68.65,
          19.65,
          19,
          100,
          20.25,
          98.7,
          19.8,
          73.8,
          100.2,
          74.9,
          20.05,
          106.2,
          116.55,
          99.7,
          19.7,
          19.5,
          29.15,
          55,
          90.8,
          51,
          90.1,
          59.05,
          20.3,
          72.95,
          73.55,
          84.3,
          78,
          72.1,
          106.75,
          19.25,
          20.55,
          20,
          24.65,
          103.5,
          23.85,
          25.8,
          70.85,
          69.8,
          59.45,
          54.55,
          20.05,
          82.55,
          81.25,
          70.75,
          74.3,
          94.1,
          29.7,
          109.7,
          96.35,
          66.6,
          44.5,
          110.9,
          105,
          25.3,
          55.15,
          20.1,
          80.1,
          69.05,
          69.9,
          20.4,
          19.7,
          50.1,
          101.4,
          83.45,
          86.65,
          20.15,
          80.8,
          19.4,
          62.05,
          76.45,
          60.05,
          91.3,
          95.75,
          20.35,
          94.05,
          84.1,
          78.75,
          55.55,
          62.65,
          74.5,
          102.1,
          20.1,
          70.3,
          53.65,
          20.75,
          103.4,
          50.8,
          50.15,
          79,
          74.6,
          96.5,
          20.1,
          19.4,
          77.55,
          20.05,
          19.85,
          20.2,
          67.45,
          18.55,
          29.75,
          86.5,
          24.2,
          23.55,
          20.45,
          81.45,
          92.3,
          69.15,
          53.65,
          39.65,
          54.65,
          104.8,
          29.3,
          83.85,
          79.55,
          103.65,
          99.05,
          73.35,
          100.05,
          20.35,
          43.95,
          23.5,
          70.7,
          94.3,
          29.15,
          20.85,
          37.7,
          95.5,
          91.05,
          92.45,
          44.15,
          36.05,
          50.25,
          109.75,
          79.2,
          20.3,
          112.35,
          94.3,
          41.15,
          74.65,
          48.25,
          76.15,
          71.1,
          96.55,
          79.3,
          89.6,
          20.5,
          106.3,
          100.35,
          85.6,
          45.25,
          106.15,
          51.1,
          19.9,
          25.7,
          74.3,
          99.4,
          69.7,
          98.35,
          85.45,
          95.9,
          100.75,
          89.2,
          74.1,
          100.6,
          75,
          25.75,
          84.1,
          79.3,
          107.05,
          20.05,
          70.2,
          19.5,
          70.75,
          45.3,
          115.15,
          72.95,
          19.65,
          19.55,
          89.55,
          50.35,
          50.25,
          87.25,
          20.8,
          109.25,
          20.35,
          55.9,
          79.2,
          96,
          79.2,
          24,
          101.35,
          100.1,
          56.5,
          35.45,
          85,
          79.4,
          35.2,
          19.65,
          49.85,
          68.75,
          61.9,
          79.9,
          89.75,
          59.3,
          19.4,
          93.65,
          49.4,
          19.9,
          55,
          72.9,
          69.2,
          25.6,
          19.75,
          55.7,
          117.5,
          19.85,
          78.9,
          20.65,
          62.3,
          92.5,
          19.65,
          79.75,
          79.95,
          29.9,
          19.75,
          45,
          44.8,
          69.65,
          51.1,
          53.15,
          24.7,
          111.6,
          48.55,
          109.95,
          20.8,
          20.2,
          25.6,
          39.65,
          24.9,
          108.4,
          19.55,
          85.1,
          56.7,
          69.05,
          70.15,
          111.15,
          105.95,
          89.35,
          89.1,
          91.25,
          90.35,
          105.55,
          19.1,
          20.4,
          100.45,
          74.95,
          29.7,
          50.35,
          85.7,
          47.85,
          94,
          69.85,
          70.3,
          25.85,
          71.1,
          98.8,
          93.35,
          99.85,
          80.3,
          50.55,
          80.45,
          81.3,
          20.7,
          79.05,
          19.05,
          19.6,
          20.2,
          86.8,
          20.9,
          103.6,
          38.8,
          88.4,
          84.2,
          79.7,
          99,
          100.75,
          19.3,
          55.75,
          19.95,
          91.75,
          89.65,
          45.85,
          79.55,
          55.95,
          69,
          83.55,
          65.7,
          94.9,
          61.9,
          111.1,
          20,
          67.7,
          25.15,
          92.85,
          89.1,
          111.3,
          101.9,
          91.65,
          88.85,
          60.6,
          25.3,
          65.5,
          95.45,
          19.95,
          91.1,
          54.15,
          74.6,
          94.6,
          81.15,
          89.05,
          49.2,
          19.45,
          104.3,
          69.7,
          89.5,
          86.05,
          25.2,
          35.15,
          99.65,
          105.35,
          35.15,
          73.75,
          101.35,
          24.3,
          80.7,
          89.85,
          61.1,
          29.05,
          99.7,
          55.9,
          105.9,
          46,
          43.95,
          80.4,
          100.05,
          45.1,
          94,
          68.95,
          68.45,
          69,
          43.85,
          44.5,
          18.7,
          70.25,
          55.35,
          53.55,
          114.6,
          20.1,
          85.5,
          108.75,
          103,
          97.85,
          19.55,
          84.05,
          103.75,
          89.4,
          19.7,
          79.85,
          74.45,
          74.1,
          69.35,
          18.8,
          73.85,
          64.4,
          55.8,
          20.05,
          75.15,
          99.15,
          56.75,
          69.6,
          104.15,
          110.8,
          80.15,
          35.75,
          69.9,
          89.2,
          55.65,
          50.7,
          20,
          30.5,
          19.1,
          98.3,
          45.55,
          101.05,
          103.7,
          36.25,
          49.4,
          19.9,
          107.4,
          82,
          19.8,
          45.05,
          64.55,
          86.25,
          19.75,
          89.1,
          95.55,
          75.4,
          101.25,
          102.6,
          56.3,
          94.2,
          43.05,
          89.5,
          74.4,
          20.5,
          74.35,
          99.75,
          111.95,
          94,
          98.85,
          64.35,
          72,
          49.7,
          80.7,
          24.2,
          39,
          65.45,
          74.35,
          83.2,
          25,
          40.2,
          94.1,
          108.35,
          69.5,
          76,
          93.6,
          95.65,
          100.55,
          88.05,
          24.45,
          89.55,
          66.5,
          76.1,
          80.5,
          35.45,
          20.55,
          49.9,
          105.4,
          35.75,
          95.1,
          19.3,
          104.5,
          63.1,
          75.05,
          81,
          74.45,
          60.4,
          84.95,
          93.4,
          89.2,
          85.2,
          49.95,
          20.65,
          70.65,
          20.15,
          19.2,
          59.8,
          104.95,
          103.5,
          84.8,
          95.05,
          44.2,
          73.35,
          64.1,
          44.4,
          20.05,
          60,
          75.75,
          69.5,
          102.95,
          78.7,
          60.65,
          21.15,
          84.8,
          103.2,
          29.6,
          74.4,
          105.65
         ],
         "x0": " ",
         "xaxis": "x",
         "y0": " ",
         "yaxis": "y"
        }
       ],
       "layout": {
        "boxmode": "group",
        "hoverlabel": {
         "bgcolor": "#111",
         "font": {
          "family": "poppins",
          "size": 16
         }
        },
        "legend": {
         "tracegroupgap": 0
        },
        "showlegend": false,
        "template": {
         "data": {
          "bar": [
           {
            "error_x": {
             "color": "#f2f5fa"
            },
            "error_y": {
             "color": "#f2f5fa"
            },
            "marker": {
             "line": {
              "color": "rgb(17,17,17)",
              "width": 0.5
             },
             "pattern": {
              "fillmode": "overlay",
              "size": 10,
              "solidity": 0.2
             }
            },
            "type": "bar"
           }
          ],
          "barpolar": [
           {
            "marker": {
             "line": {
              "color": "rgb(17,17,17)",
              "width": 0.5
             },
             "pattern": {
              "fillmode": "overlay",
              "size": 10,
              "solidity": 0.2
             }
            },
            "type": "barpolar"
           }
          ],
          "carpet": [
           {
            "aaxis": {
             "endlinecolor": "#A2B1C6",
             "gridcolor": "#506784",
             "linecolor": "#506784",
             "minorgridcolor": "#506784",
             "startlinecolor": "#A2B1C6"
            },
            "baxis": {
             "endlinecolor": "#A2B1C6",
             "gridcolor": "#506784",
             "linecolor": "#506784",
             "minorgridcolor": "#506784",
             "startlinecolor": "#A2B1C6"
            },
            "type": "carpet"
           }
          ],
          "choropleth": [
           {
            "colorbar": {
             "outlinewidth": 0,
             "ticks": ""
            },
            "type": "choropleth"
           }
          ],
          "contour": [
           {
            "colorbar": {
             "outlinewidth": 0,
             "ticks": ""
            },
            "colorscale": [
             [
              0,
              "#0d0887"
             ],
             [
              0.1111111111111111,
              "#46039f"
             ],
             [
              0.2222222222222222,
              "#7201a8"
             ],
             [
              0.3333333333333333,
              "#9c179e"
             ],
             [
              0.4444444444444444,
              "#bd3786"
             ],
             [
              0.5555555555555556,
              "#d8576b"
             ],
             [
              0.6666666666666666,
              "#ed7953"
             ],
             [
              0.7777777777777778,
              "#fb9f3a"
             ],
             [
              0.8888888888888888,
              "#fdca26"
             ],
             [
              1,
              "#f0f921"
             ]
            ],
            "type": "contour"
           }
          ],
          "contourcarpet": [
           {
            "colorbar": {
             "outlinewidth": 0,
             "ticks": ""
            },
            "type": "contourcarpet"
           }
          ],
          "heatmap": [
           {
            "colorbar": {
             "outlinewidth": 0,
             "ticks": ""
            },
            "colorscale": [
             [
              0,
              "#0d0887"
             ],
             [
              0.1111111111111111,
              "#46039f"
             ],
             [
              0.2222222222222222,
              "#7201a8"
             ],
             [
              0.3333333333333333,
              "#9c179e"
             ],
             [
              0.4444444444444444,
              "#bd3786"
             ],
             [
              0.5555555555555556,
              "#d8576b"
             ],
             [
              0.6666666666666666,
              "#ed7953"
             ],
             [
              0.7777777777777778,
              "#fb9f3a"
             ],
             [
              0.8888888888888888,
              "#fdca26"
             ],
             [
              1,
              "#f0f921"
             ]
            ],
            "type": "heatmap"
           }
          ],
          "heatmapgl": [
           {
            "colorbar": {
             "outlinewidth": 0,
             "ticks": ""
            },
            "colorscale": [
             [
              0,
              "#0d0887"
             ],
             [
              0.1111111111111111,
              "#46039f"
             ],
             [
              0.2222222222222222,
              "#7201a8"
             ],
             [
              0.3333333333333333,
              "#9c179e"
             ],
             [
              0.4444444444444444,
              "#bd3786"
             ],
             [
              0.5555555555555556,
              "#d8576b"
             ],
             [
              0.6666666666666666,
              "#ed7953"
             ],
             [
              0.7777777777777778,
              "#fb9f3a"
             ],
             [
              0.8888888888888888,
              "#fdca26"
             ],
             [
              1,
              "#f0f921"
             ]
            ],
            "type": "heatmapgl"
           }
          ],
          "histogram": [
           {
            "marker": {
             "pattern": {
              "fillmode": "overlay",
              "size": 10,
              "solidity": 0.2
             }
            },
            "type": "histogram"
           }
          ],
          "histogram2d": [
           {
            "colorbar": {
             "outlinewidth": 0,
             "ticks": ""
            },
            "colorscale": [
             [
              0,
              "#0d0887"
             ],
             [
              0.1111111111111111,
              "#46039f"
             ],
             [
              0.2222222222222222,
              "#7201a8"
             ],
             [
              0.3333333333333333,
              "#9c179e"
             ],
             [
              0.4444444444444444,
              "#bd3786"
             ],
             [
              0.5555555555555556,
              "#d8576b"
             ],
             [
              0.6666666666666666,
              "#ed7953"
             ],
             [
              0.7777777777777778,
              "#fb9f3a"
             ],
             [
              0.8888888888888888,
              "#fdca26"
             ],
             [
              1,
              "#f0f921"
             ]
            ],
            "type": "histogram2d"
           }
          ],
          "histogram2dcontour": [
           {
            "colorbar": {
             "outlinewidth": 0,
             "ticks": ""
            },
            "colorscale": [
             [
              0,
              "#0d0887"
             ],
             [
              0.1111111111111111,
              "#46039f"
             ],
             [
              0.2222222222222222,
              "#7201a8"
             ],
             [
              0.3333333333333333,
              "#9c179e"
             ],
             [
              0.4444444444444444,
              "#bd3786"
             ],
             [
              0.5555555555555556,
              "#d8576b"
             ],
             [
              0.6666666666666666,
              "#ed7953"
             ],
             [
              0.7777777777777778,
              "#fb9f3a"
             ],
             [
              0.8888888888888888,
              "#fdca26"
             ],
             [
              1,
              "#f0f921"
             ]
            ],
            "type": "histogram2dcontour"
           }
          ],
          "mesh3d": [
           {
            "colorbar": {
             "outlinewidth": 0,
             "ticks": ""
            },
            "type": "mesh3d"
           }
          ],
          "parcoords": [
           {
            "line": {
             "colorbar": {
              "outlinewidth": 0,
              "ticks": ""
             }
            },
            "type": "parcoords"
           }
          ],
          "pie": [
           {
            "automargin": true,
            "type": "pie"
           }
          ],
          "scatter": [
           {
            "marker": {
             "line": {
              "color": "#283442"
             }
            },
            "type": "scatter"
           }
          ],
          "scatter3d": [
           {
            "line": {
             "colorbar": {
              "outlinewidth": 0,
              "ticks": ""
             }
            },
            "marker": {
             "colorbar": {
              "outlinewidth": 0,
              "ticks": ""
             }
            },
            "type": "scatter3d"
           }
          ],
          "scattercarpet": [
           {
            "marker": {
             "colorbar": {
              "outlinewidth": 0,
              "ticks": ""
             }
            },
            "type": "scattercarpet"
           }
          ],
          "scattergeo": [
           {
            "marker": {
             "colorbar": {
              "outlinewidth": 0,
              "ticks": ""
             }
            },
            "type": "scattergeo"
           }
          ],
          "scattergl": [
           {
            "marker": {
             "line": {
              "color": "#283442"
             }
            },
            "type": "scattergl"
           }
          ],
          "scattermapbox": [
           {
            "marker": {
             "colorbar": {
              "outlinewidth": 0,
              "ticks": ""
             }
            },
            "type": "scattermapbox"
           }
          ],
          "scatterpolar": [
           {
            "marker": {
             "colorbar": {
              "outlinewidth": 0,
              "ticks": ""
             }
            },
            "type": "scatterpolar"
           }
          ],
          "scatterpolargl": [
           {
            "marker": {
             "colorbar": {
              "outlinewidth": 0,
              "ticks": ""
             }
            },
            "type": "scatterpolargl"
           }
          ],
          "scatterternary": [
           {
            "marker": {
             "colorbar": {
              "outlinewidth": 0,
              "ticks": ""
             }
            },
            "type": "scatterternary"
           }
          ],
          "surface": [
           {
            "colorbar": {
             "outlinewidth": 0,
             "ticks": ""
            },
            "colorscale": [
             [
              0,
              "#0d0887"
             ],
             [
              0.1111111111111111,
              "#46039f"
             ],
             [
              0.2222222222222222,
              "#7201a8"
             ],
             [
              0.3333333333333333,
              "#9c179e"
             ],
             [
              0.4444444444444444,
              "#bd3786"
             ],
             [
              0.5555555555555556,
              "#d8576b"
             ],
             [
              0.6666666666666666,
              "#ed7953"
             ],
             [
              0.7777777777777778,
              "#fb9f3a"
             ],
             [
              0.8888888888888888,
              "#fdca26"
             ],
             [
              1,
              "#f0f921"
             ]
            ],
            "type": "surface"
           }
          ],
          "table": [
           {
            "cells": {
             "fill": {
              "color": "#506784"
             },
             "line": {
              "color": "rgb(17,17,17)"
             }
            },
            "header": {
             "fill": {
              "color": "#2a3f5f"
             },
             "line": {
              "color": "rgb(17,17,17)"
             }
            },
            "type": "table"
           }
          ]
         },
         "layout": {
          "annotationdefaults": {
           "arrowcolor": "#f2f5fa",
           "arrowhead": 0,
           "arrowwidth": 1
          },
          "autotypenumbers": "strict",
          "coloraxis": {
           "colorbar": {
            "outlinewidth": 0,
            "ticks": ""
           }
          },
          "colorscale": {
           "diverging": [
            [
             0,
             "#8e0152"
            ],
            [
             0.1,
             "#c51b7d"
            ],
            [
             0.2,
             "#de77ae"
            ],
            [
             0.3,
             "#f1b6da"
            ],
            [
             0.4,
             "#fde0ef"
            ],
            [
             0.5,
             "#f7f7f7"
            ],
            [
             0.6,
             "#e6f5d0"
            ],
            [
             0.7,
             "#b8e186"
            ],
            [
             0.8,
             "#7fbc41"
            ],
            [
             0.9,
             "#4d9221"
            ],
            [
             1,
             "#276419"
            ]
           ],
           "sequential": [
            [
             0,
             "#0d0887"
            ],
            [
             0.1111111111111111,
             "#46039f"
            ],
            [
             0.2222222222222222,
             "#7201a8"
            ],
            [
             0.3333333333333333,
             "#9c179e"
            ],
            [
             0.4444444444444444,
             "#bd3786"
            ],
            [
             0.5555555555555556,
             "#d8576b"
            ],
            [
             0.6666666666666666,
             "#ed7953"
            ],
            [
             0.7777777777777778,
             "#fb9f3a"
            ],
            [
             0.8888888888888888,
             "#fdca26"
            ],
            [
             1,
             "#f0f921"
            ]
           ],
           "sequentialminus": [
            [
             0,
             "#0d0887"
            ],
            [
             0.1111111111111111,
             "#46039f"
            ],
            [
             0.2222222222222222,
             "#7201a8"
            ],
            [
             0.3333333333333333,
             "#9c179e"
            ],
            [
             0.4444444444444444,
             "#bd3786"
            ],
            [
             0.5555555555555556,
             "#d8576b"
            ],
            [
             0.6666666666666666,
             "#ed7953"
            ],
            [
             0.7777777777777778,
             "#fb9f3a"
            ],
            [
             0.8888888888888888,
             "#fdca26"
            ],
            [
             1,
             "#f0f921"
            ]
           ]
          },
          "colorway": [
           "#636efa",
           "#EF553B",
           "#00cc96",
           "#ab63fa",
           "#FFA15A",
           "#19d3f3",
           "#FF6692",
           "#B6E880",
           "#FF97FF",
           "#FECB52"
          ],
          "font": {
           "color": "#f2f5fa"
          },
          "geo": {
           "bgcolor": "rgb(17,17,17)",
           "lakecolor": "rgb(17,17,17)",
           "landcolor": "rgb(17,17,17)",
           "showlakes": true,
           "showland": true,
           "subunitcolor": "#506784"
          },
          "hoverlabel": {
           "align": "left"
          },
          "hovermode": "closest",
          "mapbox": {
           "style": "dark"
          },
          "paper_bgcolor": "rgb(17,17,17)",
          "plot_bgcolor": "rgb(17,17,17)",
          "polar": {
           "angularaxis": {
            "gridcolor": "#506784",
            "linecolor": "#506784",
            "ticks": ""
           },
           "bgcolor": "rgb(17,17,17)",
           "radialaxis": {
            "gridcolor": "#506784",
            "linecolor": "#506784",
            "ticks": ""
           }
          },
          "scene": {
           "xaxis": {
            "backgroundcolor": "rgb(17,17,17)",
            "gridcolor": "#506784",
            "gridwidth": 2,
            "linecolor": "#506784",
            "showbackground": true,
            "ticks": "",
            "zerolinecolor": "#C8D4E3"
           },
           "yaxis": {
            "backgroundcolor": "rgb(17,17,17)",
            "gridcolor": "#506784",
            "gridwidth": 2,
            "linecolor": "#506784",
            "showbackground": true,
            "ticks": "",
            "zerolinecolor": "#C8D4E3"
           },
           "zaxis": {
            "backgroundcolor": "rgb(17,17,17)",
            "gridcolor": "#506784",
            "gridwidth": 2,
            "linecolor": "#506784",
            "showbackground": true,
            "ticks": "",
            "zerolinecolor": "#C8D4E3"
           }
          },
          "shapedefaults": {
           "line": {
            "color": "#f2f5fa"
           }
          },
          "sliderdefaults": {
           "bgcolor": "#C8D4E3",
           "bordercolor": "rgb(17,17,17)",
           "borderwidth": 1,
           "tickwidth": 0
          },
          "ternary": {
           "aaxis": {
            "gridcolor": "#506784",
            "linecolor": "#506784",
            "ticks": ""
           },
           "baxis": {
            "gridcolor": "#506784",
            "linecolor": "#506784",
            "ticks": ""
           },
           "bgcolor": "rgb(17,17,17)",
           "caxis": {
            "gridcolor": "#506784",
            "linecolor": "#506784",
            "ticks": ""
           }
          },
          "title": {
           "x": 0.05
          },
          "updatemenudefaults": {
           "bgcolor": "#506784",
           "borderwidth": 0
          },
          "xaxis": {
           "automargin": true,
           "gridcolor": "#283442",
           "linecolor": "#506784",
           "ticks": "",
           "title": {
            "standoff": 15
           },
           "zerolinecolor": "#283442",
           "zerolinewidth": 2
          },
          "yaxis": {
           "automargin": true,
           "gridcolor": "#283442",
           "linecolor": "#506784",
           "ticks": "",
           "title": {
            "standoff": 15
           },
           "zerolinecolor": "#283442",
           "zerolinewidth": 2
          }
         }
        },
        "title": {
         "font": {
          "family": "<b>poppins",
          "size": 28
         },
         "text": "<b>Monthly Charges Summary"
        },
        "xaxis": {
         "anchor": "y",
         "domain": [
          0,
          1
         ],
         "title": {
          "text": "<b>Tenure in Months"
         }
        },
        "yaxis": {
         "anchor": "x",
         "domain": [
          0,
          1
         ]
        }
       }
      }
     },
     "metadata": {},
     "output_type": "display_data"
    }
   ],
   "source": [
    "fig = px.box(\n",
    "    x= df['MonthlyCharges'],\n",
    "    template= 'plotly_dark',\n",
    "    labels= {'x':'<b>Tenure in Months'},\n",
    "    title= '<b>Monthly Charges Summary',\n",
    "    notched= True\n",
    ")\n",
    "\n",
    "update_layout()\n",
    "\n",
    "fig.update_traces(\n",
    "    marker = dict(color='red'),\n",
    "    line= dict(width=3)\n",
    ")\n",
    "\n",
    "iplot(fig)"
   ]
  },
  {
   "cell_type": "markdown",
   "metadata": {},
   "source": []
  },
  {
   "cell_type": "code",
   "execution_count": 66,
   "id": "01HYAFBVDPJ51JCWJNG1037PZ4",
   "metadata": {},
   "outputs": [
    {
     "data": {
      "text/plain": [
       "Text(0, 0.5, 'Count')"
      ]
     },
     "execution_count": 66,
     "metadata": {},
     "output_type": "execute_result"
    },
    {
     "data": {
      "image/png": "[encoded data removed]",
      "text/plain": [
       "<Figure size 640x480 with 1 Axes>"
      ]
     },
     "metadata": {},
     "output_type": "display_data"
    }
   ],
   "source": [
    "df['MonthlyCharges'].plot.hist(alpha= .5, bins=15, legend=True, grid= True)\n",
    "plt.xlabel('Monthly Charges')\n",
    "plt.ylabel('Count')"
   ]
  },
  {
   "cell_type": "code",
   "execution_count": 46,
   "id": "01HYAGA8X8SSFMK3SSTBFPP0KW",
   "metadata": {},
   "outputs": [
    {
     "data": {
      "text/html": [
       "<div>\n",
       "<style scoped>\n",
       "    .dataframe tbody tr th:only-of-type {\n",
       "        vertical-align: middle;\n",
       "    }\n",
       "\n",
       "    .dataframe tbody tr th {\n",
       "        vertical-align: top;\n",
       "    }\n",
       "\n",
       "    .dataframe thead th {\n",
       "        text-align: right;\n",
       "    }\n",
       "</style>\n",
       "<table border=\"1\" class=\"dataframe\">\n",
       "  <thead>\n",
       "    <tr style=\"text-align: right;\">\n",
       "      <th></th>\n",
       "      <th>MonthlyCharges</th>\n",
       "      <th>tenure</th>\n",
       "    </tr>\n",
       "  </thead>\n",
       "  <tbody>\n",
       "    <tr>\n",
       "      <th>0</th>\n",
       "      <td>29.85</td>\n",
       "      <td>1</td>\n",
       "    </tr>\n",
       "    <tr>\n",
       "      <th>1</th>\n",
       "      <td>56.95</td>\n",
       "      <td>34</td>\n",
       "    </tr>\n",
       "    <tr>\n",
       "      <th>2</th>\n",
       "      <td>53.85</td>\n",
       "      <td>2</td>\n",
       "    </tr>\n",
       "    <tr>\n",
       "      <th>3</th>\n",
       "      <td>42.30</td>\n",
       "      <td>45</td>\n",
       "    </tr>\n",
       "    <tr>\n",
       "      <th>4</th>\n",
       "      <td>70.70</td>\n",
       "      <td>2</td>\n",
       "    </tr>\n",
       "    <tr>\n",
       "      <th>...</th>\n",
       "      <td>...</td>\n",
       "      <td>...</td>\n",
       "    </tr>\n",
       "    <tr>\n",
       "      <th>7038</th>\n",
       "      <td>84.80</td>\n",
       "      <td>24</td>\n",
       "    </tr>\n",
       "    <tr>\n",
       "      <th>7039</th>\n",
       "      <td>103.20</td>\n",
       "      <td>72</td>\n",
       "    </tr>\n",
       "    <tr>\n",
       "      <th>7040</th>\n",
       "      <td>29.60</td>\n",
       "      <td>11</td>\n",
       "    </tr>\n",
       "    <tr>\n",
       "      <th>7041</th>\n",
       "      <td>74.40</td>\n",
       "      <td>4</td>\n",
       "    </tr>\n",
       "    <tr>\n",
       "      <th>7042</th>\n",
       "      <td>105.65</td>\n",
       "      <td>66</td>\n",
       "    </tr>\n",
       "  </tbody>\n",
       "</table>\n",
       "<p>7043 rows × 2 columns</p>\n",
       "</div>"
      ],
      "text/plain": [
       "      MonthlyCharges  tenure\n",
       "0              29.85       1\n",
       "1              56.95      34\n",
       "2              53.85       2\n",
       "3              42.30      45\n",
       "4              70.70       2\n",
       "...              ...     ...\n",
       "7038           84.80      24\n",
       "7039          103.20      72\n",
       "7040           29.60      11\n",
       "7041           74.40       4\n",
       "7042          105.65      66\n",
       "\n",
       "[7043 rows x 2 columns]"
      ]
     },
     "execution_count": 46,
     "metadata": {},
     "output_type": "execute_result"
    }
   ],
   "source": [
    "df[['MonthlyCharges', 'tenure']]"
   ]
  }
 ],
 "metadata": {
  "kernelspec": {
   "display_name": "Python 3",
   "language": "python",
   "name": "python3"
  },
  "language_info": {
   "codemirror_mode": {
    "name": "ipython",
    "version": 3
   },
   "file_extension": ".py",
   "mimetype": "text/x-python",
   "name": "python",
   "nbconvert_exporter": "python",
   "pygments_lexer": "ipython3",
   "version": "3.11.7"
  }
 },
 "nbformat": 4,
 "nbformat_minor": 2
}
